{
 "cells": [
  {
   "cell_type": "code",
   "execution_count": 443,
   "id": "cd360f36",
   "metadata": {},
   "outputs": [],
   "source": [
    "#Importing all the modules\n",
    "\n",
    "import time\n",
    "\n",
    "import numpy as np\n",
    "\n",
    "import seaborn as sns\n",
    "import matplotlib.pyplot as plt\n",
    "\n",
    "np.set_printoptions(threshold=100000)\n",
    "%matplotlib inline"
   ]
  },
  {
   "cell_type": "markdown",
   "id": "e545285c",
   "metadata": {},
   "source": [
    "## Cleaned symmetry function file along with energy"
   ]
  },
  {
   "cell_type": "code",
   "execution_count": 444,
   "id": "f461eb96",
   "metadata": {},
   "outputs": [],
   "source": [
    "SFP = '/home/sharmas/mydrive/SabIA/HDNNP/Naphthalene/nnp-scaling/20221014_NN1/function.cleaned.data'\n",
    "\n",
    "ENG = '/home/sharmas/mydrive/SabIA/HDNNP/Naphthalene/nnp-scaling/20221014_NN1/energy.data'"
   ]
  },
  {
   "cell_type": "code",
   "execution_count": 445,
   "id": "da3927d6",
   "metadata": {},
   "outputs": [
    {
     "name": "stdout",
     "output_type": "stream",
     "text": [
      "[[6.43669473e+00 6.36380875e+00 5.25865120e+00 ... 2.21430318e-02\n",
      "  3.38598892e-01 2.05932391e-01]\n",
      " [6.65856635e+00 6.21365204e+00 5.45948723e+00 ... 2.08208181e-02\n",
      "  3.36731155e-01 2.04361836e-01]\n",
      " [7.07415719e+00 6.30596204e+00 5.80949964e+00 ... 3.19553787e-02\n",
      "  3.74816698e-01 2.08084416e-01]\n",
      " ...\n",
      " [5.96451867e+00 7.57115440e+00 4.72126256e+00 ... 9.14645900e-03\n",
      "  1.50533093e-01 3.19060939e-01]\n",
      " [5.93529714e+00 7.64885929e+00 4.69198434e+00 ... 7.82916120e-03\n",
      "  1.46837556e-01 3.08277751e-01]\n",
      " [5.83826170e+00 7.84129683e+00 4.58441157e+00 ... 6.17175820e-03\n",
      "  1.30399324e-01 3.10324352e-01]]\n"
     ]
    }
   ],
   "source": [
    "#Loading SF file as a numpy array\n",
    "\n",
    "se = np.loadtxt(SFP, usecols = range(1,43)) #Please varify the number of columns in SF file\n",
    "print(se)"
   ]
  },
  {
   "cell_type": "code",
   "execution_count": 446,
   "id": "5b233a7a",
   "metadata": {},
   "outputs": [
    {
     "name": "stdout",
     "output_type": "stream",
     "text": [
      "Initial shape of function.data: (5924592, 42)\n",
      "Shape of the feature vector: (41143, 6048)\n",
      "No. of frames: 41143\tNo. of features: 6048\n"
     ]
    }
   ],
   "source": [
    "print(f'Initial shape of function.data: {se.shape}')\n",
    "se = se.reshape((-1,144*42)) #Squeezing the SF of a single frame to make a feature vector\n",
    "\n",
    "print(f'Shape of the feature vector: {se.shape}')\n",
    "print(f'No. of frames: {se.shape[0]}\\tNo. of features: {se.shape[1]}')\n",
    "\n",
    "# print(se[1,42])"
   ]
  },
  {
   "cell_type": "code",
   "execution_count": 447,
   "id": "025b0c68",
   "metadata": {},
   "outputs": [
    {
     "name": "stdout",
     "output_type": "stream",
     "text": [
      "Number of frames matches\n",
      "Please go ahead\n"
     ]
    }
   ],
   "source": [
    "en = np.loadtxt(ENG) #Loading file consisting total potential energy of each frame\n",
    "\n",
    "assert se.shape[0] == en.shape[0]\n",
    "print('Number of frames matches\\nPlease go ahead')"
   ]
  },
  {
   "cell_type": "code",
   "execution_count": 448,
   "id": "ffe61e17",
   "metadata": {},
   "outputs": [
    {
     "name": "stdout",
     "output_type": "stream",
     "text": [
      "Minimum energy: -83936.0486813132 eV\n"
     ]
    }
   ],
   "source": [
    "#Relative energy column\n",
    "\n",
    "print(f'Minimum energy: {min(en)} eV')\n",
    "R_en = en - min(en)"
   ]
  },
  {
   "cell_type": "code",
   "execution_count": 449,
   "id": "5a029319",
   "metadata": {},
   "outputs": [
    {
     "name": "stdout",
     "output_type": "stream",
     "text": [
      "Symmetry function dataset: (41143, 6049)\n"
     ]
    }
   ],
   "source": [
    "#Stacking SF with corresponding energies\n",
    "\n",
    "SF_dataset = np.column_stack((se, en))\n",
    "print(f'Symmetry function dataset: {SF_dataset.shape}')"
   ]
  },
  {
   "cell_type": "markdown",
   "id": "5bdb9d1c",
   "metadata": {},
   "source": [
    "## Histogram of the energy distribution"
   ]
  },
  {
   "cell_type": "code",
   "execution_count": null,
   "id": "c2a7f48e",
   "metadata": {},
   "outputs": [],
   "source": [
    "# plt.figure(dpi = 300)\n",
    "# sns.histplot(en, color = 'b', kde = True, bins= 50)\n",
    "# # plt.hist(en, color = 'g', bins = 50)\n",
    "\n",
    "# plt.title('Energy distribution of the dataset', fontsize = 18)\n",
    "# plt.xlabel('Energy(eV)', fontsize = 16)\n",
    "# plt.show()\n",
    "\n",
    "# #plt.savefig('hist.jpg', layout= 'tight')\n"
   ]
  },
  {
   "cell_type": "code",
   "execution_count": null,
   "id": "80d41e61",
   "metadata": {},
   "outputs": [],
   "source": [
    "# #Comparing the energy distribution\n",
    "\n",
    "# temp_295K_en = np.loadtxt('/home/sharmas/mydrive/SabIA/HDNNP/Naphthalene/nnp-dataset/295K/energy.data.295K')\n",
    "# temp_80K_en = np.loadtxt('/home/sharmas/mydrive/SabIA/HDNNP/Naphthalene/nnp-dataset/80K/energy.data.80K')\n",
    "\n",
    "# plt.figure(figsize= (10, 8), dpi = 300)\n",
    "# plt.subplot(1, 2, 1)\n",
    "# sns.histplot(temp_80K_en, color= 'pink', kde = True, label = '80K')\n",
    "# plt.legend()\n",
    "# plt.subplot(1, 2, 2)\n",
    "# sns.histplot(temp_295K_en, color= 'orange', kde = True, label = '295K')\n",
    "# plt.legend()\n",
    "\n",
    "# # plt.savefig('relative-energy-Naphthalene.jpg', dpi = 600)\n",
    "# plt.show()"
   ]
  },
  {
   "cell_type": "code",
   "execution_count": null,
   "id": "404746fb",
   "metadata": {},
   "outputs": [],
   "source": [
    "# from sklearn.manifold import TSNE\n",
    "\n",
    "# proj = TSNE(n_components=2, perplexity=100.0, n_iter=500).fit_transform(se)\n",
    "# proj.shape"
   ]
  },
  {
   "cell_type": "markdown",
   "id": "0365f7f7",
   "metadata": {},
   "source": [
    "## Lets do Principal Component Analysis "
   ]
  },
  {
   "cell_type": "code",
   "execution_count": null,
   "id": "13b9d148",
   "metadata": {},
   "outputs": [],
   "source": [
    "# from sklearn.decomposition import PCA\n",
    "\n",
    "# sklearn_pca = PCA(n_components= 2)\n",
    "# y_sklearn = sklearn_pca.fit_transform(se)\n",
    "\n",
    "# print(y_sklearn.shape)\n",
    "\n",
    "# # print(y_sklearn)"
   ]
  },
  {
   "cell_type": "code",
   "execution_count": null,
   "id": "5056ebc3",
   "metadata": {},
   "outputs": [],
   "source": [
    "# plt.scatter(y_sklearn[:, 0], y_sklearn[:, 1], s = 6, c = en, cmap = 'tab20b')\n",
    "# cbar = plt.colorbar()\n",
    "# cbar.set_label(\"Energy (eV)\", fontsize = 15)\n",
    "# plt.title('PCA Naph', fontsize = 16)\n",
    "# plt.xlabel('PC1', fontsize = 14)\n",
    "# plt.ylabel('PC1', fontsize = 14)\n",
    "\n",
    "# # plt.savefig('PCA-Naph.jpg', dpi = 300, layout = 'tight')\n",
    "\n",
    "# plt.show()"
   ]
  },
  {
   "cell_type": "code",
   "execution_count": null,
   "id": "cedec123",
   "metadata": {},
   "outputs": [],
   "source": [
    "# sklearn_pca.explained_variance_ratio_"
   ]
  },
  {
   "cell_type": "markdown",
   "id": "6405ca2a",
   "metadata": {},
   "source": [
    "## Lets do PCA manually\n",
    "To understand how much variance the two eigen values explain"
   ]
  },
  {
   "cell_type": "code",
   "execution_count": null,
   "id": "4efbe5f6",
   "metadata": {},
   "outputs": [],
   "source": [
    "# from sklearn.preprocessing import StandardScaler\n",
    "\n",
    "# scaled_se = StandardScaler().fit_transform(se)\n",
    "\n",
    "# print(np.mean(scaled_se)) #Scaled the mean to 0 \n",
    "# print(np.std(scaled_se)) #Scaled the standard deviation to 1"
   ]
  },
  {
   "cell_type": "code",
   "execution_count": null,
   "id": "a0e4aa4e",
   "metadata": {},
   "outputs": [],
   "source": [
    "# #Making the covariance matrix \n",
    "\n",
    "# cov_mat = 1/(scaled_se.shape[0]-1)*((scaled_se - np.mean(scaled_se, axis= 0)).T.dot((scaled_se - np.mean(scaled_se, axis= 0))))"
   ]
  },
  {
   "cell_type": "code",
   "execution_count": null,
   "id": "157a0bd7",
   "metadata": {},
   "outputs": [],
   "source": [
    "# #Calculating eigen value and eigen vectors\n",
    "\n",
    "# eig_vals, eig_vects = np.linalg.eig(cov_mat)\n",
    "\n",
    "# # print(eig_vals)"
   ]
  },
  {
   "cell_type": "code",
   "execution_count": null,
   "id": "c7207994",
   "metadata": {},
   "outputs": [],
   "source": [
    "# #Computing the principle components\n",
    "\n",
    "# eig_pairs = []\n",
    "\n",
    "# for i in range(len(eig_vals)):\n",
    "#     eig_pairs.append((np.abs(eig_vals[i]), eig_vects[:, i]))\n",
    "    \n",
    "# eig_pairs.sort(key = lambda x: x[0], reverse = True)\n",
    "\n",
    "# print(eig_pairs[1][1].shape)"
   ]
  },
  {
   "cell_type": "code",
   "execution_count": null,
   "id": "a090ffbe",
   "metadata": {},
   "outputs": [],
   "source": [
    "# #Visualizing the variance explained using the principal components\n",
    "\n",
    "# eig_val_per = sorted(100 * eig_vals/np.sum(eig_vals), reverse= True)\n",
    "# # eig_val_per"
   ]
  },
  {
   "cell_type": "code",
   "execution_count": null,
   "id": "265d4e40",
   "metadata": {},
   "outputs": [],
   "source": [
    "# plt.figure(figsize=(10, 8))\n",
    "# plt.title('Principal Component Analysis for Napthalene\\n(less datapoints)\\n14-Oct-2022')\n",
    "# plt.subplot(1, 2, 1)\n",
    "# plt.scatter(range(len(eig_val_per)), np.cumsum(eig_val_per), c = 'r', marker= 'o')\n",
    "# plt.plot(range(len(eig_val_per)), np.ones(len(eig_val_per)) * 90, c ='b', label = '90%')\n",
    "# plt.xlim(0, 200)\n",
    "# plt.xlabel('Number of Principal Components', fontsize = 16)\n",
    "# plt.ylabel('% of Variance explained', fontsize = 16)\n",
    "# plt.legend(fontsize = 14)\n",
    "\n",
    "\n",
    "# plt.subplot(1,2, 2)\n",
    "# plt.scatter(range(len(eig_val_per)), np.cumsum(eig_val_per), c = 'r', marker= 'o')\n",
    "# plt.plot(range(len(eig_val_per)), np.ones(len(eig_val_per)) * 90, c ='b', label = '90%')\n",
    "# #plt.xlim(0, 200)\n",
    "# plt.xlabel('Number of Principal Components', fontsize = 16)\n",
    "# plt.ylabel('% of Variance explained', fontsize = 16)\n",
    "# plt.legend(fontsize = 14)\n",
    "\n",
    "\n",
    "# # plt.savefig('Variance_explained_with_PC.jpg', dpi = 300, layout = 'tight')\n",
    "# plt.show()"
   ]
  },
  {
   "cell_type": "markdown",
   "id": "50f2b163",
   "metadata": {},
   "source": [
    "## Lets try tSNE"
   ]
  },
  {
   "cell_type": "code",
   "execution_count": null,
   "id": "0b5446f0",
   "metadata": {},
   "outputs": [],
   "source": [
    "# from sklearn.manifold import TSNE\n",
    "\n",
    "# proj = TSNE(n_components=2, perplexity= 30, n_iter=1000).fit_transform(se)"
   ]
  },
  {
   "cell_type": "code",
   "execution_count": null,
   "id": "d525d16f",
   "metadata": {},
   "outputs": [],
   "source": [
    "# plt.scatter(proj[:, 0], proj[:, 1], s = 6, c = en, cmap = 'tab20b')\n",
    "# cbar = plt.colorbar()\n",
    "# cbar.set_label(\"Energy (eV)\", fontsize = 15)\n",
    "# plt.title('t-SNE Naphthalene', fontsize = 16)\n",
    "# plt.xlabel('reduced feature 1', fontsize = 14)\n",
    "# plt.ylabel('reduced feature 2', fontsize = 14)\n",
    "\n",
    "# # plt.savefig('tSNE-Naph.jpg', dpi = 300, layout = 'tight')\n",
    "\n",
    "# plt.show()"
   ]
  },
  {
   "cell_type": "code",
   "execution_count": null,
   "id": "03314b16",
   "metadata": {},
   "outputs": [],
   "source": [
    "# #Plotting for the change in perpexlity for 250 iterations.\n",
    "\n",
    "# plt.figure(figsize= (35, 30))\n",
    "# plt.subplots_adjust(hspace=0.2)\n",
    "# # plt.subplots_adjust(vspace=0.2)\n",
    "# j=1\n",
    "# for i in range(5, 105, 5):\n",
    "#     proj = TSNE(n_components=2, perplexity= i, n_iter=250).fit_transform(se)\n",
    "    \n",
    "#     plt.subplot(5, 4, j)\n",
    "#     j+=1\n",
    "#     plt.scatter(proj[:, 0], proj[:, 1], s = 6, c = en, cmap = 'Dark2')\n",
    "#     cbar = plt.colorbar()\n",
    "#     cbar.set_label(\"Energy (eV)\", fontsize = 15)\n",
    "#     plt.title(f'perplexity = {i}', fontsize = 16)\n",
    "#     plt.xlabel('reduced feature 1', fontsize = 14)\n",
    "#     plt.ylabel('reduced feature 2', fontsize = 14)\n",
    "# # plt.savefig('perp.jpg', layout = 'tight',dpi = 400)\n",
    "# plt.show()"
   ]
  },
  {
   "cell_type": "code",
   "execution_count": null,
   "id": "90902e1c",
   "metadata": {},
   "outputs": [],
   "source": [
    "# #Plotting for the change in iterations at perplexity = 10\n",
    "\n",
    "# plt.figure(figsize= (35, 30))\n",
    "# plt.subplots_adjust(hspace=0.2)\n",
    "# # plt.subplots_adjust(vspace=0.2)\n",
    "# j=1\n",
    "# for i in range(250, 2000, 250):\n",
    "#     proj = TSNE(n_components=2, perplexity= 10, n_iter=i).fit_transform(se)\n",
    "    \n",
    "#     plt.subplot(2, 4, j)\n",
    "#     j+=1\n",
    "#     plt.scatter(proj[:, 0], proj[:, 1], s = 6, c = en, cmap = 'Dark2')\n",
    "#     cbar = plt.colorbar()\n",
    "#     cbar.set_label(\"Energy (eV)\", fontsize = 15)\n",
    "#     plt.title(f'Iterations = {i}', fontsize = 16)\n",
    "#     plt.xlabel('reduced feature 1', fontsize = 14)\n",
    "#     plt.ylabel('reduced feature 2', fontsize = 14)\n",
    "# # plt.savefig('perp.jpg', layout = 'tight',dpi = 400)\n",
    "# plt.show()\n"
   ]
  },
  {
   "cell_type": "markdown",
   "id": "5b1bf53f",
   "metadata": {},
   "source": [
    "## Lets Try Multidimensional Scaling"
   ]
  },
  {
   "cell_type": "code",
   "execution_count": null,
   "id": "9b07ff06",
   "metadata": {},
   "outputs": [],
   "source": [
    "# from sklearn.manifold import MDS\n",
    "\n",
    "# #Metric version of MDS\n",
    "\n",
    "# sklearn_MDS = MDS(n_components= 2, metric= False, n_init= 1, max_iter= 100)\n",
    "\n",
    "# y_MDS = sklearn_MDS.fit_transform(se)"
   ]
  },
  {
   "cell_type": "code",
   "execution_count": null,
   "id": "5373d24d",
   "metadata": {},
   "outputs": [],
   "source": [
    "# plt.scatter(y_MDS[:, 0], y_MDS[:, 1], s = 6, c = en, cmap = 'Dark2')\n",
    "# cbar = plt.colorbar()\n",
    "# cbar.set_label(\"Energy (eV)\", fontsize = 15)\n",
    "# plt.title('MDS Naph', fontsize = 16)\n",
    "# plt.xlabel('reduced feature 1', fontsize = 14)\n",
    "# plt.ylabel('reduced feature 2', fontsize = 14)\n",
    "\n",
    "# plt.savefig('MDS-Naph.jpg', dpi = 300, layout = 'tight')\n",
    "\n",
    "# plt.show()"
   ]
  },
  {
   "cell_type": "code",
   "execution_count": null,
   "id": "50862deb",
   "metadata": {},
   "outputs": [],
   "source": [
    "# from sklearn.manifold import MDS\n",
    "\n",
    "# #Non - Metric version of MDS\n",
    "\n",
    "# sklearn_MDS = MDS(n_components= 2, metric= False, n_init= 4, max_iter= 300)\n",
    "\n",
    "# y_MDS = sklearn_MDS.fit_transform(se)"
   ]
  },
  {
   "cell_type": "code",
   "execution_count": null,
   "id": "5bd423dd",
   "metadata": {},
   "outputs": [],
   "source": [
    "# plt.scatter(y_MDS[:, 0], y_MDS[:, 1], s = 6, c = en, cmap = 'Dark2')\n",
    "# cbar = plt.colorbar()\n",
    "# cbar.set_label(\"Energy (eV)\", fontsize = 15)\n",
    "# plt.title('MDS Naph', fontsize = 16)\n",
    "# plt.xlabel('reduced feature 1', fontsize = 14)\n",
    "# plt.ylabel('reduced feature 2', fontsize = 14)\n",
    "\n",
    "# # plt.savefig('MDS-Naph.jpg', dpi = 300, layout = 'tight')\n",
    "\n",
    "# plt.show()"
   ]
  },
  {
   "cell_type": "markdown",
   "id": "3eacbf8f",
   "metadata": {},
   "source": [
    "## Farthest Point Sampling"
   ]
  },
  {
   "cell_type": "code",
   "execution_count": 450,
   "id": "4522b077",
   "metadata": {},
   "outputs": [],
   "source": [
    "from skcosmo.sample_selection import FPS"
   ]
  },
  {
   "cell_type": "code",
   "execution_count": 586,
   "id": "d111ed4c",
   "metadata": {},
   "outputs": [
    {
     "data": {
      "application/vnd.jupyter.widget-view+json": {
       "model_id": "f36be7e0c04b456c97b3c15036b72192",
       "version_major": 2,
       "version_minor": 0
      },
      "text/plain": [
       "  0%|          | 0/1 [00:00<?, ?it/s]"
      ]
     },
     "metadata": {},
     "output_type": "display_data"
    }
   ],
   "source": [
    "selector = FPS(\n",
    "n_to_select = 2,\n",
    "progress_bar = True,\n",
    "score_threshold = 1E-12,\n",
    "full = False,\n",
    "initialize = 'random')\n",
    "\n",
    "selector.fit(se)\n",
    "\n",
    "Xr = selector.transform(se)"
   ]
  },
  {
   "cell_type": "code",
   "execution_count": 587,
   "id": "0a350390",
   "metadata": {},
   "outputs": [
    {
     "name": "stdout",
     "output_type": "stream",
     "text": [
      " Input shape: (41143, 6048)\tOutput shape: (2, 6048)\n"
     ]
    }
   ],
   "source": [
    "print(f' Input shape: {se.shape}\\tOutput shape: {Xr.shape}')"
   ]
  },
  {
   "cell_type": "markdown",
   "id": "cb39c632",
   "metadata": {},
   "source": [
    "## Verifing the selection criteria "
   ]
  },
  {
   "cell_type": "code",
   "execution_count": 588,
   "id": "f544e9ed",
   "metadata": {},
   "outputs": [
    {
     "name": "stdout",
     "output_type": "stream",
     "text": [
      "(2,)\n"
     ]
    }
   ],
   "source": [
    "print(selector.get_select_distance().shape)\n",
    "\n",
    "#print(selector.get_select_distance())\n",
    "\n",
    "hass  = dict((idx, hauss) for idx, hauss in enumerate(selector.score(se)))\n",
    "\n",
    "#sorting the dictionary\n",
    "\n",
    "sort_hass = dict(sorted(hass.items(), key = lambda item: item[1], reverse= False))\n",
    "\n",
    "# print(sort_hass)\n",
    "# selector.score(se).shape"
   ]
  },
  {
   "cell_type": "code",
   "execution_count": 589,
   "id": "4eb22999",
   "metadata": {},
   "outputs": [],
   "source": [
    "#TO TEST FOR THE SELECTION CRITERIA\n",
    "\n",
    "# dummy = np.array([np.where(np.all(se == Xr[i], axis= 1))[0][0] for i in range(20)]).ravel()\n",
    "# print(dummy)\n",
    "# print(dummy.dtype)"
   ]
  },
  {
   "cell_type": "code",
   "execution_count": 590,
   "id": "895bca4f",
   "metadata": {},
   "outputs": [
    {
     "name": "stdout",
     "output_type": "stream",
     "text": [
      "[2112 2732]\n"
     ]
    }
   ],
   "source": [
    "idx = np.array([np.where(np.all(se == Xr[i], axis = 1))[0][0] for i in range(int(Xr.shape[0]))]).ravel() #Sometimes the idx contain two values in a array this is because the distance values are same So, I have selected the first one\n",
    "print(idx)"
   ]
  },
  {
   "cell_type": "code",
   "execution_count": 591,
   "id": "d14512c6",
   "metadata": {},
   "outputs": [],
   "source": [
    "post_se = Xr.reshape(2 * 144, 42)\n",
    "# post_se2 = Xr.reshape(-1, 144, 42)"
   ]
  },
  {
   "cell_type": "code",
   "execution_count": 592,
   "id": "5475aa53",
   "metadata": {},
   "outputs": [
    {
     "data": {
      "text/plain": [
       "(288, 42)"
      ]
     },
     "execution_count": 592,
     "metadata": {},
     "output_type": "execute_result"
    }
   ],
   "source": [
    "post_se.shape"
   ]
  },
  {
   "cell_type": "code",
   "execution_count": 594,
   "id": "7e840196",
   "metadata": {},
   "outputs": [],
   "source": [
    "# np.savetxt('new_function.data', post_se, fmt = '%14.10f', newline='\\n')"
   ]
  },
  {
   "cell_type": "code",
   "execution_count": 595,
   "id": "68c3a19b",
   "metadata": {},
   "outputs": [],
   "source": [
    "atomic_nu = np.loadtxt(SFP, usecols = 0, max_rows= 144)"
   ]
  },
  {
   "cell_type": "code",
   "execution_count": 596,
   "id": "01e12aed",
   "metadata": {},
   "outputs": [
    {
     "data": {
      "text/plain": [
       "dtype('float64')"
      ]
     },
     "execution_count": 596,
     "metadata": {},
     "output_type": "execute_result"
    }
   ],
   "source": [
    "new_dataset = np.column_stack((np.tile(atomic_nu, (2,)), post_se))\n",
    "new_dataset.dtype"
   ]
  },
  {
   "cell_type": "code",
   "execution_count": 597,
   "id": "299cc6dc",
   "metadata": {},
   "outputs": [],
   "source": [
    "# np.savetxt('new_function.data', new_dataset, fmt = '%14.10f', newline='\\n')"
   ]
  },
  {
   "cell_type": "code",
   "execution_count": 598,
   "id": "414234b7",
   "metadata": {},
   "outputs": [
    {
     "data": {
      "text/plain": [
       "array([-582.85824337, -582.86132253])"
      ]
     },
     "execution_count": 598,
     "metadata": {},
     "output_type": "execute_result"
    }
   ],
   "source": [
    "av_en_of_frames = np.take(en, idx)/144\n",
    "av_en_of_frames"
   ]
  },
  {
   "cell_type": "code",
   "execution_count": 599,
   "id": "a55a25a3",
   "metadata": {},
   "outputs": [
    {
     "data": {
      "text/plain": [
       "array([[-582.8582, -582.8582],\n",
       "       [-582.8613, -582.8613]], dtype=float32)"
      ]
     },
     "execution_count": 599,
     "metadata": {},
     "output_type": "execute_result"
    }
   ],
   "source": [
    "tile = np.vstack((av_en_of_frames, av_en_of_frames)).astype(np.float32).T\n",
    "tile"
   ]
  },
  {
   "cell_type": "code",
   "execution_count": 600,
   "id": "921ae397",
   "metadata": {},
   "outputs": [
    {
     "data": {
      "text/plain": [
       "dtype('float64')"
      ]
     },
     "execution_count": 600,
     "metadata": {},
     "output_type": "execute_result"
    }
   ],
   "source": [
    "new_mat = np.concatenate((np.zeros((tile.shape[0], 1)), tile), axis = 1)\n",
    "new_mat2 = np.concatenate((new_mat, np.zeros((tile.shape[0], 1))), axis = 1)\n",
    "new_mat2.dtype"
   ]
  },
  {
   "cell_type": "code",
   "execution_count": 602,
   "id": "fa8220a5",
   "metadata": {},
   "outputs": [],
   "source": [
    "# np.savetxt('av_en.data', new_mat2, fmt = '%19.10f', newline= '\\n') #Contains the last line in function.data file"
   ]
  },
  {
   "cell_type": "code",
   "execution_count": 603,
   "id": "ce117091",
   "metadata": {},
   "outputs": [],
   "source": [
    "with open('new_function.data', 'r+') as f:\n",
    "    f.seek(0)\n",
    "    file = f.readlines()"
   ]
  },
  {
   "cell_type": "code",
   "execution_count": 620,
   "id": "21371ea3",
   "metadata": {},
   "outputs": [],
   "source": [
    "with open('full_function.data', 'w') as w:\n",
    "    count_lines = 0\n",
    "    for i in new_mat2:\n",
    "        for j in file:\n",
    "            count_lines+=1\n",
    "            w.write(j)\n",
    "            \n",
    "            if count_lines%145 ==0:\n",
    "                w.write(\"\\t\".join(map(str, i))+\"\\n\")\n",
    "                count_lines = 0\n",
    "                break\n",
    "            \n",
    "   \n",
    "    w.write(\"\\t\".join(map(str, i))+\"\\n\")"
   ]
  },
  {
   "cell_type": "code",
   "execution_count": 612,
   "id": "d0a5ed03",
   "metadata": {},
   "outputs": [
    {
     "name": "stdout",
     "output_type": "stream",
     "text": [
      "  6.0000000000   6.9195879379   6.5728770458   5.6736777677   5.3406089045   1.6341472510   1.7690110027   3.1279272254   7.4199766932   2.7754889061   7.0410221694  14.9188200576   7.9804044571   0.2546235652   1.7450397461   0.2335663782   2.4785872748   7.1420969124   4.0039025381   1.8751811109   4.7388263865   1.8446086723   4.1411727382   9.0830448587   5.1829408025   0.1431976245   1.1702114712   0.1705862101   1.4661219327   4.4655256796   2.6401021485   0.0670870215   0.3865792978   0.1562668822   0.1099627772   0.6205872588   0.3846722573   0.0034141221   0.0937017323   0.0236501405   0.0383836700   0.3649026458   0.2164862768\n",
      "\n",
      "  6.0000000000   6.7948461487   6.2876506392   5.6174722447   5.1439072991   1.7013684391   1.7434894823   3.2380956821   7.4614364359   2.6584494277   7.1905996948  14.3679213634   7.4075366417   0.2745303066   1.8147300014   0.2552610216   2.5039862504   6.9557479076   3.6999638904   1.9697151073   4.8055675742   1.7761217342   4.3797779647   8.8939270648   4.8607170527   0.1510450963   1.2104441670   0.1837554062   1.5411888133   4.4315370101   2.4628597938   0.0777927254   0.4006188059   0.1471307099   0.1521543472   0.6381925358   0.3611051941   0.0033203996   0.0930007762   0.0237142570   0.0577265823   0.3833557613   0.2009709067\n",
      "\n",
      "  6.0000000000   6.5447757321   6.0358523371   5.3652365207   4.9455735883   1.5832777308   1.7194647288   2.8280158712   6.8700352741   2.5416564426   6.1085209696  12.7180049871   7.1577576687   0.2122975424   1.6925384969   0.2582787479   2.0779349339   6.1294340947   3.5946751006   1.7033195614   4.4123059379   1.7230980822   3.6054621229   7.7880980637   4.7684147716   0.1155448122   1.1290365989   0.1937349225   1.2161359061   3.8632337509   2.4239819725   0.0668130561   0.3583262889   0.1406143879   0.1141195236   0.5777437814   0.3700907398   0.0025337249   0.0803477105   0.0246781590   0.0357801553   0.3432804706   0.2062677315\n",
      "\n",
      "  6.0000000000   6.9867456679   6.6674447521   5.7288531442   5.3844634809   1.7198850604   1.7064647259   3.3785105846   7.6119627213   2.7308556617   6.9523653637  15.3533574154   8.0950585843   0.3126681404   1.7170171152   0.2091810345   2.3184606848   7.3167668417   4.0169836911   2.0557548349   4.8815531451   1.7826796310   4.1055856483   9.3434180041   5.1583075879   0.1813940263   1.1545636006   0.1516434408   1.3369327535   4.5541698432   2.5961895101   0.0796850446   0.3908402921   0.1323611626   0.1344543104   0.6183826008   0.3435635541   0.0044309609   0.0924709129   0.0189142132   0.0381068850   0.3597691724   0.1930902386\n",
      "\n",
      "  6.0000000000   6.8262007943   7.7585064681   5.5531417713   6.3459106200   1.5451259574   1.9995785397   2.7421008180   8.3041094469   3.8832632084   6.9225314641  17.2743134247  11.0349258825   0.1768697622   1.8486626682   0.4837342974   2.4342314847   7.9285999101   5.5927012201   1.6196061918   5.2413829717   2.4687562062   4.0975722598  10.2624420206   7.1101710647   0.0940187542   1.2136445155   0.3212929863   1.4379309811   4.7470771214   3.7002703176   0.0577060023   0.4128964859   0.1703078568   0.1338867173   0.4958520864   0.4999911898   0.0018375302   0.0928041877   0.0277682931   0.0474396869   0.2298641817   0.2921042977\n",
      "\n",
      "  6.0000000000   6.0735161601   7.0625045597   4.8920839315   5.7634744031   1.3961997369   1.8770385916   2.0757254176   6.8357512740   3.2589518427   4.8349764578  13.5878655361   9.6519410666   0.1750919878   1.6325635174   0.4166153418   1.8039684919   6.3293586370   5.0052813802   1.2193379051   4.4412788031   2.1229420840   2.7224605152   8.1020690870   6.3296333418   0.0957516120   1.0972454820   0.2849540688   0.9917184047   3.7743683019   3.3528414888   0.0481363519   0.4279436799   0.1524518610   0.0668124132   0.4693785383   0.4593421922   0.0024238154   0.0988527952   0.0247694966   0.0153268456   0.2181813528   0.2691306729\n",
      "\n",
      "  6.0000000000   6.0574784008   6.7945364449   4.8815418215   5.5727030155   1.3781681471   1.8569242049   2.0087896594   6.7027289880   3.0826359626   4.8031691579  12.8379607781   9.3483506526   0.1306976277   1.6434691543   0.3620264641   1.8858177509   6.0745292521   4.9219764168   1.1683203162   4.3239429898   2.0242600169   2.7426039468   7.6489797367   6.2134932714   0.0685582711   1.1029385695   0.2433120431   1.0929816503   3.6487469490   3.3381531647   0.0425807164   0.3920396739   0.1512960266   0.0825401497   0.4187356622   0.4646008178   0.0013435098   0.0983210536   0.0199531705   0.0337341724   0.2011729887   0.2728338158\n",
      "\n",
      "  6.0000000000   6.8451553589   7.5944967605   5.5401409986   6.1997957863   1.5149834412   1.9232585417   2.6968554318   7.9831217549   3.7497614604   6.5553550522  16.8332752443  10.8672424999   0.1883757185   1.6750285815   0.4093914305   2.4377388192   7.8191188253   5.4838031524   1.5741335601   5.0470432969   2.3704702173   3.7544897652   9.9603825641   6.9796114946   0.1060208709   1.1084771253   0.2726985794   1.3947402905   4.6655258732   3.6196657411   0.0512828127   0.4069691173   0.1459149131   0.0874913288   0.4705847205   0.4581495146   0.0024263389   0.0915661363   0.0220141397   0.0257083865   0.2250323821   0.2714244423\n",
      "\n",
      "  6.0000000000   6.2981900453   8.7344640130   4.9967616027   7.3869007230   0.9981611987   2.7505609979   1.6866584153   7.6068826503   7.4389941876   4.8680549009  20.4698565748  13.8680401345   0.0574508561   1.0470847038   1.5661485450   1.7310128586  10.0232396485   5.9547654548   0.9015967710   4.4828271927   4.9708858096   2.6159114038  12.5319371371   9.4010637122   0.0271006079   0.6158782860   1.0312896870   0.9132989625   6.3204646508   4.1852106485   0.0144052112   0.1333597313   0.3701259672   0.0383303226   0.6610492667   0.7574081709   0.0000989197   0.0126122967   0.0689069556   0.0096780595   0.4175910974   0.4103105555\n",
      "\n",
      "  6.0000000000   5.4922909758   8.0422576754   4.3571453300   6.8613675865   0.8869304850   2.6860985565   1.2744665128   6.4467470244   6.9184809849   3.3172905609  16.9193923014  12.3386654951   0.0495432219   0.8647892504   1.4757714396   1.1264476584   8.5303144868   5.2895089918   0.6744728301   3.8337872288   4.6827234548   1.7460199301  10.5176230080   8.5846629404   0.0236044134   0.5087576894   0.9726332734   0.5762197213   5.4967259613   3.8202135995   0.0091493332   0.1101019109   0.3517161636   0.0211698947   0.5880800837   0.7227581807   0.0000978958   0.0103576586   0.0640706575   0.0047435993   0.3945727633   0.3879149838\n",
      "\n",
      "  6.0000000000   5.5335976317   7.9542338403   4.3690285101   6.7883832734   0.8697804908   2.7092317038   1.2390343287   6.3122854764   6.8535804949   3.3541225919  16.4818095795  12.1063004583   0.0378991073   0.8429350665   1.5267469262   1.1857568253   8.4931332032   5.2039267557   0.6583671440   3.7534122856   4.6953031546   1.7593522612  10.2096266927   8.4736719415   0.0182822543   0.4976176970   1.0125791074   0.6101735187   5.4702397143   3.7578685075   0.0092506933   0.1102716738   0.3805134712   0.0206537785   0.5764386510   0.7449770755   0.0001228785   0.0103232044   0.0698867222   0.0049237285   0.3958821456   0.3887628455\n",
      "\n",
      "  6.0000000000   6.3560417252   8.6428157397   5.0308051631   7.3291129058   0.9831072005   2.7671313395   1.7189125787   7.6554734953   7.5953082956   4.7414706953  20.7522430615  13.8485533448   0.0656838533   0.9750349944   1.5287167856   1.6602917312  10.1892157463   5.8027813163   0.9078827111   4.5185083768   5.0857526616   2.4874138216  12.7758442211   9.4244527017   0.0313219961   0.5720679966   1.0099099390   0.8504248049   6.4905368136   4.0993178235   0.0099850000   0.1178290384   0.3821669058   0.0234752786   0.6364526309   0.7541356947   0.0001182894   0.0115566733   0.0701515681   0.0058674584   0.4276971061   0.3990472466\n",
      "\n",
      "  6.0000000000   5.5190906138   7.4360926815   4.4312316433   6.0477853967   1.3052627859   1.9363199567   1.7372021520   6.6019967014   3.3453307586   3.6290280624  12.9597856115  10.1008506989   0.1263086118   1.6074209642   0.4349874305   1.2096464779   6.1421669543   5.4065082787   1.0256147850   4.2852436820   2.1878414580   2.0027500267   7.7115965832   6.5850297805   0.0661641496   1.0909609327   0.2961862520   0.6210633016   3.7116951614   3.5647212389   0.0457292951   0.4196360818   0.1696675370   0.0556452984   0.4779439325   0.4963415002   0.0013711357   0.0965133935   0.0279574689   0.0057903173   0.2411256109   0.2885014020\n",
      "\n",
      "  6.0000000000   6.4093039193   8.6561321156   5.1936021357   7.0590825850   1.5612862163   2.0801201872   2.5476336289   8.7621400125   4.5666322129   5.3785129698  18.5697508762  13.1869900891   0.2221805987   1.8256360593   0.5810114349   1.7129386652   8.2961286919   6.7020528487   1.5579331564   5.6025920787   2.8160392783   3.0988415840  11.0824494428   8.2265646867   0.1280084009   1.2179776027   0.3803157082   0.9147162612   4.9572303883   4.2915226093   0.0772348973   0.4883494434   0.1669426741   0.1073019865   0.5919567430   0.4951721172   0.0036297197   0.0997879963   0.0308660512   0.0132733137   0.2590144813   0.2918510890\n",
      "\n",
      "  6.0000000000   6.3757269051   8.4582282340   5.1603402904   6.8803985992   1.4858356673   2.0124467932   2.4609126507   8.2899807070   4.1615842261   5.4937758347  17.7465627388  12.2118693225   0.1491188796   1.7204634295   0.4671746337   1.8025210407   8.1910973805   6.3533389449   1.4821861452   5.2269054630   2.5625480116   3.1570997811  10.4624072381   7.6341820096   0.0783697483   1.1535443437   0.2987512981   0.9686718691   4.8962932954   4.0672608332   0.0603270609   0.4315803805   0.1604349067   0.0874033250   0.4963101286   0.4677639552   0.0014641699   0.1016923202   0.0233973892   0.0121033628   0.2382739017   0.2754009860\n",
      "\n",
      "  6.0000000000   5.6062266570   7.5864794822   4.5326170389   6.1652664799   1.3759767563   1.9404650631   1.9447322444   6.9762147956   3.5430708399   3.7409915228  13.8914563246  10.3789444079   0.1356376508   1.5649975070   0.4824998533   1.1063718962   6.3897759783   5.4338479644   1.1757138523   4.5377697047   2.2794308238   2.0975060495   8.3390805488   6.6875665973   0.0722236744   1.0478433925   0.3292618535   0.5583565799   3.8502343370   3.5628124502   0.0542696746   0.4234139544   0.1609879645   0.0655141570   0.4987049696   0.4800461666   0.0016645077   0.0860044565   0.0292730090   0.0054731486   0.2315744526   0.2812582800\n",
      "\n",
      "  6.0000000000   6.5960318338   6.3703819984   5.4011164617   5.1631613014   1.6685580548   1.7438402662   2.9625182209   7.2475106280   2.4938076354   6.2816395164  13.2525206519   7.4698470970   0.2700607950   1.8620784729   0.2011142785   2.1816315493   6.3553284114   3.8547871000   1.8171205438   4.7240379234   1.6965716466   3.7220554932   8.0936419042   4.9114476510   0.1521654173   1.2781839820   0.1482422869   1.2614283760   3.9958957739   2.5561161505   0.0929610196   0.4530503240   0.1627839649   0.1424506196   0.6767466441   0.3878421997   0.0042754955   0.1165242558   0.0223044844   0.0399784818   0.3961221084   0.2168778080\n",
      "\n",
      "  6.0000000000   6.6874445753   7.4942173829   5.4648988296   6.0201474532   1.6946821964   1.7762255032   3.1772149342   7.8646930441   3.1527121748   5.9864802605  16.4677270005   9.8830909333   0.3222012828   1.7254305733   0.2458848962   1.9248714781   7.5592575283   4.9896392557   1.9754150222   5.0487601209   1.9911610587   3.4724879778   9.9751894137   6.0601571966   0.1897422430   1.1759819291   0.1692044499   1.0427868831   4.6561324357   3.1055399922   0.0923038182   0.4258461500   0.1408224903   0.1073957629   0.6970824160   0.3503813830   0.0054491441   0.0995309739   0.0204072352   0.0135169962   0.3848705201   0.1979170572\n",
      "\n",
      "  6.0000000000   6.6950185070   7.0935901156   5.5018962472   5.6979867185   1.7280010672   1.7875912189   3.2160558788   7.9184391833   2.9447484094   6.5996345232  15.1004428688   8.7314904889   0.2873767842   1.8710250454   0.2744560885   2.0204342697   6.9092495003   4.3584272764   2.0130244187   5.0957399394   1.9281022794   3.9874148956   9.1459664354   5.4933860949   0.1616151995   1.2628549683   0.2024867637   1.1420350617   4.2687562509   2.7739954495   0.1035804025   0.4172400310   0.1568468806   0.1602068070   0.6821325636   0.3767716220   0.0033292179   0.0943245768   0.0278953629   0.0276100171   0.3831350411   0.2089180631\n",
      "\n",
      "  6.0000000000   6.4909059670   6.5700121444   5.3183320196   5.2976270079   1.6533142357   1.7104932408   2.9823199312   7.2036793201   2.5631116988   5.8712466445  13.7908059444   7.6914983183   0.2823409003   1.7552057769   0.1954453505   1.8514635437   6.3651486125   3.9097544755   1.8456257180   4.6830702730   1.7019606947   3.4464654308   8.4305186864   4.9504816538   0.1598781939   1.1979169527   0.1420015868   1.0167547626   3.9761614472   2.5504500654   0.0873364566   0.4171068398   0.1444421372   0.1088409617   0.6362921786   0.3556435655   0.0039221848   0.1039911837   0.0194595469   0.0150423762   0.3593967060   0.2012954962\n",
      "\n",
      "  1.0000000000   6.2065956338   7.1348126899   5.0058284158   5.7641711222   1.1013803202   1.6250663161   1.9153933513   5.6438908617   2.2005383249   4.9737675184  15.3822839413   8.6588322032   0.1143099113   0.7814870783   0.3387902959   1.7555522792   7.2331329430   5.3171830521   1.0468782109   3.2986985192   1.2400311515   2.7627766593   9.1185455708   5.4701093963   0.0591046407   0.5062807152   0.1867826631   0.9676905966   4.4231564211   3.4514808997   0.0106997359   0.0860021844   0.0475187754   0.0341754981   0.3059026430   0.4435618367   0.0003395906   0.0220721555   0.0017380405   0.0121361786   0.1794176260   0.2904101061\n",
      "\n",
      "  1.0000000000   6.2184888694   7.1652898524   5.0749713511   5.8315959233   1.2731196449   1.7240065266   2.2799491778   6.4432834980   2.4826799814   5.1666373451  16.1620496452   8.9254143729   0.1802569972   0.9354725961   0.4710285509   1.5974318347   7.4659921277   5.4191189255   1.3116485337   3.9030140429   1.4272600769   2.9772366887   9.8366585730   5.6859832679   0.0916074034   0.6028309171   0.2676685482   0.8898977195   4.6749579109   3.5368190215   0.0257692882   0.1322720790   0.0558593132   0.0539314181   0.3832012043   0.4721632464   0.0004718753   0.0285788981   0.0034712501   0.0116785189   0.2190138215   0.3010821829\n",
      "\n",
      "  1.0000000000   5.8112206163   6.6857861400   4.6789817569   5.3909203631   1.0590503525   1.5223489737   1.7166871450   4.9766430856   1.7749884723   4.0470841808  13.2142138988   7.6950940527   0.1202305712   0.5637601162   0.1933867171   1.3801450923   6.3336175762   4.8121216511   0.9394104964   2.9317341513   1.0014229568   2.1966701887   7.8217865193   4.8940179082   0.0624922397   0.3570447358   0.1004067467   0.7337663638   3.8639293896   3.1160837305   0.0095196950   0.0900959159   0.0448133089   0.0207958562   0.2732485841   0.4115136419   0.0003744977   0.0155616432   0.0005921311   0.0059270889   0.1555506353   0.2610729578\n",
      "\n",
      "  1.0000000000   6.0728288672   7.1591197408   4.8778978554   5.7518281906   1.0722938307   1.5969689002   1.8178273376   5.3775991820   2.0998020433   4.4791493837  15.0787532709   8.4747467831   0.1370027930   0.4762725393   0.2737206346   1.6059209084   7.2765040471   5.1761363268   0.9786485372   3.1609712448   1.1715889665   2.4140348863   8.8854860785   5.2899667051   0.0718564499   0.2917792529   0.1478442781   0.8562656235   4.4030987154   3.3126790429   0.0081391378   0.1020132448   0.0461130158   0.0209287970   0.2964322284   0.4258949026   0.0004206929   0.0107288056   0.0011515454   0.0069643778   0.1637210727   0.2737673871\n",
      "\n",
      "  1.0000000000   6.0386870075   8.6449182365   4.8940959893   7.0294563030   1.1898384977   1.9394083591   2.0594151839   7.0373924563   3.8806774644   4.8137590560  17.9636919214  12.8998006865   0.1569347278   0.8571375127   0.4102134356   1.5192219101   8.0947393338   7.1951153620   1.1693608420   4.1807834512   2.2091344708   2.7316098923  10.7302218296   8.0001826568   0.0835688286   0.5236171545   0.2264301817   0.8289038856   4.9494225477   4.5916860913   0.0193696681   0.1286275162   0.0734534735   0.0507060005   0.3531616064   0.5464826527   0.0005777628   0.0201709956   0.0023493661   0.0131020258   0.1892340015   0.3385529111\n",
      "\n",
      "  1.0000000000   5.0561035915   7.8613090883   3.9464045446   6.3373159291   0.6988389094   1.7669150835   0.8885508060   4.1028054355   2.6647245333   2.9131709434  12.3702954441  11.0814288334   0.0448066595   0.4154502167   0.3088823890   1.1834047958   5.8328178546   6.4199659497   0.4483104355   2.3145209218   1.5133298861   1.4999379762   7.0378168897   6.9794123054   0.0206655579   0.2367495154   0.1586234854   0.6059542317   3.3796925569   4.1239620596   0.0033448586   0.0551868608   0.0731145105   0.0121155433   0.2015269333   0.5626445285   0.0000420523   0.0047904773   0.0007766696   0.0045551502   0.1060635305   0.3382171129\n",
      "\n",
      "  1.0000000000   5.3230086400   7.3470540037   4.1855474793   5.9215140875   0.8560268041   1.6952820432   1.1582828101   4.4601900375   2.3038409214   3.1324180821  12.2974611100   9.6917830247   0.0650776931   0.9540826404   0.3587938714   1.2066883003   5.8659764989   5.8526260757   0.6080868549   2.5882695851   1.3255503314   1.5991635950   7.1203451245   6.1649755248   0.0336115477   0.6255710714   0.2024053803   0.6038949976   3.4871026651   3.7951421544   0.0050083104   0.0775623366   0.0587790779   0.0105766343   0.2465154689   0.4995060902   0.0002533406   0.0289251216   0.0025488234   0.0031687090   0.1411787392   0.3160178092\n",
      "\n",
      "  1.0000000000   6.0471437219   8.1396647628   4.8534911385   6.5686446019   1.0346067662   1.8097129757   1.7961191588   5.9939874473   3.1110940421   4.6934759008  16.3376684080  11.4192473199   0.0836478302   0.8546509804   0.3776512536   1.6443697696   7.6264860442   6.5019226979   0.9763602160   3.4542141057   1.7554813088   2.5898580199   9.5459415192   7.0829730889   0.0412679615   0.5243764875   0.2094776889   0.8927061711   4.5760007990   4.1454381779   0.0117221900   0.0786707762   0.0639727987   0.0361872225   0.2778423602   0.5106257897   0.0001579002   0.0135743188   0.0020507194   0.0111464041   0.1551420018   0.3147345790\n",
      "\n",
      "  1.0000000000   4.2664292267   8.7990167931   3.2399407571   7.1323613813   0.4744858995   1.8928790592   0.4678274961   3.3303280057   3.4962559657   1.7736567157  11.2058142497  13.8402572125   0.0176784828   0.1619122910   0.5144955923   0.8117831729   5.2079488578   8.0737186203   0.2159400206   1.7896623011   1.9458341327   0.8357374560   6.2456898637   8.5720432250   0.0076971714   0.0802282340   0.2759367734   0.3877233813   2.9714990173   5.1252981732   0.0005432056   0.0412151640   0.0677985010   0.0025458473   0.1905860108   0.5661690101   0.0000076157   0.0004303051   0.0019571285   0.0013221463   0.0996050207   0.3515525346\n",
      "\n",
      "  1.0000000000   5.3441646633   9.7228458779   4.2341564447   8.0066348674   0.8321266521   2.2783672178   1.1644249085   6.2693316768   5.7451991750   3.2695138463  17.6160471526  17.3463345282   0.0798783516   0.4845334814   0.8734161975   1.1981350149   7.6950198295   9.1170046321   0.6065547213   3.5604409966   3.3356992202   1.7206770076  10.3739937999  10.9017888242   0.0387602018   0.2574953666   0.5053393350   0.6189285122   4.6403289620   5.8980964395   0.0049900868   0.0924716388   0.1016468842   0.0157918269   0.3451543163   0.6764332568   0.0000979417   0.0023862643   0.0068254854   0.0048758042   0.1697515102   0.4029595270\n",
      "\n",
      "  1.0000000000   5.2778528882   9.7478310951   4.1352683343   8.0239669173   0.7150925155   2.2515652214   0.9551502332   5.7506652979   5.6302170653   3.3091480627  17.0727874264  17.0891593731   0.0394612258   0.3576280708   0.9481420786   1.3936289370   7.4324288142   9.2050193677   0.4836922357   3.1912406930   3.2464299170   1.7299402150   9.9159558034  10.7203538883   0.0176865756   0.1813694193   0.5488111747   0.7282556297   4.4423008249   5.9519326792   0.0035605146   0.0666843770   0.0873324275   0.0140372658   0.2733582511   0.6296687251   0.0000242922   0.0010234894   0.0070089828   0.0053964642   0.1377321305   0.3926331560\n",
      "\n",
      "  1.0000000000   4.4148258446   8.8776061833   3.3706441635   7.2058137008   0.5288092903   1.9243454301   0.5322093743   3.6711416814   3.6910115398   1.8039686045  12.0513766241  14.0933912325   0.0260734833   0.1647476291   0.5864243841   0.7684988333   5.4844462272   8.0640303575   0.2506700083   2.0092180762   2.0609472806   0.8419159267   6.7870563228   8.7268932318   0.0117704202   0.0810832914   0.3176230147   0.3557343886   3.1338195657   5.1189196086   0.0007310663   0.0511997227   0.0722678673   0.0021859035   0.2142321970   0.5668718905   0.0000159640   0.0005318129   0.0024620764   0.0008054807   0.1049575864   0.3436535409\n",
      "\n",
      "  1.0000000000   5.9939131752   7.1001128189   4.7916259115   5.7026847980   1.0492719933   1.6210327755   1.7084081677   5.1879788597   2.0208107332   4.4638296808  14.1617672701   8.5942476657   0.1267388171   0.5485209341   0.2001930053   1.6622536058   6.6639773942   5.2892441276   0.9233996188   3.0621977277   1.1360589608   2.4006442556   8.3480483809   5.4632782035   0.0658476161   0.3391032910   0.1053918362   0.8789316887   4.0328746681   3.4454135044   0.0100270955   0.1109237972   0.0531077029   0.0244105996   0.3332976155   0.5075647782   0.0004080130   0.0156470121   0.0006766526   0.0073132155   0.1794209079   0.3289847044\n",
      "\n",
      "  1.0000000000   5.7921280024   8.2100870116   4.5505369617   6.6239121811   0.7766553125   1.7950605545   1.1995606001   4.7807527769   3.3257491417   3.9248506042  15.6786239316  12.2087732482   0.0449478818   0.2905420652   0.4280012389   1.5861900251   7.1425363084   6.8227746021   0.6025521213   2.6514604888   1.8801276486   2.0344187316   9.0404954110   7.5454115925   0.0205128069   0.1471096674   0.2452399789   0.8272255974   4.1942059955   4.3638350156   0.0032519618   0.0670357850   0.0600775177   0.0139937210   0.3078182944   0.4960255694   0.0000404414   0.0007859110   0.0029848313   0.0060512859   0.1561296593   0.3137823287\n",
      "\n",
      "  1.0000000000   6.0173391202   7.6872386422   4.8067127595   6.1160488067   1.0287586501   1.5723411137   1.6701693973   5.1110063092   2.2882754677   4.7201932369  15.2215915301   9.7726267133   0.0838727203   0.2718039788   0.1471776069   1.7138427342   6.8614555464   5.7446012328   0.9169409416   2.9843786483   1.2455164867   2.6271016222   8.9015518487   5.9402828178   0.0426619229   0.1462019621   0.0737132287   0.9408334934   4.0617841650   3.6029395848   0.0132886180   0.1070266011   0.0481328785   0.0451944853   0.3480229714   0.4505192438   0.0002478188   0.0030862987   0.0003522584   0.0157917012   0.1673222017   0.2886615250\n",
      "\n",
      "  1.0000000000   5.9083210522   7.2695272759   4.6644139687   5.7982342961   0.8487516491   1.5700231200   1.3546225329   4.4842142663   2.0167904441   4.2394637093  14.1862897200   8.7242843688   0.0662180475   0.2779295281   0.1526639316   1.6853325300   6.4884285614   5.2963781812   0.6928976428   2.5430977965   1.1169060015   2.2266590697   8.1995983596   5.4346599949   0.0315069984   0.1442142196   0.0783308318   0.8862406148   3.8128176342   3.3898029848   0.0047897165   0.0707020315   0.0477892206   0.0187675044   0.2839954347   0.4583093610   0.0000774126   0.0013988784   0.0004209057   0.0075623038   0.1418019639   0.2966976762\n",
      "\n",
      "  6.0000000000   6.1248299440   5.6683353863   5.0292111187   4.6652465684   1.5691067222   1.6888027052   2.5379187796   6.3565462328   2.3379528032   5.3477698495  11.1992368047   6.7425064243   0.2392858745   1.7582719233   0.2297966577   1.7140707504   5.4830641299   3.4579071110   1.5634942857   4.1736944849   1.6159100549   3.1947159569   7.0092795961   4.5365404324   0.1328335962   1.1863632491   0.1746451313   0.9957625203   3.5295577115   2.3501544534   0.0814155473   0.3970145238   0.1426367752   0.1174200958   0.6394837178   0.3561020457   0.0033880449   0.0928917448   0.0240493312   0.0256281312   0.3792742705   0.2012247100\n",
      "\n",
      "  6.0000000000   6.7384854840   6.1616364380   5.5463405406   5.0206666153   1.7185335317   1.7563009456   3.2709226602   7.4966257423   2.6462436709   6.2890159824  13.8852675583   7.7492934312   0.3327106453   1.8121665888   0.2023569060   1.9934397997   6.3985703094   3.8603104334   2.0156072148   4.9483084743   1.7981944686   3.6797041726   8.6695630656   5.0995858602   0.1928693813   1.2476417816   0.1562275832   1.1140426808   4.0666203100   2.5786440176   0.0967141045   0.4813616234   0.1674792621   0.1115418706   0.7317665598   0.3993144617   0.0049410457   0.1149059979   0.0247504880   0.0150960763   0.4077484770   0.2222697903\n",
      "\n",
      "  6.0000000000   6.6507561649   6.3161159592   5.4603437936   5.1345300587   1.6448695623   1.7129163001   3.0211546461   7.1364029356   2.6277086510   6.2433660884  13.8980060717   7.6283127223   0.3028421928   1.7414291447   0.2135257502   2.0002991849   6.6537298501   3.7863197462   1.8407542277   4.6171892973   1.7505490085   3.6555162214   8.5354004420   4.9337796421   0.1734544077   1.1834463956   0.1596311787   1.1277461863   4.1935341529   2.4799931813   0.0778031619   0.4103172409   0.1444927281   0.1015189912   0.6554677044   0.3504310977   0.0043659863   0.1007387233   0.0221428713   0.0171875847   0.3889006149   0.1934437194\n",
      "\n",
      "  6.0000000000   6.3683307988   5.8571139604   5.2284794976   4.8216697179   1.6176283591   1.7259977188   2.7751573627   6.7914938135   2.5524726657   5.8832427490  12.2215629280   7.1498189446   0.2449395815   1.8109397819   0.2674763558   1.8828569880   5.8330289532   3.5842405961   1.7175886103   4.4504930469   1.7424871023   3.5056626756   7.6304421169   4.7805246764   0.1366637370   1.2156797198   0.2030342855   1.0832682742   3.7208554862   2.4302053986   0.0853838323   0.4076917527   0.1439097743   0.1168371112   0.6473693206   0.3760718371   0.0032096056   0.0901047678   0.0265310059   0.0220535163   0.3673910867   0.2123045423\n",
      "\n",
      "  6.0000000000   5.5641572238   6.6033804771   4.4632300357   5.4306274915   1.2885161731   1.8504558453   1.6646082485   6.0915808033   3.0203963790   3.7414963237  11.5384439499   9.0265253598   0.1173227141   1.5420020164   0.3968008914   1.2730721424   5.5265818369   4.8444220011   0.9776896699   3.9697035915   2.0024474504   2.0775158067   6.9206648744   6.0250645432   0.0608818226   1.0371694725   0.2738268073   0.6650942244   3.3528919445   3.2888121756   0.0453386657   0.3897588515   0.1526513735   0.0582481702   0.4440954461   0.4498695642   0.0012909533   0.0892785051   0.0254764301   0.0069206564   0.2200439061   0.2664423732\n",
      "\n",
      "  6.0000000000   6.6445830462   7.3282969599   5.4176263096   6.0252015733   1.6066104807   1.9788367990   2.7992568670   8.3442318240   3.7433274104   6.1038285569  16.2002424845  10.6437686523   0.2328402076   1.9098955259   0.4386739412   2.0256270757   7.3194104061   5.3589844771   1.6851256794   5.4028612829   2.4147754503   3.5810713071   9.8244433128   6.9689500368   0.1304853855   1.2800231634   0.2975468097   1.1495955729   4.4611303382   3.6056103028   0.0743287918   0.4719450428   0.1725495188   0.1218700046   0.5668972644   0.5284894416   0.0029591235   0.1084381628   0.0264583246   0.0271168587   0.2681762783   0.3110052797\n",
      "\n",
      "  6.0000000000   6.5582461188   7.3116523449   5.3043556161   5.9903547149   1.4912057824   1.9165784813   2.4443166834   7.6492682129   3.5823259569   5.9782555508  15.3136856189  10.3508385820   0.1757433013   1.7651522728   0.4264903813   2.1052754296   7.0196827479   5.2496568324   1.4426374846   4.8803652994   2.2924971520   3.4449519305   9.0610196795   6.7068826649   0.0936401034   1.1748475846   0.2880600025   1.1886726031   4.1800723562   3.4925765638   0.0616870751   0.4285593337   0.1524842999   0.0997732031   0.4911697290   0.4630003863   0.0018664410   0.0974247740   0.0250161826   0.0238846256   0.2308949088   0.2728409993\n",
      "\n",
      "  6.0000000000   5.8409247642   6.6815016210   4.7245642266   5.4832554768   1.3925715086   1.8412218413   2.0207379039   6.6208232014   3.0484730397   4.3829689885  12.4267048861   9.2903126412   0.1302883419   1.6041324333   0.3301414669   1.5115033559   5.8533581154   4.8799471256   1.2155483132   4.3170721355   2.0029122908   2.5051768075   7.4849729436   6.1483713285   0.0702468641   1.0813729869   0.2254688005   0.8295953447   3.5525819310   3.3012774511   0.0510448938   0.3957666222   0.1548840928   0.0710129745   0.4459575492   0.4548264627   0.0017811041   0.0990569042   0.0204008538   0.0145653804   0.2216127599   0.2688880433\n",
      "\n",
      "  6.0000000000   5.3257339990   7.6933177397   4.1967025043   6.5889286274   0.8136266568   2.6546219884   1.1193673926   5.8405728753   6.4604707688   2.9725815063  15.4799011407  11.7013674352   0.0359179842   0.8003999420   1.4689625022   1.0446844461   8.0907419038   5.1773298993   0.5804893636   3.4351977352   4.4402546840   1.5282423234   9.5893739200   8.2903595267   0.0170428372   0.4711554009   0.9719008444   0.5267360186   5.2342828794   3.7981067466   0.0067404456   0.0903338729   0.3559205346   0.0146963689   0.5458513405   0.7399828719   0.0000794428   0.0096691609   0.0655885643   0.0035325924   0.3846599774   0.4028298079\n",
      "\n",
      "  6.0000000000   6.3525604469   8.6172786315   5.0603564550   7.3214193098   1.0633964426   2.7869117750   1.8299514571   8.0427510154   7.6560713521   4.9366261483  20.8958554752  13.8391742355   0.0769854935   1.1008397929   1.5744507315   1.7022259404  10.1305636633   5.8054100131   0.9941495659   4.8188712347   5.1384351515   2.6854849987  13.0013201727   9.4376205302   0.0377026878   0.6539637518   1.0417356228   0.9061388156   6.5070971855   4.1132010176   0.0153108969   0.1455025399   0.3956928954   0.0393815248   0.7105516582   0.7673030370   0.0001753313   0.0146284787   0.0738315666   0.0104357563   0.4606653381   0.4077907117\n",
      "\n",
      "  6.0000000000   6.2325033660   8.4508920907   4.9196735072   7.1775295277   0.9173632032   2.7206700973   1.5676219872   7.1509115789   7.2420344738   4.6324770977  19.5424081951  13.2787173796   0.0470660877   0.9242260371   1.4867495622   1.6933504503   9.7816542893   5.6501924967   0.8178970845   4.1512230019   4.8523207443   2.4313522249  11.9011146845   9.0788117873   0.0216473205   0.5403986784   0.9786811519   0.8786197965   6.1984578076   4.0149426418   0.0090556801   0.1001040755   0.3593466453   0.0232037458   0.5868422776   0.7402695703   0.0000717162   0.0109118872   0.0655556398   0.0063869322   0.4065110823   0.3995351169\n",
      "\n",
      "  6.0000000000   5.5002230775   7.8893323207   4.3735741934   6.7549311302   0.9139605747   2.6841944864   1.3460551648   6.5554719197   6.8852428192   3.3737537187  16.7161848676  12.0988074547   0.0475840227   0.8659513875   1.5032491729   1.0890836753   8.3797888356   5.1718284909   0.7289884173   3.9287009431   4.6789417736   1.8058697617  10.4708558342   8.4463333869   0.0232245330   0.5112783592   0.9958700339   0.5616902641   5.4400490618   3.7520404760   0.0105184943   0.1147746205   0.3658250435   0.0234960312   0.5952778709   0.7099854937   0.0001216881   0.0104515168   0.0691685202   0.0052273584   0.3975215499   0.3777169065\n",
      "\n",
      "  6.0000000000   6.2548668424   9.0020750120   5.0654317883   7.3548878312   1.5210883784   2.1323679793   2.4644773477   8.8218317132   4.9097395534   4.9733635230  19.2688884646  13.9223011353   0.2168439913   1.7692756466   0.6053981499   1.5716730895   8.5708142010   7.0822023543   1.5037074094   5.6175617962   2.9891111064   2.8216637536  11.5629651127   8.6368515511   0.1241579653   1.1874972654   0.3825134162   0.8195535022   5.1869596231   4.5131881223   0.0681100373   0.4709736721   0.1679421297   0.0849225246   0.5981241969   0.4890499703   0.0036797512   0.1036569942   0.0274235965   0.0108754329   0.2798883660   0.2864638781\n",
      "\n",
      "  6.0000000000   5.5263808265   7.6953607266   4.4809507530   6.2500723674   1.3550903068   1.9152664049   1.8532681594   6.8238477767   3.4744139451   3.7610754520  13.9021693998  10.5449744994   0.1384312357   1.6097500339   0.4058540884   1.1648309962   6.6342218270   5.6125487131   1.1173584528   4.3811488258   2.2048225417   2.1419489247   8.3156715788   6.7250894350   0.0716985152   1.0850185442   0.2659527254   0.6059358342   4.0482794942   3.6381878472   0.0506046493   0.3872744564   0.1558910714   0.0663552461   0.4820438616   0.4522424472   0.0013420356   0.0956555471   0.0217458044   0.0067047716   0.2558382193   0.2637386521\n",
      "\n",
      "  6.0000000000   5.4219993737   8.1221671075   4.3836275097   6.6217215571   1.3582532474   1.9979758759   1.8009737727   7.1903829579   3.8535815251   3.4520304752  14.4964605077  11.6851467036   0.1380007336   1.6216199385   0.4853408737   1.0514142810   6.6702654136   6.2183750154   1.1008263571   4.6407999054   2.4221346121   1.9625982897   8.6851452031   7.4279430726   0.0757437100   1.0954745748   0.3121660591   0.5414094370   4.0393383624   4.0242124619   0.0514843262   0.4125796876   0.1587816741   0.0636780755   0.4873175649   0.4906474642   0.0017855416   0.0956551260   0.0233807265   0.0063633009   0.2351364760   0.2898097350\n",
      "\n",
      "  6.0000000000   6.1389887432   8.4387560726   4.9627236658   6.8760743659   1.4497633952   2.0432005047   2.3281400403   8.1636233430   4.2639390198   4.6172544666  17.4022460154  12.5170899832   0.1850875612   1.7012984068   0.4693942061   1.3963351341   7.9150963282   6.4077391303   1.3925563284   5.2158313381   2.6452504506   2.5724251116  10.3414795258   7.8942089896   0.1018103182   1.1491350589   0.3044264365   0.7093679304   4.7491378196   4.1437744963   0.0537627780   0.4480229981   0.1695958924   0.0646094916   0.5101403672   0.5165213748   0.0020400983   0.1038191196   0.0249401508   0.0059005714   0.2436213682   0.3049613319\n",
      "\n",
      "  6.0000000000   6.4450254102   7.5241005250   5.2623094644   6.0559888317   1.6431981526   1.8057710799   2.9869111009   7.7092245276   3.2298493985   5.3563380902  15.9121913527  10.1610222027   0.2635384885   1.6650538374   0.2590422505   1.5744148282   7.3183888120   5.1387741014   1.8619186123   4.9843658115   2.0470927846   3.0631678372   9.6596685341   6.2393308763   0.1527459968   1.1395473899   0.1785753502   0.8200486356   4.5212936404   3.2005581727   0.0847654320   0.4444183446   0.1508310956   0.0835603000   0.6741241170   0.3630567281   0.0045257199   0.1014360201   0.0224066548   0.0068538450   0.3739463063   0.2031873270\n",
      "\n",
      "  6.0000000000   6.2015571976   6.3134961949   5.0881330500   5.1242949080   1.6067454797   1.7099168693   2.6639346630   6.8514452341   2.5334935193   5.4404783012  12.4912439605   7.5573056185   0.2476373764   1.8264264854   0.2198519897   1.6320375023   5.8739302239   3.8467310602   1.6589009009   4.4830525272   1.7005779784   3.2322214972   7.6736919413   4.9116819846   0.1375488016   1.2474179228   0.1631991314   0.9099978690   3.6926243879   2.5294932579   0.0888652461   0.4385605776   0.1441482797   0.1107394917   0.6279655530   0.3554194319   0.0035091228   0.1095908097   0.0223950669   0.0147228898   0.3485969605   0.1996525762\n",
      "\n",
      "  6.0000000000   5.9092687153   6.9404204499   4.8272896673   5.6176694644   1.5425017366   1.7806981722   2.4108554557   6.8867711496   2.8743087117   4.4396271760  13.2363166636   8.6992414413   0.2389584103   1.7363798499   0.2673023905   1.3124782386   6.2508803586   4.4737313887   1.5055182310   4.4817257062   1.8806013543   2.5692249744   8.0918733724   5.5135663662   0.1346488657   1.1916407497   0.1894497753   0.6885900709   3.9266988434   2.8622119637   0.0842252206   0.4184074458   0.1516582207   0.0910881926   0.6532354117   0.3744422712   0.0033972069   0.1004272750   0.0243000686   0.0070663014   0.3735083235   0.2096280437\n",
      "\n",
      "  6.0000000000   6.3277616454   6.9988118387   5.1847762586   5.6433523507   1.6637285238   1.8195555198   3.0003001560   7.6647299509   3.0430541678   5.1669741499  14.5515712383   9.0454840588   0.3034106758   1.8077982622   0.2752269761   1.4641969531   6.6024424046   4.4947406913   1.8793912388   5.0333859327   2.0049702354   2.9878809549   8.9685632604   5.7208229119   0.1770184114   1.2447765386   0.2053811136   0.7636350402   4.1515915396   2.8750789929   0.0929441157   0.4646266184   0.1698187746   0.0951353419   0.7282072323   0.4134877688   0.0046611548   0.1058682181   0.0296679719   0.0075832998   0.4133624658   0.2290426859\n",
      "\n",
      "  1.0000000000   5.5376000763   6.3088335712   4.4610989313   5.1074950859   0.9817284205   1.5259942716   1.5133117935   4.4642050282   1.5754248367   3.6947757313  12.1063340879   7.3443093942   0.1189833717   0.4840568939   0.2287997157   1.1608659487   5.8456836865   4.6332471391   0.8189145951   2.6303832807   0.9026493979   2.0241716077   7.2658646044   4.7613961294   0.0590315651   0.2882628653   0.1191522419   0.6223111220   3.5972580509   3.0506837440   0.0091082609   0.0857885331   0.0486193114   0.0240803512   0.2987366140   0.4515254971   0.0001925730   0.0078879223   0.0006621980   0.0062979562   0.1614737261   0.2860135586\n",
      "\n",
      "  1.0000000000   5.8604067324   6.4449044306   4.7219942321   5.1905990482   0.9681873499   1.5648765076   1.6162848068   4.6238408976   1.5843295813   4.1842489310  13.2477718817   7.7799353091   0.0890032397   0.5090758031   0.1650930261   1.4183943179   6.2932275165   4.8048562552   0.8550876294   2.6830511787   0.9097236737   2.2764819307   7.8907754688   5.0727860921   0.0425457171   0.2958451657   0.0824377266   0.7674219117   3.8194724670   3.1911869705   0.0067845242   0.0765940822   0.0592530434   0.0230909946   0.3262529079   0.5343635804   0.0001151982   0.0041546615   0.0003073082   0.0077486882   0.1706329479   0.3344542978\n",
      "\n",
      "  1.0000000000   5.8657018482   6.7978952650   4.7263683930   5.4845187461   0.9751026320   1.5868252067   1.6154454608   4.8802624182   1.8946252305   4.2215095282  13.9387950454   8.0840859148   0.0974197042   0.4608181092   0.2493765760   1.3942665836   6.6445457191   4.9433836122   0.8587439936   2.8206324329   1.0686296707   2.3133146544   8.2670705417   5.1427243288   0.0458269184   0.2635059391   0.1312754020   0.7563414349   4.0392781879   3.2191165616   0.0075834797   0.0722768213   0.0524608689   0.0252230710   0.2950467268   0.4681896845   0.0000902431   0.0040656374   0.0008352193   0.0081223063   0.1609453752   0.2949729139\n",
      "\n",
      "  1.0000000000   5.6866689062   6.3982334666   4.5866724381   5.1908210463   1.0005945806   1.5649589364   1.5905586718   4.7173980332   1.6962201113   4.0632660800  12.7471728601   7.6764640545   0.1081283552   0.4887046670   0.2534700276   1.2666187771   5.9621680018   4.8032582929   0.8685917476   2.7760082096   0.9822699880   2.2661439223   7.6874026750   4.9828444733   0.0517418711   0.2894383801   0.1351785602   0.6877139987   3.6824321091   3.1625905822   0.0105941897   0.0834483539   0.0528083139   0.0308014269   0.3134653977   0.4636019897   0.0001297322   0.0071175499   0.0009461245   0.0082941462   0.1658383114   0.2877680857\n",
      "\n",
      "  1.0000000000   4.6983724327   7.2952179388   3.6372745080   5.8643697785   0.6001715854   1.6360000933   0.7104863039   3.2894231602   2.1545881116   2.2885957331  10.4649982187   9.6281786836   0.0276046712   0.2636942388   0.2070152506   0.9237353524   5.1100249449   5.8387096046   0.3480233402   1.8184940702   1.2228996041   1.1249892264   5.9427816768   6.0864279431   0.0124310391   0.1426905049   0.1075477526   0.4521338884   2.9695879616   3.7535753386   0.0014501981   0.0446100718   0.0576442317   0.0046468239   0.1935242962   0.4980470014   0.0000252726   0.0014593847   0.0007419454   0.0017638716   0.1019257144   0.3104941056\n",
      "\n",
      "  1.0000000000   5.7249185562   7.8825358572   4.6021874127   6.3817637327   1.0327245981   1.8168585070   1.6532006219   5.7232074628   2.9643217493   3.8560269960  15.3144900974  11.3987171055   0.1307325806   0.5937578567   0.3316266543   1.2488715615   7.1536160363   6.5219300359   0.8970693021   3.3648045249   1.6907887987   2.0869016613   9.0608945412   7.1974042878   0.0666474542   0.3481320214   0.1814330379   0.6533514107   4.3149339715   4.2272994640   0.0103652866   0.1038633887   0.0725114572   0.0256108870   0.3214187223   0.5822486238   0.0002649083   0.0084723927   0.0015870536   0.0063108651   0.1655006924   0.3588352715\n",
      "\n",
      "  1.0000000000   5.7290071591   7.8433488891   4.5842535977   6.3443879772   0.9917060493   1.7849261954   1.5974351141   5.5063770661   2.8959685134   4.0274144579  14.6629192333  11.0897276066   0.0809564431   0.7476103768   0.2533401052   1.2711230576   6.9185758163   6.3512737103   0.8818346760   3.1918359014   1.6483521704   2.2017139525   8.5637047357   6.9536381657   0.0387852749   0.4541115056   0.1353567368   0.6591473199   4.1323810848   4.0780335397   0.0116841171   0.0842598012   0.0682067576   0.0283052761   0.2781719116   0.5413152820   0.0001328259   0.0124968769   0.0009646282   0.0062757302   0.1467033887   0.3297629412\n",
      "\n",
      "  1.0000000000   4.9810361542   7.1371962432   3.9240317024   5.7297084482   0.7441530869   1.5767535402   0.9642638180   3.7897741241   1.9714108674   2.7100285465  11.2679779536   9.2858558673   0.0522622154   0.4259172695   0.1739441875   0.9898749493   5.4160654886   5.6373243014   0.4954955128   2.1553186769   1.1020077882   1.3885016923   6.4700524627   5.8583384129   0.0243380223   0.2518817612   0.0864654790   0.4934269418   3.1663415151   3.6312954588   0.0038605474   0.0555457126   0.0506238993   0.0092360848   0.1946994929   0.4786554005   0.0000515028   0.0063148208   0.0003073312   0.0022595128   0.0998820033   0.3080169184\n",
      "\n",
      "  1.0000000000   5.2728752954  10.3800224949   4.1376772800   8.6160985150   0.7369776332   2.5388461533   0.9988787023   6.4537383215   7.3628410284   3.1342911417  18.6500812557  19.7831291604   0.0602263936   0.4534854183   1.2308041346   1.2700414771   8.1154671186   9.9163031112   0.5000407014   3.6268322555   4.3763198917   1.5976278973  10.9547535054  12.5761476590   0.0285452151   0.2366327817   0.7386885547   0.6446669025   4.9069087774   6.4905830891   0.0025617302   0.0805669923   0.1296154028   0.0090952659   0.3232730261   0.7523196632   0.0000550838   0.0019935406   0.0140718603   0.0034285107   0.1663456308   0.4489676492\n",
      "\n",
      "  1.0000000000   4.3511629863   8.8697347226   3.3898396099   7.2222758043   0.6050165246   1.9668085458   0.6310550925   4.0575568668   3.9309766188   1.8192665510  12.4373132313  13.9340207012   0.0380512526   0.3064705893   0.6771322069   0.7213258001   5.6578552232   8.1122117486   0.3100904297   2.2589245639   2.2231853238   0.8953015999   7.2062722402   8.6397422551   0.0177303787   0.1610018101   0.3884495013   0.3504249557   3.3667426142   5.1593838101   0.0013490048   0.0536409216   0.0675518583   0.0039166183   0.2294653091   0.5344871022   0.0000299037   0.0010964978   0.0053759340   0.0013110797   0.1201282656   0.3406030100\n",
      "\n",
      "  1.0000000000   4.4610616622   9.3427605587   3.4730616350   7.6733861809   0.5796653786   2.1393643483   0.6223806085   4.4002242920   4.9024933654   1.9981190617  13.5316463043  16.0716166734   0.0326855516   0.2986456291   0.8145360966   0.8160509875   6.0465815394   8.7698253682   0.2995005257   2.4207078770   2.8340977637   0.9960288817   7.7836130837  10.1267140252   0.0149607275   0.1522623660   0.4665738464   0.4125264961   3.5651098543   5.6778597457   0.0010744221   0.0535631673   0.0849279623   0.0050979330   0.2279758398   0.6046063581   0.0000210734   0.0009550983   0.0061727619   0.0024148942   0.1157838504   0.3731527434\n",
      "\n",
      "  1.0000000000   5.0220711772   9.5469856123   3.8908896662   7.8137995700   0.6085690510   2.1567749800   0.7731447873   4.8602857006   5.0325588831   2.7101306710  15.4798485787  16.2571154751   0.0295859614   0.2825939794   0.7746851612   1.1143414593   6.9987271843   8.9060563408   0.3746885890   2.6460174235   2.8762897446   1.3340237666   8.8178012754  10.1543594607   0.0129225553   0.1411788244   0.4444167591   0.5450400209   4.0986495244   5.7329809076   0.0014883640   0.0525475403   0.0838765132   0.0052046426   0.2330168531   0.6251508275   0.0000139298   0.0007174669   0.0053248072   0.0018392488   0.1214268953   0.3869679237\n",
      "\n",
      "  1.0000000000   5.6989038200   8.2786327785   4.4289579664   6.7112435046   0.6894701664   1.8444962877   1.0754062970   4.4570331546   3.5699771331   3.6581047994  15.1539822892  13.0246534664   0.0286049323   0.1911825926   0.4405554808   1.4292883488   6.9659864831   7.1474577853   0.5321816020   2.4497221045   2.0302200758   1.8381719976   8.6541189139   8.1063642151   0.0131496155   0.0915560814   0.2450531065   0.7157374710   4.0393675946   4.6015099459   0.0025241261   0.0563552244   0.0650687327   0.0091677858   0.2698915088   0.5367779268   0.0000272576   0.0004430587   0.0022379805   0.0033523252   0.1375469698   0.3377732094\n",
      "\n",
      "  1.0000000000   5.5498481917   6.6320043673   4.4264425218   5.3300160773   0.8934026199   1.5740520326   1.3437321998   4.3258397197   1.7581556934   3.7478821297  12.3267867053   7.9585262740   0.0733445584   0.3028337056   0.1307589649   1.2617100571   5.7179280456   4.8894577441   0.7185236646   2.5307583514   1.0102314623   2.0347259119   7.3224498568   5.1178732104   0.0347191239   0.1703898164   0.0683855109   0.6674549137   3.4542309362   3.2019171674   0.0080265488   0.0794669287   0.0553170926   0.0255190378   0.3063588392   0.4965930457   0.0000853655   0.0028923326   0.0004378207   0.0074783784   0.1545118751   0.3120684008\n",
      "\n",
      "  1.0000000000   5.2749470851   7.7218549303   4.1421233070   6.2678118907   0.7277265589   1.7726935227   1.0036327767   4.2165237720   3.0065559676   3.0460484053  13.2958300175  11.0991785516   0.0439611628   0.2908208543   0.4137250921   1.1701821935   6.1004096804   6.3867344618   0.4996020192   2.3578578440   1.7186702500   1.5325580966   7.7712005282   6.9945118189   0.0208096946   0.1480170187   0.2365241348   0.5868817513   3.6500132624   4.1425796398   0.0024455772   0.0645876105   0.0599427567   0.0076804843   0.2970005282   0.5068479450   0.0000597145   0.0008862523   0.0027957983   0.0026799984   0.1525866147   0.3215952872\n",
      "\n",
      "  1.0000000000   5.3899343403   7.3702609278   4.2115771431   5.8949254854   0.7223686982   1.6147693869   1.0326491835   3.8838155561   2.1948646849   3.2380810528  12.8413650244  10.1010222581   0.0369907828   0.1570492523   0.1758302053   1.2423396515   5.9224815704   6.0056247184   0.5226399876   2.1876417491   1.2186110470   1.6455229975   7.4143178361   6.2809208467   0.0178962143   0.0793444617   0.0887766408   0.6257708254   3.4663493623   3.8405223925   0.0027938342   0.0630934003   0.0569886218   0.0094493053   0.2911547232   0.5192045504   0.0000566889   0.0006990471   0.0004070325   0.0034916473   0.1494558419   0.3276333027\n",
      "\n",
      "  6.0000000000   6.6535573562   6.1850750301   5.4474601503   5.0498269531   1.6370758864   1.7317611422   2.9595474651   7.1136601636   2.5827822242   6.2595135027  13.6403451777   7.4556562201   0.2783218453   1.7884676564   0.2300037648   2.1487923543   6.4362260814   3.7477635045   1.8073201189   4.6175051648   1.7432938000   3.6841088124   8.4059562086   4.9234378274   0.1574192654   1.2103151193   0.1710355392   1.2275087839   4.0477463193   2.5141699688   0.0821099479   0.4038882004   0.1478392665   0.1084468561   0.6465955098   0.3788258415   0.0038392839   0.0974535155   0.0233132963   0.0211631378   0.3655745225   0.2154914611\n",
      "\n",
      "  6.0000000000   6.4909114159   5.9594718728   5.3247702169   4.8791983085   1.6357458833   1.7072865609   2.8983649425   6.9077053859   2.4261216880   5.9732007074  12.5343798664   7.0066348302   0.2621840261   1.7529011802   0.2060990128   1.8139189600   6.0027974011   3.5623223292   1.7877784780   4.5084225555   1.6540297044   3.5382703382   7.7630479435   4.6658142088   0.1459542579   1.1895620012   0.1535409063   1.0204336010   3.8133065973   2.4001766544   0.0854797541   0.4174284560   0.1500172550   0.1135652790   0.6407580578   0.3628040797   0.0036705082   0.1000680196   0.0220118919   0.0183778886   0.3685112971   0.2021854871\n",
      "\n",
      "  6.0000000000   7.0091861357   6.1819531523   5.7786821972   5.0873422796   1.7487045464   1.8080125820   3.3345814250   7.7468480307   2.7062417448   7.7175190626  14.2797067705   7.4395332259   0.2927450857   2.0596668111   0.2962750648   2.6272397680   6.8859881179   3.7750638075   2.0313030610   5.0266730308   1.8519887670   4.6977803855   8.8868526214   5.0044530685   0.1610475468   1.3839202316   0.2182052782   1.5914626692   4.4045617712   2.5689331351   0.0984914369   0.4672622360   0.1668381081   0.1769332564   0.7190436626   0.4190681844   0.0036010780   0.1084131345   0.0298391953   0.0470753633   0.4041245636   0.2358954572\n",
      "\n",
      "  6.0000000000   7.0434311902   6.2019583352   5.8017990174   5.0590878153   1.7362998197   1.7273267739   3.3971500911   7.5568521756   2.4910149360   7.7215519123  14.2226205754   7.3239058463   0.2668469946   1.8658987997   0.1994746411   2.7252944623   6.8595559723   3.7597742017   2.0641586809   4.8798609103   1.6806608023   4.6819833239   8.7423647120   4.8346463470   0.1490134271   1.2610054782   0.1424994312   1.6620948029   4.3322351827   2.5127943414   0.0849760920   0.4190059856   0.1532262490   0.1641881380   0.6200224182   0.3744651164   0.0036085067   0.1087357758   0.0197579886   0.0567557276   0.3622381385   0.2118567533\n",
      "\n",
      "  6.0000000000   6.3188069271   6.8738202880   5.0889720703   5.6412515887   1.4516249811   1.8841517794   2.2661738880   7.1868407961   3.2274864884   5.1711655133  13.8023342033   9.5735124875   0.1470144153   1.6995116243   0.3741445402   1.9169409042   6.5141514579   4.9517538543   1.3451113155   4.6583985730   2.1148123120   2.9317737819   8.2420728665   6.3325530938   0.0797236457   1.1444199039   0.2537218576   1.0577848505   3.9183480886   3.3529407360   0.0512321948   0.4311670803   0.1591520558   0.0772190583   0.4614701520   0.4767160254   0.0017895737   0.1051751345   0.0223636103   0.0181150611   0.2234044233   0.2815000168\n",
      "\n",
      "  6.0000000000   5.9726926132   6.7588412086   4.8085763747   5.5572016727   1.3790047007   1.8987129380   2.0087931715   6.7191938312   3.2083218392   4.5158627244  12.6912999041   9.2993996764   0.1497781763   1.6217620428   0.4355639889   1.4749137738   5.9511103994   4.8513192391   1.1931266675   4.3625712034   2.1236758937   2.5369824787   7.6382517821   6.2246264993   0.0780147642   1.0857533880   0.2998041539   0.7753405495   3.6068686144   3.3116115032   0.0521993896   0.4074828260   0.1618535449   0.0699800463   0.4830077387   0.4886355035   0.0018556108   0.0898389106   0.0266408796   0.0096672016   0.2330308614   0.2856499907\n",
      "\n",
      "  6.0000000000   6.4169665244   7.0289135458   5.2086306093   5.7805728141   1.5179458247   1.9538748325   2.3975955359   7.5312739231   3.3370783111   6.0656660272  14.1838098237   9.7227548835   0.1598735580   1.9268302457   0.4558123480   2.2546346819   6.5867013743   5.1164383613   1.4278366756   4.8728378617   2.2113623511   3.5922153568   8.5389820290   6.5012953625   0.0839657640   1.2838316482   0.3117520446   1.3216037681   3.9919978861   3.4832976389   0.0734782599   0.4511727557   0.1773642521   0.1497125891   0.5479359196   0.5186893714   0.0017283211   0.1035852595   0.0291986868   0.0460307290   0.2620854108   0.3032796069\n",
      "\n",
      "  6.0000000000   6.6301203402   6.8637565515   5.3302720999   5.6314161625   1.4151260366   1.8834767320   2.3420070393   7.0394585853   3.2203944063   6.0520067328  14.2623216248   9.5034927938   0.1730911523   1.6543622638   0.4033803271   2.4284911911   6.7219352265   4.9138328852   1.3388455802   4.4875695704   2.1141594349   3.4214449157   8.4511144405   6.2987323909   0.0965726672   1.1046373906   0.2753754054   1.3982883220   4.0250033978   3.3255502492   0.0382810590   0.3845934877   0.1562144062   0.0816657813   0.4521388726   0.4784373450   0.0027105237   0.0941539457   0.0241324024   0.0376102533   0.2255992486   0.2782420263\n",
      "\n",
      "  6.0000000000   5.9827878719   8.0322620062   4.7279214460   6.8593378164   0.9337811738   2.7132782876   1.4958453243   6.9435720222   7.0421619699   4.1169090022  18.0645450796  12.5116401239   0.0435005192   0.9279738272   1.5070028113   1.4136466633   8.9976106425   5.3246605130   0.7988265075   4.1112755584   4.7879139084   2.1831907879  11.1707068854   8.6842178881   0.0205791782   0.5487292280   1.0008307658   0.7290611109   5.7743460448   3.8321156036   0.0111216894   0.1154661401   0.3837347337   0.0269239855   0.6195751238   0.7303819287   0.0000949415   0.0120497343   0.0716982360   0.0065918776   0.4194164409   0.3842188682\n",
      "\n",
      "  6.0000000000   5.4560441293   7.7359156172   4.3261456597   6.6535160549   0.8613948917   2.7053705367   1.2179707961   6.2097631078   6.8065923156   3.3247042412  16.1841032263  11.8446549371   0.0385184394   0.9080275743   1.5252849668   1.0758990467   8.2522898438   5.0857297419   0.6483247322   3.6719414775   4.6635049616   1.7780990096  10.1300356258   8.3874766579   0.0175098193   0.5366859869   1.0096242126   0.5591962996   5.3818700195   3.7400934294   0.0102842348   0.1066149857   0.3730309377   0.0262937731   0.5934531970   0.7533817817   0.0000543034   0.0111702974   0.0687460344   0.0059675320   0.3995311498   0.4018701965\n",
      "\n",
      "  6.0000000000   5.5715370712   7.7612189226   4.3936143929   6.6375280156   0.8860292671   2.6905993663   1.2580353511   6.2474339378   6.6152414690   3.4929892672  15.9905828302  11.7090660922   0.0396181099   0.9094976418   1.5422609522   1.3133529248   8.2514366898   5.1306189877   0.6657742034   3.7228223789   4.5677809660   1.8482438284   9.9598386052   8.2851143334   0.0190736154   0.5417265471   1.0253520327   0.6842473136   5.3442228109   3.7480415044   0.0109127162   0.1161972586   0.3826440432   0.0273590098   0.6203357005   0.7491871362   0.0000943697   0.0121345691   0.0718723705   0.0071098650   0.4191885494   0.3980479134\n",
      "\n",
      "  6.0000000000   5.9601638995   7.9873823867   4.7103542615   6.8336990739   0.9158905261   2.6961233774   1.4726527402   6.7864440557   6.9381650899   4.2212642085  17.7498320683  12.4001135178   0.0437508269   0.9440369775   1.4976725246   1.5268896430   8.8158328433   5.3283457700   0.7794435459   3.9958099890   4.6999706702   2.2509371701  10.9410632916   8.6677331861   0.0209032527   0.5543943755   0.9859794467   0.8046213509   5.6302045507   3.8667647388   0.0107516980   0.1102096078   0.3542225262   0.0287784145   0.5885722061   0.7366246420   0.0000785755   0.0113059419   0.0644699551   0.0077743079   0.3899681778   0.3944334538\n",
      "\n",
      "  6.0000000000   5.6707233978   7.5609630089   4.5920213673   6.1499181863   1.3875282924   1.9395300681   1.9763156704   7.1208487892   3.4722215227   3.9193616114  13.6714462911  10.3364196011   0.1428449652   1.6296851899   0.4609367692   1.1687425443   6.1884115135   5.4715783519   1.1956368300   4.5968699941   2.2416722635   2.2167985680   8.1526875720   6.6698101222   0.0759631756   1.0953312334   0.3129319041   0.5997692138   3.7175712934   3.5840272031   0.0530982407   0.4151554021   0.1645334522   0.0663443207   0.4800217828   0.4808848331   0.0017767540   0.0910473548   0.0287244340   0.0069288766   0.2261120517   0.2809001548\n",
      "\n",
      "  6.0000000000   6.0614735884   8.4295496644   4.8761979134   6.8938316065   1.4046924480   2.0909835998   2.1178115483   7.8704580727   4.3523472114   4.6995552631  16.8432413019  12.4129278396   0.1280634101   1.6992586922   0.5601459551   1.5296615138   7.9606892623   6.4909569121   1.2687619882   5.0144172601   2.7165648719   2.6555947965  10.0043038672   7.8604277306   0.0685231314   1.1416989709   0.3640865584   0.8012387918   4.7895831471   4.2066565807   0.0554226255   0.4392280934   0.1802341542   0.0772973722   0.5208078184   0.5158212822   0.0013756540   0.0987857002   0.0304342964   0.0090596765   0.2495321432   0.3044866732\n",
      "\n",
      "  6.0000000000   5.7023833792   7.5846144444   4.6098273175   6.1769224008   1.4014384094   1.9570472423   1.9907781731   7.2479403710   3.5873785667   3.8854701559  13.8718002472  10.7413079548   0.1562896019   1.6999532797   0.4478057805   1.1355370066   6.2822373324   5.6186812206   1.2056279167   4.7132484591   2.3102156607   2.1995684552   8.2808483883   6.9409935420   0.0869692637   1.1488289026   0.3042448384   0.5841352892   3.7624442144   3.7033992786   0.0546478703   0.4530388265   0.1685767080   0.0689560347   0.4914977278   0.5071266019   0.0020460578   0.1034033724   0.0273758237   0.0068049759   0.2262603342   0.2994520569\n",
      "\n",
      "  6.0000000000   5.5306070211   7.7828446212   4.4493456231   6.3212821938   1.3423485601   1.9513214506   1.7910668679   6.8954558494   3.5622414183   3.5778597244  13.8124132419  10.8122943884   0.1293597488   1.6257841101   0.4627346242   1.1435733720   6.5963620550   5.7762006745   1.0772105976   4.4784504307   2.2764735640   1.9911645119   8.2088145002   6.9273023040   0.0693049015   1.1041373939   0.3111813445   0.5834989353   3.9644936390   3.7653103959   0.0470880717   0.4476506406   0.1608854766   0.0544027122   0.4793092376   0.4848574384   0.0019500816   0.0997407208   0.0281101262   0.0057402234   0.2284753340   0.2868233779\n",
      "\n",
      "  6.0000000000   6.3490349312   6.5112235890   5.1856431754   5.2465857457   1.5472422596   1.6867902246   2.6660182974   6.7614843695   2.4626157379   5.4705457312  12.9832020243   7.6554502815   0.2312688024   1.6648133754   0.1806693806   1.7605399572   6.0675350869   3.9582457391   1.6169347510   4.3471549782   1.6378420003   3.1517233928   7.8275713798   4.9244883657   0.1279138930   1.1366512717   0.1321028836   0.9632750945   3.7645338029   2.5754100954   0.0695692040   0.3892060578   0.1408087408   0.0808100323   0.5736348753   0.3484207782   0.0032028107   0.1009558314   0.0184565380   0.0110131385   0.3307502999   0.1972502961\n",
      "\n",
      "  6.0000000000   6.6688012967   7.1888441942   5.4652399605   5.7874749641   1.7140534249   1.8460872324   3.1301702761   7.9397483681   3.0653781538   6.5799665375  15.0928776054   8.9646803399   0.2812732208   1.9875519086   0.3289977053   2.0020933182   6.9029516560   4.5098276174   1.9567584739   5.1463198013   2.0247684620   3.9599438898   9.1764800861   5.6705360592   0.1572112981   1.3418531113   0.2432364404   1.1208277125   4.2644852781   2.8806261559   0.1073448619   0.4523597824   0.1724688691   0.1628803936   0.7113021540   0.4130787531   0.0030561195   0.0987585539   0.0342525623   0.0237618998   0.3862111741   0.2299345571\n",
      "\n",
      "  6.0000000000   6.3431898845   6.6395312520   5.1578885319   5.3541619728   1.5919626223   1.7542414267   2.7284381102   7.0513815850   2.7094034867   5.2280085129  13.2067555620   8.1046445232   0.2386140683   1.7251680044   0.2303161653   1.6441273496   6.2081839078   4.1292323818   1.6890370077   4.6059005460   1.8082150492   2.9801905762   8.0305490281   5.2168654576   0.1365141574   1.1819828629   0.1736420224   0.8586758171   3.8505869035   2.6870276739   0.0815045873   0.4261983754   0.1551008652   0.0890380486   0.6368147652   0.3890351335   0.0036329661   0.1006561200   0.0247278448   0.0082903087   0.3601646207   0.2196842666\n",
      "\n",
      "  6.0000000000   6.2739886272   6.4718943131   5.1325171992   5.2390986337   1.6003147588   1.7278443136   2.7119009570   6.9482517121   2.5665403058   5.4401991263  13.0194933660   7.5968469039   0.2391505627   1.6816251009   0.2226646466   1.7000045027   6.2471671340   3.8806886853   1.6802206445   4.5198074314   1.7194123777   3.2137191059   7.9867117190   4.9380625839   0.1335502126   1.1478249806   0.1640329953   0.9436916104   3.9434443951   2.5495945255   0.0813613571   0.4149327543   0.1467196901   0.1042897865   0.6421806083   0.3716624394   0.0036615024   0.0981642780   0.0222473555   0.0170145435   0.3800973829   0.2103162640\n",
      "\n",
      "  1.0000000000   5.6742110860   6.7321449444   4.5427897036   5.4427765565   0.9486790586   1.5719325270   1.4578792102   4.6302844211   1.8523749799   3.8680101426  13.3732450849   7.9477776632   0.0870312944   0.4446905317   0.2553864172   1.4118800814   6.3035468177   4.9557603250   0.7807523813   2.6958401997   1.0498608676   2.1103750630   7.9786209078   5.0932573871   0.0422102908   0.2635904258   0.1346474436   0.7640277932   3.8505835757   3.2371013153   0.0076132812   0.0740081417   0.0484537877   0.0235916407   0.2978216079   0.4501352675   0.0001274901   0.0056037494   0.0007993891   0.0082886887   0.1586040082   0.2883380460\n",
      "\n",
      "  1.0000000000   5.8000159777   6.6612311669   4.6385810275   5.3800450481   0.9454246960   1.5767887265   1.5092176298   4.6716535821   1.7730483930   4.0811574750  13.1845518368   7.8971447891   0.0877619368   0.3650569886   0.2576536242   1.4320920894   6.1499279279   4.9435245795   0.8012172677   2.7140820301   1.0108152829   2.2034781854   7.8170576480   5.0819010615   0.0420090585   0.2075637782   0.1373858995   0.7627040250   3.7293231285   3.2402685672   0.0074799869   0.0783420078   0.0511372456   0.0221397870   0.2956183039   0.4724763443   0.0001090933   0.0035642109   0.0010496267   0.0066756404   0.1545472696   0.3012807645\n",
      "\n",
      "  1.0000000000   6.3480185095   6.9817704358   5.1738008254   5.7146161421   1.2641407846   1.8069628602   2.2682197862   6.5716145492   2.4444071440   5.4546338413  15.8086661412   9.0210964072   0.2032562022   0.7079152002   0.6010537876   1.7908982816   6.9351588624   5.5681801143   1.2769903203   3.9887305081   1.4573728417   3.1455147652   9.7211510746   5.9251871569   0.1030808467   0.4320836385   0.3563736384   1.0134398502   4.3633554323   3.7216589774   0.0230113825   0.1424944133   0.0743082230   0.0708828140   0.4608234380   0.5677186609   0.0004236687   0.0128357299   0.0062602726   0.0212946033   0.2383529361   0.3499531079\n",
      "\n",
      "  1.0000000000   6.2543981199   6.8718873102   5.1023251811   5.5932656526   1.2950509565   1.6583401499   2.3465674040   6.2679396075   2.1581872640   5.1150923630  15.4435753467   8.2594060880   0.1690196110   0.9573437696   0.3111440751   1.6007031539   7.1913644548   5.2079833239   1.3474673450   3.7991160003   1.2358111065   2.9285061538   9.4343421491   5.3165424681   0.0863138654   0.6308849706   0.1716142312   0.8779446763   4.5276611061   3.4194386662   0.0261463120   0.1296266904   0.0496382551   0.0597050990   0.3741533689   0.4707394731   0.0004750460   0.0308061105   0.0016410195   0.0133515622   0.2078973052   0.3108621329\n",
      "\n",
      "  1.0000000000   5.4558339843   7.3153007479   4.3207529998   5.9062162324   0.8677617810   1.7180431042   1.2871140443   4.6438465831   2.3152290771   3.3530840752  12.9418554938   9.7664518308   0.0659516888   0.7117275275   0.3064294096   1.1868153271   6.0584222078   5.8700934504   0.6782466720   2.6828862503   1.3360985141   1.7495621417   7.5580701929   6.2497514954   0.0320414285   0.4326767590   0.1694212546   0.5995251704   3.6089303260   3.8298158521   0.0059365340   0.0692079071   0.0638115087   0.0152727385   0.2505726392   0.5391798837   0.0001102914   0.0103789541   0.0017091786   0.0040096824   0.1343871015   0.3368703049\n",
      "\n",
      "  1.0000000000   5.1533319576   7.4898036284   4.0398648296   6.0224826299   0.7084077134   1.6582902218   0.9744827086   3.9512722484   2.2427724726   2.9120175456  12.0182880068  10.1751115440   0.0515362343   0.3063976115   0.2156048111   1.1136339847   5.6171767475   5.9931398582   0.4834299196   2.2114247654   1.2720946295   1.4684572951   6.8467406005   6.4437672692   0.0237991325   0.1620465659   0.1051640182   0.5578918220   3.2500442992   3.8660512125   0.0021435697   0.0562770041   0.0641042816   0.0074797979   0.2136711434   0.5248817966   0.0000398278   0.0016343304   0.0003371624   0.0027299301   0.1072486571   0.3203567974\n",
      "\n",
      "  1.0000000000   5.6513868893   7.8837212055   4.5376101712   6.3968592660   1.0446668362   1.7907625041   1.5696810074   5.6163149132   2.8059861732   4.1828853693  14.6852453746  11.1669405208   0.1341410754   0.7690975407   0.3256645705   1.4504135033   6.7858050148   6.5739710978   0.8651516914   3.3054010439   1.5902324390   2.3367066215   8.6778188401   7.0746730137   0.0693729469   0.4648325885   0.1711292245   0.7874442537   4.1147471670   4.2545158665   0.0166033850   0.1221599049   0.0681010354   0.0451474755   0.3329182098   0.5643183823   0.0003294029   0.0181922379   0.0010330461   0.0111645336   0.1719497950   0.3497275625\n",
      "\n",
      "  1.0000000000   5.6989326945   7.5261568520   4.5151026024   6.0489649022   0.9236977532   1.6865465521   1.4085932514   4.9593100708   2.4087839252   3.9130954906  13.4417971172  10.0701563579   0.0681251875   0.8301388731   0.2171091440   1.4626430389   6.4908531355   5.9010831563   0.7511438876   2.8540224634   1.3788920757   2.0735881630   7.6775356148   6.3643688697   0.0352862316   0.5280662661   0.1131033210   0.7629834566   3.8212879573   3.8081025277   0.0067288415   0.0753098587   0.0656637389   0.0183302051   0.2104506753   0.5105221361   0.0002548382   0.0225835137   0.0007916762   0.0059206109   0.1258294600   0.3127597867\n",
      "\n",
      "  1.0000000000   4.5667922799   8.5987826460   3.5516362905   6.9838740049   0.6113437390   1.8872841854   0.6801071301   4.0719874286   3.4685457530   2.0196771315  12.4375490093  13.3777341371   0.0365873369   0.2328142060   0.5102629068   0.7846758363   5.5501607165   7.7214825431   0.3317958550   2.2590928025   1.9540086498   0.9815615712   7.1189813053   8.3454408373   0.0170042809   0.1195111404   0.2756826380   0.3759714685   3.2403465821   4.9310701564   0.0012745938   0.0550316238   0.0683005683   0.0035891917   0.2169529725   0.5536454181   0.0000289223   0.0010046197   0.0020935085   0.0011450643   0.1066928963   0.3429119553\n",
      "\n",
      "  1.0000000000   5.0133384726   9.8221660256   3.9149321489   8.1570569517   0.6627494551   2.3986607983   0.8538066840   5.5993433399   6.3656586151   2.7981517860  16.4110297970  18.0837010212   0.0336855655   0.3740363985   1.2172020693   1.1180351987   7.2679808036   9.4276429930   0.4258129019   3.1006449098   3.7539930320   1.4259780487   9.5636102670  11.5569691598   0.0149733866   0.1896240571   0.7191468905   0.5661384594   4.3701136384   6.2022091696   0.0025074399   0.0630145902   0.1081113472   0.0095237284   0.2742213731   0.7077799081   0.0000194765   0.0009735435   0.0111312713   0.0034138334   0.1421501554   0.4325398558\n",
      "\n",
      "  1.0000000000   4.5764741666   8.4612160277   3.5499472709   6.8351254898   0.6010683692   1.8437460710   0.6662252689   3.8423855735   3.1406720861   2.0618616987  12.0570348135  12.8636604168   0.0363163748   0.2188417607   0.3747603771   0.7810696242   5.5607927544   7.4811914309   0.3270115636   2.1246007906   1.7524264754   1.0150432493   6.8571810866   7.9954227002   0.0165812938   0.1126636715   0.1934167039   0.3773211553   3.2244366941   4.7588664768   0.0015550056   0.0551167139   0.0708841790   0.0047935637   0.2212601398   0.5827900837   0.0000239630   0.0010290724   0.0009033002   0.0014869140   0.1105474969   0.3572612915\n",
      "\n",
      "  1.0000000000   4.3715516528   9.1631903954   3.3303706321   7.5060139481   0.5039903491   2.1155522151   0.4999056534   3.8877389874   4.4947328213   1.7468208492  12.3540187915  15.5394659489   0.0236087814   0.2145502775   0.9485343517   0.7600680693   5.6041971776   8.7297772381   0.2312073383   2.1240775587   2.5732495309   0.8102097518   6.9547148379   9.7832788941   0.0105564835   0.1088734603   0.5464426413   0.3515406413   3.2156871459   5.6440836849   0.0005587751   0.0472890758   0.0892123746   0.0019950734   0.1971096897   0.6476927040   0.0000122875   0.0008387201   0.0076840819   0.0007945480   0.1004316924   0.3923783584\n",
      "\n",
      "  1.0000000000   5.6256017085   7.1695856863   4.4322881086   5.7329821903   0.7581941015   1.5572272431   1.1530576204   4.0694647828   1.9956285633   3.7789872506  12.9468584180   8.7776143334   0.0424458928   0.2712311775   0.1943981005   1.5222438950   6.0056037086   5.3868861239   0.5783265453   2.2617303090   1.1011329261   1.9836095777   7.4112097625   5.4691631108   0.0193132669   0.1420673090   0.1028713111   0.8117288574   3.5147825450   3.4479862340   0.0032117333   0.0515936953   0.0448643217   0.0155573114   0.2335287143   0.4434572011   0.0000343986   0.0010928175   0.0006526721   0.0071680783   0.1216010116   0.2902348679\n",
      "\n",
      "  1.0000000000   5.9690688018   7.9683433170   4.7482996426   6.3658851833   1.0045786301   1.6573760420   1.6133632665   5.2125801285   2.5883872502   4.5604580124  15.5574482474  10.8319462916   0.0952825875   0.2785578165   0.1794979581   1.6879650843   7.0032529286   6.2643209173   0.8768397710   3.0390023924   1.4218129421   2.4936116329   9.0999737047   6.6206521201   0.0484666110   0.1499681955   0.0899835954   0.9045480619   4.1386084024   3.9496450464   0.0126225172   0.1082618979   0.0570260696   0.0389459017   0.3684737863   0.5055445473   0.0002168372   0.0023663912   0.0004110312   0.0118394044   0.1738658184   0.3172179564\n",
      "\n",
      "  1.0000000000   5.5800543461   7.2000523990   4.3820665920   5.7538104952   0.7692729853   1.5734700735   1.1670312900   4.0264359034   1.9847280359   3.6316495841  12.7902095615   9.0914497544   0.0452617957   0.2325448741   0.1888304065   1.4008562961   5.9551403077   5.5476304288   0.5929546762   2.2599246252   1.0957839053   1.8581823519   7.3601057446   5.6840073977   0.0208341644   0.1199034147   0.0969468190   0.7107760518   3.4856149156   3.5588564997   0.0032199889   0.0614421613   0.0506670022   0.0104684611   0.2656466219   0.4788731231   0.0000528577   0.0010509449   0.0004325850   0.0037491698   0.1352149167   0.3057237882\n",
      "\n",
      "  1.0000000000   5.7053375341   7.2011353526   4.5374681664   5.7919395535   0.8909783823   1.6159791051   1.3940587777   4.6651558684   2.1299171128   3.9688064007  13.7607997417   8.8854509511   0.0712870130   0.3382302714   0.2085226355   1.4677902768   6.3954617117   5.3180464052   0.7312276808   2.6837533863   1.1921010955   2.1304601898   8.0549765693   5.5997557927   0.0340700395   0.1868471248   0.1083024832   0.7836944923   3.8284282574   3.4368037156   0.0069809452   0.0742684349   0.0528852792   0.0245073713   0.2851028546   0.4777970041   0.0000903139   0.0034072304   0.0005930636   0.0088609995   0.1510965095   0.3011086304\n",
      "\n",
      "  6.0000000000   6.1785778715   5.8537067024   5.0464354500   4.7799911957   1.5405192250   1.6992340214   2.5022448677   6.4147123324   2.3821817098   5.1028298658  11.4800257140   6.9832303007   0.2229352638   1.7103714775   0.2084564894   1.7431628839   5.7248742411   3.5863691045   1.5222035001   4.2056354006   1.6371056022   2.9708131460   7.1008730474   4.6438443969   0.1242789752   1.1706629604   0.1599600598   0.9930661821   3.6370599821   2.4070600309   0.0709269157   0.4159708457   0.1517304086   0.0894664915   0.6077011698   0.3618532839   0.0033268940   0.1037110134   0.0237629132   0.0194500078   0.3559260336   0.2022107429\n",
      "\n",
      "  6.0000000000   6.1785053482   5.7394197646   5.0474887858   4.7290507298   1.5548084310   1.7277525281   2.5250277936   6.5164432495   2.5099722850   5.0763959371  11.7634053670   7.0667632202   0.2525421654   1.7115705432   0.2682253005   1.6274107013   5.6226608240   3.5569044336   1.5460988459   4.3083136288   1.7291544760   2.9579075443   7.3814028894   4.7325305987   0.1418219860   1.1592123520   0.2053148982   0.8993269563   3.6088073067   2.4094185548   0.0759118660   0.4182369054   0.1499352716   0.0980627341   0.6363970300   0.3758462261   0.0030259777   0.0916363523   0.0280883074   0.0139549202   0.3624815789   0.2102773734\n",
      "\n",
      "  6.0000000000   6.4644850906   6.2356199643   5.3102090337   5.0858133534   1.6339147185   1.7381198331   2.9810048386   7.1107321654   2.7323320645   5.6742378196  13.3984088297   7.8962049914   0.3152481667   1.6544520588   0.2443862227   1.7823638197   6.2560263579   3.9622872809   1.8336206581   4.6355190799   1.8271925390   3.3118571076   8.3430245040   5.1544391986   0.1859271728   1.1137416069   0.1856602821   0.9988924243   3.9697835486   2.6249539389   0.0746869290   0.3947332755   0.1428841111   0.0892775834   0.6469145379   0.3840480565   0.0046639665   0.0843264287   0.0242940203   0.0159698575   0.3658865459   0.2201602588\n",
      "\n",
      "  6.0000000000   5.9661310181   5.5655112691   4.8457778902   4.5932499651   1.4606610905   1.7000008109   2.2049002412   5.9579489634   2.3595572979   4.4625133912  10.7988039834   6.7915559350   0.2225003931   1.6654740734   0.2231277806   1.4511982224   5.4263222039   3.4637481463   1.3336742355   3.9391475546   1.6387590601   2.5223202688   6.7658919660   4.5860815353   0.1243138410   1.1400167351   0.1726072046   0.7817035704   3.5012424326   2.3673467955   0.0670224966   0.4065197099   0.1491941374   0.0720292741   0.6223596296   0.3687486428   0.0033373434   0.0970013404   0.0248897241   0.0083291513   0.3670321232   0.2081673738\n",
      "\n",
      "  6.0000000000   5.7829947741   6.4257502792   4.6519721392   5.3181375101   1.3293807132   1.8745050901   1.8748281733   6.4049491559   3.1229108277   4.0175623531  11.8971439920   9.0916436950   0.1381185618   1.5753515959   0.4115219479   1.3324301736   5.5570877445   4.7606245718   1.1045409905   4.1718754079   2.0793174589   2.2278397012   7.2432189000   6.1323567994   0.0736246151   1.0548194488   0.2863420922   0.6959474610   3.4221838700   3.2787085772   0.0411855364   0.3856847045   0.1563275463   0.0525279166   0.4545525504   0.4862481194   0.0017283341   0.0867434943   0.0260014369   0.0073202179   0.2282579212   0.2887505714\n",
      "\n",
      "  6.0000000000   6.1542909910   6.9633707030   4.9889022619   5.7241485589   1.4436426450   1.8821029096   2.1844375609   7.0746598359   3.2388556430   5.1989416149  13.6545659454   9.7170165555   0.1398807256   1.7304282671   0.3669373855   1.8430543295   6.3489374850   5.0773753991   1.3007927262   4.5675350539   2.1027168298   3.0356582038   8.1525470254   6.3811791852   0.0741534129   1.1600378277   0.2449887736   1.0665272057   3.8164334254   3.4197105060   0.0575473469   0.4154399493   0.1579756251   0.0994792478   0.4672114233   0.4644951396   0.0015214352   0.1051732895   0.0214804533   0.0275199545   0.2280072729   0.2770170578\n",
      "\n",
      "  6.0000000000   6.1005417382   6.8050273499   4.9249435320   5.6124710440   1.4310305984   1.9038349829   2.2144498621   7.1294299192   3.3924852185   4.6023171716  13.5209188967   9.9185815283   0.1978185329   1.6221635603   0.3831133591   1.5355333435   6.1032874976   5.1348529165   1.3223464211   4.6526228124   2.2164811381   2.5758647501   8.1954694744   6.5513790768   0.1146648780   1.0892066430   0.2636930042   0.8117804881   3.7057511758   3.4732776547   0.0508138236   0.4295168929   0.1617906665   0.0631866110   0.4787237604   0.4781374889   0.0028588417   0.0981225268   0.0238998389   0.0084886847   0.2198499160   0.2827324444\n",
      "\n",
      "  6.0000000000   5.6658731412   6.8351620976   4.5881525996   5.6117875040   1.3889840668   1.8732839375   1.9233137605   6.6248412788   3.1692590611   3.9575654066  12.3934282202   9.2746183566   0.1519105647   1.6800758145   0.3920755846   1.2376055072   5.8320804927   4.8875991206   1.1617574850   4.3209602060   2.0781871842   2.2547262573   7.4977389164   6.1364298175   0.0819119648   1.1348970037   0.2697531539   0.6558636962   3.5521840956   3.3023488253   0.0591731570   0.4150447930   0.1570408830   0.0711666739   0.5014658890   0.4600193617   0.0023737456   0.0994840700   0.0253705722   0.0083901348   0.2447138591   0.2734776113\n",
      "\n",
      "  6.0000000000   5.4969687658   7.7667709794   4.3676356694   6.6575061144   0.9236364974   2.6743955120   1.3306781492   6.5266940984   6.6759654505   3.3702776228  16.0890963409  11.8976248547   0.0390843469   0.9085407288   1.4513322406   1.0593792229   8.0749899079   5.2071629076   0.7275977014   3.9190861230   4.5669446201   1.8072542131  10.0231320850   8.3672745905   0.0186218403   0.5444390650   0.9617428837   0.5439408313   5.2101231510   3.7945690063   0.0130064462   0.1248630892   0.3710694175   0.0272394904   0.5953843763   0.7250243775   0.0001188729   0.0127207213   0.0680126474   0.0051316317   0.3865019391   0.3896955170\n",
      "\n",
      "  6.0000000000   5.9251529098   8.2401594958   4.6600273675   7.0145582899   0.8687196660   2.7173656152   1.3726149055   6.5725949205   7.0469593798   3.9772354957  18.0802228879  12.7495202825   0.0414648276   0.8537698399   1.5446232525   1.4553229309   9.2561471221   5.4857220470   0.7145876406   3.8351361839   4.7715327653   2.0627076355  11.0655710698   8.7979259522   0.0195141004   0.4963175778   1.0229331562   0.7436194390   5.8945784497   3.9230258178   0.0077049084   0.0954748820   0.3774011782   0.0193779916   0.5718545718   0.7445594694   0.0000798049   0.0093506907   0.0711440591   0.0054899778   0.4022395265   0.3975390084\n",
      "\n",
      "  6.0000000000   5.8666218573   8.0067499502   4.6546980449   6.8536963716   0.9503412653   2.7234688142   1.4833770336   6.9563254835   7.1364868708   3.8704504573  18.0572938689  12.6175081158   0.0549592483   0.9506478892   1.5608417801   1.2897129268   8.9561296423   5.3763357053   0.7929715361   4.1417440137   4.8472954488   2.0489210227  11.2761505502   8.7649505764   0.0265346027   0.5597715579   1.0368459480   0.6632431411   5.8027980351   3.8769659880   0.0107728590   0.1218339197   0.3857666255   0.0243451596   0.6528652501   0.7393139672   0.0001245843   0.0115679836   0.0733262962   0.0056514677   0.4383374518   0.3916272387\n",
      "\n",
      "  6.0000000000   5.4237104387   7.9663326793   4.3079468359   6.7793549015   0.9125248305   2.6570506638   1.2715830350   6.3913334707   6.6075980789   3.2645923193  16.1624161451  12.0482452518   0.0387203201   0.9439895722   1.4621225509   1.0629276221   8.2735232583   5.2936638172   0.6931051105   3.8191490046   4.5044279450   1.7496973431  10.0389350272   8.3943795327   0.0182433347   0.5691793439   0.9701874844   0.5477973333   5.3389830026   3.8228523987   0.0125481341   0.1225499977   0.3642753388   0.0260767469   0.6269592085   0.7168399937   0.0001159241   0.0146441207   0.0687960548   0.0050809725   0.4202589806   0.3877566130\n",
      "\n",
      "  6.0000000000   5.8604520599   7.8331263253   4.7490275216   6.3942037460   1.4294078709   1.9891231560   2.1496661430   7.5720618440   3.8450888785   4.2500018350  15.2223635188  11.3285063969   0.1515672223   1.6449463500   0.5126504813   1.2119924081   6.8232036719   5.8648012507   1.3038616079   4.8857468669   2.4474764715   2.4194256467   9.1244587495   7.2467153414   0.0826748185   1.1001860375   0.3450066218   0.6292631865   4.1063634970   3.8252391091   0.0591434484   0.4350888132   0.1612617129   0.0735599658   0.5231071328   0.4977184091   0.0020986398   0.0883212751   0.0294374641   0.0075136563   0.2437051477   0.2914924195\n",
      "\n",
      "  6.0000000000   5.2858124349   7.1330692926   4.2840640389   5.8200379694   1.3615665233   1.8961686016   1.7593333508   6.5755533937   3.2313066906   3.2484327505  12.0329809814   9.7013297218   0.1299638568   1.6375467463   0.4248200750   0.9068218543   5.6037030543   5.1774027528   1.0857237824   4.3147046976   2.1142710637   1.8643122111   7.2723480955   6.3541379069   0.0697338571   1.1062059277   0.2890431340   0.4625155891   3.4181356522   3.4399411496   0.0561718245   0.4226169274   0.1611688551   0.0688730447   0.4941984931   0.4710962376   0.0019827607   0.0973823226   0.0254452825   0.0068310680   0.2454575861   0.2753819987\n",
      "\n",
      "  6.0000000000   5.4374971433   7.4375005725   4.3676960887   6.0559936255   1.3353768985   1.9167224134   1.6897911566   6.5579946920   3.3419275321   3.4560190108  12.7646971310  10.1957004204   0.1450578749   1.6278696341   0.4424210566   1.1713866282   6.0481539537   5.5445713946   1.0215068707   4.2735813600   2.1593635022   1.9314983223   7.6491614451   6.5936559950   0.0787048915   1.1026715880   0.2975594611   0.6002442744   3.6744870663   3.6350650597   0.0534821543   0.4214433695   0.1588649306   0.0621139608   0.5099864894   0.4701301218   0.0024794785   0.0989617924   0.0257091058   0.0070437532   0.2643455565   0.2787369155\n",
      "\n",
      "  6.0000000000   5.9201997168   7.6246275741   4.8390881715   6.2131143696   1.5232386742   1.9120079261   2.3628067383   7.7414744274   3.5187705266   4.7879939732  14.7022024767  10.5222400814   0.1769041394   1.8052125270   0.3999331973   1.3344033556   6.5943627597   5.5386043742   1.4568058565   4.9812286440   2.2320036881   2.8627876653   8.8168213868   6.7388564671   0.0957701855   1.2079385633   0.2641251389   0.7302720403   3.9886169259   3.6127552792   0.0723765563   0.4285805450   0.1518890851   0.1183446929   0.5032800867   0.4545270295   0.0015665973   0.1008356315   0.0219857848   0.0166520187   0.2373445160   0.2659613129\n",
      "\n",
      "  6.0000000000   6.2229294852   6.8720825193   5.0907453895   5.5614690726   1.6268414149   1.7376176565   2.8492962697   7.2868215348   2.8373611849   4.9582285350  14.2339907403   8.7383357157   0.2564673326   1.6614151840   0.2147939133   1.4172402935   6.6957600343   4.4660679949   1.7832620564   4.7573253414   1.8344705148   2.8526793458   8.7115226742   5.5008174341   0.1490039178   1.1520542379   0.1495842764   0.7358530279   4.1976115606   2.8467582512   0.0838184219   0.4345858057   0.1394078247   0.0858815259   0.6307223440   0.3537310423   0.0045566587   0.1100496565   0.0184904869   0.0068534062   0.3633092476   0.2007314009\n",
      "\n",
      "  6.0000000000   5.7382620543   5.7497557027   4.6857721671   4.6956232945   1.4830888607   1.6856578652   2.2016840693   6.0528782712   2.3195002937   4.1344381526  10.4279272691   6.9327788662   0.2191825189   1.6680930369   0.2013196420   1.2494167415   5.0782335870   3.5787335676   1.3569761403   4.0120809710   1.6055535428   2.3914456552   6.5160496820   4.6295904484   0.1233825267   1.1449574111   0.1567984467   0.6774235267   3.2749030408   2.4149301264   0.0695303905   0.4175795986   0.1472893372   0.0740745907   0.6056603553   0.3681358819   0.0034289298   0.1025704089   0.0230092629   0.0086303278   0.3558495781   0.2091567059\n",
      "\n",
      "  6.0000000000   5.8941905255   6.0893566950   4.8317428886   4.9596821407   1.5491386349   1.6906158001   2.3733748875   6.4250854381   2.3816427555   4.7616151399  11.4861159331   7.1953955615   0.2264241222   1.7648232221   0.2076328476   1.4521812626   5.5655022330   3.7679807123   1.4764413441   4.2445136293   1.6172294745   2.8341795016   7.1398441909   4.7300422178   0.1256856029   1.2100799817   0.1533196666   0.8207896102   3.5724140288   2.4969413779   0.0792279138   0.4466470265   0.1404068406   0.0995385332   0.6103225368   0.3548989952   0.0036427406   0.1127110231   0.0206824424   0.0161169450   0.3527961003   0.2027171250\n",
      "\n",
      "  6.0000000000   6.0347266389   6.2046220033   4.9310411621   5.0189565189   1.5594631531   1.6873914285   2.5568475258   6.5258212631   2.4574292246   4.6878520202  12.1315434538   7.5175446072   0.2798674914   1.6713353557   0.1978902069   1.4080358158   5.7249245053   3.8535119471   1.5794981287   4.2933554707   1.6575405264   2.7000842578   7.5073731102   4.8721660137   0.1601059031   1.1497060974   0.1505196660   0.7455191524   3.6273125100   2.5219650761   0.0814699235   0.4083619816   0.1424778935   0.0921373700   0.6440634578   0.3545788883   0.0039084136   0.1002248320   0.0213609769   0.0088991927   0.3698155100   0.2004845359\n",
      "\n",
      "  1.0000000000   5.6282019368   6.2732567845   4.4820018097   5.0645780156   0.9381033262   1.5399479353   1.4667450340   4.3131315527   1.5173319019   3.5841725001  11.7698766619   7.1991813342   0.0861498284   0.6744066645   0.2330128998   1.2105817395   5.8372717939   4.5965775747   0.7783289262   2.5110655255   0.8714351778   1.8830509787   6.9809469139   4.7041736509   0.0432541104   0.4194606321   0.1229407083   0.6161536823   3.5545749939   3.0494844272   0.0067968942   0.0696168251   0.0509516269   0.0172453439   0.2764417445   0.4805991694   0.0001680377   0.0112184882   0.0007310155   0.0046576714   0.1557479494   0.3071931642\n",
      "\n",
      "  1.0000000000   5.2838514393   6.0462960697   4.2151736596   4.9076691195   0.8460121270   1.5338183383   1.1961750843   3.9057375164   1.4817609617   3.1253627693  11.0707475888   7.2042465621   0.0677868458   0.3827211015   0.1649848127   1.0777034811   5.2942490289   4.5273961503   0.6233034523   2.2796404137   0.8792558600   1.6599446740   6.6427923939   4.7637687868   0.0326339406   0.2210275987   0.0849432312   0.5662593707   3.2431616309   3.0202304538   0.0054241594   0.0696158653   0.0563782941   0.0170154289   0.2847139194   0.4865586483   0.0000779553   0.0032126004   0.0005125342   0.0053150155   0.1503886704   0.2991906154\n",
      "\n",
      "  1.0000000000   5.5980386402   6.2670480467   4.4979882676   5.0404545628   0.9351554056   1.4635013852   1.4789508843   4.2414950297   1.4498860092   3.6393264853  12.1786860593   7.2275179257   0.0849107278   0.4972841740   0.1433873498   1.1734073762   5.9770908930   4.5125572214   0.7853214512   2.4572346090   0.8237349395   1.9548468428   7.2228530297   4.6581438642   0.0410414791   0.3025130079   0.0714214421   0.6158045953   3.6302294652   2.9569411168   0.0060753493   0.0620443076   0.0461108689   0.0173889537   0.2540475866   0.4305143641   0.0001170762   0.0071868372   0.0002535672   0.0050732097   0.1397036348   0.2711510671\n",
      "\n",
      "  1.0000000000   5.1974082661   6.0589065856   4.0804615496   4.9156436021   0.7164553983   1.5552553873   0.9800118979   3.4619469073   1.4685430828   2.8780248354  10.3648562952   7.2549484733   0.0412696649   0.3403396667   0.3412262364   1.0174583977   5.0431413547   4.6827604437   0.4925441290   1.9588201899   0.8725431416   1.4574542587   6.1155806430   4.8031737404   0.0189065209   0.1921808769   0.1901871119   0.5082145717   3.0580175001   3.1327197653   0.0026605808   0.0520405510   0.0543075337   0.0080491053   0.2576592067   0.4857153859   0.0000403054   0.0023958595   0.0018078189   0.0024201432   0.1432372541   0.3053755885\n",
      "\n",
      "  1.0000000000   4.9555623230   6.6784301648   3.8454796925   5.3540262278   0.6135109278   1.5370726888   0.7804435116   3.1874308365   1.7080213807   2.4691459362  10.1481425328   8.7343225588   0.0336849160   0.2954993119   0.1119409713   0.9527718515   4.8603282296   5.2462909815   0.3734476974   1.7653334090   0.9892554124   1.2044901770   5.7564968529   5.6331407319   0.0150828421   0.1588760472   0.0537108023   0.4634408500   2.8001148247   3.4405755766   0.0012620304   0.0417977943   0.0574451617   0.0046326907   0.1711781921   0.4948740308   0.0000187150   0.0014071893   0.0001646065   0.0016886585   0.0887472182   0.3062378823\n",
      "\n",
      "  1.0000000000   5.4093496893   7.4167241214   4.3492969507   6.0192449582   0.9748417353   1.7254275368   1.4788496497   5.0662817094   2.5640229068   3.5042645698  13.4565485762  10.0631857631   0.0711931576   0.8325616742   0.2867488102   1.0378618289   6.3553630031   5.9651560892   0.8200677458   2.9695176438   1.4624729526   1.9260315066   7.9881831540   6.3787978833   0.0344521832   0.5204781555   0.1570119211   0.5419651855   3.8625760571   3.8705075434   0.0120022910   0.0856059005   0.0584116398   0.0272961074   0.2831746443   0.5128084710   0.0001731044   0.0175096529   0.0013733138   0.0055669526   0.1523352584   0.3268868915\n",
      "\n",
      "  1.0000000000   5.1166526646   6.9515442654   4.0386991099   5.5802354474   0.7281547362   1.5937665230   1.0127719805   3.7580803389   1.9254490916   2.7729162960  11.3637844303   9.2801394796   0.0461165357   0.3961971731   0.1364249136   0.9293914282   5.4700305849   5.5034894920   0.5124309018   2.1138821094   1.1024099379   1.4169092196   6.5359749205   5.9309182018   0.0206699147   0.2198910894   0.0672427599   0.4637988495   3.2027705277   3.5846634642   0.0030934191   0.0501845656   0.0594387744   0.0089981734   0.1982379890   0.5229579459   0.0000293254   0.0024037627   0.0002311076   0.0024493324   0.1014849821   0.3264854122\n",
      "\n",
      "  1.0000000000   4.9057093261   7.8316973858   3.8733306390   6.3350366732   0.7158545417   1.7471181867   0.9353690194   4.1313738902   2.7327120655   2.5673654176  12.5183693131  10.9414197767   0.0508775745   0.3439861773   0.3119498573   0.9059913712   5.9038763410   6.4514530797   0.4720225758   2.3211436312   1.5328083694   1.3113038898   7.2514098892   6.8548274176   0.0237295513   0.1863898582   0.1629551551   0.4571545656   3.5001475799   4.1388709554   0.0025626713   0.0576513340   0.0621995401   0.0074466327   0.2368283870   0.5250754697   0.0000462128   0.0021061617   0.0009430893   0.0023092548   0.1220305024   0.3292031876\n",
      "\n",
      "  1.0000000000   4.8664053278   9.0410583515   3.7831493938   7.3909123512   0.6404366427   2.0417312678   0.7799937165   4.6308681260   4.3148043212   2.4334835162  14.0637115761  15.1900464269   0.0410679337   0.2488891405   0.6364270942   0.9336779403   6.2984780285   8.3795027758   0.3827287578   2.5638192226   2.4672406056   1.1947461687   8.0312708842   9.5108399424   0.0188356032   0.1262347957   0.3476926958   0.4514728946   3.6728308679   5.3799905836   0.0017292097   0.0594139218   0.0839581438   0.0051591583   0.2409124906   0.6036430381   0.0000281286   0.0010881705   0.0029403488   0.0015993217   0.1217075025   0.3595007134\n",
      "\n",
      "  1.0000000000   4.1686984344   8.4078575400   3.1994755823   6.8173633717   0.5444547200   1.8364451160   0.5044902735   3.4454680840   3.1255405612   1.5442507904  10.7440860865  12.9232921703   0.0365751925   0.1576634853   0.5102089986   0.6309058945   4.8498444803   7.6075803681   0.2404546170   1.9187132228   1.7456576188   0.7212704683   6.1184264448   8.0426740909   0.0173069054   0.0799713312   0.2702564954   0.2887027920   2.8029295592   4.8381747980   0.0007621882   0.0556577785   0.0657489677   0.0019681787   0.2179806616   0.5515715019   0.0000314713   0.0008870017   0.0016759380   0.0005941144   0.1077479576   0.3434916876\n",
      "\n",
      "  1.0000000000   4.4024714024   8.8288585023   3.3955269069   7.1867137654   0.5688241125   1.9598224960   0.5901545161   3.8545325222   3.8292305828   1.8924980647  12.0516088932  14.1096746880   0.0355270900   0.2701358705   0.5936821215   0.8293890233   5.6067548982   8.1314271897   0.2814009436   2.1175783795   2.1604228452   0.9115669894   6.8718133410   8.7890085811   0.0165587032   0.1397114252   0.3288395590   0.4025712357   3.2847356247   5.1892279133   0.0008430944   0.0518517432   0.0735572208   0.0030114781   0.2235832570   0.5788790560   0.0000273715   0.0011548849   0.0032432037   0.0013636377   0.1187827959   0.3593738442\n",
      "\n",
      "  1.0000000000   5.0374513476   8.8551434500   3.9924542765   7.1886515314   0.8353513198   1.9256223845   1.0839138422   5.2465729213   3.7522287640   2.9281701246  14.6733346137  13.6940638204   0.0822246821   0.3095279476   0.5301961904   1.0687621805   6.4462762010   7.8403485563   0.5781458661   3.0187915084   2.0917240881   1.5513563591   8.5798618254   8.4356895540   0.0410000384   0.1649149776   0.2854612124   0.5505537889   3.8419424201   4.9586501868   0.0070792790   0.0962458223   0.0667551016   0.0174843787   0.3078605906   0.5404015941   0.0001300280   0.0027257324   0.0019751565   0.0043535883   0.1468393310   0.3349578325\n",
      "\n",
      "  1.0000000000   5.3147501104   7.7486217449   4.1416855492   6.3125450720   0.6727671413   1.8067697378   0.9532323931   4.1842160876   3.1151587076   3.0927669230  13.6093180713  11.6529275407   0.0280176532   0.1647235055   0.4848463044   1.1930055776   6.1513827153   6.6283877973   0.4740127937   2.3346626276   1.7849799630   1.5511936770   7.8648381463   7.3629824329   0.0130562933   0.0781884904   0.2691744898   0.5942766479   3.6135844625   4.3172817337   0.0021711571   0.0601630550   0.0611607709   0.0070128634   0.2626536537   0.5200704765   0.0000345794   0.0004415341   0.0022419540   0.0024229706   0.1311294484   0.3298627103\n",
      "\n",
      "  1.0000000000   4.9902350592   6.0786925545   3.9249741230   4.8699385556   0.7256325893   1.4665726506   0.9392471802   3.2934248438   1.2652087572   2.6133102465   9.7014513611   7.0476481664   0.0496108020   0.2500256944   0.0898741944   0.9429516638   4.7624104369   4.5035284041   0.4771088094   1.8900094727   0.7294902492   1.3336344593   5.6748435660   4.6020212702   0.0231291468   0.1426654847   0.0435848418   0.4715166022   2.8430879235   2.9773894498   0.0029943481   0.0528124507   0.0503650053   0.0090720822   0.2336472247   0.4814476855   0.0000449908   0.0022262414   0.0001319085   0.0027755703   0.1258260154   0.3060195007\n",
      "\n",
      "  1.0000000000   5.1521831355   6.6408657865   4.0675919594   5.3642698341   0.7905501531   1.6367142390   1.0373093168   3.9221453041   1.8453236711   3.0283920261  11.3898868243   8.1577218179   0.0590148494   0.2730086615   0.2024496119   1.0749729411   5.3531602934   5.0800668550   0.5446694748   2.2991698161   1.0775602528   1.6218430153   6.8087602234   5.2866659293   0.0276868987   0.1528931103   0.1109779972   0.5645842779   3.2709893084   3.3404257187   0.0064443989   0.0744046647   0.0599043025   0.0231995852   0.2944916993   0.5232911475   0.0000633579   0.0030556504   0.0010573230   0.0075826950   0.1569560346   0.3273436742\n",
      "\n",
      "  1.0000000000   5.1780898284   6.9655585890   4.0142571997   5.5713483553   0.6511954925   1.5394299898   0.8734306583   3.3599973269   1.8591968249   2.9475082486  11.2110887531   9.0730482352   0.0310976826   0.1375705306   0.1992440532   1.1659429351   5.1906303664   5.5337573922   0.4280309218   1.8685077338   1.0318959711   1.4734264093   6.4073428371   5.6640533830   0.0145002060   0.0675793374   0.0996529150   0.5815071240   3.0076732600   3.5357819643   0.0026602970   0.0585168171   0.0497839954   0.0102548414   0.2642269781   0.4621953381   0.0000322165   0.0004539654   0.0003648912   0.0036270062   0.1328731900   0.2926742115\n",
      "\n",
      "  6.0000000000   6.5713715476   6.0739182421   5.3692848184   4.9700556757   1.5721445362   1.7472385750   2.6933658780   6.7852392588   2.5888438781   6.2035564381  12.9405709102   7.3160366943   0.2366000119   1.7940483911   0.2600668551   2.1771914689   6.3902208441   3.6979654362   1.6190363913   4.4135587086   1.7629300537   3.6301707714   7.9505063108   4.8536688687   0.1302623685   1.2123766279   0.1981329913   1.2585285720   4.0376555189   2.4877549481   0.0714433522   0.4340488482   0.1560075260   0.0997999363   0.6368606266   0.3831394921   0.0032071745   0.1012519125   0.0281774122   0.0226371562   0.3712200546   0.2151200853\n",
      "\n",
      "  6.0000000000   6.3762343674   5.9360486328   5.2202422418   4.8559589199   1.6007423401   1.7516589484   2.7239316205   6.8393220425   2.5254865772   5.6636070312  11.8077923474   7.2496879562   0.2449926037   1.8647708085   0.2405633716   1.8476550926   5.6354380353   3.6717903033   1.6635687596   4.5010580991   1.7449022782   3.3065608603   7.3032932441   4.8458935487   0.1366352977   1.2744235823   0.1855094564   1.0372027103   3.5606104867   2.4762671568   0.0854901433   0.4619662755   0.1654382243   0.1056831920   0.6553485219   0.3971847056   0.0032929850   0.1101518002   0.0279248463   0.0159766419   0.3650015617   0.2181661597\n",
      "\n",
      "  6.0000000000   6.3441180727   5.7655386453   5.1905598636   4.7246822105   1.5982938326   1.6935754772   2.7135202921   6.6223243722   2.4170882309   5.3990570340  11.8912850245   7.0648859818   0.2666960963   1.7846009773   0.1996725201   1.6544149345   5.7287828138   3.5533031659   1.6692518330   4.3721280035   1.6567225915   3.1242961050   7.4089353816   4.6895861425   0.1512164606   1.2257435935   0.1548015131   0.9053720188   3.6618010481   2.3907293902   0.0857149728   0.4508928155   0.1496315034   0.0918581651   0.6605681856   0.3624766628   0.0041179274   0.1120895755   0.0230403884   0.0100507312   0.3821920768   0.2026838818\n",
      "\n",
      "  6.0000000000   6.1526952737   5.9613528571   5.0322637038   4.8799872834   1.5664895577   1.7247999870   2.5498579323   6.5526449290   2.4847234293   5.1469449631  11.7067812195   7.1365067376   0.2653475132   1.6876274182   0.2166475815   1.6466208470   5.7038600487   3.6416630411   1.5708795650   4.3159737435   1.6981908219   2.9964458618   7.2931854375   4.7419504541   0.1491826670   1.1549055370   0.1646380793   0.9049446303   3.6406068893   2.4449250344   0.0826722349   0.4289734025   0.1554427138   0.0968108748   0.6562147335   0.3727769466   0.0036010362   0.1003107827   0.0242461681   0.0128275227   0.3775695880   0.2085209482\n",
      "\n",
      "  6.0000000000   6.2730214140   7.1157711452   5.0851000334   5.8506994508   1.5104853874   1.9483332243   2.2644488635   7.4637249644   3.5062216537   5.4981052618  14.4663824782   9.9789840762   0.1953916897   1.9000602314   0.4758358693   1.9498082962   6.6116413052   5.1509197268   1.3623587125   4.8415000052   2.2813935833   3.2567017551   8.7659964966   6.5797905350   0.1059701241   1.2679648255   0.3252514031   1.1186193819   4.0210332074   3.4815458691   0.0722718719   0.4530982007   0.1682439944   0.1327943995   0.5765879124   0.5008344736   0.0027078728   0.1021396874   0.0289450996   0.0317391728   0.2701056678   0.2953096040\n",
      "\n",
      "  6.0000000000   6.1185255568   6.6444173483   4.9086584148   5.4710349401   1.3666517646   1.9041317915   2.0420221704   6.6476983626   3.1743182811   4.7580507532  12.4056373010   9.3606868433   0.1465254748   1.6257426397   0.3853998534   1.7384799774   5.8308581953   4.9035499690   1.1934641526   4.3195379407   2.1162978494   2.6380459351   7.4512263675   6.2763933797   0.0807085437   1.0936507339   0.2672790362   0.9352005657   3.5408543265   3.3577139025   0.0489969688   0.4095270489   0.1742904512   0.0624983879   0.4886012618   0.5020592697   0.0020908743   0.0969362961   0.0259398992   0.0107627000   0.2523851293   0.2952879831\n",
      "\n",
      "  6.0000000000   6.1272918580   6.9598681076   4.9615264848   5.7287446873   1.4549859134   1.9177268479   2.1843853741   7.2405269170   3.4604766630   4.8813153174  13.9178608126   9.8696531085   0.1724688107   1.7278320290   0.4477019825   1.5637837786   6.5319726284   5.0328881812   1.3087562604   4.6924193071   2.2504058325   2.8072440452   8.3748700665   6.4926222222   0.0922811401   1.1557517520   0.3073920399   0.8494262174   3.9724222360   3.3928088228   0.0606778451   0.4399106529   0.1598707344   0.0920910467   0.5101969177   0.4786106602   0.0022114373   0.0973198824   0.0272889353   0.0153048477   0.2529616533   0.2798777253\n",
      "\n",
      "  6.0000000000   5.7470814396   7.0658208289   4.6269258340   5.8022773907   1.3620173606   1.9288620947   1.8246249874   6.6955356399   3.3856098799   4.3054695021  12.5405495924   9.7490171762   0.1218287851   1.7046941843   0.4466538089   1.4391982474   6.0120921172   5.0946229143   1.0908993780   4.3687707026   2.2140875279   2.4579731057   7.5016499982   6.4413327142   0.0631594414   1.1489306898   0.3066153333   0.7713222707   3.6255715597   3.4378401388   0.0529372988   0.4479037435   0.1653336929   0.0753782748   0.4789504853   0.4890183706   0.0013471899   0.1023333145   0.0287027662   0.0101814993   0.2278253188   0.2889768840\n",
      "\n",
      "  6.0000000000   5.9022604245   8.2184509604   4.7127760274   6.9967084595   1.0426079398   2.7223755901   1.5678977270   7.4256008680   7.0986062350   4.2887757145  18.3667032779  12.5441429155   0.0647972190   1.1289728566   1.5711547126   1.5081471617   8.9171907800   5.3473418242   0.8597135238   4.4881962091   4.8087613788   2.3945369172  11.4741012138   8.6742835460   0.0318110278   0.6812181465   1.0420962136   0.8239515143   5.7315677022   3.8381644513   0.0201939126   0.1643120273   0.3814824106   0.0602178731   0.7323793271   0.7360233527   0.0001538577   0.0168754125   0.0727994596   0.0160224613   0.4465068917   0.3893421753\n",
      "\n",
      "  6.0000000000   5.6943734930   8.0637605670   4.4608424839   6.8723629366   0.8403610362   2.7282266940   1.2339596734   6.2462174039   6.9493179801   3.4818359128  16.8054876444  12.4673599770   0.0358088253   0.8511608459   1.5615910192   1.2811187725   8.7145887976   5.4371598707   0.6397081191   3.6660426079   4.7524033487   1.7842625262  10.3322191334   8.6997719249   0.0170009956   0.5005856597   1.0387381284   0.6429170910   5.5849403169   3.9207985202   0.0075346638   0.0983388686   0.3895150933   0.0177063726   0.5640077796   0.7771630594   0.0000785832   0.0100549717   0.0730574549   0.0043786032   0.3904875358   0.4159389990\n",
      "\n",
      "  6.0000000000   5.9729377221   8.1587982071   4.7696636490   6.9685586020   0.9733729120   2.7041575874   1.5953517037   7.2056543424   7.1192588500   4.3254534877  18.8543836272  12.6962202244   0.0540507526   0.9860123622   1.5010552700   1.4043150586   9.2669687783   5.3575304617   0.8595678924   4.2575142140   4.7939828625   2.3582168928  11.7241822061   8.7756416440   0.0252205296   0.5764996509   0.9902447063   0.7521657727   5.9751816617   3.8547079479   0.0124795421   0.1181798183   0.3573105194   0.0333517085   0.6287585504   0.7225055706   0.0000964375   0.0112211599   0.0659640200   0.0085561173   0.4138784965   0.3855799889\n",
      "\n",
      "  6.0000000000   5.4212746048   8.0478516300   4.2328815105   6.8503868428   0.7891374321   2.6812405593   1.0487083146   5.5924778335   6.7356649638   3.1678720635  15.9253367710  12.3039924665   0.0302030383   0.8615893190   1.5049370841   1.1632380513   8.5122854464   5.3794391614   0.5432070252   3.2505045370   4.5922905248   1.6354272582   9.7935015835   8.5712790905   0.0133062887   0.5062046573   0.9970034863   0.5876058640   5.4825190297   3.8799411702   0.0079645655   0.0921042806   0.3655943294   0.0187937499   0.5907576605   0.7391970077   0.0000578843   0.0108879698   0.0685116517   0.0046469835   0.4237311597   0.3985549466\n",
      "\n",
      "  6.0000000000   5.8165390215   7.9794337596   4.7097509967   6.4707912553   1.4217385617   1.9686359479   2.0459927024   7.3785104249   3.7613369714   4.4169549835  14.7572178566  11.2705226644   0.1710311320   1.6970093474   0.4831871766   1.4660958101   6.7629253830   5.9379126848   1.2356445047   4.7466708296   2.3734286832   2.5728574905   8.7970896647   7.1466342025   0.0949520118   1.1383098499   0.3228681565   0.8122473961   4.0635954734   3.8443424558   0.0509514367   0.4271826940   0.1608746429   0.0880522916   0.4947402398   0.4907346113   0.0024286737   0.0979562919   0.0266892359   0.0203440239   0.2337999417   0.2904183448\n",
      "\n",
      "  6.0000000000   5.3400458550   7.4431683721   4.3098688496   6.0741752464   1.3390617528   1.9448994605   1.6972978743   6.6803880760   3.4637595058   3.4679170810  12.4492810020  10.3731537095   0.1403227062   1.6656874678   0.4660774408   1.0917489455   5.7765614319   5.5417145278   1.0328397569   4.3577605474   2.2440065845   1.9885540173   7.4949440766   6.7526729510   0.0762321895   1.1196078364   0.3174950951   0.5742594031   3.5048397507   3.6684966933   0.0482440562   0.4200043906   0.1619215335   0.0714739532   0.4741984776   0.5007507657   0.0018004094   0.0919669813   0.0283599224   0.0111524092   0.2198398892   0.2977705585\n",
      "\n",
      "  6.0000000000   5.7243121511   7.6618245728   4.6496197819   6.2384236733   1.4311102152   1.9045069967   1.9759024145   7.2197562158   3.4639852899   4.5215483562  14.0919516657  10.3900051680   0.1629271787   1.6829588150   0.4209270588   1.4761517257   6.4683749584   5.5758004294   1.2096001744   4.6337185970   2.1872476884   2.7065028819   8.4178494040   6.6446718529   0.0895592575   1.1333929485   0.2754558118   0.8376206742   3.9154999326   3.6324475344   0.0544347350   0.4069510715   0.1449640343   0.1054657064   0.4639463129   0.4503979506   0.0025752127   0.1013912151   0.0213024386   0.0251319661   0.2258983099   0.2700772323\n",
      "\n",
      "  6.0000000000   5.8255180950   8.2659248372   4.7252155710   6.7613719857   1.4436623271   2.0582971324   2.0709184673   7.9035898046   4.1681563602   4.4991964014  15.9181618093  12.0032170956   0.1742915112   1.7360770606   0.5391474190   1.5167749939   7.1031032130   6.2912343868   1.2671274635   5.0680419474   2.6137166485   2.6349707101   9.5841956758   7.6716199841   0.0970068340   1.1632919797   0.3518518436   0.8343184498   4.3333570313   4.1004924814   0.0549122453   0.4273657353   0.1666984281   0.0981469165   0.5268376848   0.5200553665   0.0025980251   0.0949254585   0.0271265011   0.0214140009   0.2514150738   0.3037561533\n",
      "\n",
      "  6.0000000000   6.3013130601   6.5074472420   5.1795220684   5.2619813007   1.6285919174   1.7299343347   2.8382312527   7.0955954797   2.6200849536   5.5968407509  13.0485007293   7.8079554503   0.2577284131   1.7287697959   0.2284945599   1.7473229738   6.0905383225   4.0128450060   1.7626120657   4.6127951924   1.7458807536   3.3245668764   8.0197866605   5.0256269601   0.1465174853   1.1744862686   0.1708851858   0.9832635785   3.8483952818   2.6134763369   0.0831640763   0.4049081594   0.1487994173   0.1110170199   0.6357182552   0.3647495804   0.0035631190   0.0965840583   0.0239740014   0.0187474538   0.3707655382   0.2071720216\n",
      "\n",
      "  6.0000000000   5.9493847092   6.2042970213   4.8542509904   5.0359299195   1.5075859218   1.7085574393   2.4274071667   6.3903194679   2.4741963667   4.5757158487  11.6565953186   7.4896316327   0.2346032804   1.6263399194   0.2001628684   1.4258674652   5.6223295600   3.8545388254   1.4947194606   4.1768791409   1.6742851934   2.6206811787   7.2189343085   4.8948167208   0.1341179750   1.1150260229   0.1518912007   0.7583576890   3.6004679788   2.5459428445   0.0686389112   0.3855084753   0.1488844304   0.0707434123   0.6165458215   0.3732932383   0.0035422750   0.0957200665   0.0219689897   0.0073470481   0.3698242078   0.2118688120\n",
      "\n",
      "  6.0000000000   6.1476148027   6.1498129016   5.0042614362   4.9700977333   1.4935912626   1.6838058677   2.3917420737   6.2904841796   2.4042340355   5.2124240616  11.7393815178   7.1711929154   0.2102928804   1.5810074841   0.2151095499   1.7612137337   5.6739976215   3.6713938839   1.4577422496   4.0801209424   1.6321965062   3.0107387327   7.1777581027   4.6551972028   0.1168823590   1.0721897784   0.1650237799   0.9673892496   3.5893439818   2.4026489826   0.0631932890   0.3857569989   0.1459402291   0.0756962296   0.5918743247   0.3378540448   0.0031927582   0.0916077401   0.0242022253   0.0115090108   0.3575163156   0.1873223320\n",
      "\n",
      "  6.0000000000   5.9965748785   7.0471962049   4.8941424999   5.6767035956   1.5355363384   1.7656117546   2.4863435355   6.9615797607   2.8464677278   4.6717903259  13.4995215466   8.9569610716   0.2381416069   1.6966592222   0.2215855576   1.4394929892   6.3464420391   4.6480975816   1.5371041986   4.5087595750   1.8521199543   2.6931832785   8.2118011522   5.6567410176   0.1362180800   1.1687277424   0.1567310370   0.7664526527   3.9875299879   2.9684801807   0.0748362686   0.4101492604   0.1485049240   0.0808203548   0.6281376133   0.3866670701   0.0038140064   0.1053625604   0.0202290401   0.0082147095   0.3741719806   0.2205853900\n",
      "\n",
      "  1.0000000000   5.8449517391   6.6115962706   4.7065744719   5.3582387950   1.0039721897   1.6211924221   1.6519418453   4.9917426557   1.8213783169   4.3177789768  13.1474860644   7.9737281351   0.0949608943   0.5959588935   0.2670414541   1.4676413862   6.3110518323   4.9520780960   0.8963599449   2.9117061777   1.0452641916   2.3846135370   7.8000805889   5.1802948713   0.0461274609   0.3633422615   0.1419700846   0.7965553177   3.8485696982   3.2740311647   0.0089260461   0.0760220689   0.0597778554   0.0275445890   0.2910012244   0.5179715678   0.0001553259   0.0088933215   0.0008809447   0.0083024712   0.1625538461   0.3201751515\n",
      "\n",
      "  1.0000000000   5.6669182789   6.2626531969   4.5670378187   5.0812717093   0.9969526930   1.5886314128   1.6389622120   4.6826007430   1.5668110198   3.8175438599  12.0957251081   7.4571162674   0.1028565599   0.6255223501   0.2185373319   1.2238735447   5.7369849545   4.7275428749   0.8834774121   2.7435662959   0.9120909114   2.0670798797   7.2706517951   4.9360460044   0.0506654321   0.3763038379   0.1126026019   0.6419674191   3.5308949228   3.1669883115   0.0078989362   0.0804784594   0.0593833874   0.0206169722   0.3177124708   0.5337070043   0.0001622513   0.0073070102   0.0005280630   0.0053621107   0.1673741256   0.3335427681\n",
      "\n",
      "  1.0000000000   5.4900195872   6.0920423298   4.3834068121   4.9226013512   0.8322138985   1.5292186093   1.2750696067   3.9535745579   1.3721580702   3.5284635103  11.3307834913   7.1599113506   0.0597222248   0.3412873378   0.1485254651   1.1710160112   5.3842858617   4.5415048734   0.6629717833   2.2659860390   0.7974210173   1.8814059539   6.7221096544   4.7213385043   0.0275442877   0.1918870601   0.0742259113   0.6184505603   3.2638292830   3.0335644903   0.0045208164   0.0626115250   0.0550391286   0.0148867189   0.2831954434   0.5107454374   0.0000549864   0.0021349374   0.0002959320   0.0046603653   0.1491514950   0.3217389410\n",
      "\n",
      "  1.0000000000   5.4530112417   6.4477692830   4.3506932446   5.2332348483   0.8646827135   1.5934702284   1.2713381403   4.2208110103   1.7166805884   3.4597550233  11.9913264159   7.8352676190   0.0757053756   0.3582123335   0.2947032773   1.2159674024   5.6859030423   4.9273872050   0.6647512573   2.4387209516   0.9979925337   1.8341546410   7.1614341029   5.1125650715   0.0354616673   0.2020951020   0.1601953605   0.6355561078   3.4831479982   3.2637934186   0.0051966311   0.0709893973   0.0551783227   0.0141419118   0.3047217040   0.4961121033   0.0000808013   0.0032641670   0.0015031702   0.0040849582   0.1632556151   0.3136632519\n",
      "\n",
      "  1.0000000000   5.3786072679   7.8777685530   4.3307264354   6.3940011495   1.0259246747   1.8415650488   1.4859829245   5.5173692638   3.0340658704   3.4862814225  14.2394793121  11.2953864508   0.1631867552   0.5703478360   0.3351767426   1.1611769563   6.5204491828   6.4919826077   0.8196802683   3.2888802526   1.7491181123   1.9252123409   8.5366613875   7.1723320397   0.0854263469   0.3308375033   0.1826436817   0.6144606552   3.9781192864   4.2092982742   0.0120916742   0.1206360392   0.0802115705   0.0318077985   0.3578110311   0.5896561579   0.0003629101   0.0076547037   0.0015692991   0.0075300682   0.1778131059   0.3544201709\n",
      "\n",
      "  1.0000000000   5.3978332950   6.9880790294   4.2597458256   5.6231121334   0.7766547722   1.5972514602   1.1709646489   4.0082055267   1.9644795009   3.3639921972  11.6776741839   9.2161367742   0.0513277552   0.5630969752   0.1901387853   1.1783001553   5.6133124556   5.5585001502   0.6004162169   2.2321038758   1.1171096970   1.7433948833   6.6873056400   5.9008090301   0.0239922305   0.3230249544   0.0971972499   0.5988180861   3.3022510055   3.6351172103   0.0041822146   0.0481929417   0.0561647708   0.0128625154   0.2059354091   0.5134330418   0.0000503693   0.0043001526   0.0004201689   0.0036867222   0.1124114768   0.3267697406\n",
      "\n",
      "  1.0000000000   5.2011502249   7.5479780756   4.1336159516   6.0870171088   0.8237813768   1.7409793179   1.1484626404   4.5166433219   2.5125930404   2.9987727434  12.8190804617  10.5286993259   0.0637288649   0.3854545185   0.2079760673   1.0305935778   6.0400286982   6.1240568262   0.6013915917   2.6107995681   1.4433460560   1.5708238892   7.4624915192   6.6763697985   0.0303879957   0.2131470487   0.1065583876   0.5330504137   3.5746608535   3.9571940604   0.0044153393   0.0785010084   0.0741292648   0.0110676761   0.2575301408   0.5687199494   0.0001035666   0.0032506699   0.0007009098   0.0033718303   0.1318336039   0.3407294950\n",
      "\n",
      "  1.0000000000   4.9434088356   7.7552195760   3.9167784668   6.2664311261   0.7532408029   1.7827884174   0.9958817871   4.2726727722   2.6822281082   2.7894708241  12.2287253028  10.7886683466   0.0536146397   0.4172505055   0.2680614664   1.0003321269   5.8079385434   6.3265803206   0.5137149394   2.4270056291   1.5263061089   1.4732013785   7.1072407607   6.8353537517   0.0248812263   0.2297351295   0.1419120865   0.5221037247   3.4486553303   4.0930153186   0.0036595839   0.0620752439   0.0726328348   0.0127698422   0.2395932256   0.5814589646   0.0000487079   0.0025154816   0.0010078436   0.0043187178   0.1246602590   0.3528391716\n",
      "\n",
      "  1.0000000000   4.7634757674   9.3805327710   3.7184552679   7.6281260055   0.7271077386   2.0491696921   0.8336886701   4.9255359500   4.5017495689   2.4297238848  14.1839586343  15.5078230679   0.0500127907   0.3071935776   0.6036365641   0.9639996604   6.4045327821   8.6533239193   0.4347921469   2.8156280433   2.5253235782   1.2436020306   8.1966483709   9.5286119531   0.0251970138   0.1727666773   0.3306753525   0.4831263222   3.7863330348   5.4696686205   0.0035030842   0.0817272479   0.0825817157   0.0095159229   0.2681413088   0.5944807929   0.0001328211   0.0042798474   0.0030863689   0.0031968075   0.1407665477   0.3612537651\n",
      "\n",
      "  1.0000000000   4.3277352314   8.6903134366   3.3475900096   7.0454102846   0.6035734390   1.8895651025   0.5981388367   3.8497060994   3.4616674812   1.8110991923  11.4517615591  13.6006807835   0.0412676459   0.2128124772   0.4379641896   0.7564873335   5.2606463475   7.8871452100   0.2942798106   2.1553445269   1.9361804993   0.8790641623   6.5257286440   8.4289524091   0.0201552062   0.1138608329   0.2297931729   0.3648442455   3.0582204757   5.0046307079   0.0012242278   0.0633216959   0.0725092539   0.0035407288   0.2187789164   0.5677207140   0.0000544557   0.0018616954   0.0014357757   0.0013513031   0.1081815424   0.3457790240\n",
      "\n",
      "  1.0000000000   4.7787013373   9.0954598721   3.7897819252   7.4212423455   0.8266569151   2.0218452765   0.9803710932   5.3261073966   4.2725108641   2.7157745294  14.3593574062  14.4575659388   0.0661297672   0.3564472630   0.5773208053   1.0171189859   6.4130250353   8.1547430324   0.5355011354   3.1063215398   2.4146164179   1.4806012552   8.4791679529   8.9617651214   0.0329773360   0.1978770227   0.3165836833   0.5370382286   3.8791420321   5.1887352842   0.0091742600   0.0978911263   0.0758821324   0.0271311598   0.2858091746   0.5587965702   0.0001261752   0.0048911181   0.0028092754   0.0079306130   0.1460949228   0.3446635403\n",
      "\n",
      "  1.0000000000   4.9915642969   9.2805824031   3.9669123185   7.6090999253   0.8031791811   2.1382900918   1.0321828791   5.5889275716   4.8128486806   3.0530993370  15.4204226126  15.4686082403   0.0590730102   0.4640288616   0.5674071444   1.1768012886   6.7763519781   8.5172580623   0.5469077068   3.1992114572   2.7901205595   1.6503655859   9.1144778920   9.7175613160   0.0280153750   0.2503447497   0.3213052616   0.6316329040   4.1161332148   5.4811125334   0.0056364815   0.0945041664   0.0941626944   0.0170850868   0.3043338108   0.6170164806   0.0000725857   0.0038244563   0.0040119125   0.0057817597   0.1538991137   0.3690936615\n",
      "\n",
      "  1.0000000000   5.6525039533   6.8416257820   4.5077630397   5.4695752475   0.9247062539   1.5181911147   1.4167547526   4.4263859693   1.7828269827   3.8477207074  12.8696914730   8.0703213554   0.0791992498   0.3259949621   0.1304891775   1.3672441585   6.0636250391   4.9977359237   0.7603431090   2.5712123005   0.9933414046   2.0576505280   7.5709733348   5.0789794258   0.0392388400   0.1884191559   0.0672954368   0.7148234342   3.6518108029   3.2183221302   0.0073735595   0.0790372889   0.0466216366   0.0189805306   0.2869958703   0.4481514854   0.0001461712   0.0044903541   0.0003663060   0.0052643007   0.1502306794   0.2890337111\n",
      "\n",
      "  1.0000000000   5.3627707953   6.5727917583   4.1870055810   5.2536420703   0.6736662165   1.4562227044   0.9855420027   3.3933024704   1.5664529273   3.1885337824  11.1502399031   7.8080158158   0.0284697495   0.1702978010   0.1100945786   1.2142277921   5.3325747729   4.8765647901   0.4897908860   1.8717901520   0.8661325070   1.6047091479   6.3707310875   4.9356074618   0.0128444409   0.0863261578   0.0546994689   0.6055790019   3.1194900224   3.1579408297   0.0024006249   0.0446833970   0.0424859249   0.0081241867   0.2192490892   0.4318658491   0.0000253268   0.0006668732   0.0001897240   0.0027116989   0.1173458129   0.2823475442\n",
      "\n",
      "  1.0000000000   5.4439503608   6.5351771315   4.2850487527   5.1818523376   0.7713577450   1.4436209785   1.1288555279   3.6860491838   1.4364123748   3.6079730566  11.1062843396   7.3759505795   0.0434636201   0.2565948806   0.0920688831   1.3570644449   5.3160878407   4.5696594605   0.5872243408   2.0842234956   0.8000122280   1.9196113270   6.3898002924   4.6593293413   0.0195908651   0.1408343685   0.0449392525   0.7109290048   3.1272159762   2.9457619134   0.0050899670   0.0500743368   0.0465349246   0.0184591018   0.2175388829   0.4461017150   0.0000302952   0.0017004761   0.0001507897   0.0060042763   0.1181503851   0.2843072817\n",
      "\n",
      "  1.0000000000   5.0171028083   7.6215085906   3.8750941970   6.1061880982   0.6266325074   1.6260882497   0.8025062183   3.5021953305   2.4296547528   2.7330773508  11.9746360787  10.5660054429   0.0254629782   0.1346339861   0.1898357665   1.1156060183   5.6627408835   6.2443637036   0.3994929549   1.9372723170   1.3410292184   1.3645448654   6.8028366816   6.5102128443   0.0122179843   0.0669954667   0.0965524623   0.5502177490   3.2827070922   3.9633864773   0.0022902967   0.0524150644   0.0504260944   0.0075313549   0.2412442288   0.4742536102   0.0000339179   0.0005906809   0.0004781199   0.0025030614   0.1265873279   0.3060870445\n",
      "\n",
      "  6.0000000000   6.7291553321   6.4974485336   5.4971404871   5.2764300904   1.6042309405   1.7449796780   2.8906040958   7.0979900698   2.6663881867   6.5124568613  14.0821176100   7.9033063722   0.2478171633   1.8060996204   0.2118414286   2.2174539768   6.8940171836   3.9684921826   1.7435722883   4.5816881402   1.7762634353   3.7733164345   8.5634287723   5.1426034944   0.1408518149   1.2318637509   0.1555408247   1.2556508332   4.3052479933   2.6282724950   0.0763064345   0.4317113520   0.1524747072   0.0957230420   0.6325377712   0.3811972656   0.0039651457   0.1124197157   0.0216291116   0.0174331333   0.3649511574   0.2145794056\n",
      "\n",
      "  6.0000000000   6.5822028826   6.3315324567   5.4428397357   5.1655583904   1.7048757291   1.7602204643   3.1324154798   7.4523305238   2.6289086621   6.6782334887  13.6420882927   7.4742515758   0.2643380640   1.8856533441   0.2395015915   2.1529779551   6.6561157439   3.8081823871   1.9412441580   4.8461918439   1.7696940836   4.0725985520   8.4572506834   4.9266343595   0.1477743269   1.2751744903   0.1740546023   1.2786940947   4.2451442049   2.5458248455   0.0893777434   0.4349033453   0.1580973183   0.1555414109   0.6521514401   0.3827793528   0.0036561380   0.1058058643   0.0243464243   0.0386549375   0.3858070623   0.2170314476\n",
      "\n",
      "  6.0000000000   6.6405198490   6.0203254959   5.4348816516   4.9332274259   1.6166359082   1.7567290049   2.8398679499   6.9982528327   2.5557406922   6.4799783021  12.8938928724   7.1351210053   0.2352462654   1.8317589754   0.2655847680   2.2561904719   6.2686368061   3.5877220384   1.7148597945   4.5482882706   1.7575869867   3.8566946436   7.9499946178   4.7921354042   0.1291411390   1.2357651058   0.2007649855   1.3378089728   3.9818978538   2.4325517482   0.0776575981   0.4219720836   0.1572496787   0.1401790138   0.6430195683   0.3980869679   0.0030291583   0.0973943756   0.0276738255   0.0459746050   0.3757288577   0.2202562421\n",
      "\n",
      "  6.0000000000   6.7454556543   6.6286076992   5.5492616165   5.3613895000   1.6880524797   1.7319362507   3.1053891863   7.4826565047   2.6459918993   6.8677713640  14.3325881358   7.8938610605   0.2439536594   1.7981996103   0.2002257826   2.4672705934   7.1535561841   4.0963761389   1.8994139701   4.8018599360   1.7408030178   4.1487996040   8.6926898789   5.0894973759   0.1380728115   1.2204661952   0.1423717618   1.4932558795   4.4736245722   2.6738975754   0.0795399972   0.4108367829   0.1461071808   0.1487716543   0.6021072481   0.3667565880   0.0039429112   0.1078152444   0.0185881196   0.0523393830   0.3568534836   0.2072881218\n",
      "\n",
      "  6.0000000000   6.2364230054   7.8158894512   5.0293739588   6.3855672723   1.4217623872   2.0111509421   2.1514733412   7.5337774303   3.8949798579   5.2513124961  15.7045827757  10.9237620920   0.1669286191   1.7338334412   0.4883670316   1.8148179420   7.4680452275   5.6019717735   1.2719059948   4.8097409230   2.4757179911   2.9971313384   9.3283610010   7.0415462759   0.0886111129   1.1563635920   0.3259298981   0.9887327237   4.5025697692   3.6941703404   0.0526957554   0.4285866541   0.1745112472   0.0879913663   0.5148297325   0.5068070312   0.0019219390   0.0979867318   0.0276506555   0.0166779174   0.2620370709   0.2933112667\n",
      "\n",
      "  6.0000000000   5.9466014825   6.8973595005   4.7904868437   5.6603105146   1.3742411974   1.9450603562   1.9449828674   6.6799319276   3.3273592345   4.7745786532  12.7808521862   9.4688333014   0.1640859144   1.7528986727   0.4826521402   1.7616845052   6.0909013847   4.9591052808   1.1463182070   4.3493240300   2.2172679584   2.7311386712   7.7104611316   6.3247755147   0.0880040259   1.1752412257   0.3387238629   0.9836515028   3.7040285097   3.3763400171   0.0514138426   0.4380691736   0.1797190310   0.0812545532   0.5227179674   0.5065506436   0.0024091740   0.0997456953   0.0343426950   0.0194357051   0.2507707596   0.2979321781\n",
      "\n",
      "  6.0000000000   6.2111267843   6.8822167963   4.9806266700   5.6468750434   1.3660985420   1.8907303589   1.9769702535   6.6871857301   3.1674571486   5.1223364771  13.3758362334   9.4785503764   0.1525994849   1.6258906498   0.3861624562   2.0468621849   6.3544259174   4.9725011789   1.1448717887   4.2995154776   2.0863981475   2.8989951920   7.9672561206   6.3144642815   0.0805295144   1.0832152735   0.2613558154   1.1459221475   3.8256224795   3.3798767482   0.0441732922   0.3864619030   0.1606779200   0.0788182908   0.4616081476   0.4883774604   0.0019093208   0.0894722678   0.0230633280   0.0226842154   0.2307823780   0.2863116447\n",
      "\n",
      "  6.0000000000   6.4661020526   7.1459815177   5.2251445467   5.8517150281   1.4278975017   1.9412448337   2.2513602880   7.2132992567   3.4177761421   6.0085063784  14.6273082873   9.9368147069   0.1814786774   1.7207365673   0.4469691307   2.3756659522   6.9014658137   5.1481040000   1.3018400795   4.5995991075   2.2354072686   3.4771511341   8.7434985898   6.5466307794   0.0987498318   1.1438015880   0.3048739322   1.3831559562   4.1828849585   3.4642482378   0.0445082801   0.4072800793   0.1721184269   0.1003430654   0.5003547707   0.5022176284   0.0024555990   0.0945058264   0.0274902048   0.0344306136   0.2497405527   0.2919638486\n",
      "\n",
      "  6.0000000000   5.7233264725   8.4022760077   4.5222522357   7.1349339342   0.8919567209   2.7455909377   1.3052210290   6.6188110353   7.2307494494   3.8032114637  17.8375490720  12.9797414868   0.0409760176   0.9916963670   1.5374833504   1.3258767671   8.9157047185   5.5393726511   0.6889098513   3.8946518138   4.8894266579   2.0353492452  10.9695738478   8.9416738571   0.0184489307   0.5870679338   1.0171985239   0.6941559810   5.6835624009   3.9566271056   0.0124790505   0.1216841520   0.3870638840   0.0352312705   0.6356358587   0.7575229394   0.0000487056   0.0131294810   0.0709207376   0.0087305579   0.4140938600   0.4014070049\n",
      "\n",
      "  6.0000000000   5.3621544552   7.7585484941   4.1990979686   6.6420884438   0.8444636207   2.6846967788   1.0605175401   5.7441984199   6.6687648737   3.1659893352  15.2457155183  11.8675125986   0.0320039516   0.9847422379   1.5260162214   1.1496692665   7.9141767439   5.2162529703   0.5621540143   3.4222487699   4.5842348696   1.6758195839   9.4745729129   8.3649437197   0.0143174449   0.5935404269   1.0161193626   0.5881681881   5.0974411990   3.8076544080   0.0132954097   0.1276561624   0.3817644452   0.0336814484   0.6452683469   0.7406981821   0.0000504740   0.0152263645   0.0730852172   0.0072506522   0.4158053199   0.3995279285\n",
      "\n",
      "  6.0000000000   5.6752335252   7.9054805840   4.4683807507   6.7493813269   0.8904165998   2.6801577317   1.2578264849   6.3916163169   6.6817127893   3.7115541084  16.4329850790  11.9238986606   0.0382510195   0.9629622824   1.4871938919   1.3901577032   8.2545485212   5.1502221856   0.6679574251   3.7921758724   4.5695246450   1.9874247365  10.1262550777   8.3587512184   0.0181417220   0.5764320429   0.9837644800   0.7293261391   5.2661018984   3.7366337329   0.0123750906   0.1187002919   0.3662366385   0.0346678160   0.5966071562   0.7307323429   0.0000752185   0.0132909756   0.0674252635   0.0089270714   0.3862303879   0.3872068916\n",
      "\n",
      "  6.0000000000   5.8395820789   8.2147195460   4.5953860903   6.9928322875   0.9282550802   2.7524925123   1.3279520032   6.7520475469   7.1085823562   4.0326898367  17.4993037574  12.7193465510   0.0446902700   1.0849201814   1.5970206333   1.4798886301   8.6204105184   5.4761357012   0.7086193520   4.0259946951   4.8534785179   2.1711786811  10.7781054054   8.8519883429   0.0207524164   0.6535787641   1.0611506570   0.7745303420   5.4616786737   3.9435385413   0.0158472504   0.1423598150   0.4003000756   0.0473360679   0.6588072419   0.7785313380   0.0000638557   0.0159923648   0.0753886866   0.0120362125   0.4029850169   0.4111136417\n",
      "\n",
      "  6.0000000000   5.9146060544   7.9583009989   4.8075048482   6.4662306807   1.4834754397   1.9624894893   2.1771007752   7.7314151738   3.7236009602   4.6335675917  15.5289127957  11.1105844488   0.2196554086   1.7677883844   0.4363532107   1.5312288420   6.9909534398   5.8692301916   1.3237018165   4.9820319968   2.3398102275   2.7392513576   9.3200026738   7.0512166602   0.1244284494   1.2006425290   0.2854663359   0.8611550257   4.2294625226   3.8042981004   0.0584410498   0.4494313366   0.1643313579   0.1113088568   0.5333883491   0.4767684979   0.0037177586   0.1113824004   0.0235313791   0.0283386883   0.2485480627   0.2809662873\n",
      "\n",
      "  6.0000000000   5.8537886472   8.2350247074   4.6888898680   6.7107813842   1.3323712969   2.0036176174   1.8707610177   7.2945182005   3.9648431432   4.1441255333  15.3841693017  12.1187267592   0.1251681500   1.6271470176   0.4655090333   1.3794513340   7.1407289275   6.4095683578   1.1013211014   4.6226532437   2.4772548344   2.2885488734   9.0215905328   7.6809966540   0.0660392185   1.0947497811   0.2995783667   0.7078733529   4.2442231771   4.1500432024   0.0484572680   0.3918832382   0.1615579429   0.0625812666   0.4667923497   0.4887541098   0.0013595050   0.0941221985   0.0235593025   0.0067054088   0.2326745610   0.2881538749\n",
      "\n",
      "  6.0000000000   6.0099878541   7.8881106701   4.9004326566   6.4029518938   1.5028624076   1.9233644512   2.4336761863   7.8249068562   3.6515933139   4.6527103770  15.7752837454  10.8821331945   0.1746842085   1.6029906429   0.4255212484   1.3270647102   7.1867720972   5.7168375119   1.4945715227   5.0183213287   2.2887841974   2.6871249586   9.4434136274   6.8919464909   0.0953232664   1.0705801545   0.2801539790   0.6974376042   4.3335794730   3.6960319119   0.0618630527   0.3983863748   0.1473768814   0.0817192986   0.4817374431   0.4469220969   0.0022370429   0.0882969973   0.0222546729   0.0093115370   0.2328443143   0.2635116057\n",
      "\n",
      "  6.0000000000   5.5895907965   8.0353414104   4.4865390266   6.5249712023   1.3411082091   1.9614996928   1.7966222509   6.9459811765   3.7267593830   3.7981893334  14.1874761452  11.3111499893   0.1197607939   1.6465235752   0.4558654182   1.2349798619   6.7727773795   6.0298670536   1.0836861927   4.4643924727   2.3459791745   2.1235468845   8.3841486373   7.1831924702   0.0631238043   1.1109303278   0.3005585217   0.6288279108   4.0540403624   3.8998886039   0.0537200439   0.4125723506   0.1554804818   0.0650527164   0.4846320944   0.4763360486   0.0015674650   0.0952869979   0.0248446102   0.0057543974   0.2410921163   0.2812412805\n",
      "\n",
      "  6.0000000000   6.4766372514   6.5696993363   5.2759986164   5.2821484532   1.5554352974   1.7157923602   2.7364810954   6.8711701893   2.5979856667   5.7198274708  13.5915658374   7.8262326249   0.2414348893   1.6689722277   0.2198231162   1.9381976310   6.5029383505   3.9836947369   1.6537296326   4.4257479322   1.7283168063   3.2702766579   8.2372154003   5.0294175280   0.1359874881   1.1352067336   0.1658846204   1.0634603843   4.0748454159   2.5993468527   0.0690349983   0.3978468092   0.1437815008   0.0772331087   0.6276374843   0.3728621930   0.0036626698   0.0964445446   0.0227452192   0.0118883840   0.3841348056   0.2140324126\n",
      "\n",
      "  6.0000000000   6.4010244312   7.4892511328   5.2094380177   6.0445225745   1.5948713358   1.8389801165   2.7108156071   7.6106749272   3.2585095103   5.6000520041  15.1026042693   9.8352955029   0.2380794132   1.8352905836   0.3291775582   1.8390394597   6.9649637754   5.0064696360   1.6748526815   4.8652124707   2.0867230996   3.2596952844   9.0709266315   6.1422673642   0.1323294013   1.2391232475   0.2308335239   0.9999093115   4.2678934397   3.1634369726   0.0861839285   0.4171483933   0.1489616466   0.1069603129   0.6528849679   0.3933799654   0.0029485519   0.0931789243   0.0265126302   0.0134492345   0.3585966532   0.2198754022\n",
      "\n",
      "  6.0000000000   6.5466903871   6.5778026876   5.3716340115   5.2887830873   1.6434665825   1.6841810207   3.0778889770   7.2251689076   2.5640152136   5.8284954511  14.1099992167   7.7255623919   0.2778041167   1.6685321231   0.1993075070   1.7559856046   6.5139431273   3.8824742933   1.8887001876   4.6620392257   1.6893876678   3.3760993910   8.5859676804   4.9380032942   0.1570039003   1.1355472733   0.1481322218   0.9492754795   4.0479473380   2.5212380977   0.0787039142   0.3905614649   0.1340626562   0.0894626682   0.6113904052   0.3455875917   0.0036468609   0.0941323762   0.0196332860   0.0108358002   0.3480177094   0.1969096250\n",
      "\n",
      "  6.0000000000   6.3566684545   6.8737487844   5.2192197166   5.5353496770   1.6827225747   1.7499805966   2.9773689657   7.4725461065   2.7345608573   5.7785994882  13.7777134096   8.2331750268   0.2656358058   1.8689481047   0.2311292742   1.7284905405   6.3891995867   4.1878512740   1.8758290046   4.8578434547   1.8000414026   3.4612208407   8.4134297515   5.2531845772   0.1496073029   1.2739716420   0.1671873774   0.9523619487   3.9940539581   2.7034239616   0.0969838030   0.4356264812   0.1469770789   0.1327760766   0.6530563464   0.3767344342   0.0037450337   0.1059803557   0.0220157867   0.0192787415   0.3700018609   0.2135569461\n",
      "\n",
      "  1.0000000000   5.8987276003   7.0039018800   4.7187838573   5.6641560273   0.9224109093   1.6728118019   1.5046657498   4.9792587170   2.1119073780   4.4467821467  14.1584610258   8.7166827584   0.0716415147   0.4129592252   0.3652345172   1.6317602011   6.6395650124   5.3617751156   0.7967495346   2.8563698060   1.2114690261   2.4141646419   8.3440523646   5.5894125436   0.0337083136   0.2398469130   0.2047244255   0.8838846310   4.0240012116   3.5259721235   0.0064512310   0.0695043451   0.0570885597   0.0223269306   0.2969565802   0.5055286180   0.0000827329   0.0041148470   0.0024448357   0.0077456621   0.1625590343   0.3246507566\n",
      "\n",
      "  1.0000000000   6.0163800835   7.1591768118   4.8935807036   5.8211421535   1.1442811468   1.6982206141   1.9592608990   5.8779166340   2.3540152298   4.6919609052  15.5496941075   8.9162721253   0.1467561824   0.6034652263   0.3567069410   1.4459500426   7.1318349624   5.4369873697   1.0881983452   3.4924329271   1.3338669301   2.6691032619   9.4248304730   5.6822007714   0.0727413555   0.3552869249   0.1931262812   0.8000704905   4.4356420609   3.5544135274   0.0158054010   0.1170073879   0.0547389311   0.0463165910   0.3592656968   0.4971330580   0.0002548535   0.0087430025   0.0016339934   0.0124772130   0.1901933132   0.3210405873\n",
      "\n",
      "  1.0000000000   5.8837860035   6.7133610307   4.7326290584   5.4398256127   1.0858135332   1.6144189372   1.7633509752   5.2624801064   1.8946862504   4.2946166946  13.5131601089   8.0521665626   0.1190976616   0.6174653454   0.2232627008   1.4610632700   6.4937550865   5.0045555588   0.9757557201   3.1371098651   1.0890599643   2.3585373149   8.0681521999   5.2174999898   0.0610976759   0.3955078442   0.1177024748   0.7807025742   4.0017865975   3.2956975788   0.0136184871   0.1126316454   0.0562639160   0.0306429949   0.3214378945   0.4934660734   0.0003214671   0.0195646792   0.0007792997   0.0076292953   0.1818730284   0.3078220261\n",
      "\n",
      "  1.0000000000   6.0337896460   7.1746359840   4.8943032390   5.7982497602   1.2278992075   1.7053942532   2.1293921506   6.0886555523   2.3200029878   4.5282506334  15.1380739598   8.6334011127   0.1363159641   0.7988944194   0.5317869296   1.4113960973   7.1113393979   5.3176066849   1.2270738413   3.6909310824   1.3270155368   2.5228665267   9.1403149613   5.4952498670   0.0692764446   0.5155357206   0.3122951126   0.7382683953   4.4051201991   3.4724444505   0.0224004658   0.1326188666   0.0560254084   0.0377013501   0.3843151328   0.4805537620   0.0004822767   0.0227831269   0.0049254853   0.0059465236   0.2151404770   0.3110276786\n",
      "\n",
      "  1.0000000000   5.3513953147   8.9629250251   4.2717389547   7.3056311657   0.8702295694   2.0305351435   1.2590049834   5.8176777821   4.2319834180   3.5251618131  16.1016988517  13.9118632697   0.0849865745   0.4694490220   0.5605360292   1.3094060115   7.2484037670   7.8072617156   0.6637247083   3.3310360016   2.4086279542   1.9111056542   9.4624658580   8.6590819713   0.0405810614   0.2581575546   0.3152905960   0.7087968819   4.3759835236   5.0037267985   0.0053560125   0.0834591743   0.0805872002   0.0186399867   0.2956021908   0.5886699369   0.0000980261   0.0035011225   0.0038580797   0.0070379207   0.1563685801   0.3649640400\n",
      "\n",
      "  1.0000000000   5.0284757979   7.7358995876   3.9500345070   6.2113766916   0.7790044550   1.7256460720   0.9939499139   4.1941703509   2.4215258424   2.8156845125  12.0115810706  10.6091946967   0.0763973884   0.4464873434   0.2110479724   1.1058257224   5.7871744915   6.2586465410   0.5138019084   2.4028492025   1.3828781508   1.4349810347   6.8900965202   6.7251251815   0.0380987898   0.2587697712   0.1046930903   0.5530268473   3.3898273124   4.0388602806   0.0035267164   0.0707124799   0.0748996294   0.0086483350   0.2387345463   0.5849297487   0.0001263535   0.0055913574   0.0004699070   0.0026150872   0.1254834177   0.3546486257\n",
      "\n",
      "  1.0000000000   5.4286665072   7.6624927262   4.3074722518   6.1965532625   0.8746568608   1.7179248257   1.2408739070   4.7799677623   2.6216305569   3.5709562191  13.5557437545  10.4883181782   0.0817350805   0.6515407415   0.2887585934   1.4390604199   6.4319457998   6.1708784081   0.6501690518   2.7372743690   1.4832902275   1.9238122187   7.8836352752   6.6147782852   0.0413554107   0.3871367058   0.1511972495   0.7795288581   3.8400665450   3.9757607991   0.0055293715   0.0706246627   0.0614127519   0.0222969110   0.2349176919   0.5046804391   0.0001857322   0.0093672009   0.0008560468   0.0095545158   0.1269491170   0.3131931859\n",
      "\n",
      "  1.0000000000   5.7242888591   7.8225532376   4.5959180970   6.3174466819   1.0449379566   1.7853235060   1.6892251645   5.6423134097   2.8398117460   4.1733478504  14.6697973844  10.8444388996   0.0949280239   0.8455841682   0.3192818662   1.4389846470   6.9296656646   6.2649312720   0.9390582435   3.3030533303   1.6340308428   2.2952821343   8.6526055235   6.8676619611   0.0494279021   0.5179691895   0.1734254826   0.7639243885   4.1985031678   4.0542319988   0.0123956768   0.0970743595   0.0721032838   0.0304407853   0.2958073738   0.5502902094   0.0003440028   0.0136292249   0.0014285156   0.0080702210   0.1622820873   0.3372830422\n",
      "\n",
      "  1.0000000000   4.7589137889   9.2020606219   3.7622836832   7.5209070983   0.8043484605   2.0825021853   0.9192623652   5.2999940506   4.4983930142   2.5589657612  14.6166531119  14.9892524969   0.0610344944   0.3383936529   0.5812602330   0.9642239308   6.5238430641   8.3598820028   0.4937191600   3.0979229677   2.5628074041   1.3733327475   8.6270816337   9.3525474929   0.0299329310   0.1879342537   0.3185089472   0.4996572118   3.9339444019   5.3492040660   0.0089064076   0.1093083453   0.0892343274   0.0232807841   0.3100713137   0.6238821377   0.0000917545   0.0053663084   0.0027796268   0.0055745450   0.1545990677   0.3774357442\n",
      "\n",
      "  1.0000000000   4.8940081820   9.3383025891   3.8078734369   7.6482674881   0.6309816396   2.0865510162   0.7962687045   4.7724917837   4.8205003554   2.4992242548  14.6867162173  15.7336244259   0.0364735393   0.3326730622   0.6621405176   0.9847899744   6.6438253088   8.6301247581   0.3875439829   2.6074328488   2.7540589159   1.2260148483   8.4251789086   9.8000807879   0.0165812837   0.1742472725   0.3780830357   0.4805701459   3.9361913089   5.5381480291   0.0013443535   0.0529874679   0.0747719929   0.0043365011   0.2376587051   0.5624608020   0.0000255814   0.0012458602   0.0049537723   0.0015774337   0.1252429170   0.3546158961\n",
      "\n",
      "  1.0000000000   4.7918195055   9.1624517844   3.7312622513   7.4797401880   0.6605695566   1.9930602195   0.7891520857   4.6165617382   4.2697088106   2.4036941466  14.3354723943  15.0082451334   0.0344904018   0.1925014029   0.6536959902   0.9410407614   6.3816520853   8.4311639607   0.3999136200   2.5844990572   2.3963428949   1.2120526268   8.2653866748   9.2771043062   0.0160984320   0.0945204722   0.3543855789   0.4683945529   3.7471126862   5.3614588079   0.0026352059   0.0642990953   0.0661381482   0.0085399196   0.2383732405   0.5232013879   0.0000422699   0.0008049423   0.0027746023   0.0031198144   0.1151961868   0.3284705756\n",
      "\n",
      "  1.0000000000   4.5012961512   9.4017084292   3.4431089322   7.6853736926   0.5372132061   2.0783125580   0.5493317588   4.0758252427   4.6752056456   1.9519831766  13.1347911201  15.8346623322   0.0278335149   0.2303372920   0.7184912578   0.8697529704   6.0443575709   8.8200583254   0.2577748160   2.2104542049   2.6418955477   0.9248050424   7.4177260278   9.8292581686   0.0125285600   0.1148752880   0.4039089677   0.4098746250   3.5004251090   5.6337343293   0.0007856755   0.0501983251   0.0763140654   0.0028702175   0.2218394707   0.5801196792   0.0000154327   0.0006333020   0.0043483208   0.0011382180   0.1139157124   0.3585879096\n",
      "\n",
      "  1.0000000000   5.5648007879   6.9841657525   4.3415573859   5.5229794934   0.7169629947   1.4899692839   1.0677797054   3.7557528479   1.6673241381   3.6812845232  12.2319197512   8.1588674742   0.0345322710   0.2347083363   0.0929428977   1.5021411768   5.8175263679   4.9922079966   0.5375158165   2.0813293381   0.9153600929   1.8982281085   6.9211569349   5.0847378495   0.0154900590   0.1284978346   0.0449390972   0.7749278891   3.3688552117   3.1912229359   0.0032191119   0.0473557519   0.0476833873   0.0130008156   0.2266253544   0.4550851335   0.0000282172   0.0016095953   0.0001515092   0.0051534442   0.1249298442   0.2899520655\n",
      "\n",
      "  1.0000000000   5.7915365861   8.3269364937   4.5613705631   6.7636714251   0.8145054641   1.8948731886   1.2381233131   5.1529056993   3.6750601813   4.0737048948  15.4823210849  12.7797437803   0.0599044669   0.3666853807   0.5532395285   1.6659763700   6.8655635012   7.0846407590   0.6260640280   2.8760240590   2.1168972245   2.1452239550   8.9563741385   8.0152536803   0.0279977600   0.1877935820   0.3233443108   0.8847746718   4.0449719502   4.5882924468   0.0042984929   0.0724049834   0.0710671434   0.0205568714   0.3140430463   0.5338227617   0.0000647407   0.0011988433   0.0049883475   0.0090992609   0.1566151572   0.3304383783\n",
      "\n",
      "  1.0000000000   5.5925357941   7.0524494528   4.3927471801   5.5905091670   0.7585124733   1.4778453425   1.1472626866   3.9316037194   1.7440318554   3.6460915550  12.9226062354   8.2701586581   0.0462323088   0.1978556926   0.1071227711   1.4119615465   5.9702641824   5.0114246414   0.5796550099   2.2064976165   0.9480293644   1.8893652430   7.3823182646   5.1059648767   0.0215958217   0.1070096015   0.0518375739   0.7338165969   3.4666698114   3.1816529291   0.0033864276   0.0563906858   0.0434524465   0.0126492046   0.2441438631   0.4244921602   0.0000453230   0.0015200894   0.0001757824   0.0050114222   0.1249925399   0.2731142871\n",
      "\n",
      "  1.0000000000   5.7570570850   7.6172200615   4.5610323998   6.0992373777   0.8697852031   1.6395586531   1.3367707612   4.6882173071   2.3664047180   4.0614621577  14.5233097201   9.7772928939   0.0774480016   0.2696008007   0.1842125507   1.5608788124   6.5315692475   5.7439588278   0.6927981421   2.6806043224   1.3044375561   2.1637272783   8.4535449049   6.0549929461   0.0380928307   0.1395476340   0.0941674155   0.8303407744   3.8609922817   3.6659416168   0.0060096807   0.0855770449   0.0539081460   0.0246931309   0.3144703688   0.4869282809   0.0001146264   0.0015634938   0.0004458425   0.0097143742   0.1523983291   0.3075526335\n",
      "\n",
      "  6.0000000000   6.4381524970   5.6581367128   5.2568536446   4.6487067458   1.5596077433   1.6752794607   2.6453051677   6.3945314325   2.3246160320   5.8726918613  11.4299308675   6.6616094719   0.2193318909   1.6818993730   0.2251469175   1.9467715329   5.5299801832   3.4030321656   1.6051638742   4.1667912163   1.6003123948   3.4227534644   7.0409796530   4.4644768940   0.1207886557   1.1337586236   0.1721324310   1.0976844636   3.4938182188   2.3082466515   0.0733806241   0.3906606776   0.1391679570   0.0957550734   0.5930444234   0.3476073175   0.0030184110   0.0909461081   0.0236145819   0.0168745747   0.3398468300   0.1972175137\n",
      "\n",
      "  6.0000000000   6.3557089577   5.7119939072   5.2006391100   4.6839644771   1.5865395276   1.6611361907   2.6720970642   6.4767575029   2.2592908947   5.6742798413  11.5754747310   6.7885179811   0.2357480819   1.7375752429   0.1686521031   1.9513240511   5.7098328492   3.4925001589   1.6320411755   4.2415773618   1.5491819352   3.3281827699   7.1391336346   4.5297018305   0.1340048943   1.1921118831   0.1266965962   1.1330590937   3.6336104769   2.3581774245   0.0780303154   0.4138419690   0.1414408710   0.1016853419   0.6142353766   0.3471601331   0.0043484633   0.1120382125   0.0183481852   0.0264668591   0.3707337875   0.1950435076\n",
      "\n",
      "  6.0000000000   6.2990046239   6.0205533689   5.1833153542   4.9179257748   1.5806793591   1.7118657789   2.7671167462   6.7656380073   2.5168670822   5.6241367832  12.3679950589   7.2096552543   0.2416646224   1.7119059818   0.2235865619   1.7907209277   5.8483441108   3.6324372581   1.6837440441   4.4160385508   1.7057156128   3.2947609997   7.6559798788   4.7515823871   0.1372179409   1.1638543735   0.1706601679   1.0266234452   3.7162337387   2.4270298222   0.0719958575   0.4109528032   0.1488136256   0.0903055807   0.6162587699   0.3592084938   0.0035667812   0.0998306664   0.0245132681   0.0169653211   0.3566121594   0.2013014313\n",
      "\n",
      "  6.0000000000   6.1979574904   5.8153739622   5.0701359321   4.7678006869   1.5491857818   1.6822974778   2.5965787847   6.4258571331   2.4423189091   5.0309298965  11.6901786673   7.0711294703   0.2692446312   1.5708848834   0.1902936434   1.5414429693   5.5957348319   3.5894575035   1.5872898048   4.1973901637   1.6530244370   2.8828047770   7.2869388299   4.6766296968   0.1515543248   1.0684954462   0.1457942664   0.8316428895   3.5829639895   2.4095226402   0.0774293640   0.3882023976   0.1433907565   0.0859703000   0.6391163811   0.3445951093   0.0033647569   0.0870398022   0.0210977057   0.0086074991   0.3678902868   0.1935950437\n",
      "\n",
      "  6.0000000000   6.0917649237   6.8292215411   4.9053428589   5.6124317839   1.3752898191   1.8455074321   2.0186714621   6.6201815916   3.1092724979   4.9715619411  12.8566377155   9.3256927300   0.1270678357   1.6179217462   0.3778296578   1.7832699620   6.0143603035   4.9378038207   1.1820779134   4.2462986306   2.0214911267   2.8362752692   7.6261200569   6.1558983541   0.0668475136   1.0764898589   0.2549443721   1.0014112733   3.6065318798   3.3364977873   0.0478864067   0.3793558362   0.1420023532   0.0801725180   0.4355677189   0.4502894907   0.0016756290   0.0897278973   0.0214028560   0.0224847355   0.2140391141   0.2714667054\n",
      "\n",
      "  6.0000000000   6.1418543140   6.9367291732   4.9471844321   5.7092307660   1.3862297010   1.9119862323   2.0570650021   6.8488680394   3.3532973288   4.9792232715  13.5824911254   9.5023071117   0.1598753103   1.6692191041   0.4618755017   1.7834126047   6.4172996128   4.8704857295   1.2005729408   4.4186596373   2.1930103310   2.8105859256   8.1221504199   6.2648487782   0.0869307682   1.1192518103   0.3160378454   0.9803760881   3.8886436854   3.2796966859   0.0464054747   0.4328967742   0.1642789220   0.0690400321   0.4944785259   0.4622923270   0.0024616445   0.0994464005   0.0292789719   0.0150336723   0.2473272844   0.2647940881\n",
      "\n",
      "  6.0000000000   5.6717218285   6.8229820463   4.5576840957   5.5948432861   1.3214505847   1.8611044234   1.8484183729   6.4339346932   3.1930446653   3.7972270099  12.3185668758   9.4713329993   0.1619141390   1.5274720820   0.3796318117   1.2198199638   5.7896161096   4.9802358875   1.0867915724   4.1873003564   2.0838026767   2.0808495558   7.3887652234   6.2489728668   0.0907718564   1.0328484752   0.2600423723   0.6257386596   3.5117914737   3.3582743136   0.0389859293   0.3973679501   0.1499320505   0.0450572584   0.4417756346   0.4594937185   0.0023802168   0.0945249553   0.0230012929   0.0060704768   0.2225639072   0.2746567307\n",
      "\n",
      "  6.0000000000   5.8942012069   6.7871466912   4.7607900589   5.5752064800   1.3932111751   1.8710200417   2.0095947023   6.6974395437   3.2261687003   4.3772071288  12.5768621976   9.3960023681   0.1509129923   1.6647137626   0.4286663643   1.3290539884   5.8444036470   4.8765688783   1.1995275559   4.3350971197   2.1120737865   2.4865561647   7.5750728740   6.2148836812   0.0786270957   1.1094455032   0.2955443327   0.6984425423   3.5501122060   3.2982268663   0.0568245096   0.3983403846   0.1510048155   0.0803152505   0.4808192387   0.4657658529   0.0013774711   0.0882618622   0.0254538957   0.0092680103   0.2289679658   0.2745014174\n",
      "\n",
      "  6.0000000000   5.6718271178   8.0106591705   4.4509644079   6.8187593523   0.8540241248   2.6679734346   1.2433837441   6.2215569470   6.6478924635   3.5360496502  16.5333375839  12.0877333008   0.0370723500   0.8689550062   1.4672327594   1.3119996210   8.5379098617   5.2807186472   0.6485166200   3.6505298031   4.5349356948   1.8282070231  10.1241316112   8.4114441957   0.0176352945   0.5167463369   0.9717374054   0.6631759595   5.4523263907   3.8018488307   0.0087831820   0.1011803413   0.3674555189   0.0202861338   0.5767990858   0.7153048198   0.0000803854   0.0117071210   0.0688604775   0.0047200983   0.4006564621   0.3817467937\n",
      "\n",
      "  6.0000000000   5.8693328586   8.1371622351   4.6313558620   6.9356232530   0.9244388593   2.6813858029   1.4071199553   6.7236203794   6.8449050094   3.9850037977  17.7197218745  12.4341557962   0.0459255462   0.9509012655   1.4815029203   1.4058171363   8.8696462657   5.3686592413   0.7480518431   3.9802482886   4.6237961654   2.1076848990  10.9017344156   8.6363168488   0.0222819704   0.5655638800   0.9734350673   0.7228012892   5.6487454520   3.8767741259   0.0123881070   0.1211076523   0.3460503296   0.0311271691   0.6176878706   0.7292006368   0.0001090011   0.0125500899   0.0632598382   0.0071035773   0.4022868164   0.3969979872\n",
      "\n",
      "  6.0000000000   5.4958783166   7.9580821803   4.3364843579   6.8028804787   0.8554212518   2.6916943952   1.2136058598   6.1971630040   6.8933699726   3.2605630771  16.5103279349  12.3572130082   0.0401436124   0.9030868948   1.4957458159   1.0901223345   8.4630313451   5.3127551971   0.6369924606   3.6507782519   4.6811157382   1.6962678738  10.2252443892   8.6213712198   0.0184682409   0.5350292138   0.9893424331   0.5488411031   5.4640492089   3.8513464614   0.0092102519   0.1044708187   0.3653189442   0.0202694430   0.5999462009   0.7363823215   0.0000730345   0.0120366513   0.0677061318   0.0041694130   0.4145220298   0.3954591762\n",
      "\n",
      "  6.0000000000   5.7255295473   7.9123109104   4.5227112354   6.7689377005   0.8898613038   2.6984975823   1.3302008042   6.4396632034   6.8752973339   3.7145573857  16.9280531699  12.1439589325   0.0360924509   0.9282234723   1.5095874407   1.2500915643   8.5512788501   5.2186586448   0.7081290273   3.8073776077   4.6828357363   1.9635579090  10.4762071422   8.5000512413   0.0166856426   0.5505081884   1.0001908219   0.6424843571   5.4999877886   3.7942605274   0.0111138442   0.1135003588   0.3721029454   0.0259765788   0.6022790837   0.7348694821   0.0000799389   0.0123441496   0.0703513370   0.0056635768   0.4035134897   0.3925771692\n",
      "\n",
      "  6.0000000000   5.7556611559   7.8926590850   4.6512445172   6.4401034351   1.4192112059   1.9851841891   2.0751354332   7.4364790295   3.8576784807   3.9551932762  15.0584541997  11.2904720747   0.1480592026   1.6210671073   0.4978114443   1.1616674164   7.0741945570   5.8690309777   1.2730272326   4.8112392377   2.4424064949   2.2376808062   9.0459747715   7.1893437899   0.0822650871   1.0898781078   0.3362196560   0.5948299905   4.2933804256   3.8178114284   0.0529553317   0.4425414877   0.1624651040   0.0616609179   0.5065348475   0.4871014830   0.0025729661   0.0922840241   0.0303806292   0.0072172582   0.2389997522   0.2885316361\n",
      "\n",
      "  6.0000000000   5.5675030616   7.8805313917   4.5182976063   6.3993531595   1.4134943537   1.9344248942   2.0107301697   7.2505817598   3.6470977803   3.7438747388  14.1383368355  10.9519876674   0.1282298806   1.6056885974   0.4242451087   1.0319205854   6.5692782061   5.7855322031   1.2425159916   4.6952508486   2.2920055398   2.1389282679   8.4103999974   6.9344538924   0.0708444593   1.0891974529   0.2791238397   0.5261307086   3.9452335353   3.7404551460   0.0567390783   0.4377031602   0.1564751641   0.0642387640   0.4774238987   0.4564382672   0.0024513473   0.1033833766   0.0232202236   0.0059280441   0.2348584182   0.2696001470\n",
      "\n",
      "  6.0000000000   5.7954737721   7.9197033228   4.6691894673   6.4374301929   1.3799057904   1.9572800089   1.9731749266   7.2194901349   3.7105946365   4.0493830393  14.8279310849  11.0679719801   0.1592948881   1.6260813953   0.4590348774   1.3588121911   6.8653771782   5.8272762472   1.1829118720   4.6363370701   2.3388778746   2.2641625682   8.8069844899   7.0311393909   0.0883862013   1.0965997935   0.3037433124   0.7084126542   4.1195612049   3.7744021060   0.0476270700   0.4170877154   0.1592459169   0.0575371016   0.4822743765   0.4709908986   0.0026072199   0.0956852930   0.0259850372   0.0083440906   0.2306594067   0.2753388166\n",
      "\n",
      "  6.0000000000   5.5415187297   7.5547835758   4.4524837315   6.1631658927   1.3180979061   1.9416066946   1.7730627733   6.7573313116   3.4800682268   3.5924738397  13.3712548673  10.4802610629   0.1187728624   1.5565277411   0.4417419111   1.1216564553   6.4206686014   5.5983778160   1.0596223226   4.3586260162   2.2376605328   1.9908178352   7.9399075641   6.7627483031   0.0626857430   1.0516880219   0.2957470577   0.5644351442   3.8698402421   3.6703975637   0.0448877716   0.4055595746   0.1648816460   0.0537175608   0.4553087817   0.4743760218   0.0014926155   0.0934524527   0.0266883418   0.0050235016   0.2292874257   0.2772656417\n",
      "\n",
      "  6.0000000000   6.1937250461   6.4075249406   5.0645989298   5.1852089985   1.6046507757   1.7102989284   2.7113958500   6.8518394454   2.5729374102   4.9950934984  12.6800350657   7.8664147738   0.2695094241   1.7037019388   0.1979691757   1.4753575600   6.0013295046   3.9935004705   1.6951531074   4.4856720671   1.7162769061   2.8964866612   7.8210238330   5.0513895914   0.1570948948   1.1708623135   0.1483752358   0.7862005751   3.8104773288   2.5976874591   0.0827168019   0.4190007615   0.1463992939   0.0887080151   0.6601171520   0.3643459071   0.0046460156   0.1044514541   0.0212000302   0.0101822178   0.3924105743   0.2071463475\n",
      "\n",
      "  6.0000000000   5.9302829615   6.3708388943   4.8615344376   5.1525364447   1.5543852543   1.7183711629   2.5537810169   6.7352651230   2.6208483524   4.4946341754  12.1034147630   7.7109115798   0.2423845322   1.6721056932   0.2340623938   1.2405233299   5.6396387103   3.8656138550   1.5902122995   4.4103072491   1.7521348931   2.6067364197   7.4761202879   4.9749520765   0.1393688554   1.1440015169   0.1787346447   0.6555180096   3.5803400425   2.5281227956   0.0738434834   0.4214325668   0.1450221380   0.0759380083   0.6213924339   0.3680589888   0.0037894429   0.0987001527   0.0245901896   0.0068083786   0.3554932887   0.2077388078\n",
      "\n",
      "  6.0000000000   6.2987211122   6.4257203463   5.1325178675   5.1775984690   1.5513640901   1.6960322790   2.6136514443   6.6622108537   2.4669941209   5.3221921247  12.6106153711   7.6216720233   0.2341566718   1.6632915118   0.1806210453   1.7169551708   6.1097099504   3.9089807315   1.5949680965   4.3202146800   1.6511923158   3.0735754021   7.6540089709   4.9106146831   0.1330857261   1.1395781140   0.1349555513   0.9410977604   3.8310876928   2.5493800987   0.0687228058   0.3996114656   0.1463256424   0.0838661217   0.6011002764   0.3635405879   0.0038402252   0.1037456224   0.0195824087   0.0149921776   0.3668467315   0.2065122197\n",
      "\n",
      "  6.0000000000   5.9761980147   6.2056444228   4.8775606005   5.0312289461   1.5142891336   1.7029497923   2.3886766419   6.4298296136   2.4829635537   4.7444536195  11.6674384146   7.4448053433   0.2214716420   1.7261496308   0.2247148109   1.4073567242   5.5322131041   3.8019674255   1.4667519315   4.1975745736   1.6814571722   2.7432021571   7.1614528329   4.8815348726   0.1223031277   1.1769459417   0.1709063924   0.7578938851   3.4988958886   2.5209680583   0.0751871039   0.3994999124   0.1385122031   0.0853599248   0.6049158115   0.3792414107   0.0030481194   0.0960933127   0.0222862555   0.0088880922   0.3489507667   0.2171565637\n",
      "\n",
      "  1.0000000000   5.7430126260   6.1845121243   4.6360349921   5.0158674625   1.0032573244   1.5243423144   1.6660546046   4.6646162808   1.5411012239   4.0430492053  12.0673157352   7.1081616382   0.0953025238   0.5252320164   0.2229265413   1.2535446302   5.6554846293   4.4901859627   0.9030539586   2.7287794600   0.8907179658   2.2195733265   7.2239114846   4.6436064014   0.0456599154   0.3112918072   0.1170353212   0.6698822820   3.4734453973   2.9714537874   0.0087143940   0.0706917692   0.0495115717   0.0256822796   0.2748070667   0.4503576999   0.0001171927   0.0055235304   0.0006516609   0.0073797193   0.1472665461   0.2830015648\n",
      "\n",
      "  1.0000000000   5.5467168096   6.2273514955   4.4694794482   5.0631058331   0.9985846061   1.5505569983   1.5815346587   4.6277407437   1.6006880491   3.6627810839  11.9519582542   7.2294302892   0.0980749215   0.6683844076   0.2228149347   1.1273856819   5.7448844428   4.6219888783   0.8669810534   2.7349050466   0.9204009306   1.9903652214   7.1966044213   4.7236713639   0.0478189092   0.4243033778   0.1179505799   0.5879628486   3.5719209841   3.0692664697   0.0095296852   0.0794296388   0.0474466479   0.0210646625   0.2870769032   0.4651096079   0.0001678113   0.0148488887   0.0007783893   0.0046737358   0.1626759672   0.3040283173\n",
      "\n",
      "  1.0000000000   5.6612120773   6.4882102937   4.5594880745   5.2260113004   0.9423001342   1.5303531676   1.5620948532   4.5621060286   1.6223933690   3.8906485115  12.6080960156   7.4914618959   0.0722718873   0.5794213147   0.2040840442   1.2057127845   5.9748917865   4.6577889692   0.8383975524   2.6360015964   0.9167812868   2.1146170959   7.4457067545   4.8253731858   0.0352785932   0.3546636640   0.1065356692   0.6436344178   3.6207106610   3.0612242595   0.0071620322   0.0656166821   0.0503906169   0.0206042747   0.2681131827   0.4695507203   0.0001171510   0.0078868088   0.0005530133   0.0058180088   0.1461128432   0.2982755674\n",
      "\n",
      "  1.0000000000   5.4290936883   6.0089707767   4.3078076074   4.8383212133   0.7891528037   1.4501220506   1.1858927922   3.6140595970   1.2968982902   3.3035867906  10.9022855568   6.8257495669   0.0479735461   0.3097032590   0.2035764563   1.1215380310   5.2117808479   4.3306296252   0.6074624180   2.0433291415   0.7470548777   1.7071766927   6.4225312034   4.4470380590   0.0223963964   0.1737359281   0.1064895034   0.5724337004   3.1420253994   2.8605902001   0.0033363642   0.0568694757   0.0466930620   0.0096521965   0.2690891334   0.4375080076   0.0000554886   0.0018886178   0.0005410362   0.0029308277   0.1414133861   0.2759459791\n",
      "\n",
      "  1.0000000000   5.2663103761   7.4565577151   4.2001476329   6.0533944302   0.8612996889   1.7155824952   1.2509932087   4.6703257832   2.6133960686   3.3021677208  12.6870874638  10.1271034165   0.0660848960   0.6147567009   0.2828488088   1.0740467167   6.0250317338   5.9709638169   0.6694708003   2.6794046519   1.4866819921   1.7762073331   7.3931242762   6.4013786218   0.0318296114   0.3657036411   0.1533441400   0.5604143326   3.6161624023   3.8572365590   0.0071462516   0.0688042815   0.0585826627   0.0186220804   0.2224498776   0.4870363566   0.0000951189   0.0105696513   0.0012094909   0.0046355827   0.1219576661   0.3037801459\n",
      "\n",
      "  1.0000000000   5.3219401723   7.7552953531   4.2300929585   6.3071826274   0.8213341273   1.8243953036   1.2191886872   4.8312890994   2.9566959156   3.3683244544  13.5425113021  10.9808440975   0.0634422314   0.5259617146   0.2931244481   1.2101395467   6.3794256442   6.2991664221   0.6368110751   2.7522261785   1.7027462807   1.7871788658   7.8901280731   6.9813288040   0.0302248956   0.2989759523   0.1567125780   0.6350152379   3.8206680798   4.0887498442   0.0041850847   0.0634184579   0.0763670906   0.0135099035   0.2357979887   0.5784720856   0.0000755891   0.0045385809   0.0011787604   0.0045101812   0.1294648201   0.3492578150\n",
      "\n",
      "  1.0000000000   4.6256625583   7.4402565906   3.5780390306   5.9664465524   0.5574593148   1.6543675952   0.6735468840   3.2510353489   2.2143695725   2.0956041538  10.5057454200  10.0434555415   0.0216473177   0.1989551428   0.2027050171   0.7816773111   5.1154057880   5.9975483039   0.3231924620   1.7832332329   1.2548163924   1.0094638624   5.9081327709   6.3266457920   0.0094415115   0.1047382092   0.1028668415   0.3724057143   2.9463037263   3.8502261476   0.0010702818   0.0371993724   0.0614999078   0.0034066629   0.1634669891   0.5154702795   0.0000119754   0.0010104797   0.0005482534   0.0011419789   0.0900093496   0.3193723379\n",
      "\n",
      "  1.0000000000   4.9793288100   7.3393406036   3.9295732188   5.9005116033   0.7281125231   1.6353611649   0.9504092216   3.8844234162   2.1652032627   2.7151691491  11.4608971469   9.8224880788   0.0529847595   0.2821616390   0.2217043028   0.9755921418   5.3734685686   5.8738385813   0.4836306651   2.1922519968   1.2212005927   1.3935943624   6.6026346290   6.1999614896   0.0251114071   0.1518056521   0.1118067436   0.4962006219   3.1491269997   3.7786926367   0.0025646515   0.0622909867   0.0590081567   0.0075435500   0.2316672380   0.5004046024   0.0000590130   0.0015614607   0.0004741640   0.0024418641   0.1131678367   0.3087212333\n",
      "\n",
      "  1.0000000000   4.7941173373   9.2552296320   3.6954176680   7.6032304369   0.5881891811   2.1219279214   0.7001497389   4.5345793445   4.7477383326   2.3563879354  14.0693621859  15.9244388796   0.0271143014   0.2167881574   0.8175663258   0.9725096846   6.3734807965   8.6847174477   0.3396397905   2.4928605011   2.7131531372   1.1381098985   7.9887379599  10.0119066232   0.0122952992   0.1078627140   0.4555045221   0.4665602959   3.6908817063   5.6203106679   0.0012583505   0.0535391038   0.0881693021   0.0037882045   0.2093086643   0.6333814899   0.0000202512   0.0009711018   0.0043613132   0.0013479155   0.1044373517   0.3800590415\n",
      "\n",
      "  1.0000000000   4.5005011591   9.2388907318   3.4742823447   7.5601544783   0.5803965373   2.0720062708   0.6221688337   4.2765778454   4.5381861934   1.9571045239  13.2203157526  15.4522139845   0.0255615995   0.2011337130   0.7581295408   0.7862586727   5.9784851808   8.5997623311   0.3064032710   2.3655418232   2.5650659522   0.9448172201   7.5340350144   9.6303135840   0.0114981799   0.1000668545   0.4224747706   0.3696321241   3.4760954089   5.5188801696   0.0015707214   0.0529941488   0.0770955145   0.0038809504   0.2133534754   0.5985013250   0.0000197645   0.0008325646   0.0041356730   0.0010350723   0.1084914632   0.3724424572\n",
      "\n",
      "  1.0000000000   4.7537806581   9.2250325206   3.6925628147   7.5402567792   0.6236947982   2.0850519622   0.7400204738   4.6291972947   4.5563767986   2.3818003929  13.9317340752  15.1944306219   0.0351642367   0.3409846977   0.7676969422   0.9884110214   6.2231354978   8.4874451152   0.3636533957   2.5580806155   2.5984533060   1.1860030228   7.9792941675   9.4954234386   0.0160814759   0.1795282240   0.4400287404   0.4898299322   3.6598943104   5.4495823776   0.0017152465   0.0532472221   0.0825514697   0.0060054716   0.2186204694   0.5986220157   0.0000226216   0.0016750421   0.0057181871   0.0021987593   0.1150788295   0.3674472830\n",
      "\n",
      "  1.0000000000   4.5867068443   8.7496486034   3.5363211085   7.1790224352   0.5533265303   2.0261446111   0.6508971664   4.0448165600   4.0990542908   2.1396162041  12.5560849070  14.2599865243   0.0229939790   0.2623717841   0.8538003700   0.8800619288   5.7400662514   8.0706830841   0.3125596865   2.2001625022   2.3506636269   1.0375513849   7.1381572633   9.0217494095   0.0103878844   0.1320049987   0.4874680142   0.4273747820   3.3548834403   5.2340663910   0.0010345916   0.0445660100   0.0745087286   0.0037102831   0.1980961139   0.5841886401   0.0000150389   0.0007351974   0.0056976816   0.0015214484   0.1047571878   0.3644682583\n",
      "\n",
      "  1.0000000000   5.5846241539   6.7813512721   4.4261923820   5.4378599485   0.8097761432   1.5299460289   1.2525048815   4.0298573376   1.7892879404   3.6094223460  12.3085062029   8.3927511350   0.0507387810   0.2888061818   0.1459769268   1.2542961347   5.8215308064   5.1267888369   0.6457811259   2.2785816730   0.9955129453   1.8757840493   7.1481653418   5.2957428047   0.0236000234   0.1564155819   0.0750982706   0.6406336430   3.4589619917   3.3208208517   0.0043958976   0.0603459810   0.0479582035   0.0119993017   0.2590602575   0.4651277247   0.0000530926   0.0021940198   0.0003760798   0.0032779896   0.1373089402   0.2999957389\n",
      "\n",
      "  1.0000000000   5.1466556943   6.5898691611   4.0178222597   5.2440150103   0.6708577888   1.4919702398   0.9094184143   3.4043500522   1.5192611266   2.8511247503  10.9657165346   7.8392693187   0.0333013112   0.1556803298   0.0839720538   1.0691040295   5.1392548034   4.7859404951   0.4537997234   1.9144170468   0.8524682216   1.4413073469   6.3156190106   4.9781895697   0.0154078022   0.0834139325   0.0399870028   0.5360593250   3.0110954888   3.1048303477   0.0023225463   0.0501284287   0.0525847454   0.0083309611   0.2360405606   0.4808892300   0.0000285610   0.0008718661   0.0001164799   0.0029857687   0.1242458697   0.3005275848\n",
      "\n",
      "  1.0000000000   5.6094818528   6.8655745237   4.4286011651   5.4767620537   0.8211902685   1.5072082092   1.2548464888   4.0891278684   1.7303178476   3.7005340170  12.1547003789   8.1829334732   0.0587540906   0.2921031714   0.1178639194   1.3482937411   5.8280737629   5.0389187234   0.6500012837   2.3235229514   0.9535621564   1.9315293690   6.9786357999   5.1351716427   0.0281502741   0.1656629105   0.0587178110   0.6936329537   3.4329064322   3.2469676810   0.0046512776   0.0600162587   0.0452934197   0.0142116638   0.2286382082   0.4540960155   0.0000741539   0.0036822403   0.0002225689   0.0044559658   0.1253048587   0.2963087197\n",
      "\n",
      "  1.0000000000   5.2562612427   6.6242512608   4.1296518255   5.2892203534   0.7372949624   1.5005000700   1.0412811811   3.6144286017   1.5944141986   3.1541543508  11.1034536698   7.9496032711   0.0448684338   0.2038998298   0.1030384489   1.1411037051   5.1904208138   4.9013302574   0.5319241261   2.0498179259   0.8982965575   1.6355223758   6.4292248796   5.0470292142   0.0210940976   0.1091443165   0.0510531275   0.5852335326   3.0633983430   3.1745999939   0.0038075414   0.0584689526   0.0499742649   0.0133254932   0.2535558318   0.4581812726   0.0000463182   0.0011957376   0.0001971256   0.0045547580   0.1310402512   0.2873101878\n",
      "\n",
      "  6.0000000000   6.8702222661   6.2469047238   5.6395971036   5.1002472061   1.6733340156   1.7227257372   3.2094130021   7.3310525942   2.5978982131   6.7163045616  14.4223221961   7.4045888692   0.2827182373   1.7610610962   0.2407910054   2.2010420745   6.7515327461   3.7189793132   1.9477978807   4.7468408328   1.7386265896   3.9305221718   8.8694569169   4.8457009895   0.1592437806   1.1888071366   0.1772478003   1.2508527690   4.2365166296   2.4728568403   0.0807616140   0.4193005970   0.1437931465   0.1027153865   0.6470906720   0.3537462536   0.0038508922   0.0994491534   0.0237948768   0.0194477770   0.3693530500   0.2007767054\n",
      "\n",
      "  6.0000000000   6.8354487336   6.3514283672   5.6110486273   5.1865349375   1.6795101995   1.7577275161   3.0828506702   7.4084987363   2.6915238389   7.0163602055  14.3166471722   7.5632871789   0.2784076246   1.8716876865   0.2741946819   2.3165546885   6.7155804528   3.7503937863   1.8796847119   4.7977182115   1.8082213017   4.1984510220   8.7896573187   4.9730615718   0.1510934530   1.2558912359   0.2023415042   1.3522464985   4.2084942927   2.5012211488   0.0905989020   0.4424437574   0.1509839426   0.1393155463   0.6638204957   0.3758299961   0.0031306875   0.0988853378   0.0267886914   0.0296309902   0.3658395824   0.2077207852\n",
      "\n",
      "  6.0000000000   6.9607671745   6.2874525496   5.7129488356   5.1202635507   1.7159218400   1.7361028232   3.2583611792   7.5563875201   2.6401848861   7.1894868006  13.9914958329   7.4251863883   0.2560283310   1.8804660652   0.2600572021   2.4420784105   6.6730716518   3.7149936679   1.9808857294   4.8946537305   1.7714127633   4.2745245468   8.4986980440   4.8637180396   0.1416007795   1.2703253535   0.1946601179   1.4269254828   4.1426907394   2.4696038489   0.0887972631   0.4601831889   0.1480443905   0.1403220996   0.6385478930   0.3597524855   0.0033328119   0.1063503602   0.0264789287   0.0361420487   0.3582004843   0.2004369880\n",
      "\n",
      "  6.0000000000   7.1717236866   6.4081883627   5.9083052748   5.2387481750   1.7792122138   1.7827687541   3.5431693132   7.9816794544   2.7790775507   8.0625304212  15.0855220613   7.5464386867   0.2867706835   1.9416676905   0.3090014901   2.8587071059   7.1497218418   3.7872719880   2.1574339003   5.1492769682   1.8612052128   4.8827085114   9.2449271817   4.9576083433   0.1603479690   1.3018048158   0.2288822725   1.7387362943   4.4828473418   2.5235026088   0.0961510826   0.4554869628   0.1545002961   0.1799246419   0.6918777433   0.3793540892   0.0034229323   0.1000961092   0.0303833298   0.0610650589   0.3905820755   0.2131829500\n",
      "\n",
      "  6.0000000000   6.5937124735   7.0869382104   5.3363743868   5.8106698580   1.5440854150   1.9175757343   2.6121551292   7.6973000625   3.4261454844   5.9557688755  15.1101582761   9.7895578962   0.1827237960   1.7195366699   0.4487720380   2.1745947198   7.0123685078   5.0330298380   1.5666960415   4.9861285705   2.2301583528   3.4388758658   9.0892247004   6.4141168782   0.1025099702   1.1421507253   0.3085562689   1.2277399709   4.2325020239   3.3822681598   0.0621538511   0.4522569437   0.1620121325   0.1014350703   0.5203907980   0.4653713942   0.0028262458   0.0954565279   0.0296496906   0.0276898932   0.2465003362   0.2770249625\n",
      "\n",
      "  6.0000000000   6.2899136685   7.2140443367   5.0590964383   5.8830970272   1.3981832982   1.8730253441   2.1315273119   6.9435060558   3.2597179068   5.2721126236  14.2031961749   9.8585905539   0.1371626838   1.6151858306   0.3663803192   1.9402981130   6.8394131073   5.1463031414   1.2491433228   4.4259477200   2.0994858879   2.9831115100   8.3789206774   6.4385439767   0.0703370657   1.0770829266   0.2441743694   1.0608493679   4.0853440699   3.4405512220   0.0495660424   0.3732749040   0.1486300973   0.0781091351   0.4520426128   0.4672864525   0.0013806354   0.0901643033   0.0199699702   0.0164581809   0.2357070616   0.2767518142\n",
      "\n",
      "  6.0000000000   6.5879340802   7.3139778212   5.3522566050   5.9600947278   1.5254115514   1.8748083121   2.5841537669   7.5766658594   3.3415946394   6.1430495475  15.4138784702   9.9003846042   0.1936595165   1.7310310431   0.3792647026   2.2803657991   7.1569327315   5.1438038847   1.5273369831   4.8211726091   2.1364411067   3.5780705176   9.1774945834   6.4083725561   0.1053459445   1.1475811100   0.2540114506   1.3207518408   4.3132799556   3.4136990561   0.0623180340   0.4022384812   0.1496297171   0.1100894911   0.5189688793   0.4457450455   0.0025071736   0.0944326035   0.0218443406   0.0347617091   0.2695097548   0.2635786727\n",
      "\n",
      "  6.0000000000   6.6484423112   6.9533436363   5.3759198069   5.6932368263   1.4956579278   1.8804493940   2.5154121171   7.3433398661   3.1881970784   6.3577908200  14.5519216500   9.4539366241   0.1677307834   1.7346856866   0.3823058417   2.5076472719   6.8393282525   4.9800350076   1.4695222587   4.7071781966   2.0838407365   3.6841997505   8.6679814458   6.2348953614   0.0908273605   1.1551724210   0.2597843569   1.4759216511   4.1157244255   3.3631848501   0.0570213163   0.4206947846   0.1590451558   0.1145516653   0.4989864958   0.4661028276   0.0019094211   0.1008405686   0.0235517166   0.0464503096   0.2521194620   0.2793178027\n",
      "\n",
      "  6.0000000000   5.9996607261   8.1327013279   4.7676559103   6.9240276621   1.0200620497   2.6775472453   1.6276527182   7.2591283299   6.9658593914   4.2432251716  18.4097207470  12.5876644006   0.0572002171   1.0234123585   1.4739626491   1.4340791991   9.0877241850   5.4453373120   0.8934626895   4.3641752246   4.6996848754   2.2806044583  11.4418217952   8.6653065506   0.0282669882   0.6161634399   0.9792067828   0.7406562684   5.8265425927   3.8959328996   0.0161938771   0.1433839039   0.3627775744   0.0345393990   0.6841815757   0.6988895652   0.0001789336   0.0154678245   0.0702931850   0.0069384316   0.4371197140   0.3793431424\n",
      "\n",
      "  6.0000000000   5.7468800520   8.1580539052   4.5267224910   6.9440348768   0.8581307014   2.6967285895   1.3028664977   6.3787208912   6.9365557057   3.6837073350  17.3754797805  12.4594861100   0.0362797272   0.8622930892   1.4948084117   1.2751340445   8.8961338589   5.3198785403   0.6851163679   3.7272031540   4.6959066248   1.9241777246  10.6663685895   8.6280649025   0.0165994166   0.5053773719   0.9878266227   0.6480997552   5.6868589683   3.8248295751   0.0085216498   0.0965925695   0.3658428703   0.0199769767   0.5646487254   0.7308780993   0.0000642253   0.0101091226   0.0677619318   0.0046000138   0.3921511560   0.3886446562\n",
      "\n",
      "  6.0000000000   5.9077248906   8.2406070985   4.6881997019   6.9923308403   0.9692972425   2.6771549423   1.5108467407   7.0389986512   6.8964393902   4.0345408106  18.2089961306  12.5903278179   0.0559215617   0.9598380497   1.4812520954   1.4202322685   9.1254284792   5.4499961005   0.8112529159   4.1889277200   4.6467657036   2.1529023696  11.2560780064   8.6862118978   0.0270515762   0.5688466731   0.9767179767   0.7363958433   5.8352823342   3.9051518195   0.0125727871   0.1252718529   0.3485442818   0.0298626813   0.6267615505   0.7226329059   0.0001293149   0.0122013989   0.0647382740   0.0068082823   0.4075066766   0.3919805125\n",
      "\n",
      "  6.0000000000   5.8340263363   7.8672207374   4.5819148652   6.7096977699   0.8867362498   2.6702768705   1.3536899934   6.4070536489   6.6792687128   3.7921485200  16.8865869314  11.8861582812   0.0421838101   0.8589285311   1.5046938924   1.3971944400   8.6814455448   5.1712899892   0.7120450991   3.7819684679   4.5676437649   1.9651976188  10.4092692432   8.2973341969   0.0202234543   0.5062053895   1.0004038003   0.7068973588   5.5601065673   3.7354675363   0.0089494817   0.1047540903   0.3717872478   0.0206170089   0.5871734741   0.7168266310   0.0000951888   0.0104270616   0.0708859877   0.0051100407   0.4037959127   0.3820087174\n",
      "\n",
      "  6.0000000000   5.8830786571   7.9487533000   4.7367709252   6.4814163606   1.3823504942   2.0015727419   2.0072238951   7.3645981962   3.8146142304   4.4335056827  14.8993283428  11.0799594137   0.1400302758   1.6969271897   0.4986563951   1.4648530155   6.9839286082   5.8103121955   1.1933107785   4.7188096875   2.4202728296   2.4999972767   8.8381661186   7.0962996438   0.0739921438   1.1431290051   0.3310805850   0.7674450854   4.2169315684   3.7886820895   0.0510779943   0.4370697987   0.1683534765   0.0694058922   0.5013758673   0.5050994106   0.0015212475   0.0987471559   0.0287300767   0.0085051638   0.2524353372   0.2951573450\n",
      "\n",
      "  6.0000000000   6.0549233475   8.1340384194   4.9262120110   6.6068254427   1.5128127894   1.9588940754   2.4035370126   7.9000135508   3.8176269989   4.9796483279  16.1586882438  11.2974914505   0.1823802518   1.7074391201   0.4511081132   1.5135551723   7.3410723953   5.9799550147   1.4831665218   5.0543306540   2.3765455233   2.9204287747   9.6984575907   7.1196939434   0.1010271385   1.1429272305   0.2918473285   0.8189590038   4.4616466969   3.8439705995   0.0675069798   0.4151599673   0.1496820771   0.0977677971   0.5301455401   0.4507062565   0.0027489976   0.0958126208   0.0223310142   0.0147226949   0.2670489837   0.2652671819\n",
      "\n",
      "  6.0000000000   5.7210674476   7.4351881126   4.6280286866   6.0397931795   1.3978343318   1.9086103963   2.0164672059   7.0005906335   3.4058571452   4.1599024194  13.2845647680  10.3443089467   0.1318513465   1.6926157818   0.3858352656   1.2921629602   6.2090281120   5.4164614444   1.2229621536   4.5454338263   2.1975233797   2.3710192441   7.9210094091   6.6951718263   0.0701313416   1.1467290862   0.2620180153   0.6769997208   3.7335013177   3.5729035945   0.0539106044   0.4451146979   0.1625681573   0.0692156767   0.4722065680   0.4783789741   0.0016215632   0.1061741337   0.0242003744   0.0075746328   0.2234066393   0.2797456968\n",
      "\n",
      "  6.0000000000   5.9356039942   7.5485750044   4.8076170588   6.1280361860   1.4418807606   1.9341366173   2.2178695096   7.3737161212   3.4339834943   4.5651108656  14.1315096437  10.3880861500   0.1555173403   1.6503452887   0.4166110709   1.5086112468   6.5536260022   5.4972499742   1.3456968778   4.7864870720   2.2174138051   2.5987639973   8.4270102849   6.7027082558   0.0877463169   1.1210452088   0.2809002794   0.8083686841   3.9406975276   3.6067628686   0.0535619202   0.4533888986   0.1685518664   0.0663136545   0.4838171553   0.4893965364   0.0026256015   0.1059437766   0.0256052280   0.0098053705   0.2321690564   0.2867275187\n",
      "\n",
      "  6.0000000000   6.4669380407   6.6747368841   5.3082562400   5.3736741692   1.6831261055   1.7297725452   3.0025220334   7.3533984075   2.5541631841   6.0495038343  13.4076367537   7.9037430297   0.2811192841   1.8762660212   0.1879929267   1.8840737049   6.1962226340   4.0660790597   1.8745543624   4.7898393754   1.7034310310   3.6090479410   8.1418520220   5.0720646973   0.1602736595   1.2956701593   0.1363087737   1.0644293279   3.8596884935   2.6331339012   0.1035891788   0.4625606953   0.1557868176   0.1278599959   0.6804690826   0.3707856356   0.0047987662   0.1230166846   0.0200463092   0.0198760643   0.3879870739   0.2065164892\n",
      "\n",
      "  6.0000000000   6.7704506944   6.9287528875   5.5598423979   5.5552127409   1.6987952677   1.7263810673   3.2160525557   7.6081491055   2.6765788726   6.8169248483  14.9508892702   8.2172866198   0.2872503414   1.7871142654   0.2166967164   2.2237402738   6.9568476369   4.2021707427   1.9832883353   4.9004537950   1.7544061782   4.0443104389   9.0466178582   5.1869446081   0.1629373689   1.2174933277   0.1575510941   1.2642053680   4.3185319962   2.6855543617   0.0910249094   0.4413952321   0.1451909675   0.1188700193   0.6575091901   0.3531775062   0.0041377917   0.1083082642   0.0216188432   0.0198807656   0.3795265080   0.2002305919\n",
      "\n",
      "  6.0000000000   6.4998028746   6.4706743592   5.3563768908   5.2515672345   1.7317791851   1.7605998371   3.1639026309   7.5450375474   2.7466168986   6.2205011930  13.2870323359   7.8075474438   0.2695003982   1.8538108369   0.2463337439   1.9654193002   6.3378059046   3.9025160146   1.9970666888   4.9183111677   1.8371492232   3.7669553198   8.2085330682   5.0979929940   0.1538346885   1.2586898910   0.1855022176   1.1341777072   4.0053461780   2.5811408803   0.1039412485   0.4207379261   0.1515333405   0.1435674753   0.6891174111   0.3901809094   0.0039800374   0.0968952863   0.0250301590   0.0275696861   0.3985577416   0.2185910762\n",
      "\n",
      "  6.0000000000   6.7530788495   6.6019675389   5.5752980033   5.3510197471   1.7800535842   1.7529211429   3.3914855173   7.8912792700   2.6915574985   6.9140951656  14.4804751903   7.7616648842   0.2953417665   1.8842135669   0.2256310572   2.2319244648   6.7932307515   3.9475013229   2.1260261202   5.1189097742   1.7859612769   4.2285153735   8.9059805074   5.0297027685   0.1693807884   1.2833045693   0.1644358950   1.3167855546   4.2852914571   2.5913467982   0.1035774314   0.4375874202   0.1523400361   0.1675574624   0.6901125939   0.3751314559   0.0045051405   0.1078292175   0.0224892308   0.0424367137   0.4013462547   0.2116982418\n",
      "\n",
      "  1.0000000000   5.9561213332   6.9133171976   4.7828939855   5.6094065797   0.9822537017   1.6379568191   1.6267662505   5.1184794304   2.0829773204   4.3533594098  14.5573952747   8.4153900536   0.0883092774   0.4692333247   0.2582760778   1.5726509301   6.7975673945   5.1934966959   0.8644314036   2.9720684931   1.1890049896   2.3790376175   8.6757265644   5.3843430784   0.0426851478   0.2799295420   0.1370804928   0.8546872068   4.1602711020   3.3856275068   0.0070125340   0.0728275739   0.0533846178   0.0239615176   0.2992510023   0.4760002901   0.0001254965   0.0060188531   0.0009867788   0.0084828008   0.1629239497   0.3020697944\n",
      "\n",
      "  1.0000000000   6.0068144003   6.9584180183   4.8335732079   5.6552366974   1.0501666006   1.7020217249   1.6901153626   5.4170986052   2.2144489395   4.6857592349  14.7654893342   8.6744179583   0.1335096405   0.5011061961   0.3415451442   1.6791362577   6.7357064260   5.2407191476   0.9147574710   3.2020329698   1.2851789806   2.6316528645   8.8969612626   5.6074227159   0.0648372207   0.2906050887   0.1875537562   0.9349246996   4.1523321575   3.4502742438   0.0119422285   0.0999375904   0.0631555809   0.0421721462   0.3577536366   0.5174431931   0.0001729719   0.0065944327   0.0018477366   0.0138207939   0.1855894671   0.3172513346\n",
      "\n",
      "  1.0000000000   6.2846043608   6.9328714823   5.0975511963   5.6136566294   1.1845321635   1.6856381655   2.1547459739   6.0299825797   2.0753637868   5.1731184014  14.9870524045   8.4861879230   0.1432728099   0.6613445668   0.2747430004   1.7807187778   6.9593023464   5.1720837022   1.1971946173   3.6006239638   1.1950812733   2.9008486025   8.9306353376   5.4691262160   0.0742512938   0.4124505435   0.1474643776   0.9857464165   4.2438397904   3.3943491959   0.0142259475   0.1132987295   0.0643849868   0.0391410732   0.3418365126   0.5367565164   0.0003929436   0.0140477847   0.0011772457   0.0125595937   0.1819574304   0.3282486153\n",
      "\n",
      "  1.0000000000   6.4359577080   7.1362714006   5.2493699340   5.8182838348   1.3313377155   1.7444202801   2.4962058345   6.7664504412   2.4419281683   5.5172914503  16.4299206072   8.8641575622   0.1871826084   0.8918020997   0.3409773672   1.8808152071   7.6132603571   5.3459374069   1.4318553423   4.1140162113   1.4060902044   3.1511021383   9.9924546187   5.7051496126   0.1014607380   0.5856510396   0.1879197073   1.0531114381   4.7633329696   3.5081565274   0.0230435095   0.1480448730   0.0652067304   0.0497963686   0.4184356019   0.5289830417   0.0009328372   0.0292562399   0.0017949276   0.0145451475   0.2323108399   0.3238026429\n",
      "\n",
      "  1.0000000000   5.7743876656   7.7317452950   4.6185992493   6.2691890882   1.0107622505   1.8085284899   1.6340962676   5.5644121711   2.8062608745   4.1338663212  15.0365321418  10.7740865109   0.0951867551   0.7624233687   0.3547890987   1.4165848325   6.9714910430   6.2705489013   0.8952368662   3.2721681416   1.6145779742   2.2531785205   8.9130623894   6.8429020214   0.0470537988   0.4596736164   0.1924856072   0.7460133354   4.2195972373   4.0677826538   0.0122615229   0.0934182229   0.0718090631   0.0326610107   0.3003207621   0.5683930589   0.0001752838   0.0124885898   0.0016106797   0.0088043704   0.1600815938   0.3466877566\n",
      "\n",
      "  1.0000000000   5.4611519744   7.7882490004   4.3400895251   6.2933397103   0.8607007850   1.7123701488   1.2809253983   4.7978267116   2.6926781322   3.6223919275  13.8634931395  10.5674668873   0.0633132148   0.5272884636   0.3131693366   1.2844627093   6.5352525874   6.2363091890   0.6790464838   2.7282997844   1.5050180376   1.9604443584   8.0581999053   6.5970127585   0.0290660164   0.2998885284   0.1675227995   0.6788867716   3.8970290066   3.9913412533   0.0079317142   0.0640473837   0.0541740537   0.0257546696   0.2352817404   0.4715211842   0.0000513341   0.0052109410   0.0011270335   0.0075888918   0.1269301064   0.2981870991\n",
      "\n",
      "  1.0000000000   5.8847571364   8.0763082368   4.7209472714   6.5260644491   1.0350776504   1.7763479523   1.6736565763   5.7679237484   2.9884331645   4.4438362677  15.9138510234  11.0669221245   0.1147769649   0.8310328491   0.3418495160   1.6363387573   7.4551607905   6.4267372410   0.9075119469   3.3491508536   1.6701012285   2.4404344050   9.3339591508   6.8737952810   0.0591839723   0.5093320202   0.1839008202   0.8904263608   4.5033876900   4.1006045203   0.0107409977   0.0949529779   0.0595470683   0.0326550922   0.2981897240   0.4999670379   0.0003193699   0.0181413302   0.0013428053   0.0113130237   0.1654168817   0.3143406253\n",
      "\n",
      "  1.0000000000   5.7987921839   7.4419315217   4.6364912868   6.0074563151   1.0293572545   1.7166140759   1.6340403460   5.3520326245   2.4177742932   4.2438895006  14.1158860577   9.8447037054   0.0806674077   1.0047781240   0.3286608568   1.4894231683   6.6646407807   5.8915161560   0.9000122135   3.1455651405   1.3802275286   2.3174193608   8.2870278816   6.2629298753   0.0415443238   0.6536957739   0.1814039430   0.7945380959   4.0271701648   3.8320834229   0.0128913392   0.0999420013   0.0604140225   0.0311151365   0.2994425778   0.5248357918   0.0003301330   0.0324117187   0.0017563642   0.0083946615   0.1711735822   0.3320167631\n",
      "\n",
      "  1.0000000000   4.8149975394   9.2973533056   3.7417316729   7.6308452128   0.6444294167   2.1329887470   0.7885068439   4.7996760053   4.8212305043   2.4973926403  14.2398722561  15.5429882675   0.0393416506   0.3401043733   0.7716575090   1.0217688838   6.3891035555   8.5873255164   0.3908275239   2.6598102430   2.7516179428   1.2440530624   8.1917753049   9.7544502769   0.0181235570   0.1770586899   0.4392325570   0.5035354001   3.7846827655   5.5443647341   0.0021261890   0.0585627894   0.0843923516   0.0067610027   0.2421294625   0.6232765752   0.0000279054   0.0013787217   0.0050313954   0.0023085202   0.1282683177   0.3805856042\n",
      "\n",
      "  1.0000000000   4.8697728956   9.5957606302   3.8188044067   7.8624772770   0.7211526982   2.1245673370   0.8639727600   5.1788281125   5.0481462390   2.7132178875  15.4248673058  16.2067196287   0.0466964512   0.2518963206   0.6494747319   1.0813887326   6.8158056056   8.8728470102   0.4511066589   2.9309926302   2.8635227079   1.4220135642   9.0225148503  10.0358796000   0.0222910757   0.1264901840   0.3569019744   0.5576849407   4.0871816309   5.6552656160   0.0042929738   0.0777383993   0.0780606145   0.0147075822   0.2833528893   0.5651962372   0.0000627615   0.0014191261   0.0031831372   0.0052535853   0.1417248087   0.3502629465\n",
      "\n",
      "  1.0000000000   4.5914826177   8.4510307517   3.5245401945   6.7995225090   0.5569948302   1.8303924936   0.5971119591   3.6104930445   3.0371729358   2.1947356302  11.5560215919  12.7963110820   0.0296596926   0.1815497189   0.4650253275   0.9574472581   5.2515174417   7.5088690275   0.2857114701   1.9808789836   1.6917302595   1.0776454807   6.4749899990   7.9329213962   0.0132665713   0.0911231923   0.2494096187   0.4698525763   2.9762920605   4.7711372243   0.0013338170   0.0510281858   0.0683950485   0.0056984562   0.2027133274   0.5755917811   0.0000159945   0.0006625976   0.0017774249   0.0022749186   0.0980196559   0.3570353975\n",
      "\n",
      "  1.0000000000   4.7556057736   8.6940797001   3.6575641379   7.0503430567   0.5922121660   1.9101257363   0.6768682642   4.0592982820   3.4762174572   2.3654683760  12.5206597879  13.7481763940   0.0267882409   0.1750112533   0.5229352907   1.0409665619   5.6600920731   7.9397106238   0.3309148800   2.2442503567   1.9489810563   1.1568812192   7.0401045183   8.5672164068   0.0124222797   0.0908540898   0.2795583560   0.5097754762   3.2301289578   5.0764920954   0.0013283795   0.0526702265   0.0727896295   0.0047994270   0.1987156199   0.5942823506   0.0000262637   0.0011477214   0.0020581421   0.0020480216   0.0986966861   0.3691380011\n",
      "\n",
      "  1.0000000000   5.8242202627   7.4001509223   4.6134585826   5.9230369051   0.8956798150   1.6216369619   1.3846600817   4.6716772440   2.1451144318   4.2242475462  14.0522579047   9.3970068777   0.0734623056   0.2476692671   0.1739827954   1.6683054964   6.3715592251   5.6686268913   0.7265062890   2.6913235447   1.1831451941   2.2760567626   8.2057098092   5.8608458395   0.0353811405   0.1341776126   0.0879858516   0.8980470908   3.7874487053   3.6368310451   0.0073787630   0.0829832628   0.0520488054   0.0299596470   0.3276552855   0.5084867358   0.0001004253   0.0021939351   0.0003743479   0.0120393211   0.1639985383   0.3305136226\n",
      "\n",
      "  1.0000000000   5.9845330940   7.6295455662   4.7354608093   6.0765574686   0.8946994947   1.6155777180   1.4351076571   4.8305204294   2.2336196012   4.6120275624  14.8834245264   9.5702969376   0.0650008742   0.2528827727   0.1473098447   1.8367630488   6.8572449864   5.6449393810   0.7578736072   2.7644451230   1.2205985540   2.4946634014   8.5811686190   5.8854416090   0.0308649000   0.1369145109   0.0729953109   0.9915108003   4.0211070875   3.5761593235   0.0074892451   0.0775730630   0.0535372126   0.0275738017   0.2955517102   0.4944268264   0.0000802240   0.0021009973   0.0002879665   0.0102729859   0.1508337986   0.3132160506\n",
      "\n",
      "  1.0000000000   5.9183534159   7.0267102586   4.7812085730   5.6209053963   1.1291950079   1.5590229050   1.9057873873   5.2475711717   1.9011823972   4.3945688875  14.2283963841   8.3580312042   0.1430012519   0.5099444940   0.1868903597   1.4634337228   6.6083765955   5.1268341270   1.0656133534   3.1256192531   1.0630159708   2.4251179354   8.5349643689   5.2575276089   0.0735027883   0.3148054029   0.0978726325   0.7770418751   4.0515214965   3.3023743051   0.0142603466   0.1057747694   0.0492769602   0.0315350789   0.3640431228   0.4546997266   0.0003437789   0.0099282037   0.0006194063   0.0075056496   0.1906784904   0.2894437040\n",
      "\n",
      "  1.0000000000   6.2421488503   7.3273581658   5.0416828565   5.8974218753   1.1699876215   1.6497974382   2.0410157781   5.8602224971   2.2769005262   5.1145196654  15.9812214433   8.9562323788   0.1349043730   0.5021078452   0.2405725561   1.7691767195   7.3433158179   5.4329541179   1.1402051943   3.5005509797   1.2772946662   2.8713602103   9.5666002086   5.6274771321   0.0687455854   0.3038174875   0.1296341030   0.9744066772   4.5046672122   3.5072257964   0.0185527550   0.1250754588   0.0525295807   0.0493727311   0.3830267854   0.4789983496   0.0003746020   0.0121203502   0.0011388851   0.0148395385   0.2050475362   0.3088744432\n",
      "\n"
     ]
    }
   ],
   "source": [
    "for i in file:\n",
    "    print(i)"
   ]
  },
  {
   "cell_type": "code",
   "execution_count": null,
   "id": "2d92f486",
   "metadata": {},
   "outputs": [],
   "source": []
  }
 ],
 "metadata": {
  "kernelspec": {
   "display_name": "Python 3 (ipykernel)",
   "language": "python",
   "name": "python3"
  },
  "language_info": {
   "codemirror_mode": {
    "name": "ipython",
    "version": 3
   },
   "file_extension": ".py",
   "mimetype": "text/x-python",
   "name": "python",
   "nbconvert_exporter": "python",
   "pygments_lexer": "ipython3",
   "version": "3.9.12"
  }
 },
 "nbformat": 4,
 "nbformat_minor": 5
}
