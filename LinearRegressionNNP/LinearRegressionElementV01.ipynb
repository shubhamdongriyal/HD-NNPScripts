{
 "cells": [
  {
   "attachments": {},
   "cell_type": "markdown",
   "metadata": {},
   "source": [
    "Element Linear Regression"
   ]
  },
  {
   "cell_type": "code",
   "execution_count": 48,
   "metadata": {},
   "outputs": [],
   "source": [
    "import os\n",
    "import glob\n",
    "import numpy as np\n",
    "\n",
    "from sklearn.linear_model import LinearRegression\n",
    "import matplotlib.pyplot as plt\n",
    "%matplotlib inline"
   ]
  },
  {
   "attachments": {},
   "cell_type": "markdown",
   "metadata": {},
   "source": [
    "Things to input first hand\n",
    "\n",
    "number of nodes in each layer\n",
    "activation function used\n"
   ]
  },
  {
   "cell_type": "code",
   "execution_count": 60,
   "metadata": {},
   "outputs": [],
   "source": [
    "NOFNODES = 20\n",
    "\n",
    "NOFATOMS = {'H': 128, 'O': 64} #as a dict\n",
    "NOFATOMS_TEST = {'H': 128, 'O': 64} #as a dict\n",
    "\n",
    "conv_energy = 7.8389970542204770        #check this value before implementing\n",
    "mean_energy = -5.7452783952905939\n",
    "\n",
    "el = [1, 8]"
   ]
  },
  {
   "cell_type": "code",
   "execution_count": 61,
   "metadata": {},
   "outputs": [
    {
     "name": "stdout",
     "output_type": "stream",
     "text": [
      "/Users/shubhamdongriyal/my-drive/SabIA/HDNNP/H2O-Bing/MulRegression/seed-9812345/trainset/data-16\n"
     ]
    }
   ],
   "source": [
    "print(os.getcwd())\n",
    "home = '/Users/shubhamdongriyal/my-drive/SabIA/HDNNP/H2O-Bing/MulRegression'"
   ]
  },
  {
   "cell_type": "code",
   "execution_count": 62,
   "metadata": {},
   "outputs": [],
   "source": [
    "#dictionary of elements\n",
    "\n",
    "id2el = {1: 'H', 6: 'C', 7: 'N', 8: 'O', 9: 'F', 15: 'P', 16: 'S', 17: 'Cl', 35: 'Br', 53: 'I'}\n",
    "el2id = {v: k for k, v in id2el.items()}"
   ]
  },
  {
   "cell_type": "code",
   "execution_count": 63,
   "metadata": {},
   "outputs": [],
   "source": [
    "def symmetryfunction(FUNCTION, SCALING):\n",
    "    # func_data = np.loadtxt(FUNCTION, usecols= range(0, NOOFSYM + 1)) # change 43 to dynamic number of columns\n",
    "    # print(f' Shape of Symmetry functions: (number of atoms * number of frames) x (number of symmetry function + 1) \\n {func_data.shape}')\n",
    "    \n",
    "    # el = list(set(func_data[:, 0])) # list of unique elements\n",
    "    # print(f' Number of unique elements: {len(el)}')\n",
    "\n",
    "    # print(f'1st element: {el[0]} --- {id2el[el[0]]}')\n",
    "    # print(f'2nd element: {el[1]} --- {id2el[el[1]]}')\n",
    "\n",
    "    # sf = {id2el[i]: func_data[np.any(func_data== i, axis = 1)][:, 1:43] for i in el}   #give symmetry function of each element\n",
    "\n",
    "    with open(FUNCTION) as f:\n",
    "        lines = f.readlines()\n",
    "        data = [line.split() for line in lines] #data is in memory now\n",
    "\n",
    "    el = np.asarray(sorted(list({x[0] for x in data})), dtype = int)\n",
    "\n",
    "    print(f' Number of unique elements: {len(el)} \\n 1st element: {el[0]} --- {id2el[el[0]]} \\n 2nd element: {el[1]} --- {id2el[el[1]]}')\n",
    "\n",
    "    l1, l2 = [], []\n",
    "    for i in data:\n",
    "        if i[0] == str(el[0]):\n",
    "            l1.append(i)\n",
    "        if i[0] == str(el[1]):\n",
    "            l2.append(i)\n",
    "\n",
    "    l1 = np.asarray(l1, dtype = float)\n",
    "    l2 = np.asarray(l2, dtype = float)\n",
    "\n",
    "    NOFSYM = [l1.shape[1] - 1, l2.shape[1] - 1]\n",
    "    print(f'Number of symmetry functions:\\n for el:1 {NOFSYM[0]} \\n for el:2 {NOFSYM[1]}')\n",
    "\n",
    "    sf = {id2el[el[0]]: l1[:, 1:NOFSYM[0] + 1], id2el[el[1]]: l2[:, 1:NOFSYM[1] + 1]}\n",
    "    #code from here\n",
    "\n",
    "    # Scaling of symmetry functions\n",
    "    scale = np.loadtxt(SCALING, usecols= (2, 3, 4, 5))\n",
    "\n",
    "    scalingmat = {id2el[el[0]]: scale[0:NOFSYM[0], :].T, id2el[el[1]]: scale[NOFSYM[0]:, :].T} #only for 2 elements have to generalize for more elements\n",
    "    #print(scalingmat)\n",
    "\n",
    "    #scaled symmetry functions\n",
    "    scaledsf = {id2el[i]: ((sf[id2el[i]] - scalingmat[id2el[i]][2]) / (scalingmat[id2el[i]][1] - scalingmat[id2el[i]][0])) for i in el}\n",
    "\n",
    "    return scaledsf, el, NOFSYM\n",
    "\n"
   ]
  },
  {
   "cell_type": "code",
   "execution_count": 64,
   "metadata": {},
   "outputs": [],
   "source": [
    "# scaledsf, el, NOFSYM = symmetryfunction(FUNCTION= os.path.join(home, 'trainset/data-1/function.cleaned.data'), SCALING= os.path.join(home, 'trainset/data-1/scaling.data'))"
   ]
  },
  {
   "cell_type": "code",
   "execution_count": 65,
   "metadata": {},
   "outputs": [],
   "source": [
    "# scaledsf['O'].shape"
   ]
  },
  {
   "cell_type": "code",
   "execution_count": 66,
   "metadata": {},
   "outputs": [],
   "source": [
    "def weightmat(wlist, el, NOFSYM):\n",
    "    \n",
    "    weights = {}\n",
    "    for i, nofsym, wlist in zip(el, NOFSYM, wlist):\n",
    "        w = np.loadtxt(wlist, usecols = 0)\n",
    "\n",
    "        w0 = w[:nofsym * NOFNODES].reshape(nofsym, NOFNODES) #can be much more generalized\n",
    "        b0 = w[nofsym * NOFNODES:(nofsym * NOFNODES) + NOFNODES]\n",
    "        w1 = w[(nofsym * NOFNODES) + NOFNODES: (nofsym * NOFNODES) + NOFNODES + (NOFNODES * NOFNODES)].reshape(NOFNODES, NOFNODES)\n",
    "        b1 = w[(nofsym * NOFNODES) + NOFNODES + (NOFNODES * NOFNODES) : (nofsym * NOFNODES) + 2 * NOFNODES + (NOFNODES * NOFNODES)]\n",
    "        w2 = w[(nofsym * NOFNODES) + 2 * NOFNODES + (NOFNODES * NOFNODES) : (nofsym * NOFNODES) + 2 * NOFNODES + (NOFNODES * NOFNODES) + NOFNODES]\n",
    "        b2 = w[(nofsym * NOFNODES) + 2 * NOFNODES + (NOFNODES * NOFNODES) + NOFNODES : (nofsym * NOFNODES) + 2 * NOFNODES + (NOFNODES * NOFNODES) + NOFNODES + 1]\n",
    "\n",
    "        weights[id2el[i]] = [w0, b0, w1, b1, w2, b2]\n",
    "\n",
    "    return weights"
   ]
  },
  {
   "cell_type": "code",
   "execution_count": 67,
   "metadata": {},
   "outputs": [],
   "source": [
    "#activation functions\n",
    "\n",
    "def activation(x, act):\n",
    "    if act == 'sigmoid':\n",
    "        return 1 / (1 + np.exp(-x))\n",
    "    elif act == 'softplus':\n",
    "        return np.log(1 + np.exp(x))\n",
    "    elif act == 'ReLU':\n",
    "        return np.maximum(0, x)\n",
    "    elif act == 'tanh':\n",
    "        return np.tanh(x)\n",
    "    else:\n",
    "        print('Invalid activation function')\n",
    "        return None\n",
    "\n",
    "# def sigmoid(x): return 1 / (1 + np.exp(-x))\n",
    "\n",
    "# def softplus(x): return np.log(1 + np.exp(x))\n",
    "\n",
    "# def ReLU(x): return np.maximum(0, x)\n",
    "\n",
    "# def tanh(x): return np.tanh(x)"
   ]
  },
  {
   "cell_type": "code",
   "execution_count": 68,
   "metadata": {},
   "outputs": [],
   "source": [
    "def forwardpass(scaledsf, weightmat, el):\n",
    "    \n",
    "    #same create dictionary for the elements\n",
    "    featuresll = {}\n",
    "    energycontri = {}\n",
    "    \n",
    "    for i in el:\n",
    "        ll = []\n",
    "        ec = []\n",
    "        for j in range(scaledsf[id2el[i]].shape[0]):\n",
    "            w0 = weightmat[id2el[i]][0]\n",
    "            b0 = weightmat[id2el[i]][1]\n",
    "            w1 = weightmat[id2el[i]][2]\n",
    "            b1 = weightmat[id2el[i]][3]\n",
    "            w2 = weightmat[id2el[i]][4]\n",
    "            b2 = weightmat[id2el[i]][5]\n",
    "\n",
    "            y1 = (w0.T @ scaledsf[id2el[i]][j]) + b0\n",
    "            y1 = activation(y1, 'tanh')\n",
    "\n",
    "            y2 = (w1.T @ y1) + b1\n",
    "            y2 = activation(y2, 'tanh')\n",
    "\n",
    "            ll.append(y2)\n",
    "            y3 = (w2.T @ y2) + b2\n",
    "\n",
    "            ec.append(y3)\n",
    "        featuresll[id2el[i]] = np.array(ll).reshape(-1, NOFNODES)   # reshaping over here to make it compatible with the energy contribution\n",
    "        energycontri[id2el[i]] = np.array(ec).reshape(-1, 1)\n",
    "\n",
    "    return featuresll, energycontri"
   ]
  },
  {
   "cell_type": "code",
   "execution_count": 69,
   "metadata": {},
   "outputs": [],
   "source": [
    "def feature_extractor(FUNCTION, SCALING):\n",
    "    scaledsf, el, NOFSYM = symmetryfunction(FUNCTION, SCALING)\n",
    "    weights = weightmat(wlist = sorted(glob.glob(os.path.join(home, 'seed-9812345/weight*'))), el = el, NOFSYM = NOFSYM)\n",
    "    featuresll, energycontri = forwardpass(scaledsf = scaledsf, weightmat = weights, el = el)\n",
    "\n",
    "    return featuresll, energycontri"
   ]
  },
  {
   "cell_type": "code",
   "execution_count": 70,
   "metadata": {},
   "outputs": [],
   "source": [
    "#featurell, energycontri = feature_extractor(FUNCTION= os.path.join(home, 'trainset/data-1/function.cleaned.data'), SCALING= os.path.join(home, 'trainset/data-1/scaling.data'))"
   ]
  },
  {
   "cell_type": "code",
   "execution_count": 71,
   "metadata": {},
   "outputs": [],
   "source": [
    "# print(featurell['O'].shape)\n",
    "# print(energycontri['O'].shape)"
   ]
  },
  {
   "attachments": {},
   "cell_type": "markdown",
   "metadata": {},
   "source": [
    "I have to use train function multiple time to create a dictionary of models on which i can perform Linear Regressions.\n",
    "\n",
    "model1 = [features , energy contri]\n",
    "model2 = [...]\n",
    ":\n",
    ":   "
   ]
  },
  {
   "cell_type": "code",
   "execution_count": 72,
   "metadata": {},
   "outputs": [],
   "source": [
    "datasets = sorted(glob.glob(os.path.join(home, 'seed-9812345/trainset/data-*')), key= lambda x: int(x.split('-')[-1]))\n",
    "\n",
    "def committee():\n",
    "    committee_model = {}\n",
    "    for model, dataset in enumerate(datasets):\n",
    "        os.chdir(dataset)\n",
    "        (features, energy_contribution) = feature_extractor(FUNCTION = 'function.cleaned.data', SCALING = 'scaling.data')\n",
    "\n",
    "        committee_model['model-' + str(model)] = (features, energy_contribution)\n",
    "    \n",
    "    return committee_model\n",
    "    "
   ]
  },
  {
   "cell_type": "code",
   "execution_count": 73,
   "metadata": {},
   "outputs": [
    {
     "name": "stdout",
     "output_type": "stream",
     "text": [
      " Number of unique elements: 2 \n",
      " 1st element: 1 --- H \n",
      " 2nd element: 8 --- O\n",
      "Number of symmetry functions:\n",
      " for el:1 27 \n",
      " for el:2 30\n",
      " Number of unique elements: 2 \n",
      " 1st element: 1 --- H \n",
      " 2nd element: 8 --- O\n",
      "Number of symmetry functions:\n",
      " for el:1 27 \n",
      " for el:2 30\n",
      " Number of unique elements: 2 \n",
      " 1st element: 1 --- H \n",
      " 2nd element: 8 --- O\n",
      "Number of symmetry functions:\n",
      " for el:1 27 \n",
      " for el:2 30\n",
      " Number of unique elements: 2 \n",
      " 1st element: 1 --- H \n",
      " 2nd element: 8 --- O\n",
      "Number of symmetry functions:\n",
      " for el:1 27 \n",
      " for el:2 30\n",
      " Number of unique elements: 2 \n",
      " 1st element: 1 --- H \n",
      " 2nd element: 8 --- O\n",
      "Number of symmetry functions:\n",
      " for el:1 27 \n",
      " for el:2 30\n",
      " Number of unique elements: 2 \n",
      " 1st element: 1 --- H \n",
      " 2nd element: 8 --- O\n",
      "Number of symmetry functions:\n",
      " for el:1 27 \n",
      " for el:2 30\n",
      " Number of unique elements: 2 \n",
      " 1st element: 1 --- H \n",
      " 2nd element: 8 --- O\n",
      "Number of symmetry functions:\n",
      " for el:1 27 \n",
      " for el:2 30\n",
      " Number of unique elements: 2 \n",
      " 1st element: 1 --- H \n",
      " 2nd element: 8 --- O\n",
      "Number of symmetry functions:\n",
      " for el:1 27 \n",
      " for el:2 30\n",
      " Number of unique elements: 2 \n",
      " 1st element: 1 --- H \n",
      " 2nd element: 8 --- O\n",
      "Number of symmetry functions:\n",
      " for el:1 27 \n",
      " for el:2 30\n",
      " Number of unique elements: 2 \n",
      " 1st element: 1 --- H \n",
      " 2nd element: 8 --- O\n",
      "Number of symmetry functions:\n",
      " for el:1 27 \n",
      " for el:2 30\n",
      " Number of unique elements: 2 \n",
      " 1st element: 1 --- H \n",
      " 2nd element: 8 --- O\n",
      "Number of symmetry functions:\n",
      " for el:1 27 \n",
      " for el:2 30\n",
      " Number of unique elements: 2 \n",
      " 1st element: 1 --- H \n",
      " 2nd element: 8 --- O\n",
      "Number of symmetry functions:\n",
      " for el:1 27 \n",
      " for el:2 30\n",
      " Number of unique elements: 2 \n",
      " 1st element: 1 --- H \n",
      " 2nd element: 8 --- O\n",
      "Number of symmetry functions:\n",
      " for el:1 27 \n",
      " for el:2 30\n",
      " Number of unique elements: 2 \n",
      " 1st element: 1 --- H \n",
      " 2nd element: 8 --- O\n",
      "Number of symmetry functions:\n",
      " for el:1 27 \n",
      " for el:2 30\n",
      " Number of unique elements: 2 \n",
      " 1st element: 1 --- H \n",
      " 2nd element: 8 --- O\n",
      "Number of symmetry functions:\n",
      " for el:1 27 \n",
      " for el:2 30\n",
      " Number of unique elements: 2 \n",
      " 1st element: 1 --- H \n",
      " 2nd element: 8 --- O\n",
      "Number of symmetry functions:\n",
      " for el:1 27 \n",
      " for el:2 30\n"
     ]
    }
   ],
   "source": [
    "committee_model = committee()"
   ]
  },
  {
   "cell_type": "code",
   "execution_count": 74,
   "metadata": {},
   "outputs": [
    {
     "data": {
      "text/plain": [
       "array([[-0.29781982],\n",
       "       [-0.21944437],\n",
       "       [-0.29785538],\n",
       "       ...,\n",
       "       [-0.50797366],\n",
       "       [-0.68549651],\n",
       "       [-0.3933264 ]])"
      ]
     },
     "execution_count": 74,
     "metadata": {},
     "output_type": "execute_result"
    }
   ],
   "source": [
    "committee_model['model-1'][1]['H']"
   ]
  },
  {
   "cell_type": "code",
   "execution_count": 75,
   "metadata": {},
   "outputs": [],
   "source": [
    "# committee_model['model-2'][0]['H']"
   ]
  },
  {
   "cell_type": "code",
   "execution_count": 76,
   "metadata": {},
   "outputs": [],
   "source": [
    "# committee_model['model-0'][0]['C'].reshape(-1, 80, 25).shape # [0] for features, [1] for energy contribution\n"
   ]
  },
  {
   "cell_type": "code",
   "execution_count": 77,
   "metadata": {},
   "outputs": [],
   "source": [
    "# #plotting the feature vs atomic contribution for H1 for different models\n",
    "\n",
    "# # fig, axs = plt.subplots(nrows=4, ncols=4, figsize=(15, 12))\n",
    "# # plt.subplots_adjust(hspace=0.5)\n",
    "\n",
    "# plt.figure( figsize= (15, 12))\n",
    "# plt.subplots_adjust(hspace=0.5)\n",
    "# for key, values in committee_model.items():\n",
    "#     x = values[0]['H']\n",
    "#     y = values[1]['H']\n",
    "\n",
    "#     ax = plt.subplot(4, 4, int(key.split('-')[-1]) + 1)\n",
    "#     ax.scatter(x[:, 0, :], y[:, 0, 0])\n"
   ]
  },
  {
   "cell_type": "code",
   "execution_count": 78,
   "metadata": {},
   "outputs": [],
   "source": [
    "def linear_regression(committee_model, el):\n",
    "    lr_models = {}\n",
    "    for key, values in enumerate(committee_model.values()):\n",
    "        lr ={}\n",
    "        for j in el:\n",
    "            x = values[0][id2el[j]]\n",
    "            y = values[1][id2el[j]]\n",
    "\n",
    "            #print(x.shape, y.shape)\n",
    "\n",
    "            lr[id2el[j]] = LinearRegression(fit_intercept= False).fit(x, y) #dic for LR for 1 model\n",
    "        lr_models['model-' + str(key)] = lr\n",
    "        \n",
    "    return lr_models\n",
    "#un-scaling should be done only at prediction\n"
   ]
  },
  {
   "cell_type": "code",
   "execution_count": 79,
   "metadata": {},
   "outputs": [],
   "source": [
    "lr_models = linear_regression(committee_model, el = el)"
   ]
  },
  {
   "attachments": {},
   "cell_type": "markdown",
   "metadata": {},
   "source": [
    "Weights are same for all the models in linear regression model.\n",
    "\n",
    "But if the turn off the intercept then values are differing."
   ]
  },
  {
   "cell_type": "code",
   "execution_count": 80,
   "metadata": {},
   "outputs": [
    {
     "name": "stdout",
     "output_type": "stream",
     "text": [
      "[[-2.24950085  1.42411733 -0.10274681  0.96233882 -0.10406463  0.52914312\n",
      "  -1.14180303 -0.79890749 -0.88974109  0.31532582  0.25282111 -1.45834193\n",
      "   1.34558671  0.02481693  0.40165698 -0.8153224  -0.30125602 -1.25134725\n",
      "   0.87925055  0.38251635]]\n",
      "[[-2.29377084  1.47121153 -0.13931305  0.99402831 -0.07978475  0.60441376\n",
      "  -1.1293293  -0.81590917 -0.96376542  0.32660075  0.22455634 -1.51039998\n",
      "   1.37387741  0.04010482  0.42915846 -0.91362239 -0.32575194 -1.28467563\n",
      "   0.89104543  0.3824868 ]]\n"
     ]
    }
   ],
   "source": [
    "# print(lr_models['model-0']['H'].coef_ == lr_models['model-10']['H'].intercept_)\n",
    "# print(lr_models['model-0']['H'].intercept_)\n",
    "print(lr_models['model-10']['H'].coef_)\n",
    "print(lr_models['model-1']['H'].coef_)\n",
    "# print(lr_models['model-10']['H'].intercept_)\n",
    "\n",
    "# print(lr_models['model-0']['H'].coef_ - lr_models['model-10']['H'].coef_)"
   ]
  },
  {
   "cell_type": "code",
   "execution_count": 81,
   "metadata": {},
   "outputs": [
    {
     "name": "stdout",
     "output_type": "stream",
     "text": [
      " Number of unique elements: 2 \n",
      " 1st element: 1 --- H \n",
      " 2nd element: 8 --- O\n",
      "Number of symmetry functions:\n",
      " for el:1 27 \n",
      " for el:2 30\n"
     ]
    }
   ],
   "source": [
    "#test set selection and prediction\n",
    "feature_test, energy_test = feature_extractor(FUNCTION = os.path.join(home, 'testset/test-validationset/seed-9812345/nnp-train/function.cleaned.data'), SCALING = os.path.join(home, 'testset/test-validationset/seed-9812345/nnp-train/scaling.data'))\n",
    "NOFFRAMES_TEST = 161"
   ]
  },
  {
   "cell_type": "code",
   "execution_count": 82,
   "metadata": {},
   "outputs": [
    {
     "name": "stdout",
     "output_type": "stream",
     "text": [
      "(10304, 20)\n"
     ]
    }
   ],
   "source": [
    "print(feature_test['O'].shape)"
   ]
  },
  {
   "cell_type": "code",
   "execution_count": 83,
   "metadata": {},
   "outputs": [],
   "source": [
    "# #prediction for single frame\n",
    "# def prediction(lr_models, feature_test, energy_test, el):\n",
    "\n",
    "#     atomic_contri = {}\n",
    "#     total_energy = {}\n",
    "#     for key, values in enumerate(lr_models.values()):\n",
    "#         lr_pred = {}\n",
    "#         el_en = []\n",
    "#         for j in el:\n",
    "#             x = feature_test[id2el[j]]\n",
    "#             y = energy_test[id2el[j]].reshape(NOFATOMS[id2el[j]],1)\n",
    "            \n",
    "#             lr_pred[id2el[j]] = [ (y[k] / conv_energy, values[id2el[j]][k].predict(x[:, k, :]) / conv_energy) for k in range(NOFATOMS[id2el[j]])] #dic of list of tuples containing UNSCALED (true_y, y_pred) \n",
    "            \n",
    "#             el_en.append(np.sum([en[1] + mean_energy for en in lr_pred[id2el[j]]]))\n",
    "\n",
    "#         atomic_contri['model-' + str(key)] = lr_pred\n",
    "#         total_energy['model-' + str(key)] = np.sum(el_en)\n",
    "\n",
    "#     return atomic_contri, total_energy\n"
   ]
  },
  {
   "cell_type": "code",
   "execution_count": 84,
   "metadata": {},
   "outputs": [],
   "source": [
    "# #single prediction\n",
    "# atomic_contri, total_energy = prediction(lr_models, feature_test, energy_test, el)  #correct\n",
    "\n",
    "# committee_mean = np.mean(list(total_energy.values()))\n",
    "# committee_std = np.std(list(total_energy.values()))\n",
    "\n",
    "# print(f'Total Number of Committee NNs: {len(total_energy)}')\n",
    "# print(f'Committee Mean Energy: {committee_mean} eV\\nCommittee Standard Deviation: {committee_std} eV')"
   ]
  },
  {
   "cell_type": "code",
   "execution_count": 85,
   "metadata": {},
   "outputs": [],
   "source": [
    "#prediction for multiple frames\n",
    "def multi_frame_prediction(lr_models, feature_test, energy_test, el):\n",
    "    total_energy = {}\n",
    "    for key, values in enumerate(lr_models.values()):  #model loop\n",
    "        energies = []\n",
    "        for k in range(NOFFRAMES_TEST): #frame loop\n",
    "            frame_energy = []\n",
    "            for j in el:    #element loop\n",
    "                #frame_energy_el = 0\n",
    "                x = feature_test[id2el[j]].reshape(-1, NOFATOMS_TEST[id2el[j]], 20)[k]\n",
    "                \n",
    "                #y = energy_test[id2el[j]][k].reshape(NOFATOMS[id2el[j]],1) #no need for prediction anyway\n",
    "\n",
    "                kframe_encontri_el = [(values[id2el[j]].predict(x[z, :].reshape(1, -1)) / conv_energy) for z in range(NOFATOMS_TEST[id2el[j]])] #atom loop\n",
    "                frame_energy_el = np.sum([encon + mean_energy for encon in kframe_encontri_el])\n",
    "\n",
    "                frame_energy.append(frame_energy_el)\n",
    "            #print(len(frame_energy))\n",
    "            total_frame_one_energy = np.sum(frame_energy)\n",
    "            energies.append(total_frame_one_energy)\n",
    "\n",
    "        total_energy['model-' + str(key)] = energies\n",
    "    return total_energy\n",
    "\n",
    "                    "
   ]
  },
  {
   "cell_type": "code",
   "execution_count": 87,
   "metadata": {},
   "outputs": [],
   "source": [
    "#multiple prediction at once\n",
    "total_energy = multi_frame_prediction(lr_models, feature_test, energy_test, el = el)\n",
    "en_mat =  np.asarray([i for i in total_energy.values()])\n",
    "mean_energy_per_frame = np.mean(en_mat, axis = 0)\n",
    "std_energy_per_frame = np.std(en_mat, axis = 0)"
   ]
  },
  {
   "attachments": {},
   "cell_type": "markdown",
   "metadata": {},
   "source": [
    "ANALYSIS"
   ]
  },
  {
   "cell_type": "code",
   "execution_count": 88,
   "metadata": {},
   "outputs": [],
   "source": [
    "#true energy\n",
    "true_energy = np.loadtxt(os.path.join(home, 'testset/test-validationset/seed-9812345/energy.out'))"
   ]
  },
  {
   "cell_type": "code",
   "execution_count": 89,
   "metadata": {},
   "outputs": [],
   "source": [
    "n2p2_energy = np.loadtxt(os.path.join(home, 'testset/test-validationset/seed-9812345/n2p2_energy_frames.out'), usecols= (0))\n"
   ]
  },
  {
   "cell_type": "code",
   "execution_count": 96,
   "metadata": {},
   "outputs": [
    {
     "name": "stdout",
     "output_type": "stream",
     "text": [
      "True energies: \n",
      "[-1103.17346 -1102.16858 -1103.28502 -1103.38608 -1103.02741 -1103.00416\n",
      " -1102.26983 -1103.54368 -1103.3913  -1102.11597]\n",
      "\n",
      "Committee energies: \n",
      "[-1103.1526499  -1102.61954877 -1102.98953    -1103.04829368\n",
      " -1102.72314913 -1103.26998668 -1103.18313893 -1103.20777639\n",
      " -1103.06583484 -1102.14046722]\n",
      "\n",
      "n2p2 energies: \n",
      "[-1103.1685  -1102.19683 -1103.29376 -1103.38402 -1103.0317  -1102.99624\n",
      " -1102.37373 -1103.54925 -1103.38979 -1102.10745]\n",
      "\n",
      "Standard Deviation: \n",
      "[0.04147185 0.08894134 0.02046591 0.03291304 0.13925323 0.27472563\n",
      " 0.11026056 0.02627197 0.02162176 0.16065792]\n",
      "\n",
      "diff btw committee and n2p2: \n",
      "[ 0.0158501  -0.42271877  0.30423     0.33572632  0.30855087 -0.27374668\n",
      " -0.80940893  0.34147361  0.32395516 -0.03301722]\n",
      "\n",
      "Standard Deviation sorted des(just to see highest std) : \n",
      "[0.3033308  0.29792844 0.27472563 0.26159922 0.24649327 0.23965083\n",
      " 0.22456853 0.2218093  0.22052394 0.21577218]\n"
     ]
    }
   ],
   "source": [
    "print(f'True energies: \\n{true_energy[:10]}\\n\\nCommittee energies: \\n{mean_energy_per_frame[:10]}\\n\\nn2p2 energies: \\n{n2p2_energy[:10]}\\n\\nStandard Deviation: \\n{std_energy_per_frame[:10]}\\n\\ndiff btw committee and n2p2: \\n{mean_energy_per_frame[:10] - n2p2_energy[:10]}\\n\\nStandard Deviation sorted des(just to see highest std) : \\n{-np.sort(-std_energy_per_frame)[:10]}')"
   ]
  },
  {
   "cell_type": "code",
   "execution_count": 98,
   "metadata": {},
   "outputs": [
    {
     "data": {
      "image/png": "[encoded data removed]",
      "text/plain": [
       "<Figure size 1280x960 with 1 Axes>"
      ]
     },
     "metadata": {},
     "output_type": "display_data"
    }
   ],
   "source": [
    "#Plotting Energy True vs Energy Predicted\n",
    "\n",
    "# plt.figure(dpi = 200)\n",
    "# plt.plot([-1104, -1100], [-1104, -1100])\n",
    "fig, ax = plt.subplots(dpi = 200)\n",
    "ax.errorbar(true_energy, mean_energy_per_frame, yerr = std_energy_per_frame, fmt= 'o', markersize = 3, capsize = 3, color = 'b', label = 'Committee of 16 NNs')\n",
    "plt.plot(true_energy, n2p2_energy, 'o', markersize = 7, color = 'g', label = 'N2P2')\n",
    "lims = [\n",
    "    np.min([ax.get_xlim(), ax.get_ylim()]),  # min of both axes\n",
    "    np.max([ax.get_xlim(), ax.get_ylim()]),  # max of both axes\n",
    "]\n",
    "\n",
    "# now plot both limits against eachother\n",
    "ax.plot(lims, lims, 'k-', alpha=0.75, zorder=0)\n",
    "ax.set_aspect('equal')\n",
    "ax.set_xlim(lims)\n",
    "ax.set_ylim(lims)\n",
    "\n",
    "plt.xticks(fontsize = 7)\n",
    "plt.yticks(fontsize = 7)\n",
    "plt.xlabel('True Energy (eV)', fontsize = 11)\n",
    "plt.ylabel('Predicted Energy (eV)', fontsize = 11)\n",
    "plt.title('Test Set of 161 Structures', fontsize = 12)\n",
    "plt.legend()\n",
    "#plt.savefig(os.path.join(home,'MLR/E-true_vs_E-comm_16_&_n2p2_element-seed-9812345-22feb-0946.pdf'), dpi=200, format='pdf', bbox_inches= 'tight', pad_inches=0.1,)\n",
    "plt.show()"
   ]
  },
  {
   "cell_type": "code",
   "execution_count": 97,
   "metadata": {},
   "outputs": [],
   "source": [
    "#saving output into file\n",
    "\n",
    "#savedir = {'EnergyRef': true_energy, 'n2p2': n2p2_energy, 'CommitteeMean': mean_energy_per_frame, 'CommitteeStd': std_energy_per_frame}\n",
    "\n",
    "data = np.column_stack([true_energy, n2p2_energy, mean_energy_per_frame, std_energy_per_frame])\n",
    "#datafile_path = os.path.join(home, 'committee_energy_seed-9812345-22feb-0946.txt')\n",
    "#np.savetxt(datafile_path , data, fmt=['%6.10f','%6.10f', '%6.10f', '%6.10f'], delimiter='\\t', header='Energref(eV)\\tN2P2_energy(eV)\\tCommittee_mean(eV)\\tCommittee_std(eV)')\n"
   ]
  }
 ],
 "metadata": {
  "kernelspec": {
   "display_name": "pytorch_m1",
   "language": "python",
   "name": "python3"
  },
  "language_info": {
   "codemirror_mode": {
    "name": "ipython",
    "version": 3
   },
   "file_extension": ".py",
   "mimetype": "text/x-python",
   "name": "python",
   "nbconvert_exporter": "python",
   "pygments_lexer": "ipython3",
   "version": "3.10.4"
  },
  "orig_nbformat": 4,
  "vscode": {
   "interpreter": {
    "hash": "87d5e658fa85a9f37500d9649610e9a195e3cd7fe1efd163ba6535feaf367c14"
   }
  }
 },
 "nbformat": 4,
 "nbformat_minor": 2
}
