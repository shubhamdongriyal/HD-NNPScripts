{
 "cells": [
  {
   "cell_type": "code",
   "execution_count": 125,
   "metadata": {},
   "outputs": [],
   "source": [
    "import os\n",
    "import glob\n",
    "import numpy as np\n",
    "\n",
    "from sklearn.linear_model import LinearRegression\n",
    "import matplotlib.pyplot as plt\n",
    "%matplotlib inline"
   ]
  },
  {
   "attachments": {},
   "cell_type": "markdown",
   "metadata": {},
   "source": [
    "Things to input first hand\n",
    "\n",
    "number of nodes in each layer\n",
    "activation function used\n"
   ]
  },
  {
   "cell_type": "code",
   "execution_count": 126,
   "metadata": {},
   "outputs": [],
   "source": [
    "NOFNODES = 20\n",
    "\n",
    "NOFATOMS = {'H': 128, 'O': 64} #as a dict\n",
    "\n",
    "conv_energy = 5.5260279357571624\n",
    "mean_energy = -5.7452783952905939\n"
   ]
  },
  {
   "cell_type": "code",
   "execution_count": 127,
   "metadata": {},
   "outputs": [
    {
     "name": "stdout",
     "output_type": "stream",
     "text": [
      "/Users/shubhamdongriyal/my-drive/SabIA/HDNNP/H2O-Bing/MulRegression/trainset/data-16\n"
     ]
    }
   ],
   "source": [
    "print(os.getcwd())\n",
    "home = '/Users/shubhamdongriyal/my-drive/SabIA/HDNNP/H2O-Bing/MulRegression'"
   ]
  },
  {
   "cell_type": "code",
   "execution_count": 128,
   "metadata": {},
   "outputs": [],
   "source": [
    "#dictionary of elements\n",
    "\n",
    "id2el = {1: 'H', 6: 'C', 7: 'N', 8: 'O', 9: 'F', 15: 'P', 16: 'S', 17: 'Cl', 35: 'Br', 53: 'I'}\n",
    "el2id = {v: k for k, v in id2el.items()}"
   ]
  },
  {
   "cell_type": "code",
   "execution_count": 177,
   "metadata": {},
   "outputs": [],
   "source": [
    "# with open('/Users/shubhamdongriyal/my-drive/SabIA/HDNNP/H2O-Bing/MulRegression/trainset/data-1/function.cleaned.data') as f:\n",
    "   \n",
    "#     lines = f.readlines()\n",
    "#     data = [line.split() for line in lines]\n"
   ]
  },
  {
   "cell_type": "code",
   "execution_count": 178,
   "metadata": {},
   "outputs": [],
   "source": [
    "# el = np.asarray(sorted(list({x[0] for x in data})), dtype = int)\n",
    "\n",
    "# print(f' Number of unique elements: {len(el)} \\n 1st element: {el[0]} --- {id2el[el[0]]} \\n 2nd element: {el[1]} --- {id2el[el[1]]}')"
   ]
  },
  {
   "cell_type": "code",
   "execution_count": 180,
   "metadata": {},
   "outputs": [],
   "source": [
    "def symmetryfunction(FUNCTION, SCALING):\n",
    "    # func_data = np.loadtxt(FUNCTION, usecols= range(0, NOOFSYM + 1)) # change 43 to dynamic number of columns\n",
    "    # print(f' Shape of Symmetry functions: (number of atoms * number of frames) x (number of symmetry function + 1) \\n {func_data.shape}')\n",
    "    \n",
    "    # el = list(set(func_data[:, 0])) # list of unique elements\n",
    "    # print(f' Number of unique elements: {len(el)}')\n",
    "\n",
    "    # print(f'1st element: {el[0]} --- {id2el[el[0]]}')\n",
    "    # print(f'2nd element: {el[1]} --- {id2el[el[1]]}')\n",
    "\n",
    "    # sf = {id2el[i]: func_data[np.any(func_data== i, axis = 1)][:, 1:43] for i in el}   #give symmetry function of each element\n",
    "\n",
    "    with open(FUNCTION) as f:\n",
    "        lines = f.readlines()\n",
    "        data = [line.split() for line in lines] #data is in memory now\n",
    "\n",
    "    el = np.asarray(sorted(list({x[0] for x in data})), dtype = int)\n",
    "\n",
    "    print(f' Number of unique elements: {len(el)} \\n 1st element: {el[0]} --- {id2el[el[0]]} \\n 2nd element: {el[1]} --- {id2el[el[1]]}')\n",
    "\n",
    "    l1, l2 = [], []\n",
    "    for i in data:\n",
    "        if i[0] == str(el[0]):\n",
    "            l1.append(i)\n",
    "        if i[0] == str(el[1]):\n",
    "            l2.append(i)\n",
    "\n",
    "    l1 = np.asarray(l1, dtype = float)\n",
    "    l2 = np.asarray(l2, dtype = float)\n",
    "\n",
    "    NOFSYM = [l1.shape[1] - 1, l2.shape[1] - 1]\n",
    "    print(f'Number of symmetry functions:\\n for el:1 {NOFSYM[0]} \\n for el:2 {NOFSYM[1]}')\n",
    "\n",
    "    sf = {id2el[el[0]]: l1[:, 1:NOFSYM[0] + 1], id2el[el[1]]: l2[:, 1:NOFSYM[1] + 1]}\n",
    "    #code from here\n",
    "\n",
    "    # Scaling of symmetry functions\n",
    "    scale = np.loadtxt(SCALING, usecols= (2, 3, 4, 5))\n",
    "\n",
    "    scalingmat = {id2el[el[0]]: scale[0:NOFSYM[0], :].T, id2el[el[1]]: scale[NOFSYM[0]:, :].T} #only for 2 elements have to generalize for more elements\n",
    "    #print(scalingmat)\n",
    "\n",
    "    #scaled symmetry functions\n",
    "    scaledsf = {id2el[i]: ((sf[id2el[i]] - scalingmat[id2el[i]][2]) / (scalingmat[id2el[i]][1] - scalingmat[id2el[i]][0])) for i in el}\n",
    "\n",
    "    return scaledsf, el, NOFSYM\n",
    "\n"
   ]
  },
  {
   "cell_type": "code",
   "execution_count": 181,
   "metadata": {},
   "outputs": [],
   "source": [
    "def weightmat(wlist, el, NOFSYM):\n",
    "    \n",
    "    weights = {}\n",
    "    for i, nofsym, wlist in zip(el, NOFSYM, wlist):\n",
    "        w = np.loadtxt(wlist, usecols = 0)\n",
    "\n",
    "        w0 = w[:nofsym * NOFNODES].reshape(nofsym, NOFNODES) #can be much more generalized\n",
    "        b0 = w[nofsym * NOFNODES:(nofsym * NOFNODES) + NOFNODES]\n",
    "        w1 = w[(nofsym * NOFNODES) + NOFNODES: (nofsym * NOFNODES) + NOFNODES + (NOFNODES * NOFNODES)].reshape(NOFNODES, NOFNODES)\n",
    "        b1 = w[(nofsym * NOFNODES) + NOFNODES + (NOFNODES * NOFNODES) : (nofsym * NOFNODES) + 2 * NOFNODES + (NOFNODES * NOFNODES)]\n",
    "        w2 = w[(nofsym * NOFNODES) + 2 * NOFNODES + (NOFNODES * NOFNODES) : (nofsym * NOFNODES) + 2 * NOFNODES + (NOFNODES * NOFNODES) + NOFNODES]\n",
    "        b2 = w[(nofsym * NOFNODES) + 2 * NOFNODES + (NOFNODES * NOFNODES) + NOFNODES : (nofsym * NOFNODES) + 2 * NOFNODES + (NOFNODES * NOFNODES) + NOFNODES + 1]\n",
    "\n",
    "        weights[id2el[i]] = [w0, b0, w1, b1, w2, b2]\n",
    "\n",
    "    return weights"
   ]
  },
  {
   "cell_type": "code",
   "execution_count": 182,
   "metadata": {},
   "outputs": [],
   "source": [
    "#activation functions\n",
    "\n",
    "def activation(x, act):\n",
    "    if act == 'sigmoid':\n",
    "        return 1 / (1 + np.exp(-x))\n",
    "    elif act == 'softplus':\n",
    "        return np.log(1 + np.exp(x))\n",
    "    elif act == 'ReLU':\n",
    "        return np.maximum(0, x)\n",
    "    elif act == 'tanh':\n",
    "        return np.tanh(x)\n",
    "    else:\n",
    "        print('Invalid activation function')\n",
    "        return None\n",
    "\n",
    "# def sigmoid(x): return 1 / (1 + np.exp(-x))\n",
    "\n",
    "# def softplus(x): return np.log(1 + np.exp(x))\n",
    "\n",
    "# def ReLU(x): return np.maximum(0, x)\n",
    "\n",
    "# def tanh(x): return np.tanh(x)"
   ]
  },
  {
   "cell_type": "code",
   "execution_count": 183,
   "metadata": {},
   "outputs": [],
   "source": [
    "def forwardpass(scaledsf, weightmat, el):\n",
    "    \n",
    "    #same create dictionary for the elements\n",
    "    featuresll = {}\n",
    "    energycontri = {}\n",
    "    \n",
    "    for i in el:\n",
    "        ll = []\n",
    "        ec = []\n",
    "        for j in range(scaledsf[id2el[i]].shape[0]):\n",
    "            w0 = weightmat[id2el[i]][0]\n",
    "            b0 = weightmat[id2el[i]][1]\n",
    "            w1 = weightmat[id2el[i]][2]\n",
    "            b1 = weightmat[id2el[i]][3]\n",
    "            w2 = weightmat[id2el[i]][4]\n",
    "            b2 = weightmat[id2el[i]][5]\n",
    "\n",
    "            y1 = (w0.T @ scaledsf[id2el[i]][j]) + b0\n",
    "            y1 = activation(y1, 'tanh')\n",
    "\n",
    "            y2 = (w1.T @ y1) + b1\n",
    "            y2 = activation(y2, 'tanh')\n",
    "\n",
    "            ll.append(y2)\n",
    "            y3 = (w2.T @ y2) + b2\n",
    "\n",
    "            ec.append(y3)\n",
    "        featuresll[id2el[i]] = np.array(ll).reshape(-1, NOFATOMS[id2el[i]], NOFNODES)   # reshaping over here to make it compatible with the energy contribution\n",
    "        energycontri[id2el[i]] = np.array(ec).reshape(-1,NOFATOMS[id2el[i]], 1)\n",
    "\n",
    "    return featuresll, energycontri"
   ]
  },
  {
   "cell_type": "code",
   "execution_count": 184,
   "metadata": {},
   "outputs": [],
   "source": [
    "def feature_extractor(FUNCTION, SCALING):\n",
    "    scaledsf, el, NOFSYM = symmetryfunction(FUNCTION, SCALING)\n",
    "    weights = weightmat(wlist = sorted(glob.glob(os.path.join(home, 'weight*'))), el = el, NOFSYM = NOFSYM)\n",
    "    featuresll, energycontri = forwardpass(scaledsf = scaledsf, weightmat = weights, el = el)\n",
    "\n",
    "    return featuresll, energycontri"
   ]
  },
  {
   "attachments": {},
   "cell_type": "markdown",
   "metadata": {},
   "source": [
    "I have to use train function multiple time to create a dictionary of models on which i can perform Linear Regressions.\n",
    "\n",
    "model1 = [features , energy contri]\n",
    "model2 = [...]\n",
    ":\n",
    ":   "
   ]
  },
  {
   "cell_type": "code",
   "execution_count": 185,
   "metadata": {},
   "outputs": [],
   "source": [
    "datasets = sorted(glob.glob(os.path.join(home, 'trainset/data-*')), key= lambda x: int(x.split('-')[-1]))\n",
    "\n",
    "def committee():\n",
    "    committee_model = {}\n",
    "    for model, dataset in enumerate(datasets):\n",
    "        os.chdir(dataset)\n",
    "        (features, energy_contribution) = feature_extractor(FUNCTION = 'function.cleaned.data', SCALING = 'scaling.data')\n",
    "\n",
    "        committee_model['model-' + str(model)] = (features, energy_contribution)\n",
    "    \n",
    "    return committee_model\n",
    "    "
   ]
  },
  {
   "cell_type": "code",
   "execution_count": 186,
   "metadata": {},
   "outputs": [
    {
     "name": "stdout",
     "output_type": "stream",
     "text": [
      " Number of unique elements: 2 \n",
      " 1st element: 1 --- H \n",
      " 2nd element: 8 --- O\n",
      "Number of symmetry functions:\n",
      " for el:1 27 \n",
      " for el:2 30\n",
      " Number of unique elements: 2 \n",
      " 1st element: 1 --- H \n",
      " 2nd element: 8 --- O\n",
      "Number of symmetry functions:\n",
      " for el:1 27 \n",
      " for el:2 30\n",
      " Number of unique elements: 2 \n",
      " 1st element: 1 --- H \n",
      " 2nd element: 8 --- O\n",
      "Number of symmetry functions:\n",
      " for el:1 27 \n",
      " for el:2 30\n",
      " Number of unique elements: 2 \n",
      " 1st element: 1 --- H \n",
      " 2nd element: 8 --- O\n",
      "Number of symmetry functions:\n",
      " for el:1 27 \n",
      " for el:2 30\n",
      " Number of unique elements: 2 \n",
      " 1st element: 1 --- H \n",
      " 2nd element: 8 --- O\n",
      "Number of symmetry functions:\n",
      " for el:1 27 \n",
      " for el:2 30\n",
      " Number of unique elements: 2 \n",
      " 1st element: 1 --- H \n",
      " 2nd element: 8 --- O\n",
      "Number of symmetry functions:\n",
      " for el:1 27 \n",
      " for el:2 30\n",
      " Number of unique elements: 2 \n",
      " 1st element: 1 --- H \n",
      " 2nd element: 8 --- O\n",
      "Number of symmetry functions:\n",
      " for el:1 27 \n",
      " for el:2 30\n",
      " Number of unique elements: 2 \n",
      " 1st element: 1 --- H \n",
      " 2nd element: 8 --- O\n",
      "Number of symmetry functions:\n",
      " for el:1 27 \n",
      " for el:2 30\n",
      " Number of unique elements: 2 \n",
      " 1st element: 1 --- H \n",
      " 2nd element: 8 --- O\n",
      "Number of symmetry functions:\n",
      " for el:1 27 \n",
      " for el:2 30\n",
      " Number of unique elements: 2 \n",
      " 1st element: 1 --- H \n",
      " 2nd element: 8 --- O\n",
      "Number of symmetry functions:\n",
      " for el:1 27 \n",
      " for el:2 30\n",
      " Number of unique elements: 2 \n",
      " 1st element: 1 --- H \n",
      " 2nd element: 8 --- O\n",
      "Number of symmetry functions:\n",
      " for el:1 27 \n",
      " for el:2 30\n",
      " Number of unique elements: 2 \n",
      " 1st element: 1 --- H \n",
      " 2nd element: 8 --- O\n",
      "Number of symmetry functions:\n",
      " for el:1 27 \n",
      " for el:2 30\n",
      " Number of unique elements: 2 \n",
      " 1st element: 1 --- H \n",
      " 2nd element: 8 --- O\n",
      "Number of symmetry functions:\n",
      " for el:1 27 \n",
      " for el:2 30\n",
      " Number of unique elements: 2 \n",
      " 1st element: 1 --- H \n",
      " 2nd element: 8 --- O\n",
      "Number of symmetry functions:\n",
      " for el:1 27 \n",
      " for el:2 30\n",
      " Number of unique elements: 2 \n",
      " 1st element: 1 --- H \n",
      " 2nd element: 8 --- O\n",
      "Number of symmetry functions:\n",
      " for el:1 27 \n",
      " for el:2 30\n",
      " Number of unique elements: 2 \n",
      " 1st element: 1 --- H \n",
      " 2nd element: 8 --- O\n",
      "Number of symmetry functions:\n",
      " for el:1 27 \n",
      " for el:2 30\n"
     ]
    }
   ],
   "source": [
    "committee_model = committee()"
   ]
  },
  {
   "cell_type": "code",
   "execution_count": 205,
   "metadata": {},
   "outputs": [
    {
     "data": {
      "text/plain": [
       "array([[[-2.94730105e-01],\n",
       "        [-2.27819557e-01],\n",
       "        [-3.09868355e-01],\n",
       "        ...,\n",
       "        [-3.65736481e-01],\n",
       "        [-1.74791512e-01],\n",
       "        [-2.68803625e-01]],\n",
       "\n",
       "       [[-4.94158493e-01],\n",
       "        [-4.42364783e-01],\n",
       "        [-3.02769470e-01],\n",
       "        ...,\n",
       "        [-7.01996004e-01],\n",
       "        [-3.22274734e-01],\n",
       "        [-3.81595244e-01]],\n",
       "\n",
       "       [[-6.10510830e-01],\n",
       "        [-3.08928238e-01],\n",
       "        [-2.46676339e-01],\n",
       "        ...,\n",
       "        [-3.50309389e-01],\n",
       "        [-4.25181616e-01],\n",
       "        [-3.40420634e-04]],\n",
       "\n",
       "       ...,\n",
       "\n",
       "       [[-5.61304216e-01],\n",
       "        [-4.55470162e-01],\n",
       "        [-3.24266735e-01],\n",
       "        ...,\n",
       "        [-4.07489003e-01],\n",
       "        [-6.35474317e-01],\n",
       "        [-5.33376203e-01]],\n",
       "\n",
       "       [[-6.46931320e-01],\n",
       "        [-6.46969055e-01],\n",
       "        [-3.92688970e-01],\n",
       "        ...,\n",
       "        [-4.42337527e-01],\n",
       "        [-4.86759134e-01],\n",
       "        [-6.36829631e-01]],\n",
       "\n",
       "       [[-2.11781069e-01],\n",
       "        [-4.60268088e-01],\n",
       "        [-6.45182218e-01],\n",
       "        ...,\n",
       "        [-6.65311924e-01],\n",
       "        [-4.91976453e-01],\n",
       "        [-5.78432427e-01]]])"
      ]
     },
     "execution_count": 205,
     "metadata": {},
     "output_type": "execute_result"
    }
   ],
   "source": [
    "committee_model['model-10'][1]['H']"
   ]
  },
  {
   "cell_type": "code",
   "execution_count": 151,
   "metadata": {},
   "outputs": [],
   "source": [
    "# committee_model['model-0'][0]['C'].reshape(-1, 80, 25).shape # [0] for features, [1] for energy contribution\n"
   ]
  },
  {
   "cell_type": "code",
   "execution_count": 231,
   "metadata": {},
   "outputs": [],
   "source": [
    "# #plotting the feature vs atomic contribution for H1 for different models\n",
    "\n",
    "# # fig, axs = plt.subplots(nrows=4, ncols=4, figsize=(15, 12))\n",
    "# # plt.subplots_adjust(hspace=0.5)\n",
    "\n",
    "# plt.figure( figsize= (15, 12))\n",
    "# plt.subplots_adjust(hspace=0.5)\n",
    "# for key, values in committee_model.items():\n",
    "#     x = values[0]['H']\n",
    "#     y = values[1]['H']\n",
    "\n",
    "#     ax = plt.subplot(4, 4, int(key.split('-')[-1]) + 1)\n",
    "#     ax.scatter(x[:, 0, :], y[:, 0, 0])\n"
   ]
  },
  {
   "cell_type": "code",
   "execution_count": 395,
   "metadata": {},
   "outputs": [],
   "source": [
    "#These should be from the full training function.data values\n",
    "\n",
    "\n",
    "def linear_regression(committee_model, el):\n",
    "    lr_models = {}\n",
    "    for key, values in enumerate(committee_model.values()):\n",
    "        lr ={}\n",
    "        for j in el:\n",
    "            x = values[0][id2el[j]]\n",
    "            y = values[1][id2el[j]]\n",
    "\n",
    "            print(x.shape, y.shape)\n",
    "\n",
    "            lr[id2el[j]] = [LinearRegression(fit_intercept= False).fit(x[:, k, :], y[:, k, 0]) for k in range(NOFATOMS[id2el[j]])] #dic for LR for 1 model\n",
    "        \n",
    "        lr_models['model-' + str(key)] = lr\n",
    "        \n",
    "    return lr_models\n",
    "#un-scaling should be done only at prediction\n"
   ]
  },
  {
   "cell_type": "code",
   "execution_count": 396,
   "metadata": {},
   "outputs": [
    {
     "name": "stdout",
     "output_type": "stream",
     "text": [
      "(835, 128, 20) (835, 128, 1)\n",
      "(835, 64, 20) (835, 64, 1)\n",
      "(759, 128, 20) (759, 128, 1)\n",
      "(759, 64, 20) (759, 64, 1)\n",
      "(806, 128, 20) (806, 128, 1)\n",
      "(806, 64, 20) (806, 64, 1)\n",
      "(817, 128, 20) (817, 128, 1)\n",
      "(817, 64, 20) (817, 64, 1)\n",
      "(793, 128, 20) (793, 128, 1)\n",
      "(793, 64, 20) (793, 64, 1)\n",
      "(804, 128, 20) (804, 128, 1)\n",
      "(804, 64, 20) (804, 64, 1)\n",
      "(797, 128, 20) (797, 128, 1)\n",
      "(797, 64, 20) (797, 64, 1)\n",
      "(823, 128, 20) (823, 128, 1)\n",
      "(823, 64, 20) (823, 64, 1)\n",
      "(811, 128, 20) (811, 128, 1)\n",
      "(811, 64, 20) (811, 64, 1)\n",
      "(811, 128, 20) (811, 128, 1)\n",
      "(811, 64, 20) (811, 64, 1)\n",
      "(800, 128, 20) (800, 128, 1)\n",
      "(800, 64, 20) (800, 64, 1)\n",
      "(801, 128, 20) (801, 128, 1)\n",
      "(801, 64, 20) (801, 64, 1)\n",
      "(798, 128, 20) (798, 128, 1)\n",
      "(798, 64, 20) (798, 64, 1)\n",
      "(773, 128, 20) (773, 128, 1)\n",
      "(773, 64, 20) (773, 64, 1)\n",
      "(822, 128, 20) (822, 128, 1)\n",
      "(822, 64, 20) (822, 64, 1)\n",
      "(793, 128, 20) (793, 128, 1)\n",
      "(793, 64, 20) (793, 64, 1)\n"
     ]
    }
   ],
   "source": [
    "lr_models = linear_regression(committee_model, el = el)"
   ]
  },
  {
   "attachments": {},
   "cell_type": "markdown",
   "metadata": {},
   "source": [
    "Weights are same for all the models in linear regression model.\n",
    "\n",
    "But if the turn off the intercept then values are differing."
   ]
  },
  {
   "cell_type": "code",
   "execution_count": 397,
   "metadata": {},
   "outputs": [
    {
     "name": "stdout",
     "output_type": "stream",
     "text": [
      "0.0\n"
     ]
    }
   ],
   "source": [
    "print(lr_models['model-0']['H'][100].intercept_)"
   ]
  },
  {
   "cell_type": "code",
   "execution_count": 398,
   "metadata": {},
   "outputs": [
    {
     "name": "stdout",
     "output_type": "stream",
     "text": [
      " Number of unique elements: 2 \n",
      " 1st element: 1 --- H \n",
      " 2nd element: 8 --- O\n",
      "Number of symmetry functions:\n",
      " for el:1 27 \n",
      " for el:2 30\n"
     ]
    }
   ],
   "source": [
    "#test set selection and prediction\n",
    "feature_test, energy_test = feature_extractor(FUNCTION = os.path.join(home, 'testset/test-orig/function.cleaned.data'), SCALING = os.path.join(home, 'testset/test-orig/scaling.data'))\n",
    "NOFFRAMES_TEST = feature_test['O'].shape[0]"
   ]
  },
  {
   "cell_type": "code",
   "execution_count": 393,
   "metadata": {},
   "outputs": [],
   "source": [
    "#prediction for single frame\n",
    "def prediction(lr_models, feature_test, energy_test, el):\n",
    "\n",
    "    atomic_contri = {}\n",
    "    total_energy = {}\n",
    "    for key, values in enumerate(lr_models.values()):\n",
    "        lr_pred = {}\n",
    "        el_en = []\n",
    "        for j in el:\n",
    "            x = feature_test[id2el[j]]\n",
    "            y = energy_test[id2el[j]].reshape(NOFATOMS[id2el[j]],1)\n",
    "            \n",
    "            lr_pred[id2el[j]] = [ (y[k] / conv_energy, values[id2el[j]][k].predict(x[:, k, :]) / conv_energy) for k in range(NOFATOMS[id2el[j]])] #dic of list of tuples containing UNSCALED (true_y, y_pred) \n",
    "            \n",
    "            el_en.append(np.sum([en[1] + mean_energy for en in lr_pred[id2el[j]]]))\n",
    "\n",
    "        atomic_contri['model-' + str(key)] = lr_pred\n",
    "        total_energy['model-' + str(key)] = np.sum(el_en)\n",
    "\n",
    "    return atomic_contri, total_energy\n"
   ]
  },
  {
   "cell_type": "code",
   "execution_count": 394,
   "metadata": {},
   "outputs": [
    {
     "ename": "ValueError",
     "evalue": "cannot reshape array of size 20608 into shape (128,1)",
     "output_type": "error",
     "traceback": [
      "\u001b[0;31m---------------------------------------------------------------------------\u001b[0m",
      "\u001b[0;31mValueError\u001b[0m                                Traceback (most recent call last)",
      "\u001b[1;32m/Users/shubhamdongriyal/my-drive/SabIA/HDNNP/H2O-Bing/MulRegression/MLR/LinearRegression2.ipynb Cell 25\u001b[0m in \u001b[0;36m<cell line: 2>\u001b[0;34m()\u001b[0m\n\u001b[1;32m      <a href='vscode-notebook-cell:/Users/shubhamdongriyal/my-drive/SabIA/HDNNP/H2O-Bing/MulRegression/MLR/LinearRegression2.ipynb#Y111sZmlsZQ%3D%3D?line=0'>1</a>\u001b[0m \u001b[39m#single prediction\u001b[39;00m\n\u001b[0;32m----> <a href='vscode-notebook-cell:/Users/shubhamdongriyal/my-drive/SabIA/HDNNP/H2O-Bing/MulRegression/MLR/LinearRegression2.ipynb#Y111sZmlsZQ%3D%3D?line=1'>2</a>\u001b[0m atomic_contri, total_energy \u001b[39m=\u001b[39m prediction(lr_models, feature_test, energy_test, el)  \u001b[39m#correct\u001b[39;00m\n\u001b[1;32m      <a href='vscode-notebook-cell:/Users/shubhamdongriyal/my-drive/SabIA/HDNNP/H2O-Bing/MulRegression/MLR/LinearRegression2.ipynb#Y111sZmlsZQ%3D%3D?line=3'>4</a>\u001b[0m committee_mean \u001b[39m=\u001b[39m np\u001b[39m.\u001b[39mmean(\u001b[39mlist\u001b[39m(total_energy\u001b[39m.\u001b[39mvalues()))\n\u001b[1;32m      <a href='vscode-notebook-cell:/Users/shubhamdongriyal/my-drive/SabIA/HDNNP/H2O-Bing/MulRegression/MLR/LinearRegression2.ipynb#Y111sZmlsZQ%3D%3D?line=4'>5</a>\u001b[0m committee_std \u001b[39m=\u001b[39m np\u001b[39m.\u001b[39mstd(\u001b[39mlist\u001b[39m(total_energy\u001b[39m.\u001b[39mvalues()))\n",
      "\u001b[1;32m/Users/shubhamdongriyal/my-drive/SabIA/HDNNP/H2O-Bing/MulRegression/MLR/LinearRegression2.ipynb Cell 25\u001b[0m in \u001b[0;36mprediction\u001b[0;34m(lr_models, feature_test, energy_test, el)\u001b[0m\n\u001b[1;32m      <a href='vscode-notebook-cell:/Users/shubhamdongriyal/my-drive/SabIA/HDNNP/H2O-Bing/MulRegression/MLR/LinearRegression2.ipynb#Y111sZmlsZQ%3D%3D?line=8'>9</a>\u001b[0m \u001b[39mfor\u001b[39;00m j \u001b[39min\u001b[39;00m el:\n\u001b[1;32m     <a href='vscode-notebook-cell:/Users/shubhamdongriyal/my-drive/SabIA/HDNNP/H2O-Bing/MulRegression/MLR/LinearRegression2.ipynb#Y111sZmlsZQ%3D%3D?line=9'>10</a>\u001b[0m     x \u001b[39m=\u001b[39m feature_test[id2el[j]]\n\u001b[0;32m---> <a href='vscode-notebook-cell:/Users/shubhamdongriyal/my-drive/SabIA/HDNNP/H2O-Bing/MulRegression/MLR/LinearRegression2.ipynb#Y111sZmlsZQ%3D%3D?line=10'>11</a>\u001b[0m     y \u001b[39m=\u001b[39m energy_test[id2el[j]]\u001b[39m.\u001b[39;49mreshape(NOFATOMS[id2el[j]],\u001b[39m1\u001b[39;49m)\n\u001b[1;32m     <a href='vscode-notebook-cell:/Users/shubhamdongriyal/my-drive/SabIA/HDNNP/H2O-Bing/MulRegression/MLR/LinearRegression2.ipynb#Y111sZmlsZQ%3D%3D?line=12'>13</a>\u001b[0m     lr_pred[id2el[j]] \u001b[39m=\u001b[39m [ (y[k] \u001b[39m/\u001b[39m conv_energy, values[id2el[j]][k]\u001b[39m.\u001b[39mpredict(x[:, k, :]) \u001b[39m/\u001b[39m conv_energy) \u001b[39mfor\u001b[39;00m k \u001b[39min\u001b[39;00m \u001b[39mrange\u001b[39m(NOFATOMS[id2el[j]])] \u001b[39m#dic of list of tuples containing UNSCALED (true_y, y_pred) \u001b[39;00m\n\u001b[1;32m     <a href='vscode-notebook-cell:/Users/shubhamdongriyal/my-drive/SabIA/HDNNP/H2O-Bing/MulRegression/MLR/LinearRegression2.ipynb#Y111sZmlsZQ%3D%3D?line=14'>15</a>\u001b[0m     el_en\u001b[39m.\u001b[39mappend(np\u001b[39m.\u001b[39msum([en[\u001b[39m1\u001b[39m] \u001b[39m+\u001b[39m mean_energy \u001b[39mfor\u001b[39;00m en \u001b[39min\u001b[39;00m lr_pred[id2el[j]]]))\n",
      "\u001b[0;31mValueError\u001b[0m: cannot reshape array of size 20608 into shape (128,1)"
     ]
    }
   ],
   "source": [
    "#single prediction\n",
    "atomic_contri, total_energy = prediction(lr_models, feature_test, energy_test, el)  #correct\n",
    "\n",
    "committee_mean = np.mean(list(total_energy.values()))\n",
    "committee_std = np.std(list(total_energy.values()))\n",
    "\n",
    "print(f'Total Number of Committee NNs: {len(total_energy)}')\n",
    "print(f'Committee Mean Energy: {committee_mean} eV\\nCommittee Standard Deviation: {committee_std} eV')"
   ]
  },
  {
   "cell_type": "code",
   "execution_count": 399,
   "metadata": {},
   "outputs": [],
   "source": [
    "#prediction for multiple frames\n",
    "def multi_frame_prediction(lr_models, feature_test, energy_test, el):\n",
    "    total_energy = {}\n",
    "    for key, values in enumerate(lr_models.values()):  #model loop\n",
    "        energies = []\n",
    "        for k in range(NOFFRAMES_TEST): #frame loop\n",
    "            frame_energy = []\n",
    "            for j in el:    #element loop\n",
    "                #frame_energy_el = 0\n",
    "                x = feature_test[id2el[j]][k]\n",
    "                #y = energy_test[id2el[j]][k].reshape(NOFATOMS[id2el[j]],1) #no need for prediction anyway\n",
    "\n",
    "                kframe_encontri_el = [(values[id2el[j]][z].predict(x[z, :].reshape(1, -1)) / conv_energy) for z in range(NOFATOMS[id2el[j]])] #atom loop\n",
    "                frame_energy_el = np.sum([encon + mean_energy for encon in kframe_encontri_el])\n",
    "\n",
    "                frame_energy.append(frame_energy_el)\n",
    "            #print(len(frame_energy))\n",
    "            total_frame_one_energy = np.sum(frame_energy)\n",
    "            energies.append(total_frame_one_energy)\n",
    "\n",
    "        total_energy['model-' + str(key)] = energies\n",
    "    return total_energy\n",
    "\n",
    "                    "
   ]
  },
  {
   "cell_type": "code",
   "execution_count": 400,
   "metadata": {},
   "outputs": [],
   "source": [
    "#multiple prediction at once\n",
    "total_energy = multi_frame_prediction(lr_models, feature_test, energy_test, el = el)\n",
    "en_mat =  np.asarray([i for i in total_energy.values()])\n",
    "mean_energy_per_frame = np.mean(en_mat, axis = 0)\n",
    "std_energy_per_frame = np.std(en_mat, axis = 0)"
   ]
  },
  {
   "cell_type": "code",
   "execution_count": 388,
   "metadata": {},
   "outputs": [
    {
     "data": {
      "text/plain": [
       "array([2.27373675e-13, 2.47774718e-13, 2.66619268e-13, 4.54747351e-13,\n",
       "       1.13686838e-13, 3.97903932e-13, 2.27373675e-13, 2.27373675e-13,\n",
       "       2.27373675e-13, 0.00000000e+00, 2.20153615e-13, 4.54747351e-13,\n",
       "       0.00000000e+00, 4.54747351e-13, 2.27373675e-13, 2.27373675e-13,\n",
       "       2.27373675e-13, 2.27373675e-13, 4.54747351e-13, 2.47774718e-13,\n",
       "       0.00000000e+00, 0.00000000e+00, 2.27373675e-13, 8.03887339e-14,\n",
       "       4.54747351e-13, 2.27373675e-13, 1.13686838e-13, 2.27373675e-13,\n",
       "       2.66619268e-13, 2.27373675e-13, 0.00000000e+00, 4.54747351e-13,\n",
       "       1.96911379e-13, 2.27373675e-13, 0.00000000e+00, 2.27373675e-13,\n",
       "       1.39237371e-13, 2.27373675e-13, 0.00000000e+00, 4.54747351e-13,\n",
       "       1.70530257e-13, 2.27373675e-13, 8.03887339e-14, 2.27373675e-13,\n",
       "       4.54747351e-13, 0.00000000e+00, 0.00000000e+00, 2.27373675e-13,\n",
       "       0.00000000e+00, 5.68434189e-14, 0.00000000e+00, 0.00000000e+00,\n",
       "       0.00000000e+00, 8.03887339e-14, 0.00000000e+00, 0.00000000e+00,\n",
       "       1.13686838e-13, 0.00000000e+00, 0.00000000e+00, 4.54747351e-13,\n",
       "       5.68434189e-14, 2.27373675e-13, 1.50393550e-13, 4.54747351e-13,\n",
       "       2.04951861e-13, 2.47774718e-13, 2.27373675e-13, 2.66619268e-13,\n",
       "       4.43961294e-13, 1.96911379e-13, 8.03887339e-14, 0.00000000e+00,\n",
       "       2.27373675e-13, 2.47774718e-13, 2.27373675e-13, 2.27373675e-13,\n",
       "       2.27373675e-13, 2.27373675e-13, 2.27373675e-13, 2.34371420e-13,\n",
       "       0.00000000e+00, 2.27373675e-13, 0.00000000e+00, 2.27373675e-13,\n",
       "       8.03887339e-14, 4.54747351e-13, 2.84217094e-13, 2.84217094e-13,\n",
       "       3.45765018e-13, 2.27373675e-13, 2.41166202e-13, 2.27373675e-13,\n",
       "       4.54747351e-13, 0.00000000e+00, 5.56949486e-13, 0.00000000e+00,\n",
       "       0.00000000e+00, 8.03887339e-14, 0.00000000e+00, 0.00000000e+00,\n",
       "       0.00000000e+00, 0.00000000e+00, 2.20153615e-13, 1.13686838e-13,\n",
       "       2.27373675e-13, 0.00000000e+00, 1.60777468e-13, 2.27373675e-13,\n",
       "       2.27373675e-13, 2.27373675e-13, 2.27373675e-13, 4.54747351e-13,\n",
       "       0.00000000e+00, 4.54747351e-13, 0.00000000e+00, 2.04951861e-13,\n",
       "       2.27373675e-13, 2.27373675e-13, 2.27373675e-13, 2.27373675e-13,\n",
       "       2.27373675e-13, 2.27373675e-13, 0.00000000e+00, 2.27373675e-13,\n",
       "       2.27373675e-13, 2.78474743e-13, 0.00000000e+00, 0.00000000e+00,\n",
       "       2.27373675e-13, 2.27373675e-13, 0.00000000e+00, 8.03887339e-14,\n",
       "       4.54747351e-13, 0.00000000e+00, 2.27373675e-13, 4.72176900e-13,\n",
       "       2.47774718e-13, 2.12688598e-13, 4.54747351e-13, 2.27373675e-13,\n",
       "       0.00000000e+00, 2.04951861e-13, 4.54747351e-13, 2.20153615e-13,\n",
       "       0.00000000e+00, 2.27373675e-13, 1.27105749e-13, 4.54747351e-13,\n",
       "       2.27373675e-13, 1.39237371e-13, 5.68434189e-14, 0.00000000e+00,\n",
       "       1.96911379e-13, 2.27373675e-13, 0.00000000e+00, 1.70530257e-13,\n",
       "       0.00000000e+00, 2.27373675e-13, 2.27373675e-13, 0.00000000e+00,\n",
       "       1.27105749e-13])"
      ]
     },
     "execution_count": 388,
     "metadata": {},
     "output_type": "execute_result"
    }
   ],
   "source": [
    "std_energy_per_frame"
   ]
  },
  {
   "attachments": {},
   "cell_type": "markdown",
   "metadata": {},
   "source": [
    "ANALYSIS"
   ]
  },
  {
   "cell_type": "code",
   "execution_count": 401,
   "metadata": {},
   "outputs": [],
   "source": [
    "#true energy\n",
    "true_energy = np.loadtxt(os.path.join(home, 'testset/test-orig/energy.data'))"
   ]
  },
  {
   "cell_type": "code",
   "execution_count": 461,
   "metadata": {},
   "outputs": [
    {
     "data": {
      "image/png": "[encoded data removed]",
      "text/plain": [
       "<Figure size 1280x960 with 1 Axes>"
      ]
     },
     "metadata": {},
     "output_type": "display_data"
    }
   ],
   "source": [
    "#Plotting Energy True vs Energy Predicted\n",
    "\n",
    "# plt.figure(dpi = 200)\n",
    "# plt.plot([-1104, -1100], [-1104, -1100])\n",
    "fig, ax = plt.subplots(dpi = 200)\n",
    "ax.errorbar(true_energy, mean_energy_per_frame, yerr = std_energy_per_frame, fmt= 'o', markersize = 3, capsize = 3, color = 'r', label = 'Committee of 16 NNs')\n",
    "lims = [\n",
    "    np.min([ax.get_xlim(), ax.get_ylim()]),  # min of both axes\n",
    "    np.max([ax.get_xlim(), ax.get_ylim()]),  # max of both axes\n",
    "]\n",
    "\n",
    "# now plot both limits against eachother\n",
    "ax.plot(lims, lims, 'k-', alpha=0.75, zorder=0)\n",
    "ax.set_aspect('equal')\n",
    "ax.set_xlim(lims)\n",
    "ax.set_ylim(lims)\n",
    "\n",
    "plt.xticks(fontsize = 7)\n",
    "plt.yticks(fontsize = 7)\n",
    "plt.xlabel('True Energy (eV)', fontsize = 11)\n",
    "plt.ylabel('Predicted Energy (eV)', fontsize = 11)\n",
    "plt.title('Test Set of 161 Structures', fontsize = 12)\n",
    "plt.legend()\n",
    "#plt.savefig(os.path.join(home,'MLR/E-true_vs_E-comm_16.pdf'), dpi=200, format='pdf', bbox_inches= 'tight', pad_inches=0.1,)\n",
    "plt.show()"
   ]
  },
  {
   "cell_type": "code",
   "execution_count": null,
   "metadata": {},
   "outputs": [],
   "source": []
  }
 ],
 "metadata": {
  "kernelspec": {
   "display_name": "pytorch_m1",
   "language": "python",
   "name": "python3"
  },
  "language_info": {
   "codemirror_mode": {
    "name": "ipython",
    "version": 3
   },
   "file_extension": ".py",
   "mimetype": "text/x-python",
   "name": "python",
   "nbconvert_exporter": "python",
   "pygments_lexer": "ipython3",
   "version": "3.10.4"
  },
  "orig_nbformat": 4,
  "vscode": {
   "interpreter": {
    "hash": "87d5e658fa85a9f37500d9649610e9a195e3cd7fe1efd163ba6535feaf367c14"
   }
  }
 },
 "nbformat": 4,
 "nbformat_minor": 2
}
