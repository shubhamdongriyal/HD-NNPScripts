{
 "cells": [
  {
   "attachments": {},
   "cell_type": "markdown",
   "metadata": {},
   "source": [
    "Atom wise Linear Regression formalism for Neural Network Potentials.\n",
    "which is later refined into element wise then to concatenating Linear Regression."
   ]
  },
  {
   "cell_type": "code",
   "execution_count": 1,
   "metadata": {},
   "outputs": [],
   "source": [
    "import os\n",
    "import glob\n",
    "import numpy as np\n",
    "\n",
    "from sklearn.linear_model import LinearRegression\n",
    "import matplotlib.pyplot as plt\n",
    "%matplotlib inline"
   ]
  },
  {
   "cell_type": "code",
   "execution_count": 266,
   "metadata": {},
   "outputs": [],
   "source": [
    "# defining a function to read all the values, energies and sequence of the folders and return them as numpy arrays\n",
    "\n",
    "def mat(parent_dir):\n",
    "    lhlH, lhlC, peH, peC, pe_ref, seq = [], [], [], [], [], []\n",
    "    for foldername in os.listdir(parent_dir):\n",
    "        if os.path.isdir(os.path.join(parent_dir,foldername)):\n",
    "            os.chdir(os.path.join(parent_dir, foldername))\n",
    "            \n",
    "            llH = np.loadtxt(glob.glob('values.001.out*')[0], usecols=(0))[25:51]\n",
    "            enH = llH[25]   #pe of H\n",
    "            llH = llH[:25]\n",
    "\n",
    "            llC = np.loadtxt(glob.glob('values.006.out*')[0], usecols=(0))[25:51]\n",
    "            enC = llC[25]   #pe of C\n",
    "            llC = llC[:25]\n",
    "\n",
    "            energy = np.loadtxt(glob.glob('energy.out*')[0], usecols=(1))   #pe_ref\n",
    "\n",
    "            lhlH.append(llH)\n",
    "            lhlC.append(llC)\n",
    "\n",
    "            peH.append(enH)\n",
    "            peC.append(enC)\n",
    "\n",
    "            pe_ref.append(energy)\n",
    "            seq.append(foldername)\n",
    "            \n",
    "\n",
    "    return np.array(lhlH), np.array(lhlC), np.array(peH), np.array(peC), np.array(pe_ref), seq\n",
    "\n",
    "        "
   ]
  },
  {
   "cell_type": "code",
   "execution_count": 329,
   "metadata": {},
   "outputs": [],
   "source": [
    "def corplot(x, y):\n",
    "    plt.scatter(x, y, color='black', facecolors='none')\n",
    "    plt.xlabel('true pe')\n",
    "    plt.ylabel('predicted pe')\n",
    "    plt.title('Linear Regression')\n",
    "    plt.show()"
   ]
  },
  {
   "cell_type": "code",
   "execution_count": 267,
   "metadata": {},
   "outputs": [],
   "source": [
    "#training set\n",
    "\n",
    "x1, x2, y1, y2, y, seq = mat('/Users/shubhamdongriyal/my-drive/SabIA/HDNNP/Naphthalene/LinearRegression/mulPredict/training-set')\n",
    "\n",
    "#test set\n",
    "x1_test, x2_test, y1_test, y2_test, y_test, seq_test = mat('/Users/shubhamdongriyal/my-drive/SabIA/HDNNP/Naphthalene/LinearRegression/mulPredict/test-set--crystal')"
   ]
  },
  {
   "cell_type": "code",
   "execution_count": 268,
   "metadata": {
    "tags": [
     "parameters"
    ]
   },
   "outputs": [],
   "source": [
    "########IMPORTANT########\n",
    "\n",
    "#x2[:,3] #Here look the 4th and 12th neuron value is zero for all the configurations it means that neuron never turned on for the entire training set.\n",
    "#x2[:,11]\n",
    "\n",
    "# so x2 is a singular matrix and can't apply analytical solution to find the weights.\n",
    "\n",
    "#can be fixed\n"
   ]
  },
  {
   "cell_type": "code",
   "execution_count": 269,
   "metadata": {},
   "outputs": [
    {
     "name": "stdout",
     "output_type": "stream",
     "text": [
      "(11000, 25) (11000, 25) (11000,) (11000,) (11000,) 11000\n"
     ]
    }
   ],
   "source": [
    "print(x1.shape, x2.shape, y1.shape, y2.shape, y.shape, len(seq))"
   ]
  },
  {
   "attachments": {},
   "cell_type": "markdown",
   "metadata": {},
   "source": [
    "Analytic solution of Linear regression model"
   ]
  },
  {
   "cell_type": "code",
   "execution_count": 270,
   "metadata": {},
   "outputs": [
    {
     "data": {
      "text/plain": [
       "array([-1.76074661e+03, -1.86658360e+01, -5.20908232e+01,  2.48606579e+01,\n",
       "       -5.54142486e+00,  1.45639834e+01, -3.11707073e-01, -6.20416530e+00,\n",
       "       -8.33128021e-03, -2.18963702e+00,  1.47460054e+01, -3.28808567e+01,\n",
       "        2.52210906e+00,  8.68281864e+01,  4.48268087e-01,  5.87978231e+00,\n",
       "       -2.37408908e-02, -4.42789714e+00,  1.64805062e+00, -3.87945091e+00,\n",
       "       -2.93830878e+00, -1.33536787e+00,  1.88289857e-01,  5.43978966e+00,\n",
       "        2.61413213e-01])"
      ]
     },
     "execution_count": 270,
     "metadata": {},
     "output_type": "execute_result"
    }
   ],
   "source": [
    "w1 = np.dot(np.linalg.inv(np.dot(x1.T, x1)), np.dot(x1.T, y1)) #analytical solution for linear regression\n",
    "w1"
   ]
  },
  {
   "cell_type": "code",
   "execution_count": 271,
   "metadata": {},
   "outputs": [],
   "source": [
    "#w2 = np.dot(np.linalg.inv(np.dot(x2.T, x2)), np.dot(x2.T, y2)) # singluar matrix error as two of feature vectors are collinear"
   ]
  },
  {
   "attachments": {},
   "cell_type": "markdown",
   "metadata": {},
   "source": [
    "Linear Regression models for atomic energy contributions"
   ]
  },
  {
   "cell_type": "code",
   "execution_count": 274,
   "metadata": {},
   "outputs": [
    {
     "name": "stdout",
     "output_type": "stream",
     "text": [
      " Fitted weights :\n",
      " [ 6.20707301e-02 -9.00955996e-02 -8.16797106e-03 -8.25595148e-12\n",
      "  2.48026002e+01 -1.83760329e+00  1.43380472e+01  2.85960273e-03\n",
      "  3.00037650e-03 -5.72377241e-02  7.49151739e-01  4.72599737e-12\n",
      "  2.01890190e+00 -1.17883245e-02 -2.88520870e-03 -5.29284453e-01\n",
      " -1.99171439e-02  7.30328607e-02  9.75978722e-01  2.36549146e-01\n",
      " -3.28269605e-02 -2.72134348e+00 -1.37449924e-02  8.93211770e-04\n",
      " -1.59470895e-02]\n",
      "\n",
      " Fitted intercept :\n",
      " -642.014534550713\n",
      "\n",
      " Rank:\n",
      " 23\n"
     ]
    }
   ],
   "source": [
    "#Fitting the two separate Linear Regression models for C and H in the training set\n",
    "\n",
    "model = LinearRegression(fit_intercept=True) #instantiating the model\n",
    "\n",
    "model.fit(x2, y2) #fitting the model\n",
    "\n",
    "print(f' Fitted weights :\\n {model.coef_}')\n",
    "print(f'\\n Fitted intercept :\\n {model.intercept_}')\n",
    "print(f'\\n Rank:\\n {model.rank_}')  #see rank is 23 which is less than 25 so it is a singular matrix for C not for H"
   ]
  },
  {
   "attachments": {},
   "cell_type": "markdown",
   "metadata": {},
   "source": [
    "Analysis:\n",
    "\n",
    "with fit_intercept = False - gets the same weight that we get from analytical solution."
   ]
  },
  {
   "cell_type": "code",
   "execution_count": 282,
   "metadata": {},
   "outputs": [
    {
     "name": "stdout",
     "output_type": "stream",
     "text": [
      " Score :\n",
      " 1.0\n"
     ]
    }
   ],
   "source": [
    "#predicting the test set results\n",
    "\n",
    "y2_pred = model.predict(x2_test)\n",
    "\n",
    "print(f' Score :\\n {model.score(x2_test, y2_test)}')"
   ]
  },
  {
   "cell_type": "code",
   "execution_count": 283,
   "metadata": {},
   "outputs": [
    {
     "name": "stdout",
     "output_type": "stream",
     "text": [
      "[403.03906937 399.2914245  401.40398225 ... 404.17829053 401.14879509\n",
      " 400.99430792]\n"
     ]
    }
   ],
   "source": [
    "print(y2_pred)"
   ]
  },
  {
   "cell_type": "code",
   "execution_count": 330,
   "metadata": {},
   "outputs": [
    {
     "data": {
      "image/png": "[encoded data removed]",
      "text/plain": [
       "<Figure size 640x480 with 1 Axes>"
      ]
     },
     "metadata": {},
     "output_type": "display_data"
    }
   ],
   "source": [
    "corplot(y2_test, y2_pred)"
   ]
  },
  {
   "cell_type": "code",
   "execution_count": 355,
   "metadata": {},
   "outputs": [
    {
     "data": {
      "text/plain": [
       "Text(0.5, 1.0, 'Test set C (eV)')"
      ]
     },
     "execution_count": 355,
     "metadata": {},
     "output_type": "execute_result"
    },
    {
     "data": {
      "image/png": "[encoded data removed]",
      "text/plain": [
       "<Figure size 640x480 with 4 Axes>"
      ]
     },
     "metadata": {},
     "output_type": "display_data"
    }
   ],
   "source": [
    "#Atomic energy contribution plots\n",
    "\n",
    "plt.figure(dpi = 100)\n",
    "plt.subplot(2, 2, 1)\n",
    "plt.hist(y1, bins =100)\n",
    "plt.title('Training set Hy (eV)')\n",
    "plt.subplot(2, 2, 2)\n",
    "plt.hist(y2, bins =100)\n",
    "plt.title('Training set C (eV)')\n",
    "plt.subplot(2, 2, 3)\n",
    "plt.hist(y1_test, bins =100)\n",
    "plt.title('Test set Hy (eV)')\n",
    "plt.subplot(2, 2, 4)\n",
    "plt.hist(y2_test, bins =100)\n",
    "plt.title('Test set C (eV)')"
   ]
  },
  {
   "attachments": {},
   "cell_type": "markdown",
   "metadata": {},
   "source": [
    "LR model works well for the atomic energy contribution"
   ]
  },
  {
   "attachments": {},
   "cell_type": "markdown",
   "metadata": {},
   "source": [
    "Linear regression model for the total potential energy of the crsystal by concatenating the atomic features."
   ]
  },
  {
   "cell_type": "code",
   "execution_count": 302,
   "metadata": {},
   "outputs": [
    {
     "name": "stdout",
     "output_type": "stream",
     "text": [
      "feature vector shape:\n",
      " (11000, 50)\n"
     ]
    }
   ],
   "source": [
    "x_train = np.concatenate((x1, x2), axis=1)\n",
    "print(f'feature vector shape:\\n {x_train.shape}')\n"
   ]
  },
  {
   "cell_type": "code",
   "execution_count": 365,
   "metadata": {},
   "outputs": [
    {
     "name": "stdout",
     "output_type": "stream",
     "text": [
      " Fitted weights :\n",
      " [ 3.78914293e+01 -1.55437955e-02  9.94009814e-01  1.15506411e+00\n",
      "  3.32013090e-02  4.06848557e-01  6.83045639e-03  1.21512816e-02\n",
      "  1.09952050e-01 -2.04707095e-01 -3.60356930e-01  1.13862183e+00\n",
      " -1.50730240e-02 -3.73836737e-01  1.45742541e-02  1.99951547e-01\n",
      "  9.10700047e-02  1.47083262e-01  3.30619831e-01  4.35399882e-02\n",
      "  2.93013862e-02 -1.64185654e-02 -1.23493864e-01 -2.01012308e-01\n",
      " -4.42115091e-02  5.19273941e-01 -3.19650992e+00 -1.25288391e+01\n",
      " -3.06423552e-06  5.27244931e-01 -1.07819700e+01 -4.31380396e-01\n",
      " -1.34670413e+00  1.10402374e+00  1.35420281e+00  5.19592911e-01\n",
      " -6.34139186e-09  2.24354530e+01 -2.88084010e-01  6.47286668e-01\n",
      " -4.55601202e+04  2.76513302e+00 -9.01867480e-01 -3.32359590e+01\n",
      "  1.20085870e+01 -1.15291828e+03  1.00737869e+02  2.90258903e-01\n",
      "  3.50700348e-01  1.07712640e+00]\n",
      "\n",
      " Fitted intercept :\n",
      " -83974.69937232746\n",
      "\n",
      " Rank:\n",
      " 48\n"
     ]
    }
   ],
   "source": [
    "model_full = LinearRegression(fit_intercept=True)\n",
    "\n",
    "model_full.fit(x_train, y)\n",
    "\n",
    "print(f' Fitted weights :\\n {model_full.coef_}')\n",
    "print(f'\\n Fitted intercept :\\n {model_full.intercept_}')\n",
    "print(f'\\n Rank:\\n {model_full.rank_}')  "
   ]
  },
  {
   "cell_type": "code",
   "execution_count": 344,
   "metadata": {},
   "outputs": [
    {
     "name": "stdout",
     "output_type": "stream",
     "text": [
      " Score :\n",
      " 0.6925337915117418\n",
      "\n",
      " Predicted energy :\n",
      " [-83930.81013951 -83933.84837952 -83932.6544097  ... -83931.53990092\n",
      " -83932.28864294 -83934.18503415]\n",
      "\n",
      " True energy :\n",
      " [-83931.7246 -83935.6941 -83931.5681 ... -83931.479  -83931.0647\n",
      " -83935.8426]\n",
      "\n",
      " Difference :\n",
      " [ 0.91446049  1.84572048 -1.0863097  ... -0.06090092 -1.22394294\n",
      "  1.65756585]\n",
      "\n",
      " Loss :\n",
      " 1.3332926549680133\n"
     ]
    }
   ],
   "source": [
    "#predicting the test set results\n",
    "x_test = np.concatenate((x1_test, x2_test), axis=1)\n",
    "y_pred_full = model_full.predict(x_test)\n",
    "\n",
    "print(f' Score :\\n {model_full.score(x_test, y_test)}')\n",
    "print(f'\\n Predicted energy :\\n {y_pred_full}')\n",
    "print(f'\\n True energy :\\n {y_test}')\n",
    "\n",
    "print(f'\\n Difference :\\n {y_pred_full - y_test}')\n",
    "print(f'\\n Loss :\\n {np.sum(np.abs(y_pred_full - y_test)**2)/y_pred_full.shape[0]}')"
   ]
  },
  {
   "cell_type": "code",
   "execution_count": 331,
   "metadata": {},
   "outputs": [
    {
     "data": {
      "image/png": "[encoded data removed]",
      "text/plain": [
       "<Figure size 640x480 with 1 Axes>"
      ]
     },
     "metadata": {},
     "output_type": "display_data"
    }
   ],
   "source": [
    "corplot(y_test, y_pred_full)"
   ]
  },
  {
   "cell_type": "code",
   "execution_count": 348,
   "metadata": {},
   "outputs": [
    {
     "data": {
      "text/plain": [
       "Text(0.5, 1.0, 'Test set (eV)')"
      ]
     },
     "execution_count": 348,
     "metadata": {},
     "output_type": "execute_result"
    },
    {
     "data": {
      "image/png": "[encoded data removed]",
      "text/plain": [
       "<Figure size 640x480 with 2 Axes>"
      ]
     },
     "metadata": {},
     "output_type": "display_data"
    }
   ],
   "source": [
    "#Total potential energy histogram\n",
    "\n",
    "plt.figure()\n",
    "plt.subplot(1, 2, 1)\n",
    "plt.hist(y, bins =100)\n",
    "plt.title('Training set (eV)')\n",
    "plt.subplot(1, 2, 2)\n",
    "plt.hist(y_test, bins =100)\n",
    "plt.title('Test set (eV)')"
   ]
  },
  {
   "attachments": {},
   "cell_type": "markdown",
   "metadata": {},
   "source": [
    "Testing Linear Regression on the molecule"
   ]
  },
  {
   "cell_type": "code",
   "execution_count": 357,
   "metadata": {},
   "outputs": [],
   "source": [
    "x1_mol, x2_mol, y1_mol, y2_mol, y_mol, seq_mol = mat('/Users/shubhamdongriyal/my-drive/SabIA/HDNNP/Naphthalene/LinearRegression/mulPredict/test-set--molecule')"
   ]
  },
  {
   "cell_type": "code",
   "execution_count": 362,
   "metadata": {},
   "outputs": [
    {
     "name": "stdout",
     "output_type": "stream",
     "text": [
      " Fitted weights :\n",
      " [ 6.20707301e-02 -9.00955996e-02 -8.16797106e-03 -8.25595148e-12\n",
      "  2.48026002e+01 -1.83760329e+00  1.43380472e+01  2.85960273e-03\n",
      "  3.00037650e-03 -5.72377241e-02  7.49151739e-01  4.72599737e-12\n",
      "  2.01890190e+00 -1.17883245e-02 -2.88520870e-03 -5.29284453e-01\n",
      " -1.99171439e-02  7.30328607e-02  9.75978722e-01  2.36549146e-01\n",
      " -3.28269605e-02 -2.72134348e+00 -1.37449924e-02  8.93211770e-04\n",
      " -1.59470895e-02]\n",
      "\n",
      " Fitted intercept :\n",
      " -642.014534550713\n",
      "\n",
      " Rank:\n",
      " 23\n",
      "\n",
      " Score :\n",
      " 0.9999999999999994\n",
      "\n",
      " Predicted values :\n",
      " [379.79033926 377.37712676 380.32189851 378.80401354 375.23834754\n",
      " 380.45595114 380.52203204 376.81172571 378.9524921  381.00341426\n",
      " 382.77530895 381.85894395 382.1379631  380.00967108 380.52640435\n",
      " 383.23420825 380.63524922 380.46078914 381.90383539 384.68893773]\n",
      "\n",
      " True values :\n",
      " [379.79033932 377.3771268  380.32189856 378.8040136  375.23834762\n",
      " 380.45595123 380.52203211 376.81172578 378.95249218 381.00341434\n",
      " 382.775309   381.85894401 382.13796318 380.00967114 380.52640441\n",
      " 383.23420832 380.63524929 380.46078919 381.90383546 384.68893779]\n"
     ]
    },
    {
     "data": {
      "image/png": "[encoded data removed]",
      "text/plain": [
       "<Figure size 640x480 with 1 Axes>"
      ]
     },
     "metadata": {},
     "output_type": "display_data"
    }
   ],
   "source": [
    "#LR for C in molecule\n",
    "\n",
    "model = LinearRegression(fit_intercept=True) #instantiating the model\n",
    "\n",
    "model.fit(x2, y2) #fitting the model\n",
    "\n",
    "print(f' Fitted weights :\\n {model.coef_}')\n",
    "print(f'\\n Fitted intercept :\\n {model.intercept_}')\n",
    "print(f'\\n Rank:\\n {model.rank_}')  #see rank is 23 which is less than 25 so it is a singular matrix for C not for H\n",
    "\n",
    "y2_mol_pred = model.predict(x2_mol)\n",
    "\n",
    "print(f'\\n Score :\\n {model.score(x2_mol, y2_mol)}')\n",
    "print(f'\\n Predicted values :\\n {y2_mol_pred[:20]}')\n",
    "print(f'\\n True values :\\n {y2_mol[:20]}')\n",
    "\n",
    "corplot(y2_mol, y2_mol_pred)"
   ]
  },
  {
   "cell_type": "code",
   "execution_count": 363,
   "metadata": {},
   "outputs": [
    {
     "name": "stdout",
     "output_type": "stream",
     "text": [
      " Fitted weights :\n",
      " [ 2.17205825e+00 -7.03524581e-04 -3.57637098e-02 -7.32550118e-06\n",
      "  4.25101066e-04 -1.55010612e-04 -1.90960112e-05  1.13682668e-03\n",
      "  2.14328716e-04 -1.49066835e-03  1.33901384e-02  3.60932995e-03\n",
      "  2.51467342e-04 -1.00263091e-02  1.60595629e-04  1.52684269e-04\n",
      "  4.41277004e-05 -2.73234023e-04 -5.87926822e-04  1.73714056e-04\n",
      " -9.83094533e-05 -1.87819664e-03  1.43083648e-04  4.51973939e-04\n",
      " -4.02909596e-04]\n",
      "\n",
      " Fitted intercept :\n",
      " -513.6116277572838\n",
      "\n",
      " Rank:\n",
      " 25\n",
      "\n",
      " Score :\n",
      " 1.0\n",
      "\n",
      " Predicted values :\n",
      " [-514.00647194 -513.98265549 -514.00778268 -513.97550034 -513.99414132\n",
      " -514.01658584 -514.0100403  -514.00905599 -514.02073387 -514.00110384\n",
      " -513.97427335 -513.98588213 -514.03116349 -514.00057234 -514.00296783\n",
      " -514.01505917 -514.00923795 -514.00385646 -514.02111373 -513.99138599]\n",
      "\n",
      " True values :\n",
      " [-514.00647194 -513.98265549 -514.00778268 -513.97550034 -513.99414132\n",
      " -514.01658584 -514.0100403  -514.00905599 -514.02073387 -514.00110384\n",
      " -513.97427335 -513.98588213 -514.03116349 -514.00057234 -514.00296783\n",
      " -514.01505917 -514.00923795 -514.00385646 -514.02111373 -513.99138599]\n"
     ]
    },
    {
     "data": {
      "image/png": "[encoded data removed]",
      "text/plain": [
       "<Figure size 640x480 with 1 Axes>"
      ]
     },
     "metadata": {},
     "output_type": "display_data"
    }
   ],
   "source": [
    "#LR for H in molecule\n",
    "\n",
    "model = LinearRegression(fit_intercept=True) #instantiating the model\n",
    "\n",
    "model.fit(x1, y1) #fitting the model\n",
    "\n",
    "print(f' Fitted weights :\\n {model.coef_}')\n",
    "print(f'\\n Fitted intercept :\\n {model.intercept_}')\n",
    "print(f'\\n Rank:\\n {model.rank_}')  #see rank is 23 which is less than 25 so it is a singular matrix for C not for H\n",
    "\n",
    "y1_mol_pred = model.predict(x1_mol)\n",
    "\n",
    "print(f'\\n Score :\\n {model.score(x1_mol, y1_mol)}')\n",
    "print(f'\\n Predicted values :\\n {y1_mol_pred[:20]}')\n",
    "print(f'\\n True values :\\n {y1_mol[:20]}')\n",
    "\n",
    "corplot(y1_mol, y1_mol_pred)"
   ]
  },
  {
   "cell_type": "code",
   "execution_count": 366,
   "metadata": {},
   "outputs": [
    {
     "name": "stdout",
     "output_type": "stream",
     "text": [
      "feature vector shape:\n",
      " (200, 50)\n",
      " Score :\n",
      " -939161891841.2899\n",
      "\n",
      " Predicted energy :\n",
      " [-373314.15261374 -283507.63483123 -388183.25398269 -404116.40127821\n",
      " -507090.74681807 -548446.58263564 -475211.646524   -466765.06007391\n",
      " -485135.77524977 -514513.06189692 -368745.52577295 -435390.96282404\n",
      " -558816.26167714 -414835.59443145 -410631.95957468 -499553.82257767\n",
      " -511025.3464054  -365361.5763667  -482681.10436615 -398977.12770634\n",
      " -461214.15358429 -554227.73368253 -487985.94314238 -438817.99100766\n",
      " -567724.91707374 -541192.50866811 -357565.24017518 -451353.00710133\n",
      " -539443.17388542 -510867.42281542 -396947.46261851 -550435.09437162\n",
      " -410674.88964848 -451623.80565004 -447551.72627014 -508857.0113633\n",
      " -522005.06642052 -517256.32195081 -552773.80834246 -394247.63495627\n",
      " -413112.66216468 -533014.91020732 -535135.09833227 -497826.81991733\n",
      " -521935.56898658 -321140.38740771 -472632.61587205 -355262.86958922\n",
      " -475778.09535115 -466279.62762321 -386642.90119633 -464658.44133176\n",
      " -425738.82296712 -501956.31176086 -361910.34832522 -518360.00326746\n",
      " -517866.65302267 -447937.30473004 -464499.52984247 -410872.81715538\n",
      " -357321.82767446 -384498.48963446 -392800.42558454 -503592.74501826\n",
      " -379493.88935184 -401009.35550299 -378990.72404898 -460753.07513608\n",
      " -326657.50386498 -338644.68755085 -400920.26384851 -524899.39854404\n",
      " -551903.80779545 -542807.54020535 -376519.32725591 -454745.83800725\n",
      " -385005.53596339 -543007.42795675 -358314.93711429 -353181.2885764\n",
      " -439768.65316262 -492519.59769764 -344846.57233004 -494103.31010369\n",
      " -390035.01393333 -401808.27243575 -510559.16303783 -454324.35138442\n",
      " -535439.46232566 -513484.98481109 -370173.94000685 -390265.64864877\n",
      " -567943.72074646 -565496.97428343 -459077.43512555 -436199.59732008\n",
      " -433874.38490793 -330139.16707416 -555331.88033945 -452933.1661744\n",
      " -449077.08320384 -408053.07226242 -403675.10087567 -457013.93403601\n",
      " -501038.28052388 -387380.5696031  -412182.81177074 -492836.64793732\n",
      " -401535.8749555  -466821.19428528 -476709.51765657 -436895.04065077\n",
      " -515720.50766077 -385646.59415042 -522232.92446601 -480312.91778367\n",
      " -586243.20469824 -467845.95802575 -558096.02311539 -535133.25303791\n",
      " -481337.12499958 -334563.75360343 -514826.40889059 -325941.77954912\n",
      " -404597.81320897 -461565.6319252  -344374.64047761 -366798.00149009\n",
      " -395840.03461354 -521000.47757194 -477077.15690642 -413671.33220973\n",
      " -517250.484775   -465795.82508895 -421240.86898731 -365414.43228887\n",
      " -364222.2980322  -545910.02033551 -384091.97156291 -464876.60397357\n",
      " -435919.88808704 -350034.34713513 -358269.21691525 -412862.5735458\n",
      " -427657.6063071  -536894.02800559 -426823.69364921 -608120.46250074\n",
      " -632697.50566898 -402140.29084326 -493030.31245016 -478550.6861369\n",
      " -534307.93860917 -491535.26245875 -420256.30074894 -469924.19306337\n",
      " -371791.62395096 -516303.26923849 -517066.91328593 -328792.71696106\n",
      " -588749.7880105  -501197.59453569 -493237.50122634 -418409.98310135\n",
      " -501475.18805318 -520338.18659547 -439300.30158855 -471260.79058198\n",
      " -361346.0081123  -489304.23950611 -377312.37800884 -381884.86458375\n",
      " -453339.47471759 -364852.47427029 -510738.19459665 -418696.07431657\n",
      " -306160.70601079 -513955.10010708 -599904.85657636 -425300.58485485\n",
      " -509654.54947657 -576360.88767836 -507707.61112206 -615087.46942848\n",
      " -408747.27597293 -404043.25497583 -488142.79026438 -455831.07530063\n",
      " -441219.76353434 -304013.50517709 -340656.44818963 -518893.53202496\n",
      " -408548.26495771 -517116.87424201 -383418.31176176 -510673.10884122\n",
      " -509391.46638452 -514392.47838141 -459029.88257614 -413184.83701643]\n",
      "\n",
      " True energy :\n",
      " [-10490.3857 -10488.7469 -10490.3254 -10489.9058 -10489.6868 -10489.2284\n",
      " -10490.5303 -10489.6016 -10490.2616 -10490.4901 -10490.293  -10490.1331\n",
      " -10489.4326 -10490.0374 -10490.357  -10490.2725 -10489.978  -10490.4829\n",
      " -10489.957  -10490.2411 -10490.1846 -10489.2545 -10489.7029 -10490.2373\n",
      " -10489.5982 -10489.9054 -10490.3944 -10490.1579 -10490.201  -10490.1599\n",
      " -10490.3597 -10488.3005 -10490.2714 -10490.0495 -10489.8358 -10489.7529\n",
      " -10489.9315 -10489.3796 -10490.2198 -10489.8292 -10489.9935 -10490.1576\n",
      " -10489.6759 -10489.4548 -10490.444  -10489.7552 -10489.6786 -10490.4059\n",
      " -10490.3888 -10490.0509 -10490.2609 -10489.8016 -10490.073  -10490.2462\n",
      " -10490.5682 -10489.9042 -10490.236  -10490.2034 -10490.3143 -10489.7443\n",
      " -10490.1828 -10489.6309 -10490.0034 -10489.7258 -10489.9176 -10490.1142\n",
      " -10490.0454 -10490.2808 -10489.8678 -10490.4312 -10490.405  -10490.2262\n",
      " -10488.965  -10488.528  -10490.4133 -10489.8362 -10490.3252 -10489.9174\n",
      " -10490.6035 -10490.0837 -10490.1989 -10490.5954 -10490.3352 -10489.488\n",
      " -10489.1894 -10489.8307 -10490.1156 -10490.1503 -10489.2187 -10489.758\n",
      " -10490.3    -10490.1055 -10488.3383 -10489.5312 -10490.1022 -10489.4782\n",
      " -10489.9747 -10488.8173 -10489.5601 -10490.287  -10490.0468 -10489.6667\n",
      " -10490.1842 -10489.9523 -10490.5455 -10489.6579 -10489.4757 -10490.6346\n",
      " -10489.7938 -10490.2814 -10489.98   -10490.0268 -10490.543  -10489.8669\n",
      " -10490.1017 -10489.8237 -10489.9805 -10490.0069 -10489.1448 -10490.3022\n",
      " -10490.4225 -10489.4907 -10490.0444 -10489.7094 -10490.0025 -10489.9011\n",
      " -10490.3772 -10490.4316 -10490.4862 -10490.1036 -10490.2239 -10489.29\n",
      " -10489.5902 -10490.0784 -10490.1117 -10490.4792 -10490.2266 -10489.5762\n",
      " -10490.3706 -10490.3857 -10489.8157 -10490.4932 -10488.944  -10489.3798\n",
      " -10490.1823 -10489.7572 -10490.2019 -10489.4383 -10488.1704 -10490.0191\n",
      " -10490.4414 -10490.2827 -10489.1135 -10489.9392 -10489.3306 -10489.8354\n",
      " -10490.2799 -10490.308  -10489.7351 -10488.5564 -10489.5069 -10489.8749\n",
      " -10490.0241 -10490.0284 -10489.8575 -10489.7838 -10489.917  -10490.5798\n",
      " -10490.5355 -10490.1893 -10490.5024 -10490.5313 -10489.986  -10490.3811\n",
      " -10489.5764 -10490.0938 -10490.0711 -10489.9514 -10488.6905 -10489.8851\n",
      " -10490.2374 -10490.2633 -10489.966  -10488.9489 -10489.6219 -10490.0322\n",
      " -10489.9427 -10490.1362 -10489.8258 -10489.5708 -10489.8019 -10490.2147\n",
      " -10489.7447 -10490.108  -10490.1706 -10490.4598 -10490.3021 -10490.5381\n",
      " -10489.8756 -10490.3104]\n",
      "\n",
      " Difference :\n",
      " [-362823.76691374 -273018.88793123 -377692.92858269 -393626.49547821\n",
      " -496601.06001807 -537957.35423564 -464721.116224   -456275.45847391\n",
      " -474645.51364977 -504022.57179692 -358255.23277295 -424900.82972404\n",
      " -548326.82907714 -404345.55703145 -400141.60257468 -489063.55007767\n",
      " -500535.3684054  -354871.0934667  -472191.14736615 -388486.88660634\n",
      " -450723.96898429 -543738.47918253 -477496.24024238 -428327.75370766\n",
      " -557235.31887374 -530702.60326811 -347074.84577518 -440862.84920133\n",
      " -528952.97288542 -500377.26291542 -386457.10291851 -539946.79387162\n",
      " -400184.61824848 -441133.75615004 -437061.89047014 -498367.2584633\n",
      " -511515.13492052 -506766.94235081 -542283.58854246 -383757.80575627\n",
      " -402622.66866468 -522524.75260732 -524645.42243227 -487337.36511733\n",
      " -511445.12498658 -310650.63220771 -462142.93727205 -344772.46368922\n",
      " -465287.70655115 -455789.57672321 -376152.64029633 -454168.63973176\n",
      " -415248.74996712 -491466.06556086 -351419.78012522 -507870.09906746\n",
      " -507376.41702267 -437447.10133004 -454009.21554247 -400383.07285538\n",
      " -346831.64487446 -374008.85873446 -382310.42218454 -493103.01921826\n",
      " -369003.97175184 -390519.24130299 -368500.67864898 -450262.79433608\n",
      " -316167.63606498 -328154.25635085 -390429.85884851 -514409.17234404\n",
      " -541414.84279545 -532319.01220535 -366028.91395591 -444256.00180725\n",
      " -374515.21076339 -532517.51055675 -347824.33361429 -342691.2048764\n",
      " -429278.45426262 -482029.00229764 -334356.23713004 -483613.82210369\n",
      " -379545.82453333 -391318.44173575 -500069.04743783 -443834.20108442\n",
      " -524950.24362566 -502995.22681109 -359683.64000685 -379775.54314877\n",
      " -557455.38244646 -555007.44308343 -448587.33292555 -425710.11912008\n",
      " -423384.41020793 -319650.34977416 -544842.32023945 -442442.8791744\n",
      " -438587.03640384 -397563.40556242 -393184.91667567 -446523.98173601\n",
      " -490547.73502388 -376890.9117031  -401693.33607074 -482346.01333732\n",
      " -391046.0811555  -456330.91288528 -466219.53765657 -426405.01385077\n",
      " -505229.96466077 -375156.72725042 -511742.82276601 -469823.09408367\n",
      " -575753.22419824 -457355.95112575 -547606.87831539 -524642.95083791\n",
      " -470846.70249958 -324074.26290343 -504336.36449059 -315452.07014912\n",
      " -394107.81070897 -451075.7308252  -333884.26327761 -356307.56989009\n",
      " -385349.54841354 -510510.37397194 -466586.93300642 -403182.04220973\n",
      " -506760.894575   -455305.74668895 -410750.75728731 -354923.95308887\n",
      " -353732.0714322  -535420.44413551 -373601.60096291 -454386.21827357\n",
      " -425430.07238704 -339543.85393513 -347780.27291525 -402373.1937458\n",
      " -417167.4240071  -526404.27080559 -416333.49174921 -597631.02420074\n",
      " -622209.33526898 -391650.27174326 -482539.87105016 -468060.4034369\n",
      " -523818.82510917 -481045.32325875 -409766.97014894 -459434.35766337\n",
      " -361301.34405096 -505812.96123849 -506577.17818593 -318304.16056106\n",
      " -578260.2811105  -490707.71963569 -482747.47712634 -407919.95470135\n",
      " -490985.33055318 -509848.40279547 -428810.38458855 -460770.21078198\n",
      " -350855.4726123  -478814.05020611 -366821.87560884 -371394.33328375\n",
      " -442849.48871759 -354362.09317029 -500248.61819665 -408205.98051657\n",
      " -295670.63491079 -503465.14870708 -589416.16607636 -414810.69975485\n",
      " -499164.31207657 -565870.62437836 -497217.64512206 -604598.52052848\n",
      " -398257.65407293 -393553.22277583 -477652.84756438 -445340.93910063\n",
      " -430729.93773434 -293523.93437709 -330166.64628963 -508403.31732496\n",
      " -398058.52025771 -506626.76624201 -372928.14116176 -500182.64904122\n",
      " -498901.16428452 -503901.94028141 -448540.00697614 -402694.52661643]\n",
      "\n",
      " Loss :\n",
      " 201570882655.77133\n"
     ]
    },
    {
     "data": {
      "image/png": "[encoded data removed]",
      "text/plain": [
       "<Figure size 640x480 with 1 Axes>"
      ]
     },
     "metadata": {},
     "output_type": "display_data"
    }
   ],
   "source": [
    "#LR for full molecule\n",
    "\n",
    "x_mol = np.concatenate((x1_mol, x2_mol), axis=1)\n",
    "print(f'feature vector shape:\\n {x_mol.shape}')\n",
    "\n",
    "y_pred_mol = model_full.predict(x_mol)\n",
    "\n",
    "print(f' Score :\\n {model_full.score(x_mol, y_mol)}')\n",
    "print(f'\\n Predicted energy :\\n {y_pred_mol}')\n",
    "print(f'\\n True energy :\\n {y_mol}')\n",
    "\n",
    "print(f'\\n Difference :\\n {y_pred_mol - y_mol}')\n",
    "print(f'\\n Loss :\\n {np.sum(np.abs(y_pred_mol - y_mol)**2)/y_pred_mol.shape[0]}')\n",
    "\n",
    "corplot(y_mol, y_pred_mol)"
   ]
  },
  {
   "attachments": {},
   "cell_type": "markdown",
   "metadata": {},
   "source": [
    "Terible LR for full molecule"
   ]
  },
  {
   "cell_type": "code",
   "execution_count": 368,
   "metadata": {},
   "outputs": [
    {
     "name": "stdout",
     "output_type": "stream",
     "text": [
      "feature vector shape:\n",
      " (11000, 2)\n"
     ]
    }
   ],
   "source": [
    "#let see the mapping \n",
    "\n",
    "new_feature = np.concatenate((y1.reshape(-1, 1), y2.reshape(-1, 1)), axis=1)\n",
    "print(f'feature vector shape:\\n {new_feature.shape}')"
   ]
  },
  {
   "cell_type": "code",
   "execution_count": 372,
   "metadata": {},
   "outputs": [
    {
     "name": "stdout",
     "output_type": "stream",
     "text": [
      " Score :\n",
      " 0.009771984852242288\n",
      "\n",
      " Fitted weights :\n",
      " [1.35657118 0.04283788]\n",
      "\n",
      " Fitted intercept :\n",
      " -83253.46098480691\n"
     ]
    }
   ],
   "source": [
    "new_model = LinearRegression(fit_intercept=True) #instantiating the model\n",
    "\n",
    "new_model.fit(new_feature, y) #fitting the model\n",
    "\n",
    "print(f' Score :\\n {new_model.score(new_feature, y)}')\n",
    "print(f'\\n Fitted weights :\\n {new_model.coef_}')\n",
    "print(f'\\n Fitted intercept :\\n {new_model.intercept_}')"
   ]
  },
  {
   "cell_type": "code",
   "execution_count": 382,
   "metadata": {},
   "outputs": [
    {
     "name": "stdout",
     "output_type": "stream",
     "text": [
      "[-513.19062883  401.32012496]\n",
      "-582.8642284531566\n",
      "1.367943738872496e-06\n"
     ]
    }
   ],
   "source": [
    "print(np.mean(new_feature, axis=0))\n",
    "\n",
    "print(np.mean(y)/144)\n",
    "\n",
    "print(1/np.sqrt((1/143)*np.sum((y - np.mean(y)/144)**2)))"
   ]
  },
  {
   "attachments": {},
   "cell_type": "markdown",
   "metadata": {},
   "source": [
    "Forward pass nnp-predict"
   ]
  },
  {
   "cell_type": "code",
   "execution_count": 1370,
   "metadata": {},
   "outputs": [
    {
     "data": {
      "text/plain": [
       "(144, 43)"
      ]
     },
     "execution_count": 1370,
     "metadata": {},
     "output_type": "execute_result"
    }
   ],
   "source": [
    "func_data = np.loadtxt('/Users/shubhamdongriyal/my-drive/SabIA/HDNNP/Naphthalene/LinearRegression/test-forwardpass/function.data', usecols = range(0,43))\n",
    "func_data.shape"
   ]
  },
  {
   "cell_type": "code",
   "execution_count": 1371,
   "metadata": {},
   "outputs": [
    {
     "name": "stdout",
     "output_type": "stream",
     "text": [
      " Symmetry function of C: (80, 42)\n",
      " Symmetry function of H: (64, 42)\n"
     ]
    }
   ],
   "source": [
    "#Saperating out the C and H symmetry functions\n",
    "\n",
    "func_data_C =  func_data[np.any(func_data== 6, axis = 1)][:, 1:43]\n",
    "func_data_H =  func_data[np.any(func_data== 1, axis = 1)][:, 1:43]\n",
    "\n",
    "print(f' Symmetry function of C: {func_data_C.shape}')\n",
    "print(f' Symmetry function of H: {func_data_H.shape}')\n"
   ]
  },
  {
   "cell_type": "code",
   "execution_count": 1372,
   "metadata": {},
   "outputs": [],
   "source": [
    "# sigmaf = (np.sqrt((np.sum(func_data_C[:, 1]**2) - np.sum(func_data_C[:, 1])**2 / 80)/79))\n",
    "# sigmaf  #std is bit different from the one in general"
   ]
  },
  {
   "cell_type": "code",
   "execution_count": 1373,
   "metadata": {},
   "outputs": [
    {
     "name": "stdout",
     "output_type": "stream",
     "text": [
      " Shape of scaling matrix: (4, 42)\n",
      "[1.04998757e+01 1.37308725e+01 8.05167538e+00 1.06454433e+01\n",
      " 7.86061088e-01 1.65553190e+00 4.91494305e+00 1.88208800e+01\n",
      " 9.13336448e+00 1.54141320e+01 5.53794165e+01 3.18301312e+01\n",
      " 3.64251945e-01 1.50841583e+00 8.66980250e-01 6.59549287e+00\n",
      " 2.59578705e+01 1.73335984e+01 2.46453212e+00 1.04473777e+01\n",
      " 4.77336445e+00 7.75308843e+00 3.08417638e+01 1.81646553e+01\n",
      " 1.75791021e-01 7.74420581e-01 4.44314232e-01 3.36892678e+00\n",
      " 1.45732292e+01 1.03409457e+01 3.75476544e-03 7.38089477e-02\n",
      " 5.11082217e-02 1.29154711e-02 3.28803803e-01 5.30298870e-01\n",
      " 7.45575785e-05 9.53938754e-04 4.98289172e-04 4.71365260e-03\n",
      " 1.69256101e-01 3.39074881e-01]\n"
     ]
    }
   ],
   "source": [
    "#Scaling matrix\n",
    "scale = np.loadtxt('/Users/shubhamdongriyal/my-drive/SabIA/HDNNP/Naphthalene/LinearRegression/test-forwardpass/scaling.data', usecols= (2, 3, 4, 5))\n",
    "scaleH = scale[0:42, :].T\n",
    "scaleC = scale[42:, :].T\n",
    "print(f' Shape of scaling matrix: {scaleH.shape}')\n",
    "print(scaleH[0])"
   ]
  },
  {
   "cell_type": "code",
   "execution_count": 1374,
   "metadata": {},
   "outputs": [
    {
     "name": "stdout",
     "output_type": "stream",
     "text": [
      "[ 1.71476618 -0.67688032  1.82635769 -0.6405412   2.20182203 -0.46406719\n",
      "  2.26212922  1.6080959  -0.53383603  1.85593199  1.1694506  -0.78120377\n",
      "  2.37796867  1.16599187 -0.18422287  1.44614595  1.10073426 -0.79555867\n",
      "  2.33405057  1.84573713 -0.51915968  1.98437367  1.52989021 -0.75806907\n",
      "  2.40979851  1.19822631 -0.18261363  1.67811498  1.57905726 -0.77516531\n",
      "  2.24901667  2.15917466 -0.65758948  2.14363477  2.38163541 -0.78981029\n",
      "  2.29712076  1.6997227  -0.12088651  2.11821667  2.06773    -0.79810856]\n",
      "(42,)\n",
      "(64, 42)\n"
     ]
    }
   ],
   "source": [
    "#Making scaled feature vectors\n",
    "\n",
    "G = 0 + ((1 - 0)* ((func_data_H - scaleH[2]) /scaleH[3]))\n",
    "print(G[0])\n",
    "print(G[0].shape)\n",
    "print(G.shape)"
   ]
  },
  {
   "cell_type": "code",
   "execution_count": 1375,
   "metadata": {},
   "outputs": [],
   "source": [
    "# #standardizing the data\n",
    "\n",
    "# func_data = func_data[:,0]\n",
    "# func_data\n",
    "# #func_data = func_data - np.mean(func_data)/np.max(func_data)-np.min(func_data)\n"
   ]
  },
  {
   "cell_type": "code",
   "execution_count": 1376,
   "metadata": {},
   "outputs": [],
   "source": [
    "# meanff = np.mean(func_data)\n",
    "# meanff"
   ]
  },
  {
   "cell_type": "code",
   "execution_count": 1377,
   "metadata": {},
   "outputs": [],
   "source": [
    "# meanf = np.sum(func_data)/func_data.shape[0]\n",
    "# me"
   ]
  },
  {
   "cell_type": "code",
   "execution_count": 1378,
   "metadata": {},
   "outputs": [],
   "source": [
    "# stdf = np.sqrt(np.sum(func_data**2) - np.sum(func_data)**2 / func_data.shape[0])/func_data.shape[0] - 1\n",
    "# stdf"
   ]
  },
  {
   "cell_type": "code",
   "execution_count": 1379,
   "metadata": {},
   "outputs": [],
   "source": [
    "# print(func_data)\n",
    "# print(min(func_data))\n",
    "# print(max(func_data))\n",
    "\n",
    "# print(np.mean(func_data))\n",
    "# print(np.std(func_data))"
   ]
  },
  {
   "cell_type": "code",
   "execution_count": 1380,
   "metadata": {},
   "outputs": [],
   "source": [
    "wH = np.loadtxt('/Users/shubhamdongriyal/my-drive/SabIA/HDNNP/Naphthalene/LinearRegression/test-forwardpass/weights.001.data', usecols = 0)"
   ]
  },
  {
   "cell_type": "code",
   "execution_count": 1381,
   "metadata": {},
   "outputs": [
    {
     "name": "stdout",
     "output_type": "stream",
     "text": [
      "[-2.58980901  2.45869739 -0.13624238  1.47875005  0.17335106  1.0718353\n",
      "  6.33713368  3.54431188 -3.93022524 -1.01381679  4.3872747   1.69249479\n",
      " -3.94454612  2.51280119 -1.56476644  1.54144455  2.27753064  1.41741063\n",
      "  0.91675889  1.08477824  0.08884645  3.91735805 -0.39428917  9.46328171\n",
      " -0.28705431]\n"
     ]
    }
   ],
   "source": [
    "w0 = wH[:1050]\n",
    "#print(w0)\n",
    "w0 = w0.reshape(42, 25)\n",
    "print(w0[0])"
   ]
  },
  {
   "cell_type": "code",
   "execution_count": 1382,
   "metadata": {},
   "outputs": [
    {
     "data": {
      "text/plain": [
       "array([-2.32795729,  2.53718443, -1.82942916,  0.74391958, -0.71462099,\n",
       "        0.77536664,  1.23248122, -2.75036594, -0.0639409 ,  0.02599099,\n",
       "        0.47303517,  1.02036853,  1.75748541,  2.50153829,  2.8377756 ,\n",
       "       -3.82935338,  0.39493359, -3.35292887, -3.97061306, -5.37204017,\n",
       "       -3.44941178,  7.91699917,  2.28898455, -3.86227938, -0.64155807])"
      ]
     },
     "execution_count": 1382,
     "metadata": {},
     "output_type": "execute_result"
    }
   ],
   "source": [
    "b0 = wH[1050:1075]\n",
    "b0"
   ]
  },
  {
   "cell_type": "code",
   "execution_count": 1383,
   "metadata": {},
   "outputs": [
    {
     "data": {
      "text/plain": [
       "array([[ 5.53905010e-04, -2.30299940e-01,  1.11711752e-03,\n",
       "        -3.72565725e-01,  3.21352811e-01,  1.20970289e-01,\n",
       "         4.01967838e-02,  4.68467113e-01, -5.40565659e-01,\n",
       "         2.85852973e-01, -7.21470236e-02,  1.48717435e-01,\n",
       "         2.54542821e-01,  5.87067703e-02,  7.70656957e-01,\n",
       "        -1.35311039e-01,  7.73125924e-01, -6.60219530e-01,\n",
       "         8.73821656e-02, -4.93687158e-01, -4.05250376e-01,\n",
       "         1.66637771e-01, -3.93672533e-01,  1.42889267e-01,\n",
       "         8.98181195e-02],\n",
       "       [ 2.64516245e-03, -3.82767156e-02, -1.46626840e-02,\n",
       "         6.69449415e-02, -2.70799527e-01, -3.38619472e-01,\n",
       "         3.87286411e-02,  9.63855169e-02,  5.33984467e-01,\n",
       "        -1.25357283e-01, -1.04631898e-01, -1.09421429e-03,\n",
       "        -1.08892462e-01, -2.08737640e-03, -7.08836637e-01,\n",
       "        -7.28942514e-02, -2.72559917e-01, -1.43053133e-02,\n",
       "        -3.31944062e-01,  2.65992168e-01, -3.87061929e-02,\n",
       "         1.37180703e-02, -2.91018526e-02, -8.02744884e-02,\n",
       "         2.85319496e-01],\n",
       "       [ 1.01087967e-03,  2.59690596e-02, -6.42785350e-02,\n",
       "        -4.79175043e-01, -6.72534062e-01,  6.53887820e-01,\n",
       "         1.04095959e+00,  8.38503689e-01,  1.44514090e-01,\n",
       "        -3.71503060e-01,  1.35978780e-02,  2.06027364e-02,\n",
       "        -2.49368117e-02, -4.39716159e-02,  3.36342139e-01,\n",
       "        -4.31482504e-01, -7.96465881e-01, -6.57046154e-01,\n",
       "        -6.51576408e-01, -3.55630509e-02, -1.75940357e+00,\n",
       "         1.62095956e+00, -3.71653110e-01, -1.54359853e-01,\n",
       "        -4.49225780e-02],\n",
       "       [-2.75107264e-02,  2.29182050e-01,  1.14260358e-01,\n",
       "        -2.29451043e-01, -3.78609939e-01,  7.55534150e-01,\n",
       "         8.02198606e-01,  3.69881853e-01, -3.52946721e-01,\n",
       "        -4.02421975e-01, -1.97073074e-01, -1.32356942e-01,\n",
       "         4.94766255e-01,  1.56150582e-01, -1.27017721e-01,\n",
       "        -8.04872448e-01, -1.07887039e+00,  1.38376284e-01,\n",
       "        -1.19283866e-01, -7.09170915e-03,  1.45916953e+00,\n",
       "        -3.57773167e-01,  1.23910023e+00,  1.57736978e-01,\n",
       "         8.07005623e-01],\n",
       "       [-3.76394374e-01,  4.59491656e+00,  1.39299914e+00,\n",
       "        -1.43039947e+00, -9.17752982e+00, -8.78303915e-01,\n",
       "        -9.29867547e-01, -3.95545375e+00,  3.17369999e+00,\n",
       "         1.34226499e+00, -1.36233206e+00, -1.39572749e+00,\n",
       "         1.08387520e+00, -5.68173411e-01, -3.09222475e+00,\n",
       "         7.42059930e-01, -4.66426874e+00, -1.02742726e+00,\n",
       "         1.79235743e+00, -2.31678106e+00, -4.01242676e+00,\n",
       "         7.74568466e+00, -3.22484648e+00,  7.06940860e-01,\n",
       "        -1.64995562e+00],\n",
       "       [-1.42392378e-02, -1.27365454e+00, -2.14374686e-01,\n",
       "         9.59774166e-02, -1.31677367e+00, -6.71261161e-01,\n",
       "         3.13621573e-01,  1.13146168e-01, -2.40327800e-01,\n",
       "        -7.50122354e-01,  5.22914307e-01,  7.75174746e-01,\n",
       "         5.32039603e-01, -4.05302025e-01,  4.45640177e-01,\n",
       "        -8.80595558e-01,  1.90057645e+00, -1.07466033e+00,\n",
       "         5.96026119e-02,  1.62672819e+00,  2.08476502e+00,\n",
       "        -3.13037520e-01,  8.49126106e-01,  6.48125112e-01,\n",
       "         3.48362884e-01],\n",
       "       [-3.13375493e-03,  3.22952700e-02, -1.19167043e-01,\n",
       "         8.71613114e-02, -8.88894235e-01, -1.89250477e-02,\n",
       "        -4.12075771e-01, -1.60487002e-01,  7.01926742e-01,\n",
       "         7.41047792e-02,  3.56948788e-01,  4.32769306e-01,\n",
       "        -8.87662365e-01, -4.60861549e-01,  4.40137116e-01,\n",
       "        -4.24927881e-01, -5.73355264e-01,  6.60017995e-01,\n",
       "         4.71021655e-01,  7.52510817e-01,  1.19641861e-01,\n",
       "        -2.50032236e-01,  4.42097349e-01, -1.96243509e-01,\n",
       "         1.56337796e-01],\n",
       "       [ 1.92242540e-04,  7.17130878e-02, -3.27342967e-04,\n",
       "        -1.82976327e-02,  2.31483779e-01, -8.53054411e-02,\n",
       "         6.50996093e-03, -1.14137514e-02,  2.47167081e-01,\n",
       "        -2.13967152e-01,  5.82819048e-02, -7.25859190e-02,\n",
       "        -4.14956356e-01, -4.72614497e-03,  2.56611806e-01,\n",
       "        -7.76841308e-02,  5.41391984e-01, -5.48743916e-03,\n",
       "         8.96403107e-02, -3.32149649e-01, -1.72385692e-01,\n",
       "         3.61080121e-01, -7.17758626e-02, -7.20829066e-02,\n",
       "        -9.33126611e-02],\n",
       "       [ 2.17113642e-02, -1.80217480e+00,  4.27386400e-02,\n",
       "        -8.82348438e-01,  8.91618315e-01, -9.58252642e-01,\n",
       "         1.51918237e+00,  4.49491086e-01, -4.84396706e+00,\n",
       "         5.41197923e-01, -4.45925224e-01, -1.42741075e+00,\n",
       "        -1.52256119e-01, -5.46739031e-01, -3.67568752e+00,\n",
       "         1.87734860e+00,  1.18654981e+00, -2.69490834e+00,\n",
       "         4.26321851e-01,  2.10489242e+00,  2.12769736e+00,\n",
       "         4.82183677e+00, -6.53865347e+00, -2.32032200e+00,\n",
       "        -9.08943372e-01],\n",
       "       [-5.05768247e-03, -8.33011698e-01, -1.20078373e-01,\n",
       "        -3.11951848e-01, -2.72325816e+00, -1.33718411e+00,\n",
       "         4.67203899e+00,  1.43677158e+00,  7.88260458e-01,\n",
       "        -9.45684993e-01,  4.70567547e-01,  5.25817160e-01,\n",
       "        -3.21135721e+00,  4.26695892e-01,  4.22311141e-01,\n",
       "         2.50522541e+00,  3.38411808e-01, -1.57939990e+00,\n",
       "         1.19654467e+00, -2.42755628e-01,  1.03049445e+01,\n",
       "        -2.90262336e+00, -1.85834923e+00, -2.04523949e+00,\n",
       "         9.68721705e-02],\n",
       "       [-1.50289925e-03,  4.32690322e-01,  1.65799716e-01,\n",
       "        -9.32063385e-01, -8.64529875e-01,  1.97982382e-03,\n",
       "         9.05845064e-02, -9.58809526e-01, -3.93627844e-01,\n",
       "         2.36869217e-01,  2.75105183e-01, -1.74638950e-01,\n",
       "        -3.26690103e-01,  1.46722452e-01,  3.60067771e-01,\n",
       "         8.56644031e-01, -1.04228162e+00,  2.72212003e-01,\n",
       "         1.10550211e+00,  5.61273848e-01, -1.12900584e+00,\n",
       "        -6.79254331e-01, -1.94611183e-01, -6.97309026e-02,\n",
       "        -9.40295849e-01],\n",
       "       [-7.38776821e-04,  1.76335720e-01, -1.44071713e-02,\n",
       "         2.39398893e-02, -5.81818036e-01, -1.16181358e-01,\n",
       "        -1.04374919e-01,  2.13467351e-01, -5.89586251e-01,\n",
       "         2.86770668e-01,  2.92930942e-02, -1.48891636e-02,\n",
       "         1.42758014e-01,  1.47484243e-01, -2.44323373e-01,\n",
       "         4.21163007e-01,  4.75865095e-01,  2.97450613e-01,\n",
       "         4.82577223e-02,  6.29792161e-02,  4.69893757e-01,\n",
       "        -3.24567717e-02, -3.97112389e-01,  1.45008391e-01,\n",
       "         5.46313012e-03],\n",
       "       [ 1.95842990e-03,  6.37586215e-01,  3.03228041e-01,\n",
       "        -1.02583375e-02, -1.99086745e+00,  1.93296431e-01,\n",
       "         2.13775876e-01,  1.06761998e+00,  5.34195921e-01,\n",
       "        -9.97768269e-02,  3.09975307e-03, -1.64220816e-01,\n",
       "        -1.41577659e-03,  4.46535145e-01, -1.78000541e-02,\n",
       "        -3.01126667e-01, -2.69044216e+00, -2.61081962e-01,\n",
       "         1.63607712e-01, -1.23708138e+00, -1.74103733e-01,\n",
       "         9.31530977e-01, -3.06125037e-01, -3.56414652e-02,\n",
       "        -2.09975209e-01],\n",
       "       [ 1.59760530e-03, -1.54432689e-01, -2.90725440e-04,\n",
       "        -6.49532347e-01, -5.09764047e-01, -8.58622966e-02,\n",
       "         7.20074200e-01,  7.34411334e-02,  5.02864979e-02,\n",
       "         1.88910324e-01, -1.26716281e-02, -5.17683760e-02,\n",
       "         2.20830174e-01,  7.47079159e-02,  1.58583622e-01,\n",
       "        -6.28393873e-02, -1.73432349e-01,  3.16591408e-01,\n",
       "         3.86152223e-01, -4.46919851e-01, -6.70341830e-02,\n",
       "         5.34486380e-03,  2.47415805e-01, -1.11175114e-01,\n",
       "         4.19107176e-01],\n",
       "       [-3.64482300e-02,  1.66316982e+00,  1.30001630e-01,\n",
       "        -8.25263833e-01, -2.64648825e+00,  1.02022083e+00,\n",
       "         9.94772271e-01,  1.74694666e+00,  9.54411207e-01,\n",
       "         1.16664560e+00,  3.84337318e-01, -1.89654137e-01,\n",
       "         3.21641385e-01,  8.58566027e-01,  1.30429715e+00,\n",
       "         1.53940444e+00, -1.09432510e+00,  6.20279374e-01,\n",
       "        -1.17013687e-01, -6.69965675e-03, -3.11983647e+00,\n",
       "         6.44095344e-01, -8.40819763e-01,  8.11209817e-01,\n",
       "         3.74840883e-01],\n",
       "       [-1.80086133e-03, -2.41936408e-02, -6.69021954e-03,\n",
       "        -1.41494068e+00,  3.77750989e-01, -1.13457072e-01,\n",
       "        -1.57025680e-01, -1.11051177e-02,  3.56997002e-01,\n",
       "        -4.47426454e-01,  1.04061425e-03, -5.65576033e-02,\n",
       "        -2.34300125e-01, -8.50067263e-02, -2.46445587e-01,\n",
       "         3.35368466e-01,  2.62311661e-01, -2.80208754e-01,\n",
       "        -3.87389312e-01, -5.24301909e-02, -2.05018601e-01,\n",
       "         9.15491137e-02, -2.98358050e-01,  3.89666513e-01,\n",
       "        -6.18754411e-02],\n",
       "       [ 1.52024632e-03, -6.15165145e-02, -5.33421939e-03,\n",
       "        -3.60260947e-01,  2.34919454e-01,  2.41862074e-01,\n",
       "        -8.47335792e-01, -4.28409577e-01, -1.08542986e+00,\n",
       "         5.90194685e-01,  2.45646807e-02,  2.03320206e-01,\n",
       "         7.75457358e-01,  2.91550914e-02, -7.89357856e-02,\n",
       "        -3.41821610e-02, -3.24878827e-01,  2.74611436e-01,\n",
       "         3.34925895e-02,  4.68402884e-01, -1.18233378e+00,\n",
       "        -2.75009753e-02,  5.37541178e-01, -1.99771064e-01,\n",
       "         1.00875410e-01],\n",
       "       [ 4.48763619e-05, -7.99835806e-02, -1.04759349e-02,\n",
       "        -2.27467149e-01, -3.62123723e-01, -3.01409368e-01,\n",
       "        -5.34703790e-01, -7.12783918e-02,  9.77981362e-02,\n",
       "         2.35078919e-01,  5.71532342e-03,  5.84291074e-02,\n",
       "         1.22294211e-01,  4.96611169e-02,  4.63453443e-01,\n",
       "         1.26309708e-01,  3.55193937e-01, -8.41781850e-02,\n",
       "         2.51941445e-01, -6.91527930e-02, -3.41172483e-01,\n",
       "        -6.03477611e-03,  4.27263613e-02, -1.00303051e-01,\n",
       "         2.24610461e-01],\n",
       "       [ 5.40955446e-05, -2.54178989e-01,  1.01004521e-02,\n",
       "        -3.44567044e-01,  7.93156628e-02, -1.69424322e-01,\n",
       "        -1.25108233e-01, -4.36723687e-03,  1.27011075e-01,\n",
       "        -5.93833105e-02, -2.54974235e-02,  2.96902707e-02,\n",
       "        -2.61839340e-02, -1.18749064e-01, -1.06046646e-01,\n",
       "         2.14014216e-02, -5.85691593e-01, -2.62401914e-01,\n",
       "        -3.21454115e-02, -1.18907066e-01,  1.04657196e+00,\n",
       "        -3.07204008e-02,  5.42838808e-02,  5.69161714e-02,\n",
       "        -1.23943867e-01],\n",
       "       [-4.76960305e-04,  2.03428021e-01,  2.00943431e-02,\n",
       "        -7.00607628e-01, -2.32145861e-02, -6.13343342e-01,\n",
       "        -2.63528439e-01,  1.41352750e-01,  9.24700336e-02,\n",
       "         1.46172531e-01,  5.72174364e-02, -1.45258414e-02,\n",
       "         2.15044130e-01,  6.47584063e-03,  4.63694212e-01,\n",
       "         6.53223123e-01, -1.50113480e+00,  2.66657370e-01,\n",
       "        -5.65789800e-02, -1.02184850e-01,  5.34600360e-01,\n",
       "        -1.07093492e-01, -1.26674931e-01,  1.70100784e-01,\n",
       "         3.38872438e-01],\n",
       "       [ 7.38901052e-04,  3.01681947e-02,  7.38287945e-03,\n",
       "        -3.70369977e-01, -8.92742417e-01,  5.56925879e-01,\n",
       "         5.84380479e-01, -3.11912295e-01, -3.70311240e-01,\n",
       "        -1.63226952e-01, -6.87746969e-03, -5.15571480e-02,\n",
       "        -3.94193469e-01,  9.89126581e-03,  7.17703601e-01,\n",
       "        -4.26573684e-01, -1.35487359e+00,  7.43302957e-02,\n",
       "        -4.23878599e-01,  3.14778673e-01, -1.55566678e+00,\n",
       "        -1.32018918e-01, -1.90599966e-01,  1.91590825e-01,\n",
       "        -1.89939016e-01],\n",
       "       [-1.69593675e-04, -7.91770970e-02,  5.88926471e-03,\n",
       "        -1.44994765e-01,  8.88067581e-02,  2.04033846e-02,\n",
       "         7.37318584e-02, -4.73378965e-02, -1.65232334e-01,\n",
       "         2.59086314e-02,  2.15899747e-02,  1.19275680e-02,\n",
       "        -1.93555358e-02, -2.13620632e-02, -2.50528692e-01,\n",
       "         6.09721856e-02,  1.70949854e-01,  2.53251368e-01,\n",
       "        -1.01262044e-01, -7.29238714e-02, -6.89668628e-01,\n",
       "         2.80294906e-02, -8.62457386e-02,  3.88447220e-02,\n",
       "        -6.42797595e-02],\n",
       "       [-6.26180564e-01, -2.83526966e-01,  9.63400710e-01,\n",
       "        -7.31928590e-02,  4.96567460e+00,  1.52466970e+00,\n",
       "        -3.41916585e+00, -9.88869220e-01,  4.29870841e+00,\n",
       "        -7.33816069e-01, -1.27911597e+00,  1.16300888e+00,\n",
       "         5.83570145e-01, -1.32676169e+00, -5.00681790e+00,\n",
       "        -2.15968073e+00,  4.04822834e+00,  4.09477853e+00,\n",
       "        -1.71170301e+00,  4.52331167e+00, -1.75581894e+00,\n",
       "         2.07300702e+00,  1.02768565e+00, -4.59392316e-01,\n",
       "        -3.36762505e-01],\n",
       "       [-2.48156510e-04, -5.88391720e-02,  5.57608176e-03,\n",
       "         3.16472195e-01, -2.36110228e-01, -1.58892709e-01,\n",
       "         2.44355112e-01,  1.30669692e-01,  1.39514169e-01,\n",
       "         8.75747735e-02,  1.87503801e-02, -7.89679214e-03,\n",
       "        -1.54864098e-01, -1.50838014e-02,  1.84812475e-01,\n",
       "        -7.85100589e-03,  2.71196632e-01, -1.52483786e-01,\n",
       "         1.07036555e-01, -4.10875327e-02,  3.57048712e-01,\n",
       "        -4.40284986e-02, -4.60568013e-02, -4.34757271e-02,\n",
       "         1.64391495e-01],\n",
       "       [-2.33332736e-03,  1.13590462e-01, -3.75927472e-02,\n",
       "         6.88716052e-02,  1.03661791e-01, -3.01459867e-01,\n",
       "         3.75559884e-01,  9.44118934e-02, -8.06318068e-01,\n",
       "         2.78780652e-01,  4.25655909e-02,  1.27357997e-01,\n",
       "        -8.49947438e-01, -3.44771063e-02,  5.13038880e-01,\n",
       "         5.56268012e-01, -1.17713463e+00, -5.42658856e-01,\n",
       "         6.90111433e-01,  1.87373532e-01,  1.48470568e-01,\n",
       "        -2.53401142e-02, -4.75153173e-01,  1.11264138e-01,\n",
       "        -3.98118233e-01]])"
      ]
     },
     "execution_count": 1383,
     "metadata": {},
     "output_type": "execute_result"
    }
   ],
   "source": [
    "w1 = wH[1075:1700].reshape(25, 25)\n",
    "w1"
   ]
  },
  {
   "cell_type": "code",
   "execution_count": 1384,
   "metadata": {},
   "outputs": [
    {
     "data": {
      "text/plain": [
       "array([ 0.31761144,  0.62236067, -4.2745117 , -1.49766539, 11.77527309,\n",
       "       -5.4805477 , -1.8833918 ,  3.24425498, -9.64987875,  3.00075551,\n",
       "        4.86516781, -1.82699497, -2.61816202, -2.06650013,  7.72449949,\n",
       "       -2.87696313, -3.84926588, -4.35710718, -1.75949006, -8.67652661,\n",
       "        7.77103805, -7.67527494,  7.28297332, -0.54262828, -0.71020243])"
      ]
     },
     "execution_count": 1384,
     "metadata": {},
     "output_type": "execute_result"
    }
   ],
   "source": [
    "b1 = wH[1700:1725]\n",
    "b1"
   ]
  },
  {
   "cell_type": "code",
   "execution_count": 1385,
   "metadata": {},
   "outputs": [
    {
     "data": {
      "text/plain": [
       "array([ 2.17205825e+00, -7.03524581e-04, -3.57637098e-02, -7.32550118e-06,\n",
       "        4.25101066e-04, -1.55010612e-04, -1.90960112e-05,  1.13682668e-03,\n",
       "        2.14328716e-04, -1.49066835e-03,  1.33901384e-02,  3.60932995e-03,\n",
       "        2.51467342e-04, -1.00263091e-02,  1.60595629e-04,  1.52684269e-04,\n",
       "        4.41277004e-05, -2.73234023e-04, -5.87926822e-04,  1.73714056e-04,\n",
       "       -9.83094533e-05, -1.87819664e-03,  1.43083648e-04,  4.51973939e-04,\n",
       "       -4.02909596e-04])"
      ]
     },
     "execution_count": 1385,
     "metadata": {},
     "output_type": "execute_result"
    }
   ],
   "source": [
    "w2 = wH[1725:1750]\n",
    "w2 #last hidden layer"
   ]
  },
  {
   "cell_type": "code",
   "execution_count": 1386,
   "metadata": {},
   "outputs": [
    {
     "data": {
      "text/plain": [
       "array([-513.61162776])"
      ]
     },
     "execution_count": 1386,
     "metadata": {},
     "output_type": "execute_result"
    }
   ],
   "source": [
    "b2 = wH[1750:1751]\n",
    "b2"
   ]
  },
  {
   "cell_type": "code",
   "execution_count": 1387,
   "metadata": {},
   "outputs": [],
   "source": [
    "# def softplus(x):\n",
    "#     return np.where((x == np.nan) | (x == np.inf), x, np.log(1 + np.exp(x)))\n",
    "\n",
    "# def softplus(x):\n",
    "#     return np.where((x > 35) | (x < -35), x, np.log1p(np.exp(-np.abs(x))) + np.maximum(x, 0))\n",
    "\n",
    "\n",
    "#def softplus(x): return np.log1p(np.exp(-np.abs(x))) + np.maximum(x, 0)\n",
    "\n",
    "def softplus(x): return np.log(1 + np.exp(x))\n",
    "\n",
    "# import torch.nn as nn\n",
    "# import torch\n",
    "# def softplus(x):\n",
    "#     return nn.functional.softplus(x, threshold=35)\n",
    "\n",
    "# import warnings\n",
    "\n",
    "# #suppress warnings\n",
    "# warnings.filterwarnings('ignore')"
   ]
  },
  {
   "cell_type": "code",
   "execution_count": 1388,
   "metadata": {},
   "outputs": [
    {
     "name": "stdout",
     "output_type": "stream",
     "text": [
      " shapes :\n",
      ", 1 atom SF (42,)\n",
      ", w0 (42, 25)\n",
      ", b1 (25,)\n",
      ", w1 (25, 25)\n",
      ", b2 (1,)\n",
      ", w2 (25,)\n",
      ", b3 (1,)\n",
      "\n"
     ]
    }
   ],
   "source": [
    "print(f' shapes :\\n, 1 atom SF {G[0].shape}\\n, w0 {w0.shape}\\n, b1 {b1.shape}\\n, w1 {w1.shape}\\n, b2 {b2.shape}\\n, w2 {w2.shape}\\n, b3 {b3.shape}\\n')"
   ]
  },
  {
   "cell_type": "code",
   "execution_count": 1389,
   "metadata": {},
   "outputs": [
    {
     "name": "stdout",
     "output_type": "stream",
     "text": [
      "[1.42369868e-08 2.11798784e+00 1.09797334e+01 2.10749662e-02\n",
      " 6.33912355e-01 3.36459740e-01 4.63633931e+00 1.99062426e+01\n",
      " 1.48450833e+00 3.48474863e-01 6.24957272e-03 4.89429450e-02\n",
      " 9.28221119e-03 1.24978460e+01 3.19849306e+00 3.90265804e+00\n",
      " 2.24940325e+01 2.17385573e+00 1.15277827e-01 4.86242135e-01\n",
      " 1.29913617e-01 4.44912019e+00 2.08556547e+00 1.92391377e+01\n",
      " 5.11121837e-05]\n"
     ]
    }
   ],
   "source": [
    "y1 = (w0.T @ G[0]) + b0\n",
    "y1 = softplus(y1)\n",
    "print(y1)\n"
   ]
  },
  {
   "cell_type": "code",
   "execution_count": 1390,
   "metadata": {},
   "outputs": [
    {
     "name": "stdout",
     "output_type": "stream",
     "text": [
      "[ -1.27086632   1.67984698  -2.33436354 -28.89500097  -4.41600277\n",
      "   3.03754831   0.43857145   7.34366457 -11.97969243  14.26496932\n",
      "   5.87442415   1.93511682   2.82311456  -4.97814509   6.66201327\n",
      "  -6.61144842  -3.25375166   3.4854101   -1.24042029   3.35779569\n",
      " -48.1892629   32.50735016   3.86752385 -11.72692315   7.28631105]\n",
      "[2.47319689e-01 1.85077260e+00 9.24626004e-02 2.82440737e-13\n",
      " 1.20100222e-02 3.08438639e+00 9.36285762e-01 7.34431104e+00\n",
      " 6.27024229e-06 1.42649700e+01 5.87723062e+00 2.07000376e+00\n",
      " 2.88083670e+00 6.86321930e-03 6.66329102e+00 1.34397924e-03\n",
      " 3.79015866e-02 3.51559122e+00 2.54070441e-01 3.39201537e+00\n",
      " 0.00000000e+00 3.25073502e+01 3.88821832e+00 8.07346995e-06\n",
      " 7.28699566e+00]\n"
     ]
    }
   ],
   "source": [
    "y2 = (w1.T @ y1) + b1\n",
    "print(y2)\n",
    "y2 = softplus(y2)\n",
    "print(y2)"
   ]
  },
  {
   "cell_type": "code",
   "execution_count": 1391,
   "metadata": {},
   "outputs": [
    {
     "name": "stdout",
     "output_type": "stream",
     "text": [
      "0.5431181742320671\n",
      "[-513.06850958]\n"
     ]
    }
   ],
   "source": [
    "y3 = (w2.T @ y2)\n",
    "print(y3)\n",
    "y3 = y3 + b2\n",
    "print(y3)"
   ]
  },
  {
   "cell_type": "code",
   "execution_count": 1392,
   "metadata": {},
   "outputs": [],
   "source": [
    "output1 = []\n",
    "for i in range(G.shape[0]):\n",
    "    y1 = (w0.T @ G[i]) + b0\n",
    "    y1 = softplus(y1)\n",
    "\n",
    "    y2 = (w1.T @ y1) + b1\n",
    "    y2 = softplus(y2)\n",
    "\n",
    "    y3 = (w2.T @ y2) + b2\n",
    "\n",
    "    output1.append(y3)"
   ]
  },
  {
   "cell_type": "code",
   "execution_count": 1395,
   "metadata": {},
   "outputs": [
    {
     "name": "stdout",
     "output_type": "stream",
     "text": [
      "64\n"
     ]
    }
   ],
   "source": [
    "print(len(output1))"
   ]
  },
  {
   "cell_type": "code",
   "execution_count": 1426,
   "metadata": {},
   "outputs": [
    {
     "name": "stdout",
     "output_type": "stream",
     "text": [
      "(80, 25)\n"
     ]
    }
   ],
   "source": [
    "wC = np.loadtxt('/Users/shubhamdongriyal/my-drive/SabIA/HDNNP/Naphthalene/LinearRegression/test-forwardpass/weights.006.data', usecols = 0)\n",
    "w0 = wC[:1050]\n",
    "#print(w0)\n",
    "w0 = w0.reshape(42, 25)\n",
    "\n",
    "b0 = wC[1050:1075]\n",
    "\n",
    "w1 = wC[1075:1700].reshape(25, 25)\n",
    "b1 = wC[1700:1725]\n",
    "\n",
    "w2 = wC[1725:1750]\n",
    "b2 = wC[1750:1751]\n",
    "\n",
    "G2 = 0 + ((1 - 0)* ((func_data_C - scaleC[2]) /scaleC[3]))\n",
    "\n",
    "output2 = []\n",
    "ll = []\n",
    "for i in range(G2.shape[0]):\n",
    "    y1 = (w0.T @ G2[i]) + b0\n",
    "    y1 = softplus(y1)\n",
    "\n",
    "    y2 = (w1.T @ y1) + b1\n",
    "    y2 = softplus(y2)\n",
    "    #print(y2)\n",
    "    ll.append(y2)\n",
    "    y3 = (w2.T @ y2) + b2\n",
    "\n",
    "    output2.append(y3)\n",
    "\n",
    "print(np.array(ll).shape)"
   ]
  },
  {
   "cell_type": "code",
   "execution_count": 1397,
   "metadata": {},
   "outputs": [
    {
     "data": {
      "text/plain": [
       "[array([403.37843385]),\n",
       " array([404.04907154]),\n",
       " array([398.17759363]),\n",
       " array([401.95642671]),\n",
       " array([385.72528923]),\n",
       " array([387.35803318]),\n",
       " array([384.49513736]),\n",
       " array([385.23295133]),\n",
       " array([466.95588312]),\n",
       " array([473.85428853]),\n",
       " array([480.46982139]),\n",
       " array([473.83155077]),\n",
       " array([384.26108054]),\n",
       " array([386.76608082]),\n",
       " array([384.13010933]),\n",
       " array([387.24270829]),\n",
       " array([403.61792686]),\n",
       " array([397.98527899]),\n",
       " array([404.52997682]),\n",
       " array([403.04640573]),\n",
       " array([407.78798344]),\n",
       " array([408.27434199]),\n",
       " array([401.54305664]),\n",
       " array([409.18732046]),\n",
       " array([380.08269191]),\n",
       " array([384.78895906]),\n",
       " array([379.56063707]),\n",
       " array([385.50747612]),\n",
       " array([483.39978385]),\n",
       " array([472.65023878]),\n",
       " array([477.66692034]),\n",
       " array([473.05362715]),\n",
       " array([383.62794171]),\n",
       " array([381.9205266]),\n",
       " array([386.00038578]),\n",
       " array([388.1474651]),\n",
       " array([404.3209363]),\n",
       " array([403.65684759]),\n",
       " array([396.48711529]),\n",
       " array([408.48237254]),\n",
       " array([406.81048317]),\n",
       " array([404.36336185]),\n",
       " array([399.56628844]),\n",
       " array([394.96561323]),\n",
       " array([378.85420307]),\n",
       " array([383.82207014]),\n",
       " array([383.18644272]),\n",
       " array([383.14638217]),\n",
       " array([487.6994639]),\n",
       " array([486.22237898]),\n",
       " array([482.76315636]),\n",
       " array([483.36863985]),\n",
       " array([387.61134202]),\n",
       " array([390.9236036]),\n",
       " array([388.11369158]),\n",
       " array([379.19863866]),\n",
       " array([396.09166556]),\n",
       " array([403.82005631]),\n",
       " array([401.88385854]),\n",
       " array([399.80090818]),\n",
       " array([402.00341618]),\n",
       " array([400.10201327]),\n",
       " array([405.69331661]),\n",
       " array([397.73692057]),\n",
       " array([386.84296575]),\n",
       " array([383.04615867]),\n",
       " array([386.39824952]),\n",
       " array([383.85757313]),\n",
       " array([488.04572075]),\n",
       " array([474.05871532]),\n",
       " array([480.20210207]),\n",
       " array([485.07581746]),\n",
       " array([385.10542145]),\n",
       " array([382.29298358]),\n",
       " array([378.95363458]),\n",
       " array([385.93756662]),\n",
       " array([400.77714455]),\n",
       " array([399.29515542]),\n",
       " array([403.61158986]),\n",
       " array([402.0614525])]"
      ]
     },
     "execution_count": 1397,
     "metadata": {},
     "output_type": "execute_result"
    }
   ],
   "source": [
    "output2"
   ]
  },
  {
   "cell_type": "code",
   "execution_count": 1400,
   "metadata": {},
   "outputs": [
    {
     "name": "stdout",
     "output_type": "stream",
     "text": [
      "64 80\n"
     ]
    }
   ],
   "source": [
    "print(len(output1), len(output2))"
   ]
  },
  {
   "cell_type": "code",
   "execution_count": 1404,
   "metadata": {},
   "outputs": [
    {
     "name": "stdout",
     "output_type": "stream",
     "text": [
      "(144,)\n"
     ]
    }
   ],
   "source": [
    "full = np.concatenate((np.array(output2).reshape(80,), np.array(output1).reshape(64,)), axis = 0)\n",
    "print(full.shape)\n"
   ]
  },
  {
   "cell_type": "code",
   "execution_count": 1415,
   "metadata": {},
   "outputs": [
    {
     "data": {
      "text/plain": [
       "array([ -187.734932  ,  -187.07800894,  -192.82941442,  -189.12785893,\n",
       "        -205.0270677 ,  -203.42771356,  -206.23206282,  -205.50933723,\n",
       "        -125.45764921,  -118.70031702,  -112.2200726 ,  -118.72258979,\n",
       "        -206.46133315,  -204.00756042,  -206.58962598,  -203.54068004,\n",
       "        -187.50033665,  -193.0177962 ,  -186.60693823,  -188.06017011,\n",
       "        -183.41555824,  -182.93914577,  -189.53277553,  -182.04483783,\n",
       "        -210.55427323,  -205.9442498 ,  -211.06565198,  -205.2404265 ,\n",
       "        -109.35002822,  -119.87974381,  -114.96565398,  -119.48460478,\n",
       "        -207.08152421,  -208.75402248,  -204.7575969 ,  -202.65442562,\n",
       "        -186.81170384,  -187.46221186,  -194.48532227,  -182.73536948,\n",
       "        -184.37306851,  -186.77014591,  -191.46911858,  -195.97570943,\n",
       "        -211.75763932,  -206.89136573,  -207.51399449,  -207.5532358 ,\n",
       "        -105.13827715,  -106.5851555 ,  -109.9736366 ,  -109.38053532,\n",
       "        -203.17958491,  -199.93505948,  -202.68750847,  -211.42024748,\n",
       "        -194.87268501,  -187.30234078,  -189.19894307,  -191.23929685,\n",
       "        -189.0818304 ,  -190.94434939,  -185.46738887,  -193.26107566,\n",
       "        -203.9322478 ,  -207.65140972,  -204.36786952,  -206.85658879,\n",
       "        -104.79910129,  -118.50007078,  -112.48231703,  -107.7082697 ,\n",
       "        -205.63425911,  -208.38918228,  -211.66024119,  -204.81913141,\n",
       "        -190.28302462,  -191.73470691,  -187.50654406,  -189.02498093,\n",
       "       -1085.44042541, -1085.48343529, -1085.43225539, -1085.3937574 ,\n",
       "       -1085.38962565, -1085.57752181, -1085.42576288, -1085.30378769,\n",
       "       -1085.84898272, -1085.6742769 , -1085.72373523, -1085.74501543,\n",
       "       -1085.39565782, -1085.45259109, -1085.46629551, -1085.54978075,\n",
       "       -1085.37025221, -1085.43460667, -1085.48501434, -1085.50974964,\n",
       "       -1085.46875266, -1085.48264696, -1085.53824796, -1085.55278017,\n",
       "       -1085.6940531 , -1085.72956317, -1085.64838526, -1085.78341691,\n",
       "       -1085.60353647, -1085.49279509, -1085.6053979 , -1085.60622693,\n",
       "       -1085.42402589, -1085.54676228, -1085.41729527, -1085.48022819,\n",
       "       -1085.55189133, -1085.50155281, -1085.49927669, -1085.402008  ,\n",
       "       -1085.79025737, -1085.68972153, -1085.73961144, -1085.63038199,\n",
       "       -1085.64716751, -1085.68818174, -1085.4999537 , -1085.56647138,\n",
       "       -1085.46224271, -1085.46792515, -1085.57991848, -1085.54847866,\n",
       "       -1085.46742382, -1085.49087415, -1085.59453305, -1085.51619542,\n",
       "       -1085.78416785, -1085.70464564, -1085.72843801, -1085.75748184,\n",
       "       -1085.59605993, -1085.60542084, -1085.6461    , -1085.51526155])"
      ]
     },
     "execution_count": 1415,
     "metadata": {},
     "output_type": "execute_result"
    }
   ],
   "source": [
    "newfull = (full / 1.0208770584172682) + (-582.86422845246545)\n",
    "newfull\n",
    "\n",
    "#atomic energy contributions are only scaled not shifted by mean energy (this was bugging me... dammm)"
   ]
  },
  {
   "cell_type": "code",
   "execution_count": 1427,
   "metadata": {},
   "outputs": [
    {
     "name": "stdout",
     "output_type": "stream",
     "text": [
      "-83930.18101580613\n"
     ]
    }
   ],
   "source": [
    "tot_energy = np.sum(newfull)\n",
    "print(tot_energy)"
   ]
  },
  {
   "attachments": {},
   "cell_type": "markdown",
   "metadata": {},
   "source": [
    "FEATURE MATRIX FOR THE FULL DATASET:\n",
    "\n",
    "TRAINING SET"
   ]
  },
  {
   "cell_type": "code",
   "execution_count": 93,
   "metadata": {},
   "outputs": [
    {
     "name": "stdout",
     "output_type": "stream",
     "text": [
      " Total number of atoms: (number of atoms * number of frames) x (number of symmetry function) \n",
      " (1584000, 43)\n",
      " Symmetry function of C: ((11000 * 80) * 42) (880000, 42)\n",
      " Symmetry function of H: ((11000 * 64) * 42) (704000, 42)\n"
     ]
    }
   ],
   "source": [
    "func_data = np.loadtxt('/Users/shubhamdongriyal/my-drive/SabIA/HDNNP/Naphthalene/LinearRegression/test-forwardpass/fulldata-feature/function.cleaned.data', usecols = range(0,43))\n",
    "print(f' Total number of atoms: (number of atoms * number of frames) x (number of symmetry function) \\n {func_data.shape}')\n",
    "\n",
    "func_data_C =  func_data[np.any(func_data== 6, axis = 1)][:, 1:43]  # SF of C\n",
    "func_data_H =  func_data[np.any(func_data== 1, axis = 1)][:, 1:43]  # SF of H\n",
    "\n",
    "print(f' Symmetry function of C: ((11000 * 80) * 42) {func_data_C.shape}')\n",
    "print(f' Symmetry function of H: ((11000 * 64) * 42) {func_data_H.shape}')\n"
   ]
  },
  {
   "cell_type": "code",
   "execution_count": 98,
   "metadata": {},
   "outputs": [
    {
     "name": "stdout",
     "output_type": "stream",
     "text": [
      " Shape of scaling matrix: (4, 42)\n",
      " Shape of scaled symmetry function of C: (880000, 42)\n",
      " Shape of scaled symmetry function of H: (704000, 42)\n",
      "[ 2.16133069  0.06188301  2.14086267 -0.33268874  1.21385452 -0.70120748\n",
      "  1.93598801  0.88850774 -0.79541857  2.12325896  0.48318627 -0.49077709\n",
      "  1.42738551  1.52639996 -0.76585904  1.92421164  0.56478141 -0.15878931\n",
      "  1.82076431  0.95766214 -0.78505519  2.05609231  0.25920429 -0.73398186\n",
      "  1.3665528   1.32602278 -0.73964563  1.88933202  0.26840123 -0.54058941\n",
      "  1.10051904  0.66657971 -0.45165636  1.29783856  0.98929498 -0.69416919\n",
      "  0.98170796  0.72542073 -0.46164747  1.28573828  0.67271438 -0.80274502]\n"
     ]
    }
   ],
   "source": [
    "#Scaling matrix\n",
    "scale = np.loadtxt('/Users/shubhamdongriyal/my-drive/SabIA/HDNNP/Naphthalene/LinearRegression/test-forwardpass/fulldata-feature/scaling.data', usecols= (2, 3, 4, 5))\n",
    "scaleH = scale[0:42, :].T\n",
    "scaleC = scale[42:, :].T\n",
    "print(f' Shape of scaling matrix: {scaleH.shape}')\n",
    "\n",
    "GC = 0 + ((1 - 0)* ((func_data_C - scaleC[2]) /scaleC[3])) #scaled symmetry function of C\n",
    "GH = 0 + ((1 - 0)* ((func_data_H - scaleH[2]) /scaleH[3])) #scaled symmetry function of H\n",
    "\n",
    "print(f' Shape of scaled symmetry function of C: {GC.shape}')\n",
    "print(f' Shape of scaled symmetry function of H: {GH.shape}')\n",
    "\n",
    "print(GC[0])"
   ]
  },
  {
   "cell_type": "code",
   "execution_count": 8,
   "metadata": {},
   "outputs": [],
   "source": [
    "#Softplus activation function\n",
    "def softplus(x): return np.log(1 + np.exp(x))"
   ]
  },
  {
   "cell_type": "code",
   "execution_count": 9,
   "metadata": {},
   "outputs": [],
   "source": [
    "#Initial weights for C \n",
    "\n",
    "wC = np.loadtxt('/Users/shubhamdongriyal/my-drive/SabIA/HDNNP/Naphthalene/LinearRegression/test-forwardpass/fulldata-feature/weights.006.data', usecols = 0)\n",
    "w0C = wC[:1050].reshape(42, 25)\n",
    "b0C = wC[1050:1075]\n",
    "w1C = wC[1075:1700].reshape(25, 25)\n",
    "b1C = wC[1700:1725]\n",
    "w2C = wC[1725:1750]\n",
    "b2C = wC[1750:1751]"
   ]
  },
  {
   "cell_type": "code",
   "execution_count": 10,
   "metadata": {},
   "outputs": [],
   "source": [
    "#Initial weights for H\n",
    "\n",
    "wH = np.loadtxt('/Users/shubhamdongriyal/my-drive/SabIA/HDNNP/Naphthalene/LinearRegression/test-forwardpass/fulldata-feature/weights.001.data', usecols = 0)\n",
    "w0H = wH[:1050].reshape(42, 25)\n",
    "b0H = wH[1050:1075]\n",
    "w1H = wH[1075:1700].reshape(25, 25)\n",
    "b1H = wH[1700:1725]\n",
    "w2H = wH[1725:1750]\n",
    "b2H = wH[1750:1751]"
   ]
  },
  {
   "cell_type": "code",
   "execution_count": 11,
   "metadata": {},
   "outputs": [],
   "source": [
    "#Forward pass for C\n",
    "\n",
    "EC = []\n",
    "llC = []\n",
    "for i in range(GC.shape[0]):\n",
    "    y1C = (w0C.T @ GC[i]) + b0C\n",
    "    y1C = softplus(y1C)\n",
    "\n",
    "    y2C = (w1C.T @ y1C) + b1C\n",
    "    y2C = softplus(y2C)\n",
    "    #print(y2)\n",
    "    llC.append(y2C)\n",
    "    y3C = (w2C.T @ y2C) + b2C\n",
    "\n",
    "    EC.append(y3C)"
   ]
  },
  {
   "cell_type": "code",
   "execution_count": 12,
   "metadata": {},
   "outputs": [],
   "source": [
    "#Forward pass for H\n",
    "\n",
    "EH = []\n",
    "llH = []\n",
    "for i in range(GH.shape[0]):\n",
    "    y1H = (w0H.T @ GH[i]) + b0H\n",
    "    y1H = softplus(y1H)\n",
    "\n",
    "    y2H = (w1H.T @ y1H) + b1H\n",
    "    y2H = softplus(y2H)\n",
    "    #print(y2)\n",
    "    llH.append(y2H)\n",
    "    y3H = (w2H.T @ y2H) + b2H\n",
    "\n",
    "    EH.append(y3H)"
   ]
  },
  {
   "cell_type": "code",
   "execution_count": 13,
   "metadata": {},
   "outputs": [
    {
     "name": "stdout",
     "output_type": "stream",
     "text": [
      " Shape of atomic energy contribution of C: (880000, 1)\n",
      " Shape of last layer features of C: (880000, 25)\n",
      " Shape of atomic energy contribution of H: (704000, 1)\n",
      " Shape of last layer features of H: (704000, 25)\n"
     ]
    }
   ],
   "source": [
    "print(f' Shape of atomic energy contribution of C: {np.array(EC).shape}')\n",
    "print(f' Shape of last layer features of C: {np.array(llC).shape}')\n",
    "\n",
    "print(f' Shape of atomic energy contribution of H: {np.array(EH).shape}')\n",
    "print(f' Shape of last layer features of H: {np.array(llH).shape}')"
   ]
  },
  {
   "cell_type": "code",
   "execution_count": 21,
   "metadata": {},
   "outputs": [
    {
     "name": "stdout",
     "output_type": "stream",
     "text": [
      "first frame atomic contribution of C:\n",
      " [394.6823138  394.68231467 394.68231434 394.68231442 375.83916853\n",
      " 375.83916769 375.83916849 375.83916819 474.15639358 474.15639473\n",
      " 474.15639564 474.15639202 374.91133466 374.91133487 374.91133484\n",
      " 374.91133487 390.98747534 390.98747674 390.98747656 390.98747538\n",
      " 394.68231542 394.68231338 394.68231318 394.68231592 375.83916829\n",
      " 375.83916812 375.8391691  375.83916779 474.15639025 474.15639486\n",
      " 474.15639454 474.15638999 374.91133536 374.91133492 374.91133495\n",
      " 374.91133547 390.98747555 390.98747658 390.98747597 390.98747606\n",
      " 394.68231438 394.682315   394.68231492 394.68231463 375.83916796\n",
      " 375.839168   375.83916778 375.83916836 474.15639318 474.15639368\n",
      " 474.1563947  474.1563924  374.91133517 374.91133441 374.91133514\n",
      " 374.91133467 390.98747508 390.98747657 390.98747571 390.98747564\n",
      " 394.68231597 394.68231369 394.68231377 394.68231614 375.83916776\n",
      " 375.83916838 375.83916836 375.83916796 474.15638991 474.15639382\n",
      " 474.15639361 474.15639035 374.91133586 374.91133445 374.91133529\n",
      " 374.91133527 390.98747525 390.98747647 390.98747509 390.98747631]\n",
      "\n",
      "first frame atomic countribution of H:\n",
      " [-502.59455309 -502.5945531  -502.5945531  -502.5945531  -502.61777703\n",
      " -502.61777703 -502.61777703 -502.61777703 -502.89537374 -502.89537375\n",
      " -502.89537375 -502.89537374 -502.72172058 -502.72172058 -502.72172057\n",
      " -502.72172058 -502.5945531  -502.59455311 -502.59455311 -502.5945531\n",
      " -502.61777703 -502.61777703 -502.61777703 -502.61777704 -502.89537375\n",
      " -502.89537374 -502.89537375 -502.89537374 -502.72172058 -502.72172058\n",
      " -502.72172058 -502.72172058 -502.5945531  -502.5945531  -502.5945531\n",
      " -502.5945531  -502.61777703 -502.61777703 -502.61777703 -502.61777703\n",
      " -502.89537374 -502.89537374 -502.89537374 -502.89537374 -502.72172058\n",
      " -502.72172057 -502.72172058 -502.72172057 -502.5945531  -502.5945531\n",
      " -502.5945531  -502.5945531  -502.61777703 -502.61777703 -502.61777703\n",
      " -502.61777703 -502.89537374 -502.89537374 -502.89537374 -502.89537375\n",
      " -502.72172058 -502.72172058 -502.72172058 -502.72172058]\n",
      "\n",
      "Total energy of first frame: -83936.49270227636 eV\n"
     ]
    }
   ],
   "source": [
    "#Atomic energy contributions and reshaping\n",
    "\n",
    "#These should be from the full training function.data values\n",
    "conv_energy = 1.0208770584172682\n",
    "mean_energy = -582.86422845246545\n",
    "\n",
    "atomic_contributions_C = (np.array(EC) / conv_energy)\n",
    "atomic_contributions_H = (np.array(EH) / conv_energy)\n",
    "\n",
    "XC = np.array(llC).reshape(11000, 80, 25)   # 11000 frames, 80 atoms, 25 last layer features\n",
    "YC = np.array(atomic_contributions_C).reshape(11000, 80, 1) # 11000 frames, 80 atoms, 1 atomic energy contribution\n",
    "\n",
    "XH = np.array(llH).reshape(11000, 64, 25) # 11000 frames, 64 atoms, 25 last layer features\n",
    "YH = np.array(atomic_contributions_H).reshape(11000, 64, 1) # 11000 frames, 64 atoms, 1 atomic energy contribution\n",
    "\n",
    "print(f'first frame atomic contribution of C:\\n {YC[0, :, 0]}\\n')  #correct\n",
    "print(f'first frame atomic countribution of H:\\n {YH[0, :, 0]}\\n')  #correct\n",
    "\n",
    "print(f'Total energy of first frame: {np.sum(YC[0, :, 0] + mean_energy) + np.sum(YH[0, :, 0] + mean_energy)} eV')  #correct"
   ]
  },
  {
   "cell_type": "code",
   "execution_count": 34,
   "metadata": {},
   "outputs": [],
   "source": [
    "#Linear regression for C1\n",
    "\n",
    "from sklearn.linear_model import LinearRegression\n",
    "\n",
    "modelC1 = LinearRegression(fit_intercept=True).fit(XC[:, 0, :], YC[:, 0, 0])"
   ]
  },
  {
   "cell_type": "code",
   "execution_count": 35,
   "metadata": {},
   "outputs": [
    {
     "name": "stdout",
     "output_type": "stream",
     "text": [
      " Fitted weights :\n",
      " [ 6.08013762e-02 -8.82531337e-02 -8.00093507e-03 -4.69244641e-11\n",
      "  2.42953840e+01 -1.80002409e+00  1.40448324e+01  2.80112351e-03\n",
      "  2.93901844e-03 -5.60672058e-02  7.33831496e-01  1.01484135e-11\n",
      "  1.97761511e+00 -1.15472519e-02 -2.82620584e-03 -5.18460456e-01\n",
      " -1.95098359e-02  7.15393300e-02  9.56019840e-01  2.31711688e-01\n",
      " -3.21556452e-02 -2.66569168e+00 -1.34639056e-02  8.74945482e-04\n",
      " -1.56209696e-02]\n",
      "\n",
      " Fitted intercept :\n",
      " -628.885260235033\n",
      "\n",
      " Rank:\n",
      " 23\n"
     ]
    }
   ],
   "source": [
    "print(f' Fitted weights :\\n {modelC1.coef_}')\n",
    "print(f'\\n Fitted intercept :\\n {modelC1.intercept_}')\n",
    "print(f'\\n Rank:\\n {modelC1.rank_}') "
   ]
  },
  {
   "cell_type": "code",
   "execution_count": 65,
   "metadata": {},
   "outputs": [],
   "source": [
    "#Dictionary of linear regression models\n",
    "\n",
    "MulRegC = {'modelC'+str(i): LinearRegression(fit_intercept=True).fit(XC[:, x, :], YC[:, x, 0]) for i, x in enumerate(range(XC.shape[1]))}\n",
    "MulRegH = {'modelC'+str(i): LinearRegression(fit_intercept=True).fit(XH[:, x, :], YH[:, x, 0]) for i, x in enumerate(range(XH.shape[1]))}"
   ]
  },
  {
   "attachments": {},
   "cell_type": "markdown",
   "metadata": {},
   "source": [
    "TESTING OF LINEAR REGRESSION"
   ]
  },
  {
   "cell_type": "code",
   "execution_count": 72,
   "metadata": {},
   "outputs": [
    {
     "name": "stdout",
     "output_type": "stream",
     "text": [
      " Total number of atoms: (number of atoms * number of frames) x (number of symmetry function) \n",
      " (144, 43)\n",
      " Symmetry function of C:  (80, 42)\n",
      " Symmetry function of H:  (64, 42)\n",
      " Shape of scaled symmetry function of C: (80, 42)\n",
      " Shape of scaled symmetry function of H: (64, 42)\n"
     ]
    }
   ],
   "source": [
    "func_data_test = np.loadtxt('/Users/shubhamdongriyal/my-drive/SabIA/HDNNP/Naphthalene/LinearRegression/test-forwardpass/fulldata-feature/test/function.data-test', usecols = range(0,43))\n",
    "print(f' Total number of atoms: (number of atoms * number of frames) x (number of symmetry function) \\n {func_data_test.shape}')\n",
    "\n",
    "func_data_C_test =  func_data_test[np.any(func_data_test== 6, axis = 1)][:, 1:43]  # SF of C\n",
    "func_data_H_test =  func_data_test[np.any(func_data_test== 1, axis = 1)][:, 1:43]  # SF of H\n",
    "\n",
    "print(f' Symmetry function of C:  {func_data_C_test.shape}')\n",
    "print(f' Symmetry function of H:  {func_data_H_test.shape}')\n",
    "\n",
    "\n",
    "GC_test = 0 + ((1 - 0)* ((func_data_C_test - scaleC[2]) /scaleC[3])) #scaled symmetry function of C\n",
    "GH_test = 0 + ((1 - 0)* ((func_data_H_test - scaleH[2]) /scaleH[3])) #scaled symmetry function of H\n",
    "\n",
    "print(f' Shape of scaled symmetry function of C: {GC_test.shape}')\n",
    "print(f' Shape of scaled symmetry function of H: {GH_test.shape}')\n"
   ]
  },
  {
   "cell_type": "code",
   "execution_count": 73,
   "metadata": {},
   "outputs": [],
   "source": [
    "\n",
    "EH_test = []\n",
    "llH_test = []\n",
    "for i in range(GH_test.shape[0]):\n",
    "    y1H_test = (w0H.T @ GH_test[i]) + b0H\n",
    "    y1H_test = softplus(y1H_test)\n",
    "\n",
    "    y2H_test = (w1H.T @ y1H_test) + b1H\n",
    "    y2H_test = softplus(y2H_test)\n",
    "    #print(y2)\n",
    "    llH_test.append(y2H_test)\n",
    "    y3H_test = (w2H.T @ y2H_test) + b2H\n",
    "\n",
    "    EH_test.append(y3H_test)\n",
    "\n"
   ]
  },
  {
   "cell_type": "code",
   "execution_count": 75,
   "metadata": {},
   "outputs": [],
   "source": [
    "EC_test = []\n",
    "llC_test = []\n",
    "for i in range(GC_test.shape[0]):\n",
    "    y1C_test = (w0C.T @ GC_test[i]) + b0C\n",
    "    y1C_test = softplus(y1C_test)\n",
    "\n",
    "    y2C_test = (w1C.T @ y1C_test) + b1C\n",
    "    y2C_test = softplus(y2C_test)\n",
    "    #print(y2)\n",
    "    llC_test.append(y2C_test)\n",
    "    y3C_test = (w2C.T @ y2C_test) + b2C\n",
    "\n",
    "    EC_test.append(y3C_test)"
   ]
  },
  {
   "cell_type": "code",
   "execution_count": 77,
   "metadata": {},
   "outputs": [],
   "source": [
    "atomic_contributions_C_test = (np.array(EC_test) / conv_energy)\n",
    "atomic_contributions_H_test = (np.array(EH_test) / conv_energy)"
   ]
  },
  {
   "cell_type": "code",
   "execution_count": 86,
   "metadata": {},
   "outputs": [
    {
     "name": "stdout",
     "output_type": "stream",
     "text": [
      "[8.60245147e+00 1.76314430e+00 5.64545843e-05 0.00000000e+00\n",
      " 3.33831958e+00 4.48786889e-01 6.48046623e+01 2.72572725e-01\n",
      " 1.45165247e+00 9.20696392e+00 4.77048242e+01 0.00000000e+00\n",
      " 8.17713307e-01 2.46350404e+00 2.39864785e+01 3.37960326e-10\n",
      " 1.39672766e+00 1.40982967e+01 1.03935931e-01 3.26079527e-01\n",
      " 1.56298100e-06 8.00747710e-03 1.56104250e+00 7.91488560e-01\n",
      " 2.13775580e-02]\n"
     ]
    }
   ],
   "source": [
    "print(np.array(llC_test)[0])"
   ]
  },
  {
   "cell_type": "code",
   "execution_count": 89,
   "metadata": {},
   "outputs": [
    {
     "name": "stdout",
     "output_type": "stream",
     "text": [
      "[399.08198551] [399.08198551]\n"
     ]
    }
   ],
   "source": [
    "YC0 = MulRegC['modelC0'].predict(np.array(llC_test)[0].reshape(1, -1))\n",
    "print(YC0, atomic_contributions_C_test[0])\n"
   ]
  },
  {
   "cell_type": "code",
   "execution_count": 92,
   "metadata": {},
   "outputs": [
    {
     "name": "stdout",
     "output_type": "stream",
     "text": [
      "Total energy  -83935.8320315332 eV\n"
     ]
    }
   ],
   "source": [
    "YC_pred = np.array([MulRegC['modelC'+str(i)].predict(np.array(llC_test)[i].reshape(1, -1)) for i in range(len(llC_test))])\n",
    "YH_pred = np.array([MulRegH['modelC'+str(i)].predict(np.array(llH_test)[i].reshape(1, -1)) for i in range(len(llH_test))])\n",
    "\n",
    "print(f'Total energy  {np.sum(YC_pred + mean_energy) + np.sum(YH_pred + mean_energy)} eV')  #correct\n"
   ]
  },
  {
   "cell_type": "code",
   "execution_count": null,
   "metadata": {},
   "outputs": [],
   "source": []
  }
 ],
 "metadata": {
  "kernelspec": {
   "display_name": "pytorch_m1",
   "language": "python",
   "name": "python3"
  },
  "language_info": {
   "codemirror_mode": {
    "name": "ipython",
    "version": 3
   },
   "file_extension": ".py",
   "mimetype": "text/x-python",
   "name": "python",
   "nbconvert_exporter": "python",
   "pygments_lexer": "ipython3",
   "version": "3.10.4"
  },
  "orig_nbformat": 4,
  "vscode": {
   "interpreter": {
    "hash": "87d5e658fa85a9f37500d9649610e9a195e3cd7fe1efd163ba6535feaf367c14"
   }
  }
 },
 "nbformat": 4,
 "nbformat_minor": 2
}
