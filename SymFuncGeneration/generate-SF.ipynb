{
 "cells": [
  {
   "cell_type": "code",
   "execution_count": 2,
   "metadata": {},
   "outputs": [],
   "source": [
    "from sfparamgen import SymFuncParamGenerator"
   ]
  },
  {
   "cell_type": "code",
   "execution_count": 3,
   "metadata": {},
   "outputs": [],
   "source": [
    "myGenerator= SymFuncParamGenerator(elements= ['H', 'C'], r_cutoff= 6.5)"
   ]
  },
  {
   "cell_type": "code",
   "execution_count": 11,
   "metadata": {},
   "outputs": [],
   "source": [
    "myGenerator.symfunc_type = 'angular_narrow'"
   ]
  },
  {
   "cell_type": "code",
   "execution_count": 12,
   "metadata": {},
   "outputs": [],
   "source": [
    "myGenerator.zetas = [1.0, 4.0]   #for less symmetry function parameter keep zeta  = 1 only"
   ]
  },
  {
   "cell_type": "code",
   "execution_count": 13,
   "metadata": {},
   "outputs": [],
   "source": [
    "myGenerator.generate_radial_params(rule='gastegger2018', mode='center', nb_param_pairs=3, r_lower=1.5)"
   ]
  },
  {
   "cell_type": "code",
   "execution_count": 14,
   "metadata": {},
   "outputs": [
    {
     "name": "stdout",
     "output_type": "stream",
     "text": [
      "#########################################################################\n",
      "# Narrow angular symmetry function set, for elements ['H', 'C']\n",
      "#########################################################################\n",
      "# r_cutoff       = 6.5\n",
      "# The following settings were used for generating sets\n",
      "# of values for the radial parameters r_shift and eta:\n",
      "# rule           = gastegger2018\n",
      "# mode           = center\n",
      "# nb_param_pairs = 3\n",
      "# r_lower        = 1.5\n",
      "# r_upper        = 6.5\n",
      "# Sets of values for parameters:\n",
      "# r_shift_grid   = [0. 0. 0.]\n",
      "# eta_grid       = [0.2222 0.0312 0.0118]\n",
      "# lambdas        = [-1.  1.]\n",
      "# zetas          = [1. 4.]\n",
      "\n"
     ]
    }
   ],
   "source": [
    "myGenerator.write_settings_overview()"
   ]
  },
  {
   "cell_type": "code",
   "execution_count": 15,
   "metadata": {},
   "outputs": [
    {
     "name": "stdout",
     "output_type": "stream",
     "text": [
      "symfunction_short H  3 H  H  2.222E-01 -1 1.000E+00 6.500E+00 0.000E+00\n",
      "symfunction_short H  3 H  H  2.222E-01  1 1.000E+00 6.500E+00 0.000E+00\n",
      "symfunction_short H  3 H  H  2.222E-01 -1 4.000E+00 6.500E+00 0.000E+00\n",
      "symfunction_short H  3 H  H  2.222E-01  1 4.000E+00 6.500E+00 0.000E+00\n",
      "symfunction_short H  3 H  H  3.125E-02 -1 1.000E+00 6.500E+00 0.000E+00\n",
      "symfunction_short H  3 H  H  3.125E-02  1 1.000E+00 6.500E+00 0.000E+00\n",
      "symfunction_short H  3 H  H  3.125E-02 -1 4.000E+00 6.500E+00 0.000E+00\n",
      "symfunction_short H  3 H  H  3.125E-02  1 4.000E+00 6.500E+00 0.000E+00\n",
      "symfunction_short H  3 H  H  1.183E-02 -1 1.000E+00 6.500E+00 0.000E+00\n",
      "symfunction_short H  3 H  H  1.183E-02  1 1.000E+00 6.500E+00 0.000E+00\n",
      "symfunction_short H  3 H  H  1.183E-02 -1 4.000E+00 6.500E+00 0.000E+00\n",
      "symfunction_short H  3 H  H  1.183E-02  1 4.000E+00 6.500E+00 0.000E+00\n",
      "\n",
      "symfunction_short H  3 H  C  2.222E-01 -1 1.000E+00 6.500E+00 0.000E+00\n",
      "symfunction_short H  3 H  C  2.222E-01  1 1.000E+00 6.500E+00 0.000E+00\n",
      "symfunction_short H  3 H  C  2.222E-01 -1 4.000E+00 6.500E+00 0.000E+00\n",
      "symfunction_short H  3 H  C  2.222E-01  1 4.000E+00 6.500E+00 0.000E+00\n",
      "symfunction_short H  3 H  C  3.125E-02 -1 1.000E+00 6.500E+00 0.000E+00\n",
      "symfunction_short H  3 H  C  3.125E-02  1 1.000E+00 6.500E+00 0.000E+00\n",
      "symfunction_short H  3 H  C  3.125E-02 -1 4.000E+00 6.500E+00 0.000E+00\n",
      "symfunction_short H  3 H  C  3.125E-02  1 4.000E+00 6.500E+00 0.000E+00\n",
      "symfunction_short H  3 H  C  1.183E-02 -1 1.000E+00 6.500E+00 0.000E+00\n",
      "symfunction_short H  3 H  C  1.183E-02  1 1.000E+00 6.500E+00 0.000E+00\n",
      "symfunction_short H  3 H  C  1.183E-02 -1 4.000E+00 6.500E+00 0.000E+00\n",
      "symfunction_short H  3 H  C  1.183E-02  1 4.000E+00 6.500E+00 0.000E+00\n",
      "\n",
      "symfunction_short H  3 C  C  2.222E-01 -1 1.000E+00 6.500E+00 0.000E+00\n",
      "symfunction_short H  3 C  C  2.222E-01  1 1.000E+00 6.500E+00 0.000E+00\n",
      "symfunction_short H  3 C  C  2.222E-01 -1 4.000E+00 6.500E+00 0.000E+00\n",
      "symfunction_short H  3 C  C  2.222E-01  1 4.000E+00 6.500E+00 0.000E+00\n",
      "symfunction_short H  3 C  C  3.125E-02 -1 1.000E+00 6.500E+00 0.000E+00\n",
      "symfunction_short H  3 C  C  3.125E-02  1 1.000E+00 6.500E+00 0.000E+00\n",
      "symfunction_short H  3 C  C  3.125E-02 -1 4.000E+00 6.500E+00 0.000E+00\n",
      "symfunction_short H  3 C  C  3.125E-02  1 4.000E+00 6.500E+00 0.000E+00\n",
      "symfunction_short H  3 C  C  1.183E-02 -1 1.000E+00 6.500E+00 0.000E+00\n",
      "symfunction_short H  3 C  C  1.183E-02  1 1.000E+00 6.500E+00 0.000E+00\n",
      "symfunction_short H  3 C  C  1.183E-02 -1 4.000E+00 6.500E+00 0.000E+00\n",
      "symfunction_short H  3 C  C  1.183E-02  1 4.000E+00 6.500E+00 0.000E+00\n",
      "\n",
      "symfunction_short C  3 H  H  2.222E-01 -1 1.000E+00 6.500E+00 0.000E+00\n",
      "symfunction_short C  3 H  H  2.222E-01  1 1.000E+00 6.500E+00 0.000E+00\n",
      "symfunction_short C  3 H  H  2.222E-01 -1 4.000E+00 6.500E+00 0.000E+00\n",
      "symfunction_short C  3 H  H  2.222E-01  1 4.000E+00 6.500E+00 0.000E+00\n",
      "symfunction_short C  3 H  H  3.125E-02 -1 1.000E+00 6.500E+00 0.000E+00\n",
      "symfunction_short C  3 H  H  3.125E-02  1 1.000E+00 6.500E+00 0.000E+00\n",
      "symfunction_short C  3 H  H  3.125E-02 -1 4.000E+00 6.500E+00 0.000E+00\n",
      "symfunction_short C  3 H  H  3.125E-02  1 4.000E+00 6.500E+00 0.000E+00\n",
      "symfunction_short C  3 H  H  1.183E-02 -1 1.000E+00 6.500E+00 0.000E+00\n",
      "symfunction_short C  3 H  H  1.183E-02  1 1.000E+00 6.500E+00 0.000E+00\n",
      "symfunction_short C  3 H  H  1.183E-02 -1 4.000E+00 6.500E+00 0.000E+00\n",
      "symfunction_short C  3 H  H  1.183E-02  1 4.000E+00 6.500E+00 0.000E+00\n",
      "\n",
      "symfunction_short C  3 H  C  2.222E-01 -1 1.000E+00 6.500E+00 0.000E+00\n",
      "symfunction_short C  3 H  C  2.222E-01  1 1.000E+00 6.500E+00 0.000E+00\n",
      "symfunction_short C  3 H  C  2.222E-01 -1 4.000E+00 6.500E+00 0.000E+00\n",
      "symfunction_short C  3 H  C  2.222E-01  1 4.000E+00 6.500E+00 0.000E+00\n",
      "symfunction_short C  3 H  C  3.125E-02 -1 1.000E+00 6.500E+00 0.000E+00\n",
      "symfunction_short C  3 H  C  3.125E-02  1 1.000E+00 6.500E+00 0.000E+00\n",
      "symfunction_short C  3 H  C  3.125E-02 -1 4.000E+00 6.500E+00 0.000E+00\n",
      "symfunction_short C  3 H  C  3.125E-02  1 4.000E+00 6.500E+00 0.000E+00\n",
      "symfunction_short C  3 H  C  1.183E-02 -1 1.000E+00 6.500E+00 0.000E+00\n",
      "symfunction_short C  3 H  C  1.183E-02  1 1.000E+00 6.500E+00 0.000E+00\n",
      "symfunction_short C  3 H  C  1.183E-02 -1 4.000E+00 6.500E+00 0.000E+00\n",
      "symfunction_short C  3 H  C  1.183E-02  1 4.000E+00 6.500E+00 0.000E+00\n",
      "\n",
      "symfunction_short C  3 C  C  2.222E-01 -1 1.000E+00 6.500E+00 0.000E+00\n",
      "symfunction_short C  3 C  C  2.222E-01  1 1.000E+00 6.500E+00 0.000E+00\n",
      "symfunction_short C  3 C  C  2.222E-01 -1 4.000E+00 6.500E+00 0.000E+00\n",
      "symfunction_short C  3 C  C  2.222E-01  1 4.000E+00 6.500E+00 0.000E+00\n",
      "symfunction_short C  3 C  C  3.125E-02 -1 1.000E+00 6.500E+00 0.000E+00\n",
      "symfunction_short C  3 C  C  3.125E-02  1 1.000E+00 6.500E+00 0.000E+00\n",
      "symfunction_short C  3 C  C  3.125E-02 -1 4.000E+00 6.500E+00 0.000E+00\n",
      "symfunction_short C  3 C  C  3.125E-02  1 4.000E+00 6.500E+00 0.000E+00\n",
      "symfunction_short C  3 C  C  1.183E-02 -1 1.000E+00 6.500E+00 0.000E+00\n",
      "symfunction_short C  3 C  C  1.183E-02  1 1.000E+00 6.500E+00 0.000E+00\n",
      "symfunction_short C  3 C  C  1.183E-02 -1 4.000E+00 6.500E+00 0.000E+00\n",
      "symfunction_short C  3 C  C  1.183E-02  1 4.000E+00 6.500E+00 0.000E+00\n",
      "\n"
     ]
    }
   ],
   "source": [
    "myGenerator.write_parameter_strings()"
   ]
  },
  {
   "cell_type": "code",
   "execution_count": 16,
   "metadata": {},
   "outputs": [],
   "source": [
    "with open('gen_angular_copytoinputnn.txt', 'w') as f:\n",
    "    myGenerator.write_settings_overview(fileobj=f)\n",
    "    myGenerator.write_parameter_strings(fileobj=f)"
   ]
  },
  {
   "cell_type": "code",
   "execution_count": null,
   "metadata": {},
   "outputs": [],
   "source": []
  },
  {
   "cell_type": "code",
   "execution_count": null,
   "metadata": {},
   "outputs": [],
   "source": []
  }
 ],
 "metadata": {
  "kernelspec": {
   "display_name": "pytorch_m1",
   "language": "python",
   "name": "python3"
  },
  "language_info": {
   "codemirror_mode": {
    "name": "ipython",
    "version": 3
   },
   "file_extension": ".py",
   "mimetype": "text/x-python",
   "name": "python",
   "nbconvert_exporter": "python",
   "pygments_lexer": "ipython3",
   "version": "3.10.4"
  },
  "vscode": {
   "interpreter": {
    "hash": "87d5e658fa85a9f37500d9649610e9a195e3cd7fe1efd163ba6535feaf367c14"
   }
  }
 },
 "nbformat": 4,
 "nbformat_minor": 2
}
